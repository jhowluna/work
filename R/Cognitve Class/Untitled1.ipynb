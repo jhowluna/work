{
 "cells": [
  {
   "cell_type": "code",
   "execution_count": 1,
   "metadata": {},
   "outputs": [],
   "source": [
    "setwd(\"data/\")"
   ]
  },
  {
   "cell_type": "code",
   "execution_count": 2,
   "metadata": {},
   "outputs": [],
   "source": [
    "exam_data <- \"teste.csv\"\n",
    "open_file  <- file(exam_data, open = \"r\")\n",
    "linecount <- 0\n",
    "string_data <- \"\"\n",
    "while (length(single_line <- readLines(open_file, n = 1, warn = FALSE)) > 0) {\n",
    "  linecount <- linecount + 1\n",
    "  if (linecount < 3) {\n",
    "    exam_data <- paste0(exam_data,single_line)     \n",
    "  }\n",
    "  #Typical Google Analytics CSV outputs have the column headings in row 5\n",
    "  if (linecount == 5) column_headings = strsplit(single_line, \",\")[[1]]\n",
    "  #We do not need the first 5 lines in the CSV\n",
    "  if (linecount > 5) {\n",
    "        #Typical Google Analytics CSV outputs have a blank row after the first data set\n",
    "    if (gsub(pattern=\",\", x=single_line, replacement=\"\") == \"\") break\n",
    "        string_data <- paste0(string_data,single_line,\"\\n\")\n",
    "  }\n",
    "}\n",
    "close(open_file)\n",
    "exam_table <- read.table(textConnection(string_data), sep=\",\", header=FALSE, stringsAsFactors = FALSE)\n",
    "#Assigning the column headings to our data table\n",
    "names(exam_table) <- column_headings"
   ]
  },
  {
   "cell_type": "code",
   "execution_count": 3,
   "metadata": {},
   "outputs": [
    {
     "data": {
      "text/html": [
       "<style>\n",
       ".list-inline {list-style: none; margin:0; padding: 0}\n",
       ".list-inline>li {display: inline-block}\n",
       ".list-inline>li:not(:last-child)::after {content: \"\\00b7\"; padding: 0 .5ex}\n",
       "</style>\n",
       "<ol class=list-inline><li>'Week'</li><li>'big data'</li><li>'hadoop'</li></ol>\n"
      ],
      "text/latex": [
       "\\begin{enumerate*}\n",
       "\\item 'Week'\n",
       "\\item 'big data'\n",
       "\\item 'hadoop'\n",
       "\\end{enumerate*}\n"
      ],
      "text/markdown": [
       "1. 'Week'\n",
       "2. 'big data'\n",
       "3. 'hadoop'\n",
       "\n",
       "\n"
      ],
      "text/plain": [
       "[1] \"Week\"     \"big data\" \"hadoop\"  "
      ]
     },
     "metadata": {},
     "output_type": "display_data"
    }
   ],
   "source": [
    "column_headings"
   ]
  },
  {
   "cell_type": "code",
   "execution_count": 4,
   "metadata": {},
   "outputs": [],
   "source": [
    "exam_table$WeekID<-seq.int(nrow(exam_table))"
   ]
  },
  {
   "cell_type": "code",
   "execution_count": 5,
   "metadata": {},
   "outputs": [
    {
     "data": {
      "image/png": "[encoded data removed]",
      "text/plain": [
       "Plot with title \"Searches for 'Big Data' & 'Hadoop'\""
      ]
     },
     "metadata": {
      "image/png": {
       "height": 420,
       "width": 420
      }
     },
     "output_type": "display_data"
    }
   ],
   "source": [
    "par(mfrow = c(1, 1))\n",
    "plot(exam_table$WeekID, exam_table$'big data', \n",
    "     main = \"Searches for 'Big Data' & 'Hadoop'\",\n",
    "     ylab = \"Search Index (0 to 100)\",\n",
    "     xlab = \"Week Index\",\n",
    "     type = 'l',\n",
    "     col  = 'orange')\n",
    "lines(exam_table$WeekID, exam_table$hadoop, type = 'l', col = 'red')"
   ]
  },
  {
   "cell_type": "code",
   "execution_count": 6,
   "metadata": {},
   "outputs": [
    {
     "data": {
      "text/html": [
       "0.912611783650956"
      ],
      "text/latex": [
       "0.912611783650956"
      ],
      "text/markdown": [
       "0.912611783650956"
      ],
      "text/plain": [
       "[1] 0.9126118"
      ]
     },
     "metadata": {},
     "output_type": "display_data"
    }
   ],
   "source": [
    "cor(exam_table$'big data',exam_table$hadoop)"
   ]
  },
  {
   "cell_type": "code",
   "execution_count": 8,
   "metadata": {},
   "outputs": [
    {
     "data": {
      "text/plain": [
       "     Week              big data          hadoop          WeekID     \n",
       " Length:654         Min.   :  2.00   Min.   : 0.00   Min.   :  1.0  \n",
       " Class :character   1st Qu.:  5.00   1st Qu.: 2.00   1st Qu.:164.2  \n",
       " Mode  :character   Median :  6.00   Median :22.00   Median :327.5  \n",
       "                    Mean   : 26.34   Mean   :29.59   Mean   :327.5  \n",
       "                    3rd Qu.: 52.75   3rd Qu.:59.00   3rd Qu.:490.8  \n",
       "                    Max.   :100.00   Max.   :78.00   Max.   :654.0  "
      ]
     },
     "metadata": {},
     "output_type": "display_data"
    }
   ],
   "source": [
    "summary(exam_table)"
   ]
  },
  {
   "cell_type": "code",
   "execution_count": 9,
   "metadata": {},
   "outputs": [],
   "source": [
    "Regression <- lm (formula = exam_table$'big data' ~ exam_table$hadoop) "
   ]
  },
  {
   "cell_type": "code",
   "execution_count": 10,
   "metadata": {},
   "outputs": [
    {
     "data": {
      "text/plain": [
       "\n",
       "Call:\n",
       "lm(formula = exam_table$\"big data\" ~ exam_table$hadoop)\n",
       "\n",
       "Coefficients:\n",
       "      (Intercept)  exam_table$hadoop  \n",
       "           -4.601              1.046  \n"
      ]
     },
     "metadata": {},
     "output_type": "display_data"
    }
   ],
   "source": [
    "Regression"
   ]
  },
  {
   "cell_type": "code",
   "execution_count": 11,
   "metadata": {},
   "outputs": [
    {
     "data": {
      "text/html": [
       "<style>\n",
       ".dl-inline {width: auto; margin:0; padding: 0}\n",
       ".dl-inline>dt, .dl-inline>dd {float: none; width: auto; display: inline-block}\n",
       ".dl-inline>dt::after {content: \":\\0020\"; padding-right: .5ex}\n",
       ".dl-inline>dt:not(:first-of-type) {padding-left: .5ex}\n",
       "</style><dl class=dl-inline><dt>(Intercept)</dt><dd>-4.6</dd><dt>exam_table$hadoop</dt><dd>1.05</dd></dl>\n"
      ],
      "text/latex": [
       "\\begin{description*}\n",
       "\\item[(Intercept)] -4.6\n",
       "\\item[exam\\textbackslash{}\\_table\\textbackslash{}\\$hadoop] 1.05\n",
       "\\end{description*}\n"
      ],
      "text/markdown": [
       "(Intercept)\n",
       ":   -4.6exam_table$hadoop\n",
       ":   1.05\n",
       "\n"
      ],
      "text/plain": [
       "      (Intercept) exam_table$hadoop \n",
       "            -4.60              1.05 "
      ]
     },
     "metadata": {},
     "output_type": "display_data"
    }
   ],
   "source": [
    "round(coef(Regression), digits = 2)"
   ]
  },
  {
   "cell_type": "code",
   "execution_count": 12,
   "metadata": {},
   "outputs": [
    {
     "ename": "ERROR",
     "evalue": "Error in summary(Regressão): objeto 'Regressão' não encontrado\n",
     "output_type": "error",
     "traceback": [
      "Error in summary(Regressão): objeto 'Regressão' não encontrado\nTraceback:\n",
      "1. summary(Regressão)"
     ]
    }
   ],
   "source": [
    "summary(Regressão)$r.squared"
   ]
  },
  {
   "cell_type": "code",
   "execution_count": 14,
   "metadata": {},
   "outputs": [
    {
     "data": {
      "text/html": [
       "1"
      ],
      "text/latex": [
       "1"
      ],
      "text/markdown": [
       "1"
      ],
      "text/plain": [
       "[1] 1"
      ]
     },
     "metadata": {},
     "output_type": "display_data"
    }
   ],
   "source": [
    "round(summary(Regression)$adj.r.squared)\n"
   ]
  },
  {
   "cell_type": "code",
   "execution_count": null,
   "metadata": {},
   "outputs": [],
   "source": []
  }
 ],
 "metadata": {
  "kernelspec": {
   "display_name": "R",
   "language": "R",
   "name": "ir"
  },
  "language_info": {
   "codemirror_mode": "r",
   "file_extension": ".r",
   "mimetype": "text/x-r-source",
   "name": "R",
   "pygments_lexer": "r",
   "version": "4.0.2"
  }
 },
 "nbformat": 4,
 "nbformat_minor": 4
}
