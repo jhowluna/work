{
 "cells": [
  {
   "cell_type": "code",
   "execution_count": 16,
   "metadata": {
    "ExecuteTime": {
     "end_time": "2020-07-28T23:08:05.862143Z",
     "start_time": "2020-07-28T23:08:05.813Z"
    }
   },
   "outputs": [],
   "source": [
    "year <- c(1985,1999,2010,2002)"
   ]
  },
  {
   "cell_type": "code",
   "execution_count": 17,
   "metadata": {
    "ExecuteTime": {
     "end_time": "2020-07-28T23:08:06.313608Z",
     "start_time": "2020-07-28T23:08:06.269Z"
    }
   },
   "outputs": [],
   "source": [
    "names(year) <- c(\"teste1\",\"teste2\",\"teste3\",\"teste4\")"
   ]
  },
  {
   "cell_type": "code",
   "execution_count": 18,
   "metadata": {
    "ExecuteTime": {
     "end_time": "2020-07-28T23:08:06.982049Z",
     "start_time": "2020-07-28T23:08:06.929Z"
    }
   },
   "outputs": [
    {
     "data": {
      "text/html": [
       "4"
      ],
      "text/latex": [
       "4"
      ],
      "text/markdown": [
       "4"
      ],
      "text/plain": [
       "[1] 4"
      ]
     },
     "metadata": {},
     "output_type": "display_data"
    }
   ],
   "source": [
    "length(year)"
   ]
  },
  {
   "cell_type": "code",
   "execution_count": 19,
   "metadata": {
    "ExecuteTime": {
     "end_time": "2020-07-28T23:08:12.205168Z",
     "start_time": "2020-07-28T23:08:12.156Z"
    }
   },
   "outputs": [
    {
     "data": {
      "text/html": [
       "<dl class=dl-horizontal>\n",
       "\t<dt>teste1</dt>\n",
       "\t\t<dd>1985</dd>\n",
       "\t<dt>teste2</dt>\n",
       "\t\t<dd>1999</dd>\n",
       "\t<dt>teste3</dt>\n",
       "\t\t<dd>2010</dd>\n",
       "\t<dt>teste4</dt>\n",
       "\t\t<dd>2002</dd>\n",
       "</dl>\n"
      ],
      "text/latex": [
       "\\begin{description*}\n",
       "\\item[teste1] 1985\n",
       "\\item[teste2] 1999\n",
       "\\item[teste3] 2010\n",
       "\\item[teste4] 2002\n",
       "\\end{description*}\n"
      ],
      "text/markdown": [
       "teste1\n",
       ":   1985teste2\n",
       ":   1999teste3\n",
       ":   2010teste4\n",
       ":   2002\n",
       "\n"
      ],
      "text/plain": [
       "teste1 teste2 teste3 teste4 \n",
       "  1985   1999   2010   2002 "
      ]
     },
     "metadata": {},
     "output_type": "display_data"
    }
   ],
   "source": [
    "year"
   ]
  },
  {
   "cell_type": "code",
   "execution_count": 22,
   "metadata": {
    "ExecuteTime": {
     "end_time": "2020-07-28T23:08:19.953754Z",
     "start_time": "2020-07-28T23:08:19.905Z"
    }
   },
   "outputs": [],
   "source": [
    "year_sort = sort(year)"
   ]
  },
  {
   "cell_type": "code",
   "execution_count": 23,
   "metadata": {
    "ExecuteTime": {
     "end_time": "2020-07-28T23:08:21.363653Z",
     "start_time": "2020-07-28T23:08:21.309Z"
    }
   },
   "outputs": [
    {
     "data": {
      "text/html": [
       "<dl class=dl-horizontal>\n",
       "\t<dt>teste1</dt>\n",
       "\t\t<dd>1985</dd>\n",
       "\t<dt>teste2</dt>\n",
       "\t\t<dd>1999</dd>\n",
       "\t<dt>teste4</dt>\n",
       "\t\t<dd>2002</dd>\n",
       "\t<dt>teste3</dt>\n",
       "\t\t<dd>2010</dd>\n",
       "</dl>\n"
      ],
      "text/latex": [
       "\\begin{description*}\n",
       "\\item[teste1] 1985\n",
       "\\item[teste2] 1999\n",
       "\\item[teste4] 2002\n",
       "\\item[teste3] 2010\n",
       "\\end{description*}\n"
      ],
      "text/markdown": [
       "teste1\n",
       ":   1985teste2\n",
       ":   1999teste4\n",
       ":   2002teste3\n",
       ":   2010\n",
       "\n"
      ],
      "text/plain": [
       "teste1 teste2 teste4 teste3 \n",
       "  1985   1999   2002   2010 "
      ]
     },
     "metadata": {},
     "output_type": "display_data"
    }
   ],
   "source": [
    "year_sort"
   ]
  },
  {
   "cell_type": "code",
   "execution_count": 24,
   "metadata": {
    "ExecuteTime": {
     "end_time": "2020-07-28T23:09:00.198097Z",
     "start_time": "2020-07-28T23:09:00.136Z"
    }
   },
   "outputs": [
    {
     "data": {
      "text/html": [
       "1985"
      ],
      "text/latex": [
       "1985"
      ],
      "text/markdown": [
       "1985"
      ],
      "text/plain": [
       "[1] 1985"
      ]
     },
     "metadata": {},
     "output_type": "display_data"
    }
   ],
   "source": [
    "min(year)"
   ]
  },
  {
   "cell_type": "code",
   "execution_count": 25,
   "metadata": {
    "ExecuteTime": {
     "end_time": "2020-07-28T23:09:06.645493Z",
     "start_time": "2020-07-28T23:09:06.591Z"
    }
   },
   "outputs": [
    {
     "data": {
      "text/html": [
       "2010"
      ],
      "text/latex": [
       "2010"
      ],
      "text/markdown": [
       "2010"
      ],
      "text/plain": [
       "[1] 2010"
      ]
     },
     "metadata": {},
     "output_type": "display_data"
    }
   ],
   "source": [
    "max(year)"
   ]
  },
  {
   "cell_type": "code",
   "execution_count": 26,
   "metadata": {
    "ExecuteTime": {
     "end_time": "2020-07-28T23:09:46.894437Z",
     "start_time": "2020-07-28T23:09:46.847Z"
    }
   },
   "outputs": [
    {
     "data": {
      "text/plain": [
       "   Min. 1st Qu.  Median    Mean 3rd Qu.    Max. \n",
       "   1985    1996    2000    1999    2004    2010 "
      ]
     },
     "metadata": {},
     "output_type": "display_data"
    }
   ],
   "source": [
    "summary(year)"
   ]
  },
  {
   "cell_type": "code",
   "execution_count": 27,
   "metadata": {
    "ExecuteTime": {
     "end_time": "2020-07-28T23:14:29.263824Z",
     "start_time": "2020-07-28T23:14:29.215Z"
    }
   },
   "outputs": [
    {
     "data": {
      "text/html": [
       "<ol class=list-inline>\n",
       "\t<li>TRUE</li>\n",
       "\t<li>FALSE</li>\n",
       "</ol>\n"
      ],
      "text/latex": [
       "\\begin{enumerate*}\n",
       "\\item TRUE\n",
       "\\item FALSE\n",
       "\\end{enumerate*}\n"
      ],
      "text/markdown": [
       "1. TRUE\n",
       "2. FALSE\n",
       "\n",
       "\n"
      ],
      "text/plain": [
       "[1]  TRUE FALSE"
      ]
     },
     "metadata": {},
     "output_type": "display_data"
    }
   ],
   "source": [
    "c(1,2) == 1"
   ]
  },
  {
   "cell_type": "code",
   "execution_count": 29,
   "metadata": {
    "ExecuteTime": {
     "end_time": "2020-07-28T23:35:03.192199Z",
     "start_time": "2020-07-28T23:35:03.152Z"
    }
   },
   "outputs": [],
   "source": [
    "john <- list('studentid' = 9, 'age' = 18, 'courses' = c('Data Science 101', 'Data Science Methodology'))"
   ]
  },
  {
   "cell_type": "code",
   "execution_count": 6,
   "metadata": {
    "ExecuteTime": {
     "end_time": "2020-07-29T15:46:23.510992Z",
     "start_time": "2020-07-29T15:46:23.463Z"
    }
   },
   "outputs": [
    {
     "ename": "ERROR",
     "evalue": "Error in eval(expr, envir, enclos): objeto 'john' não encontrado\n",
     "output_type": "error",
     "traceback": [
      "Error in eval(expr, envir, enclos): objeto 'john' não encontrado\nTraceback:\n"
     ]
    }
   ],
   "source": [
    "john[,1]"
   ]
  },
  {
   "cell_type": "code",
   "execution_count": 34,
   "metadata": {
    "ExecuteTime": {
     "end_time": "2020-07-29T00:19:35.566028Z",
     "start_time": "2020-07-29T00:19:35.515Z"
    }
   },
   "outputs": [
    {
     "name": "stdout",
     "output_type": "stream",
     "text": [
      "[1] \"Bring an umbrella\"\n"
     ]
    }
   ],
   "source": [
    "chance_precipitation <- 0.80\n",
    "if( chance_precipitation > 0.5 ) {\n",
    "    print(\"Bring an umbrella\") } else {\n",
    "        print(\"Don't bring an umbrella\")}"
   ]
  },
  {
   "cell_type": "code",
   "execution_count": 3,
   "metadata": {
    "ExecuteTime": {
     "end_time": "2020-07-29T15:24:01.073605Z",
     "start_time": "2020-07-29T15:24:00.946Z"
    }
   },
   "outputs": [
    {
     "ename": "ERROR",
     "evalue": "Error in install.packages(): no packages were specified\n",
     "output_type": "error",
     "traceback": [
      "Error in install.packages(): no packages were specified\nTraceback:\n",
      "1. install.packages()",
      "2. stop(\"no packages were specified\")"
     ]
    }
   ],
   "source": [
    "!install.packages()"
   ]
  },
  {
   "cell_type": "code",
   "execution_count": null,
   "metadata": {
    "ExecuteTime": {
     "end_time": "2020-07-29T15:14:41.335544Z",
     "start_time": "2020-07-29T15:05:24.366Z"
    }
   },
   "outputs": [],
   "source": [
    "!devtools::install_github('IRkernel/IRkernel')"
   ]
  },
  {
   "cell_type": "code",
   "execution_count": null,
   "metadata": {
    "ExecuteTime": {
     "end_time": "2020-07-29T15:14:41.362543Z",
     "start_time": "2020-07-29T15:05:31.851Z"
    }
   },
   "outputs": [],
   "source": [
    "!IRkernel::installspec()"
   ]
  },
  {
   "cell_type": "code",
   "execution_count": 2,
   "metadata": {
    "ExecuteTime": {
     "end_time": "2020-07-29T15:15:06.012136Z",
     "start_time": "2020-07-29T15:15:05.762Z"
    }
   },
   "outputs": [],
   "source": [
    "data()"
   ]
  },
  {
   "cell_type": "code",
   "execution_count": 4,
   "metadata": {
    "ExecuteTime": {
     "end_time": "2020-07-29T15:43:21.990016Z",
     "start_time": "2020-07-29T15:43:21.930Z"
    }
   },
   "outputs": [
    {
     "data": {
      "text/html": [
       "<ol class=list-inline>\n",
       "\t<li>'milkshake'</li>\n",
       "\t<li>'milky'</li>\n",
       "\t<li>'milk1'</li>\n",
       "</ol>\n"
      ],
      "text/latex": [
       "\\begin{enumerate*}\n",
       "\\item 'milkshake'\n",
       "\\item 'milky'\n",
       "\\item 'milk1'\n",
       "\\end{enumerate*}\n"
      ],
      "text/markdown": [
       "1. 'milkshake'\n",
       "2. 'milky'\n",
       "3. 'milk1'\n",
       "\n",
       "\n"
      ],
      "text/plain": [
       "[1] \"milkshake\" \"milky\"     \"milk1\"    "
      ]
     },
     "metadata": {},
     "output_type": "display_data"
    }
   ],
   "source": [
    "grep(\"milk.+\", c(\"cow's milk\", \"milkshake\", \"milky\", \"cat\", \"milk1\", \"milk\"), value = T)"
   ]
  },
  {
   "cell_type": "code",
   "execution_count": 5,
   "metadata": {
    "ExecuteTime": {
     "end_time": "2020-07-29T15:44:13.843489Z",
     "start_time": "2020-07-29T15:44:13.808Z"
    }
   },
   "outputs": [
    {
     "ename": "ERROR",
     "evalue": "Error in parse(text = x, srcfile = src): <text>:1:20: unexpected input\n1: drinks <- factor(c(“\n                       ^\n",
     "output_type": "error",
     "traceback": [
      "Error in parse(text = x, srcfile = src): <text>:1:20: unexpected input\n1: drinks <- factor(c(“\n                       ^\nTraceback:\n"
     ]
    }
   ],
   "source": [
    "drinks <- factor(c(“tea”, “coffee”, “soft drink”, “tea”, “hot chocolate”, “hot chocolate”, “coffee”))"
   ]
  },
  {
   "cell_type": "code",
   "execution_count": 7,
   "metadata": {
    "ExecuteTime": {
     "end_time": "2020-07-29T15:46:57.567841Z",
     "start_time": "2020-07-29T15:46:57.512Z"
    }
   },
   "outputs": [
    {
     "data": {
      "text/html": [
       "102"
      ],
      "text/latex": [
       "102"
      ],
      "text/markdown": [
       "102"
      ],
      "text/plain": [
       "[1] 102"
      ]
     },
     "metadata": {},
     "output_type": "display_data"
    }
   ],
   "source": [
    "myfunc <- function(x, y = 2){\n",
    "x = x + 10\n",
    "y = y + 100\n",
    "return(y)\n",
    "}\n",
    "myfunc(3)"
   ]
  },
  {
   "cell_type": "code",
   "execution_count": 8,
   "metadata": {
    "ExecuteTime": {
     "end_time": "2020-07-29T17:47:55.107686Z",
     "start_time": "2020-07-29T17:47:39.496Z"
    }
   },
   "outputs": [
    {
     "name": "stderr",
     "output_type": "stream",
     "text": [
      "also installing the dependencies 'glue', 'isoband'\n",
      "\n"
     ]
    },
    {
     "name": "stdout",
     "output_type": "stream",
     "text": [
      "package 'glue' successfully unpacked and MD5 sums checked\n",
      "package 'isoband' successfully unpacked and MD5 sums checked\n",
      "package 'ggplot2' successfully unpacked and MD5 sums checked\n",
      "\n",
      "The downloaded binary packages are in\n",
      "\tC:\\Users\\luna\\AppData\\Local\\Temp\\RtmpY7H5mo\\downloaded_packages\n"
     ]
    }
   ],
   "source": [
    "install.packages('ggplot2')"
   ]
  },
  {
   "cell_type": "code",
   "execution_count": 16,
   "metadata": {
    "ExecuteTime": {
     "end_time": "2020-07-29T17:49:53.877467Z",
     "start_time": "2020-07-29T17:49:53.823Z"
    }
   },
   "outputs": [],
   "source": [
    "data(mtcars)"
   ]
  },
  {
   "cell_type": "code",
   "execution_count": 18,
   "metadata": {
    "ExecuteTime": {
     "end_time": "2020-07-29T17:50:22.540556Z",
     "start_time": "2020-07-29T17:50:20.295Z"
    }
   },
   "outputs": [
    {
     "name": "stderr",
     "output_type": "stream",
     "text": [
      "Warning message:\n",
      "\"package 'ggplot2' was built under R version 3.6.3\""
     ]
    }
   ],
   "source": [
    "library(ggplot2)"
   ]
  },
  {
   "cell_type": "code",
   "execution_count": 21,
   "metadata": {
    "ExecuteTime": {
     "end_time": "2020-07-29T17:53:26.409491Z",
     "start_time": "2020-07-29T17:53:25.996Z"
    }
   },
   "outputs": [
    {
     "data": {
      "image/png": "[encoded data removed]",
      "text/plain": [
       "plot without title"
      ]
     },
     "metadata": {},
     "output_type": "display_data"
    }
   ],
   "source": [
    "qplot(\n",
    "    mtcars$cyl,\n",
    "    geom = \"bar\",\n",
    "    fill = I(\"Blue\"),\n",
    "    colour = I(\"red\"))"
   ]
  },
  {
   "cell_type": "code",
   "execution_count": 22,
   "metadata": {
    "ExecuteTime": {
     "end_time": "2020-07-29T17:54:44.375658Z",
     "start_time": "2020-07-29T17:54:44.014Z"
    }
   },
   "outputs": [
    {
     "data": {
      "image/png": "[encoded data removed]",
      "text/plain": [
       "plot without title"
      ]
     },
     "metadata": {},
     "output_type": "display_data"
    }
   ],
   "source": [
    "qplot(\n",
    "    mtcars$cyl,\n",
    "    geom = \"bar\",\n",
    "    fill = I(\"Blue\"),\n",
    "    xlab = \"Cylinders\",\n",
    "    ylab = \"Number Of Vehicles\")"
   ]
  },
  {
   "cell_type": "code",
   "execution_count": 27,
   "metadata": {
    "ExecuteTime": {
     "end_time": "2020-07-29T17:59:31.040656Z",
     "start_time": "2020-07-29T17:59:30.712Z"
    }
   },
   "outputs": [
    {
     "data": {
      "image/png": "[encoded data removed]",
      "text/plain": [
       "plot without title"
      ]
     },
     "metadata": {},
     "output_type": "display_data"
    }
   ],
   "source": [
    "qplot(\n",
    "    mtcars$hp,\n",
    "    geom = \"histogram\",\n",
    "    binwidth = 25,\n",
    "    colour = I(\"red\")\n",
    "    )"
   ]
  },
  {
   "cell_type": "code",
   "execution_count": null,
   "metadata": {},
   "outputs": [],
   "source": []
  }
 ],
 "metadata": {
  "hide_input": false,
  "kernelspec": {
   "display_name": "R",
   "language": "R",
   "name": "ir"
  },
  "language_info": {
   "codemirror_mode": "r",
   "file_extension": ".r",
   "mimetype": "text/x-r-source",
   "name": "R",
   "pygments_lexer": "r",
   "version": "3.6.1"
  },
  "latex_envs": {
   "LaTeX_envs_menu_present": true,
   "autoclose": false,
   "autocomplete": true,
   "bibliofile": "biblio.bib",
   "cite_by": "apalike",
   "current_citInitial": 1,
   "eqLabelWithNumbers": true,
   "eqNumInitial": 1,
   "hotkeys": {
    "equation": "Ctrl-E",
    "itemize": "Ctrl-I"
   },
   "labels_anchors": false,
   "latex_user_defs": false,
   "report_style_numbering": false,
   "user_envs_cfg": false
  },
  "toc": {
   "base_numbering": 1,
   "nav_menu": {},
   "number_sections": true,
   "sideBar": true,
   "skip_h1_title": false,
   "title_cell": "Table of Contents",
   "title_sidebar": "Contents",
   "toc_cell": false,
   "toc_position": {},
   "toc_section_display": true,
   "toc_window_display": false
  },
  "varInspector": {
   "cols": {
    "lenName": 16,
    "lenType": 16,
    "lenVar": 40
   },
   "kernels_config": {
    "python": {
     "delete_cmd_postfix": "",
     "delete_cmd_prefix": "del ",
     "library": "var_list.py",
     "varRefreshCmd": "print(var_dic_list())"
    },
    "r": {
     "delete_cmd_postfix": ") ",
     "delete_cmd_prefix": "rm(",
     "library": "var_list.r",
     "varRefreshCmd": "cat(var_dic_list()) "
    }
   },
   "types_to_exclude": [
    "module",
    "function",
    "builtin_function_or_method",
    "instance",
    "_Feature"
   ],
   "window_display": false
  }
 },
 "nbformat": 4,
 "nbformat_minor": 4
}
