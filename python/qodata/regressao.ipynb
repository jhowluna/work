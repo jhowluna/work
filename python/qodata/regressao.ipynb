{
 "cells": [
  {
   "cell_type": "markdown",
   "metadata": {
    "colab_type": "text",
    "id": "LvKcqCB6XcHL"
   },
   "source": [
    "# PROJETO VIDA\n",
    "\n",
    "---\n",
    "https://www.kaggle.com/kumarajarshi/life-expectancy-who<br>\n",
    "Expectativa de vida global\n",
    "\n",
    "Lembre-se: foco na técnica e não no dataset em sí, uma vez que não sabemos como os dados foram coletados. Dataset por WHO https://www.who.int/social_determinants/themes/measurementandevidence/en/"
   ]
  },
  {
   "cell_type": "markdown",
   "metadata": {
    "colab_type": "text",
    "id": "mWI9FciyBZkM"
   },
   "source": [
    "# Aquisição dos Dados"
   ]
  },
  {
   "cell_type": "code",
   "execution_count": 1,
   "metadata": {
    "ExecuteTime": {
     "end_time": "2020-06-05T13:58:33.099772Z",
     "start_time": "2020-06-05T13:58:30.100779Z"
    },
    "colab": {},
    "colab_type": "code",
    "id": "wAdCtoOkXPnr"
   },
   "outputs": [],
   "source": [
    "import pandas as pd\n",
    "import os\n",
    "import numpy as np\n",
    "import matplotlib.pyplot as plt\n",
    "import seaborn as sns\n",
    "%matplotlib inline\n",
    "from sklearn.preprocessing import LabelEncoder, OneHotEncoder"
   ]
  },
  {
   "cell_type": "code",
   "execution_count": 2,
   "metadata": {
    "ExecuteTime": {
     "end_time": "2020-06-05T13:58:33.258772Z",
     "start_time": "2020-06-05T13:58:33.103777Z"
    },
    "colab": {},
    "colab_type": "code",
    "id": "mfsqtFpJXg0-"
   },
   "outputs": [],
   "source": [
    "df = pd.read_csv('https://raw.githubusercontent.com/qodatecnologia/projeto-vida/master/data.csv')"
   ]
  },
  {
   "cell_type": "code",
   "execution_count": 3,
   "metadata": {
    "ExecuteTime": {
     "end_time": "2020-06-05T13:58:33.336781Z",
     "start_time": "2020-06-05T13:58:33.261781Z"
    },
    "colab": {},
    "colab_type": "code",
    "id": "J7EU0TjFXnNd"
   },
   "outputs": [
    {
     "data": {
      "text/html": [
       "<div>\n",
       "<style scoped>\n",
       "    .dataframe tbody tr th:only-of-type {\n",
       "        vertical-align: middle;\n",
       "    }\n",
       "\n",
       "    .dataframe tbody tr th {\n",
       "        vertical-align: top;\n",
       "    }\n",
       "\n",
       "    .dataframe thead th {\n",
       "        text-align: right;\n",
       "    }\n",
       "</style>\n",
       "<table border=\"1\" class=\"dataframe\">\n",
       "  <thead>\n",
       "    <tr style=\"text-align: right;\">\n",
       "      <th></th>\n",
       "      <th>Country</th>\n",
       "      <th>Year</th>\n",
       "      <th>Status</th>\n",
       "      <th>Life expectancy</th>\n",
       "      <th>Adult Mortality</th>\n",
       "      <th>infant deaths</th>\n",
       "      <th>Alcohol</th>\n",
       "      <th>percentage expenditure</th>\n",
       "      <th>Hepatitis B</th>\n",
       "      <th>Measles</th>\n",
       "      <th>...</th>\n",
       "      <th>Polio</th>\n",
       "      <th>Total expenditure</th>\n",
       "      <th>Diphtheria</th>\n",
       "      <th>HIV/AIDS</th>\n",
       "      <th>GDP</th>\n",
       "      <th>Population</th>\n",
       "      <th>thinness  1-19 years</th>\n",
       "      <th>thinness 5-9 years</th>\n",
       "      <th>Income composition of resources</th>\n",
       "      <th>Schooling</th>\n",
       "    </tr>\n",
       "  </thead>\n",
       "  <tbody>\n",
       "    <tr>\n",
       "      <th>0</th>\n",
       "      <td>Afghanistan</td>\n",
       "      <td>2015</td>\n",
       "      <td>Developing</td>\n",
       "      <td>65.0</td>\n",
       "      <td>263.0</td>\n",
       "      <td>62</td>\n",
       "      <td>0.01</td>\n",
       "      <td>71.279624</td>\n",
       "      <td>65.0</td>\n",
       "      <td>1154</td>\n",
       "      <td>...</td>\n",
       "      <td>6.0</td>\n",
       "      <td>8.16</td>\n",
       "      <td>65.0</td>\n",
       "      <td>0.1</td>\n",
       "      <td>584.259210</td>\n",
       "      <td>33736494.0</td>\n",
       "      <td>17.2</td>\n",
       "      <td>17.3</td>\n",
       "      <td>0.479</td>\n",
       "      <td>10.1</td>\n",
       "    </tr>\n",
       "    <tr>\n",
       "      <th>1</th>\n",
       "      <td>Afghanistan</td>\n",
       "      <td>2014</td>\n",
       "      <td>Developing</td>\n",
       "      <td>59.9</td>\n",
       "      <td>271.0</td>\n",
       "      <td>64</td>\n",
       "      <td>0.01</td>\n",
       "      <td>73.523582</td>\n",
       "      <td>62.0</td>\n",
       "      <td>492</td>\n",
       "      <td>...</td>\n",
       "      <td>58.0</td>\n",
       "      <td>8.18</td>\n",
       "      <td>62.0</td>\n",
       "      <td>0.1</td>\n",
       "      <td>612.696514</td>\n",
       "      <td>327582.0</td>\n",
       "      <td>17.5</td>\n",
       "      <td>17.5</td>\n",
       "      <td>0.476</td>\n",
       "      <td>10.0</td>\n",
       "    </tr>\n",
       "    <tr>\n",
       "      <th>2</th>\n",
       "      <td>Afghanistan</td>\n",
       "      <td>2013</td>\n",
       "      <td>Developing</td>\n",
       "      <td>59.9</td>\n",
       "      <td>268.0</td>\n",
       "      <td>66</td>\n",
       "      <td>0.01</td>\n",
       "      <td>73.219243</td>\n",
       "      <td>64.0</td>\n",
       "      <td>430</td>\n",
       "      <td>...</td>\n",
       "      <td>62.0</td>\n",
       "      <td>8.13</td>\n",
       "      <td>64.0</td>\n",
       "      <td>0.1</td>\n",
       "      <td>631.744976</td>\n",
       "      <td>31731688.0</td>\n",
       "      <td>17.7</td>\n",
       "      <td>17.7</td>\n",
       "      <td>0.470</td>\n",
       "      <td>9.9</td>\n",
       "    </tr>\n",
       "    <tr>\n",
       "      <th>3</th>\n",
       "      <td>Afghanistan</td>\n",
       "      <td>2012</td>\n",
       "      <td>Developing</td>\n",
       "      <td>59.5</td>\n",
       "      <td>272.0</td>\n",
       "      <td>69</td>\n",
       "      <td>0.01</td>\n",
       "      <td>78.184215</td>\n",
       "      <td>67.0</td>\n",
       "      <td>2787</td>\n",
       "      <td>...</td>\n",
       "      <td>67.0</td>\n",
       "      <td>8.52</td>\n",
       "      <td>67.0</td>\n",
       "      <td>0.1</td>\n",
       "      <td>669.959000</td>\n",
       "      <td>3696958.0</td>\n",
       "      <td>17.9</td>\n",
       "      <td>18.0</td>\n",
       "      <td>0.463</td>\n",
       "      <td>9.8</td>\n",
       "    </tr>\n",
       "    <tr>\n",
       "      <th>4</th>\n",
       "      <td>Afghanistan</td>\n",
       "      <td>2011</td>\n",
       "      <td>Developing</td>\n",
       "      <td>59.2</td>\n",
       "      <td>275.0</td>\n",
       "      <td>71</td>\n",
       "      <td>0.01</td>\n",
       "      <td>7.097109</td>\n",
       "      <td>68.0</td>\n",
       "      <td>3013</td>\n",
       "      <td>...</td>\n",
       "      <td>68.0</td>\n",
       "      <td>7.87</td>\n",
       "      <td>68.0</td>\n",
       "      <td>0.1</td>\n",
       "      <td>63.537231</td>\n",
       "      <td>2978599.0</td>\n",
       "      <td>18.2</td>\n",
       "      <td>18.2</td>\n",
       "      <td>0.454</td>\n",
       "      <td>9.5</td>\n",
       "    </tr>\n",
       "  </tbody>\n",
       "</table>\n",
       "<p>5 rows × 22 columns</p>\n",
       "</div>"
      ],
      "text/plain": [
       "       Country  Year      Status  Life expectancy   Adult Mortality  \\\n",
       "0  Afghanistan  2015  Developing              65.0            263.0   \n",
       "1  Afghanistan  2014  Developing              59.9            271.0   \n",
       "2  Afghanistan  2013  Developing              59.9            268.0   \n",
       "3  Afghanistan  2012  Developing              59.5            272.0   \n",
       "4  Afghanistan  2011  Developing              59.2            275.0   \n",
       "\n",
       "   infant deaths  Alcohol  percentage expenditure  Hepatitis B  Measles   ...  \\\n",
       "0             62     0.01               71.279624         65.0      1154  ...   \n",
       "1             64     0.01               73.523582         62.0       492  ...   \n",
       "2             66     0.01               73.219243         64.0       430  ...   \n",
       "3             69     0.01               78.184215         67.0      2787  ...   \n",
       "4             71     0.01                7.097109         68.0      3013  ...   \n",
       "\n",
       "   Polio  Total expenditure  Diphtheria    HIV/AIDS         GDP  Population  \\\n",
       "0    6.0               8.16         65.0        0.1  584.259210  33736494.0   \n",
       "1   58.0               8.18         62.0        0.1  612.696514    327582.0   \n",
       "2   62.0               8.13         64.0        0.1  631.744976  31731688.0   \n",
       "3   67.0               8.52         67.0        0.1  669.959000   3696958.0   \n",
       "4   68.0               7.87         68.0        0.1   63.537231   2978599.0   \n",
       "\n",
       "    thinness  1-19 years   thinness 5-9 years  \\\n",
       "0                   17.2                 17.3   \n",
       "1                   17.5                 17.5   \n",
       "2                   17.7                 17.7   \n",
       "3                   17.9                 18.0   \n",
       "4                   18.2                 18.2   \n",
       "\n",
       "   Income composition of resources  Schooling  \n",
       "0                            0.479       10.1  \n",
       "1                            0.476       10.0  \n",
       "2                            0.470        9.9  \n",
       "3                            0.463        9.8  \n",
       "4                            0.454        9.5  \n",
       "\n",
       "[5 rows x 22 columns]"
      ]
     },
     "execution_count": 3,
     "metadata": {},
     "output_type": "execute_result"
    }
   ],
   "source": [
    "df.head()"
   ]
  },
  {
   "cell_type": "code",
   "execution_count": 4,
   "metadata": {
    "ExecuteTime": {
     "end_time": "2020-06-05T13:58:33.400779Z",
     "start_time": "2020-06-05T13:58:33.339779Z"
    },
    "colab": {},
    "colab_type": "code",
    "id": "IBRd4844XuHd"
   },
   "outputs": [
    {
     "data": {
      "text/plain": [
       "(2938, 22)"
      ]
     },
     "execution_count": 4,
     "metadata": {},
     "output_type": "execute_result"
    }
   ],
   "source": [
    "df.shape"
   ]
  },
  {
   "cell_type": "code",
   "execution_count": 5,
   "metadata": {
    "ExecuteTime": {
     "end_time": "2020-06-05T13:58:33.480782Z",
     "start_time": "2020-06-05T13:58:33.403784Z"
    },
    "colab": {},
    "colab_type": "code",
    "id": "E70-rjD0XuaX"
   },
   "outputs": [
    {
     "data": {
      "text/plain": [
       "Index(['Country', 'Year', 'Status', 'Life expectancy ', 'Adult Mortality',\n",
       "       'infant deaths', 'Alcohol', 'percentage expenditure', 'Hepatitis B',\n",
       "       'Measles ', ' BMI ', 'under-five deaths ', 'Polio', 'Total expenditure',\n",
       "       'Diphtheria ', ' HIV/AIDS', 'GDP', 'Population',\n",
       "       ' thinness  1-19 years', ' thinness 5-9 years',\n",
       "       'Income composition of resources', 'Schooling'],\n",
       "      dtype='object')"
      ]
     },
     "execution_count": 5,
     "metadata": {},
     "output_type": "execute_result"
    }
   ],
   "source": [
    "df.columns"
   ]
  },
  {
   "cell_type": "code",
   "execution_count": 6,
   "metadata": {
    "ExecuteTime": {
     "end_time": "2020-06-05T13:58:33.591781Z",
     "start_time": "2020-06-05T13:58:33.485777Z"
    },
    "colab": {},
    "colab_type": "code",
    "id": "Ug8mnAYqXwlh"
   },
   "outputs": [
    {
     "name": "stdout",
     "output_type": "stream",
     "text": [
      "<class 'pandas.core.frame.DataFrame'>\n",
      "RangeIndex: 2938 entries, 0 to 2937\n",
      "Data columns (total 22 columns):\n",
      " #   Column                           Non-Null Count  Dtype  \n",
      "---  ------                           --------------  -----  \n",
      " 0   Country                          2938 non-null   object \n",
      " 1   Year                             2938 non-null   int64  \n",
      " 2   Status                           2938 non-null   object \n",
      " 3   Life expectancy                  2928 non-null   float64\n",
      " 4   Adult Mortality                  2928 non-null   float64\n",
      " 5   infant deaths                    2938 non-null   int64  \n",
      " 6   Alcohol                          2744 non-null   float64\n",
      " 7   percentage expenditure           2938 non-null   float64\n",
      " 8   Hepatitis B                      2385 non-null   float64\n",
      " 9   Measles                          2938 non-null   int64  \n",
      " 10   BMI                             2904 non-null   float64\n",
      " 11  under-five deaths                2938 non-null   int64  \n",
      " 12  Polio                            2919 non-null   float64\n",
      " 13  Total expenditure                2712 non-null   float64\n",
      " 14  Diphtheria                       2919 non-null   float64\n",
      " 15   HIV/AIDS                        2938 non-null   float64\n",
      " 16  GDP                              2490 non-null   float64\n",
      " 17  Population                       2286 non-null   float64\n",
      " 18   thinness  1-19 years            2904 non-null   float64\n",
      " 19   thinness 5-9 years              2904 non-null   float64\n",
      " 20  Income composition of resources  2771 non-null   float64\n",
      " 21  Schooling                        2775 non-null   float64\n",
      "dtypes: float64(16), int64(4), object(2)\n",
      "memory usage: 482.1+ KB\n"
     ]
    }
   ],
   "source": [
    "df.info()"
   ]
  },
  {
   "cell_type": "code",
   "execution_count": 7,
   "metadata": {
    "ExecuteTime": {
     "end_time": "2020-06-05T13:58:33.735782Z",
     "start_time": "2020-06-05T13:58:33.595784Z"
    },
    "colab": {},
    "colab_type": "code",
    "id": "6viF-qfYXyOE"
   },
   "outputs": [
    {
     "data": {
      "text/html": [
       "<div>\n",
       "<style scoped>\n",
       "    .dataframe tbody tr th:only-of-type {\n",
       "        vertical-align: middle;\n",
       "    }\n",
       "\n",
       "    .dataframe tbody tr th {\n",
       "        vertical-align: top;\n",
       "    }\n",
       "\n",
       "    .dataframe thead th {\n",
       "        text-align: right;\n",
       "    }\n",
       "</style>\n",
       "<table border=\"1\" class=\"dataframe\">\n",
       "  <thead>\n",
       "    <tr style=\"text-align: right;\">\n",
       "      <th></th>\n",
       "      <th>Year</th>\n",
       "      <th>Life expectancy</th>\n",
       "      <th>Adult Mortality</th>\n",
       "      <th>infant deaths</th>\n",
       "      <th>Alcohol</th>\n",
       "      <th>percentage expenditure</th>\n",
       "      <th>Hepatitis B</th>\n",
       "      <th>Measles</th>\n",
       "      <th>BMI</th>\n",
       "      <th>under-five deaths</th>\n",
       "      <th>Polio</th>\n",
       "      <th>Total expenditure</th>\n",
       "      <th>Diphtheria</th>\n",
       "      <th>HIV/AIDS</th>\n",
       "      <th>GDP</th>\n",
       "      <th>Population</th>\n",
       "      <th>thinness  1-19 years</th>\n",
       "      <th>thinness 5-9 years</th>\n",
       "      <th>Income composition of resources</th>\n",
       "      <th>Schooling</th>\n",
       "    </tr>\n",
       "  </thead>\n",
       "  <tbody>\n",
       "    <tr>\n",
       "      <th>count</th>\n",
       "      <td>2938.000000</td>\n",
       "      <td>2928.000000</td>\n",
       "      <td>2928.000000</td>\n",
       "      <td>2938.000000</td>\n",
       "      <td>2744.000000</td>\n",
       "      <td>2938.000000</td>\n",
       "      <td>2385.000000</td>\n",
       "      <td>2938.000000</td>\n",
       "      <td>2904.000000</td>\n",
       "      <td>2938.000000</td>\n",
       "      <td>2919.000000</td>\n",
       "      <td>2712.00000</td>\n",
       "      <td>2919.000000</td>\n",
       "      <td>2938.000000</td>\n",
       "      <td>2490.000000</td>\n",
       "      <td>2.286000e+03</td>\n",
       "      <td>2904.000000</td>\n",
       "      <td>2904.000000</td>\n",
       "      <td>2771.000000</td>\n",
       "      <td>2775.000000</td>\n",
       "    </tr>\n",
       "    <tr>\n",
       "      <th>mean</th>\n",
       "      <td>2007.518720</td>\n",
       "      <td>69.224932</td>\n",
       "      <td>164.796448</td>\n",
       "      <td>30.303948</td>\n",
       "      <td>4.602861</td>\n",
       "      <td>738.251295</td>\n",
       "      <td>80.940461</td>\n",
       "      <td>2419.592240</td>\n",
       "      <td>38.321247</td>\n",
       "      <td>42.035739</td>\n",
       "      <td>82.550188</td>\n",
       "      <td>5.93819</td>\n",
       "      <td>82.324084</td>\n",
       "      <td>1.742103</td>\n",
       "      <td>7483.158469</td>\n",
       "      <td>1.275338e+07</td>\n",
       "      <td>4.839704</td>\n",
       "      <td>4.870317</td>\n",
       "      <td>0.627551</td>\n",
       "      <td>11.992793</td>\n",
       "    </tr>\n",
       "    <tr>\n",
       "      <th>std</th>\n",
       "      <td>4.613841</td>\n",
       "      <td>9.523867</td>\n",
       "      <td>124.292079</td>\n",
       "      <td>117.926501</td>\n",
       "      <td>4.052413</td>\n",
       "      <td>1987.914858</td>\n",
       "      <td>25.070016</td>\n",
       "      <td>11467.272489</td>\n",
       "      <td>20.044034</td>\n",
       "      <td>160.445548</td>\n",
       "      <td>23.428046</td>\n",
       "      <td>2.49832</td>\n",
       "      <td>23.716912</td>\n",
       "      <td>5.077785</td>\n",
       "      <td>14270.169342</td>\n",
       "      <td>6.101210e+07</td>\n",
       "      <td>4.420195</td>\n",
       "      <td>4.508882</td>\n",
       "      <td>0.210904</td>\n",
       "      <td>3.358920</td>\n",
       "    </tr>\n",
       "    <tr>\n",
       "      <th>min</th>\n",
       "      <td>2000.000000</td>\n",
       "      <td>36.300000</td>\n",
       "      <td>1.000000</td>\n",
       "      <td>0.000000</td>\n",
       "      <td>0.010000</td>\n",
       "      <td>0.000000</td>\n",
       "      <td>1.000000</td>\n",
       "      <td>0.000000</td>\n",
       "      <td>1.000000</td>\n",
       "      <td>0.000000</td>\n",
       "      <td>3.000000</td>\n",
       "      <td>0.37000</td>\n",
       "      <td>2.000000</td>\n",
       "      <td>0.100000</td>\n",
       "      <td>1.681350</td>\n",
       "      <td>3.400000e+01</td>\n",
       "      <td>0.100000</td>\n",
       "      <td>0.100000</td>\n",
       "      <td>0.000000</td>\n",
       "      <td>0.000000</td>\n",
       "    </tr>\n",
       "    <tr>\n",
       "      <th>25%</th>\n",
       "      <td>2004.000000</td>\n",
       "      <td>63.100000</td>\n",
       "      <td>74.000000</td>\n",
       "      <td>0.000000</td>\n",
       "      <td>0.877500</td>\n",
       "      <td>4.685343</td>\n",
       "      <td>77.000000</td>\n",
       "      <td>0.000000</td>\n",
       "      <td>19.300000</td>\n",
       "      <td>0.000000</td>\n",
       "      <td>78.000000</td>\n",
       "      <td>4.26000</td>\n",
       "      <td>78.000000</td>\n",
       "      <td>0.100000</td>\n",
       "      <td>463.935626</td>\n",
       "      <td>1.957932e+05</td>\n",
       "      <td>1.600000</td>\n",
       "      <td>1.500000</td>\n",
       "      <td>0.493000</td>\n",
       "      <td>10.100000</td>\n",
       "    </tr>\n",
       "    <tr>\n",
       "      <th>50%</th>\n",
       "      <td>2008.000000</td>\n",
       "      <td>72.100000</td>\n",
       "      <td>144.000000</td>\n",
       "      <td>3.000000</td>\n",
       "      <td>3.755000</td>\n",
       "      <td>64.912906</td>\n",
       "      <td>92.000000</td>\n",
       "      <td>17.000000</td>\n",
       "      <td>43.500000</td>\n",
       "      <td>4.000000</td>\n",
       "      <td>93.000000</td>\n",
       "      <td>5.75500</td>\n",
       "      <td>93.000000</td>\n",
       "      <td>0.100000</td>\n",
       "      <td>1766.947595</td>\n",
       "      <td>1.386542e+06</td>\n",
       "      <td>3.300000</td>\n",
       "      <td>3.300000</td>\n",
       "      <td>0.677000</td>\n",
       "      <td>12.300000</td>\n",
       "    </tr>\n",
       "    <tr>\n",
       "      <th>75%</th>\n",
       "      <td>2012.000000</td>\n",
       "      <td>75.700000</td>\n",
       "      <td>228.000000</td>\n",
       "      <td>22.000000</td>\n",
       "      <td>7.702500</td>\n",
       "      <td>441.534144</td>\n",
       "      <td>97.000000</td>\n",
       "      <td>360.250000</td>\n",
       "      <td>56.200000</td>\n",
       "      <td>28.000000</td>\n",
       "      <td>97.000000</td>\n",
       "      <td>7.49250</td>\n",
       "      <td>97.000000</td>\n",
       "      <td>0.800000</td>\n",
       "      <td>5910.806335</td>\n",
       "      <td>7.420359e+06</td>\n",
       "      <td>7.200000</td>\n",
       "      <td>7.200000</td>\n",
       "      <td>0.779000</td>\n",
       "      <td>14.300000</td>\n",
       "    </tr>\n",
       "    <tr>\n",
       "      <th>max</th>\n",
       "      <td>2015.000000</td>\n",
       "      <td>89.000000</td>\n",
       "      <td>723.000000</td>\n",
       "      <td>1800.000000</td>\n",
       "      <td>17.870000</td>\n",
       "      <td>19479.911610</td>\n",
       "      <td>99.000000</td>\n",
       "      <td>212183.000000</td>\n",
       "      <td>87.300000</td>\n",
       "      <td>2500.000000</td>\n",
       "      <td>99.000000</td>\n",
       "      <td>17.60000</td>\n",
       "      <td>99.000000</td>\n",
       "      <td>50.600000</td>\n",
       "      <td>119172.741800</td>\n",
       "      <td>1.293859e+09</td>\n",
       "      <td>27.700000</td>\n",
       "      <td>28.600000</td>\n",
       "      <td>0.948000</td>\n",
       "      <td>20.700000</td>\n",
       "    </tr>\n",
       "  </tbody>\n",
       "</table>\n",
       "</div>"
      ],
      "text/plain": [
       "              Year  Life expectancy   Adult Mortality  infant deaths  \\\n",
       "count  2938.000000       2928.000000      2928.000000    2938.000000   \n",
       "mean   2007.518720         69.224932       164.796448      30.303948   \n",
       "std       4.613841          9.523867       124.292079     117.926501   \n",
       "min    2000.000000         36.300000         1.000000       0.000000   \n",
       "25%    2004.000000         63.100000        74.000000       0.000000   \n",
       "50%    2008.000000         72.100000       144.000000       3.000000   \n",
       "75%    2012.000000         75.700000       228.000000      22.000000   \n",
       "max    2015.000000         89.000000       723.000000    1800.000000   \n",
       "\n",
       "           Alcohol  percentage expenditure  Hepatitis B       Measles   \\\n",
       "count  2744.000000             2938.000000  2385.000000    2938.000000   \n",
       "mean      4.602861              738.251295    80.940461    2419.592240   \n",
       "std       4.052413             1987.914858    25.070016   11467.272489   \n",
       "min       0.010000                0.000000     1.000000       0.000000   \n",
       "25%       0.877500                4.685343    77.000000       0.000000   \n",
       "50%       3.755000               64.912906    92.000000      17.000000   \n",
       "75%       7.702500              441.534144    97.000000     360.250000   \n",
       "max      17.870000            19479.911610    99.000000  212183.000000   \n",
       "\n",
       "              BMI   under-five deaths         Polio  Total expenditure  \\\n",
       "count  2904.000000         2938.000000  2919.000000         2712.00000   \n",
       "mean     38.321247           42.035739    82.550188            5.93819   \n",
       "std      20.044034          160.445548    23.428046            2.49832   \n",
       "min       1.000000            0.000000     3.000000            0.37000   \n",
       "25%      19.300000            0.000000    78.000000            4.26000   \n",
       "50%      43.500000            4.000000    93.000000            5.75500   \n",
       "75%      56.200000           28.000000    97.000000            7.49250   \n",
       "max      87.300000         2500.000000    99.000000           17.60000   \n",
       "\n",
       "       Diphtheria      HIV/AIDS            GDP    Population  \\\n",
       "count  2919.000000  2938.000000    2490.000000  2.286000e+03   \n",
       "mean     82.324084     1.742103    7483.158469  1.275338e+07   \n",
       "std      23.716912     5.077785   14270.169342  6.101210e+07   \n",
       "min       2.000000     0.100000       1.681350  3.400000e+01   \n",
       "25%      78.000000     0.100000     463.935626  1.957932e+05   \n",
       "50%      93.000000     0.100000    1766.947595  1.386542e+06   \n",
       "75%      97.000000     0.800000    5910.806335  7.420359e+06   \n",
       "max      99.000000    50.600000  119172.741800  1.293859e+09   \n",
       "\n",
       "        thinness  1-19 years   thinness 5-9 years  \\\n",
       "count            2904.000000          2904.000000   \n",
       "mean                4.839704             4.870317   \n",
       "std                 4.420195             4.508882   \n",
       "min                 0.100000             0.100000   \n",
       "25%                 1.600000             1.500000   \n",
       "50%                 3.300000             3.300000   \n",
       "75%                 7.200000             7.200000   \n",
       "max                27.700000            28.600000   \n",
       "\n",
       "       Income composition of resources    Schooling  \n",
       "count                      2771.000000  2775.000000  \n",
       "mean                          0.627551    11.992793  \n",
       "std                           0.210904     3.358920  \n",
       "min                           0.000000     0.000000  \n",
       "25%                           0.493000    10.100000  \n",
       "50%                           0.677000    12.300000  \n",
       "75%                           0.779000    14.300000  \n",
       "max                           0.948000    20.700000  "
      ]
     },
     "execution_count": 7,
     "metadata": {},
     "output_type": "execute_result"
    }
   ],
   "source": [
    "df.describe()"
   ]
  },
  {
   "cell_type": "code",
   "execution_count": 8,
   "metadata": {
    "ExecuteTime": {
     "end_time": "2020-06-05T13:58:33.767785Z",
     "start_time": "2020-06-05T13:58:33.738781Z"
    },
    "colab": {},
    "colab_type": "code",
    "id": "NrG1I7cOXz8j"
   },
   "outputs": [
    {
     "data": {
      "text/html": [
       "<div>\n",
       "<style scoped>\n",
       "    .dataframe tbody tr th:only-of-type {\n",
       "        vertical-align: middle;\n",
       "    }\n",
       "\n",
       "    .dataframe tbody tr th {\n",
       "        vertical-align: top;\n",
       "    }\n",
       "\n",
       "    .dataframe thead th {\n",
       "        text-align: right;\n",
       "    }\n",
       "</style>\n",
       "<table border=\"1\" class=\"dataframe\">\n",
       "  <thead>\n",
       "    <tr style=\"text-align: right;\">\n",
       "      <th></th>\n",
       "      <th>Country</th>\n",
       "      <th>Status</th>\n",
       "    </tr>\n",
       "  </thead>\n",
       "  <tbody>\n",
       "    <tr>\n",
       "      <th>count</th>\n",
       "      <td>2938</td>\n",
       "      <td>2938</td>\n",
       "    </tr>\n",
       "    <tr>\n",
       "      <th>unique</th>\n",
       "      <td>193</td>\n",
       "      <td>2</td>\n",
       "    </tr>\n",
       "    <tr>\n",
       "      <th>top</th>\n",
       "      <td>Republic of Korea</td>\n",
       "      <td>Developing</td>\n",
       "    </tr>\n",
       "    <tr>\n",
       "      <th>freq</th>\n",
       "      <td>16</td>\n",
       "      <td>2426</td>\n",
       "    </tr>\n",
       "  </tbody>\n",
       "</table>\n",
       "</div>"
      ],
      "text/plain": [
       "                  Country      Status\n",
       "count                2938        2938\n",
       "unique                193           2\n",
       "top     Republic of Korea  Developing\n",
       "freq                   16        2426"
      ]
     },
     "execution_count": 8,
     "metadata": {},
     "output_type": "execute_result"
    }
   ],
   "source": [
    "df.describe(include = ['object'])"
   ]
  },
  {
   "cell_type": "code",
   "execution_count": 9,
   "metadata": {
    "ExecuteTime": {
     "end_time": "2020-06-05T13:58:33.927782Z",
     "start_time": "2020-06-05T13:58:33.770776Z"
    },
    "colab": {},
    "colab_type": "code",
    "id": "F7mLf8e_61r0"
   },
   "outputs": [
    {
     "data": {
      "text/html": [
       "<div>\n",
       "<style scoped>\n",
       "    .dataframe tbody tr th:only-of-type {\n",
       "        vertical-align: middle;\n",
       "    }\n",
       "\n",
       "    .dataframe tbody tr th {\n",
       "        vertical-align: top;\n",
       "    }\n",
       "\n",
       "    .dataframe thead th {\n",
       "        text-align: right;\n",
       "    }\n",
       "</style>\n",
       "<table border=\"1\" class=\"dataframe\">\n",
       "  <thead>\n",
       "    <tr style=\"text-align: right;\">\n",
       "      <th></th>\n",
       "      <th>Life expectancy</th>\n",
       "      <th>Adult Mortality</th>\n",
       "      <th>Alcohol</th>\n",
       "      <th>percentage expenditure</th>\n",
       "      <th>Hepatitis B</th>\n",
       "      <th>BMI</th>\n",
       "      <th>Polio</th>\n",
       "      <th>Total expenditure</th>\n",
       "      <th>Diphtheria</th>\n",
       "      <th>HIV/AIDS</th>\n",
       "      <th>GDP</th>\n",
       "      <th>Population</th>\n",
       "      <th>thinness  1-19 years</th>\n",
       "      <th>thinness 5-9 years</th>\n",
       "      <th>Income composition of resources</th>\n",
       "      <th>Schooling</th>\n",
       "    </tr>\n",
       "  </thead>\n",
       "  <tbody>\n",
       "    <tr>\n",
       "      <th>count</th>\n",
       "      <td>2928.000000</td>\n",
       "      <td>2928.000000</td>\n",
       "      <td>2744.000000</td>\n",
       "      <td>2938.000000</td>\n",
       "      <td>2385.000000</td>\n",
       "      <td>2904.000000</td>\n",
       "      <td>2919.000000</td>\n",
       "      <td>2712.00000</td>\n",
       "      <td>2919.000000</td>\n",
       "      <td>2938.000000</td>\n",
       "      <td>2490.000000</td>\n",
       "      <td>2.286000e+03</td>\n",
       "      <td>2904.000000</td>\n",
       "      <td>2904.000000</td>\n",
       "      <td>2771.000000</td>\n",
       "      <td>2775.000000</td>\n",
       "    </tr>\n",
       "    <tr>\n",
       "      <th>mean</th>\n",
       "      <td>69.224932</td>\n",
       "      <td>164.796448</td>\n",
       "      <td>4.602861</td>\n",
       "      <td>738.251295</td>\n",
       "      <td>80.940461</td>\n",
       "      <td>38.321247</td>\n",
       "      <td>82.550188</td>\n",
       "      <td>5.93819</td>\n",
       "      <td>82.324084</td>\n",
       "      <td>1.742103</td>\n",
       "      <td>7483.158469</td>\n",
       "      <td>1.275338e+07</td>\n",
       "      <td>4.839704</td>\n",
       "      <td>4.870317</td>\n",
       "      <td>0.627551</td>\n",
       "      <td>11.992793</td>\n",
       "    </tr>\n",
       "    <tr>\n",
       "      <th>std</th>\n",
       "      <td>9.523867</td>\n",
       "      <td>124.292079</td>\n",
       "      <td>4.052413</td>\n",
       "      <td>1987.914858</td>\n",
       "      <td>25.070016</td>\n",
       "      <td>20.044034</td>\n",
       "      <td>23.428046</td>\n",
       "      <td>2.49832</td>\n",
       "      <td>23.716912</td>\n",
       "      <td>5.077785</td>\n",
       "      <td>14270.169342</td>\n",
       "      <td>6.101210e+07</td>\n",
       "      <td>4.420195</td>\n",
       "      <td>4.508882</td>\n",
       "      <td>0.210904</td>\n",
       "      <td>3.358920</td>\n",
       "    </tr>\n",
       "    <tr>\n",
       "      <th>min</th>\n",
       "      <td>36.300000</td>\n",
       "      <td>1.000000</td>\n",
       "      <td>0.010000</td>\n",
       "      <td>0.000000</td>\n",
       "      <td>1.000000</td>\n",
       "      <td>1.000000</td>\n",
       "      <td>3.000000</td>\n",
       "      <td>0.37000</td>\n",
       "      <td>2.000000</td>\n",
       "      <td>0.100000</td>\n",
       "      <td>1.681350</td>\n",
       "      <td>3.400000e+01</td>\n",
       "      <td>0.100000</td>\n",
       "      <td>0.100000</td>\n",
       "      <td>0.000000</td>\n",
       "      <td>0.000000</td>\n",
       "    </tr>\n",
       "    <tr>\n",
       "      <th>25%</th>\n",
       "      <td>63.100000</td>\n",
       "      <td>74.000000</td>\n",
       "      <td>0.877500</td>\n",
       "      <td>4.685343</td>\n",
       "      <td>77.000000</td>\n",
       "      <td>19.300000</td>\n",
       "      <td>78.000000</td>\n",
       "      <td>4.26000</td>\n",
       "      <td>78.000000</td>\n",
       "      <td>0.100000</td>\n",
       "      <td>463.935626</td>\n",
       "      <td>1.957932e+05</td>\n",
       "      <td>1.600000</td>\n",
       "      <td>1.500000</td>\n",
       "      <td>0.493000</td>\n",
       "      <td>10.100000</td>\n",
       "    </tr>\n",
       "    <tr>\n",
       "      <th>50%</th>\n",
       "      <td>72.100000</td>\n",
       "      <td>144.000000</td>\n",
       "      <td>3.755000</td>\n",
       "      <td>64.912906</td>\n",
       "      <td>92.000000</td>\n",
       "      <td>43.500000</td>\n",
       "      <td>93.000000</td>\n",
       "      <td>5.75500</td>\n",
       "      <td>93.000000</td>\n",
       "      <td>0.100000</td>\n",
       "      <td>1766.947595</td>\n",
       "      <td>1.386542e+06</td>\n",
       "      <td>3.300000</td>\n",
       "      <td>3.300000</td>\n",
       "      <td>0.677000</td>\n",
       "      <td>12.300000</td>\n",
       "    </tr>\n",
       "    <tr>\n",
       "      <th>75%</th>\n",
       "      <td>75.700000</td>\n",
       "      <td>228.000000</td>\n",
       "      <td>7.702500</td>\n",
       "      <td>441.534144</td>\n",
       "      <td>97.000000</td>\n",
       "      <td>56.200000</td>\n",
       "      <td>97.000000</td>\n",
       "      <td>7.49250</td>\n",
       "      <td>97.000000</td>\n",
       "      <td>0.800000</td>\n",
       "      <td>5910.806335</td>\n",
       "      <td>7.420359e+06</td>\n",
       "      <td>7.200000</td>\n",
       "      <td>7.200000</td>\n",
       "      <td>0.779000</td>\n",
       "      <td>14.300000</td>\n",
       "    </tr>\n",
       "    <tr>\n",
       "      <th>max</th>\n",
       "      <td>89.000000</td>\n",
       "      <td>723.000000</td>\n",
       "      <td>17.870000</td>\n",
       "      <td>19479.911610</td>\n",
       "      <td>99.000000</td>\n",
       "      <td>87.300000</td>\n",
       "      <td>99.000000</td>\n",
       "      <td>17.60000</td>\n",
       "      <td>99.000000</td>\n",
       "      <td>50.600000</td>\n",
       "      <td>119172.741800</td>\n",
       "      <td>1.293859e+09</td>\n",
       "      <td>27.700000</td>\n",
       "      <td>28.600000</td>\n",
       "      <td>0.948000</td>\n",
       "      <td>20.700000</td>\n",
       "    </tr>\n",
       "  </tbody>\n",
       "</table>\n",
       "</div>"
      ],
      "text/plain": [
       "       Life expectancy   Adult Mortality      Alcohol  percentage expenditure  \\\n",
       "count       2928.000000      2928.000000  2744.000000             2938.000000   \n",
       "mean          69.224932       164.796448     4.602861              738.251295   \n",
       "std            9.523867       124.292079     4.052413             1987.914858   \n",
       "min           36.300000         1.000000     0.010000                0.000000   \n",
       "25%           63.100000        74.000000     0.877500                4.685343   \n",
       "50%           72.100000       144.000000     3.755000               64.912906   \n",
       "75%           75.700000       228.000000     7.702500              441.534144   \n",
       "max           89.000000       723.000000    17.870000            19479.911610   \n",
       "\n",
       "       Hepatitis B         BMI         Polio  Total expenditure  Diphtheria   \\\n",
       "count  2385.000000  2904.000000  2919.000000         2712.00000  2919.000000   \n",
       "mean     80.940461    38.321247    82.550188            5.93819    82.324084   \n",
       "std      25.070016    20.044034    23.428046            2.49832    23.716912   \n",
       "min       1.000000     1.000000     3.000000            0.37000     2.000000   \n",
       "25%      77.000000    19.300000    78.000000            4.26000    78.000000   \n",
       "50%      92.000000    43.500000    93.000000            5.75500    93.000000   \n",
       "75%      97.000000    56.200000    97.000000            7.49250    97.000000   \n",
       "max      99.000000    87.300000    99.000000           17.60000    99.000000   \n",
       "\n",
       "          HIV/AIDS            GDP    Population   thinness  1-19 years  \\\n",
       "count  2938.000000    2490.000000  2.286000e+03            2904.000000   \n",
       "mean      1.742103    7483.158469  1.275338e+07               4.839704   \n",
       "std       5.077785   14270.169342  6.101210e+07               4.420195   \n",
       "min       0.100000       1.681350  3.400000e+01               0.100000   \n",
       "25%       0.100000     463.935626  1.957932e+05               1.600000   \n",
       "50%       0.100000    1766.947595  1.386542e+06               3.300000   \n",
       "75%       0.800000    5910.806335  7.420359e+06               7.200000   \n",
       "max      50.600000  119172.741800  1.293859e+09              27.700000   \n",
       "\n",
       "        thinness 5-9 years  Income composition of resources    Schooling  \n",
       "count          2904.000000                      2771.000000  2775.000000  \n",
       "mean              4.870317                         0.627551    11.992793  \n",
       "std               4.508882                         0.210904     3.358920  \n",
       "min               0.100000                         0.000000     0.000000  \n",
       "25%               1.500000                         0.493000    10.100000  \n",
       "50%               3.300000                         0.677000    12.300000  \n",
       "75%               7.200000                         0.779000    14.300000  \n",
       "max              28.600000                         0.948000    20.700000  "
      ]
     },
     "execution_count": 9,
     "metadata": {},
     "output_type": "execute_result"
    }
   ],
   "source": [
    "df.describe(include = ['float'])"
   ]
  },
  {
   "cell_type": "markdown",
   "metadata": {
    "colab_type": "text",
    "id": "N_IejZuABfJL"
   },
   "source": [
    "# Pré-processamento dos dados(explorar,limpar,preparar)"
   ]
  },
  {
   "cell_type": "markdown",
   "metadata": {
    "colab_type": "text",
    "id": "nVYKPP55Z-UE"
   },
   "source": [
    "## Dados duplicados\n",
    "\n",
    "---\n",
    "\n"
   ]
  },
  {
   "cell_type": "code",
   "execution_count": 10,
   "metadata": {
    "ExecuteTime": {
     "end_time": "2020-06-05T13:58:34.039781Z",
     "start_time": "2020-06-05T13:58:33.930788Z"
    },
    "colab": {},
    "colab_type": "code",
    "id": "rhImyizvX1SY"
   },
   "outputs": [
    {
     "data": {
      "text/plain": [
       "0"
      ]
     },
     "execution_count": 10,
     "metadata": {},
     "output_type": "execute_result"
    }
   ],
   "source": [
    "df.duplicated().sum()"
   ]
  },
  {
   "cell_type": "code",
   "execution_count": 11,
   "metadata": {
    "ExecuteTime": {
     "end_time": "2020-06-05T13:58:34.119778Z",
     "start_time": "2020-06-05T13:58:34.042780Z"
    },
    "colab": {},
    "colab_type": "code",
    "id": "mApXD5vaX4HZ"
   },
   "outputs": [],
   "source": [
    "# Poderiamos removar as duplicatas com drop_duplicates\n",
    "df.drop_duplicates(inplace=True)"
   ]
  },
  {
   "cell_type": "markdown",
   "metadata": {
    "colab_type": "text",
    "id": "KjXjUCHOYdIq"
   },
   "source": [
    "## Dados faltantes e preenchimento dos mesmos com mediana\n",
    "\n",
    "---\n",
    "\n"
   ]
  },
  {
   "cell_type": "code",
   "execution_count": 12,
   "metadata": {
    "ExecuteTime": {
     "end_time": "2020-06-05T13:58:34.199784Z",
     "start_time": "2020-06-05T13:58:34.123782Z"
    },
    "colab": {},
    "colab_type": "code",
    "id": "kxl9yx7HX5pX"
   },
   "outputs": [
    {
     "data": {
      "text/plain": [
       "Country                              0\n",
       "Year                                 0\n",
       "Status                               0\n",
       "Life expectancy                     10\n",
       "Adult Mortality                     10\n",
       "infant deaths                        0\n",
       "Alcohol                            194\n",
       "percentage expenditure               0\n",
       "Hepatitis B                        553\n",
       "Measles                              0\n",
       " BMI                                34\n",
       "under-five deaths                    0\n",
       "Polio                               19\n",
       "Total expenditure                  226\n",
       "Diphtheria                          19\n",
       " HIV/AIDS                            0\n",
       "GDP                                448\n",
       "Population                         652\n",
       " thinness  1-19 years               34\n",
       " thinness 5-9 years                 34\n",
       "Income composition of resources    167\n",
       "Schooling                          163\n",
       "dtype: int64"
      ]
     },
     "execution_count": 12,
     "metadata": {},
     "output_type": "execute_result"
    }
   ],
   "source": [
    "df.isna().sum()"
   ]
  },
  {
   "cell_type": "code",
   "execution_count": 13,
   "metadata": {
    "ExecuteTime": {
     "end_time": "2020-06-05T13:58:34.295784Z",
     "start_time": "2020-06-05T13:58:34.202779Z"
    },
    "colab": {},
    "colab_type": "code",
    "id": "UUvkyxeiX7aI"
   },
   "outputs": [],
   "source": [
    "df.columns=['Country','Year','Status','Life_Expectancy','Adult_Mortality','Infant_death','Alcohol','Percentage_Expenditure','Hepatitis_B','Measles','BMI','Under_Five_Death','Polio','Total_Expenditure','Diphtheria','Hiv_Aids','GDP','Population','Thin_1_19_Years','Thin_5_9_Year','Income_Comp_Resource','Schooling']"
   ]
  },
  {
   "cell_type": "code",
   "execution_count": 14,
   "metadata": {
    "ExecuteTime": {
     "end_time": "2020-06-05T13:58:34.406789Z",
     "start_time": "2020-06-05T13:58:34.298788Z"
    },
    "colab": {},
    "colab_type": "code",
    "id": "bA0M2kFNX755"
   },
   "outputs": [
    {
     "name": "stdout",
     "output_type": "stream",
     "text": [
      "<class 'pandas.core.frame.DataFrame'>\n",
      "Int64Index: 2938 entries, 0 to 2937\n",
      "Data columns (total 22 columns):\n",
      " #   Column                  Non-Null Count  Dtype  \n",
      "---  ------                  --------------  -----  \n",
      " 0   Country                 2938 non-null   object \n",
      " 1   Year                    2938 non-null   int64  \n",
      " 2   Status                  2938 non-null   object \n",
      " 3   Life_Expectancy         2928 non-null   float64\n",
      " 4   Adult_Mortality         2928 non-null   float64\n",
      " 5   Infant_death            2938 non-null   int64  \n",
      " 6   Alcohol                 2744 non-null   float64\n",
      " 7   Percentage_Expenditure  2938 non-null   float64\n",
      " 8   Hepatitis_B             2385 non-null   float64\n",
      " 9   Measles                 2938 non-null   int64  \n",
      " 10  BMI                     2904 non-null   float64\n",
      " 11  Under_Five_Death        2938 non-null   int64  \n",
      " 12  Polio                   2919 non-null   float64\n",
      " 13  Total_Expenditure       2712 non-null   float64\n",
      " 14  Diphtheria              2919 non-null   float64\n",
      " 15  Hiv_Aids                2938 non-null   float64\n",
      " 16  GDP                     2490 non-null   float64\n",
      " 17  Population              2286 non-null   float64\n",
      " 18  Thin_1_19_Years         2904 non-null   float64\n",
      " 19  Thin_5_9_Year           2904 non-null   float64\n",
      " 20  Income_Comp_Resource    2771 non-null   float64\n",
      " 21  Schooling               2775 non-null   float64\n",
      "dtypes: float64(16), int64(4), object(2)\n",
      "memory usage: 505.0+ KB\n"
     ]
    }
   ],
   "source": [
    "df.info()"
   ]
  },
  {
   "cell_type": "code",
   "execution_count": 15,
   "metadata": {
    "ExecuteTime": {
     "end_time": "2020-06-05T13:58:34.486776Z",
     "start_time": "2020-06-05T13:58:34.409781Z"
    },
    "colab": {},
    "colab_type": "code",
    "id": "k70yGUyLX-5N"
   },
   "outputs": [
    {
     "data": {
      "text/plain": [
       "Infant_death    0\n",
       "dtype: int64"
      ]
     },
     "execution_count": 15,
     "metadata": {},
     "output_type": "execute_result"
    }
   ],
   "source": [
    "df[['Infant_death']].isna().sum()"
   ]
  },
  {
   "cell_type": "code",
   "execution_count": 16,
   "metadata": {
    "ExecuteTime": {
     "end_time": "2020-06-05T13:58:34.566780Z",
     "start_time": "2020-06-05T13:58:34.489782Z"
    },
    "colab": {},
    "colab_type": "code",
    "id": "Mpvj25tRYBJa"
   },
   "outputs": [
    {
     "data": {
      "text/plain": [
       "0"
      ]
     },
     "execution_count": 16,
     "metadata": {},
     "output_type": "execute_result"
    }
   ],
   "source": [
    "df.Life_Expectancy=df.Life_Expectancy.fillna(df.Life_Expectancy.median())\n",
    "df.Life_Expectancy.isna().sum()"
   ]
  },
  {
   "cell_type": "code",
   "execution_count": 17,
   "metadata": {
    "ExecuteTime": {
     "end_time": "2020-06-05T13:58:34.662780Z",
     "start_time": "2020-06-05T13:58:34.569781Z"
    },
    "colab": {},
    "colab_type": "code",
    "id": "6FhlsTisY82d"
   },
   "outputs": [
    {
     "name": "stdout",
     "output_type": "stream",
     "text": [
      "<class 'pandas.core.frame.DataFrame'>\n",
      "Int64Index: 2938 entries, 0 to 2937\n",
      "Data columns (total 22 columns):\n",
      " #   Column                  Non-Null Count  Dtype  \n",
      "---  ------                  --------------  -----  \n",
      " 0   Country                 2938 non-null   object \n",
      " 1   Year                    2938 non-null   int64  \n",
      " 2   Status                  2938 non-null   object \n",
      " 3   Life_Expectancy         2938 non-null   float64\n",
      " 4   Adult_Mortality         2928 non-null   float64\n",
      " 5   Infant_death            2938 non-null   int64  \n",
      " 6   Alcohol                 2744 non-null   float64\n",
      " 7   Percentage_Expenditure  2938 non-null   float64\n",
      " 8   Hepatitis_B             2385 non-null   float64\n",
      " 9   Measles                 2938 non-null   int64  \n",
      " 10  BMI                     2904 non-null   float64\n",
      " 11  Under_Five_Death        2938 non-null   int64  \n",
      " 12  Polio                   2919 non-null   float64\n",
      " 13  Total_Expenditure       2712 non-null   float64\n",
      " 14  Diphtheria              2919 non-null   float64\n",
      " 15  Hiv_Aids                2938 non-null   float64\n",
      " 16  GDP                     2490 non-null   float64\n",
      " 17  Population              2286 non-null   float64\n",
      " 18  Thin_1_19_Years         2904 non-null   float64\n",
      " 19  Thin_5_9_Year           2904 non-null   float64\n",
      " 20  Income_Comp_Resource    2771 non-null   float64\n",
      " 21  Schooling               2775 non-null   float64\n",
      "dtypes: float64(16), int64(4), object(2)\n",
      "memory usage: 505.0+ KB\n"
     ]
    }
   ],
   "source": [
    "df.info()"
   ]
  },
  {
   "cell_type": "code",
   "execution_count": 18,
   "metadata": {
    "ExecuteTime": {
     "end_time": "2020-06-05T13:58:34.742788Z",
     "start_time": "2020-06-05T13:58:34.665779Z"
    },
    "colab": {},
    "colab_type": "code",
    "id": "hJ8vptWeYC9R"
   },
   "outputs": [
    {
     "data": {
      "text/plain": [
       "Country                     0\n",
       "Year                        0\n",
       "Status                      0\n",
       "Life_Expectancy             0\n",
       "Adult_Mortality            10\n",
       "Infant_death                0\n",
       "Alcohol                   194\n",
       "Percentage_Expenditure      0\n",
       "Hepatitis_B               553\n",
       "Measles                     0\n",
       "BMI                        34\n",
       "Under_Five_Death            0\n",
       "Polio                      19\n",
       "Total_Expenditure         226\n",
       "Diphtheria                 19\n",
       "Hiv_Aids                    0\n",
       "GDP                       448\n",
       "Population                652\n",
       "Thin_1_19_Years            34\n",
       "Thin_5_9_Year              34\n",
       "Income_Comp_Resource      167\n",
       "Schooling                 163\n",
       "dtype: int64"
      ]
     },
     "execution_count": 18,
     "metadata": {},
     "output_type": "execute_result"
    }
   ],
   "source": [
    "df.isna().sum()"
   ]
  },
  {
   "cell_type": "code",
   "execution_count": 19,
   "metadata": {
    "ExecuteTime": {
     "end_time": "2020-06-05T13:58:34.820777Z",
     "start_time": "2020-06-05T13:58:34.746784Z"
    },
    "colab": {},
    "colab_type": "code",
    "id": "KG6O-3c-YEoo"
   },
   "outputs": [
    {
     "data": {
      "text/plain": [
       "0"
      ]
     },
     "execution_count": 19,
     "metadata": {},
     "output_type": "execute_result"
    }
   ],
   "source": [
    "df.Adult_Mortality=df.Adult_Mortality.fillna(df.Adult_Mortality.median())\n",
    "df.Adult_Mortality.isna().sum()"
   ]
  },
  {
   "cell_type": "code",
   "execution_count": 20,
   "metadata": {
    "ExecuteTime": {
     "end_time": "2020-06-05T13:58:34.916780Z",
     "start_time": "2020-06-05T13:58:34.823784Z"
    },
    "colab": {},
    "colab_type": "code",
    "id": "HCIvc0P2YJ9N"
   },
   "outputs": [
    {
     "data": {
      "text/plain": [
       "0"
      ]
     },
     "execution_count": 20,
     "metadata": {},
     "output_type": "execute_result"
    }
   ],
   "source": [
    "df.Alcohol=df.Alcohol.fillna(df.Alcohol.median())\n",
    "df.Alcohol.isna().sum()"
   ]
  },
  {
   "cell_type": "code",
   "execution_count": 21,
   "metadata": {
    "ExecuteTime": {
     "end_time": "2020-06-05T13:58:35.010780Z",
     "start_time": "2020-06-05T13:58:34.924777Z"
    },
    "colab": {},
    "colab_type": "code",
    "id": "mqPHFssTYMns"
   },
   "outputs": [
    {
     "data": {
      "text/plain": [
       "0"
      ]
     },
     "execution_count": 21,
     "metadata": {},
     "output_type": "execute_result"
    }
   ],
   "source": [
    "df.Hepatitis_B=df.Hepatitis_B.fillna(df.Hepatitis_B.median())\n",
    "df.Hepatitis_B.isna().sum()"
   ]
  },
  {
   "cell_type": "code",
   "execution_count": 22,
   "metadata": {
    "ExecuteTime": {
     "end_time": "2020-06-05T13:58:35.156782Z",
     "start_time": "2020-06-05T13:58:35.014783Z"
    },
    "colab": {},
    "colab_type": "code",
    "id": "wnVM4hqNYQWk"
   },
   "outputs": [
    {
     "data": {
      "text/plain": [
       "0"
      ]
     },
     "execution_count": 22,
     "metadata": {},
     "output_type": "execute_result"
    }
   ],
   "source": [
    "df.BMI=df.BMI.fillna(df.BMI.median())\n",
    "df.BMI.isna().sum()"
   ]
  },
  {
   "cell_type": "code",
   "execution_count": 23,
   "metadata": {
    "ExecuteTime": {
     "end_time": "2020-06-05T13:58:35.250782Z",
     "start_time": "2020-06-05T13:58:35.159780Z"
    },
    "colab": {},
    "colab_type": "code",
    "id": "KIW4wMpQYTUx"
   },
   "outputs": [
    {
     "data": {
      "text/plain": [
       "0"
      ]
     },
     "execution_count": 23,
     "metadata": {},
     "output_type": "execute_result"
    }
   ],
   "source": [
    "df.Polio=df.Polio.fillna(df.Polio.median())\n",
    "df.Polio.isna().sum()"
   ]
  },
  {
   "cell_type": "code",
   "execution_count": 24,
   "metadata": {
    "ExecuteTime": {
     "end_time": "2020-06-05T13:58:35.330778Z",
     "start_time": "2020-06-05T13:58:35.253780Z"
    },
    "colab": {},
    "colab_type": "code",
    "id": "oG90IxuIYU5s"
   },
   "outputs": [
    {
     "data": {
      "text/plain": [
       "0"
      ]
     },
     "execution_count": 24,
     "metadata": {},
     "output_type": "execute_result"
    }
   ],
   "source": [
    "df.Total_Expenditure = df.Total_Expenditure.fillna(df.Total_Expenditure.median())\n",
    "df.Total_Expenditure.isna().sum()"
   ]
  },
  {
   "cell_type": "code",
   "execution_count": 25,
   "metadata": {
    "ExecuteTime": {
     "end_time": "2020-06-05T13:58:35.426778Z",
     "start_time": "2020-06-05T13:58:35.334778Z"
    },
    "colab": {},
    "colab_type": "code",
    "id": "hPrXCKFsaL4a"
   },
   "outputs": [
    {
     "data": {
      "text/plain": [
       "Country                     0\n",
       "Year                        0\n",
       "Status                      0\n",
       "Life_Expectancy             0\n",
       "Adult_Mortality             0\n",
       "Infant_death                0\n",
       "Alcohol                     0\n",
       "Percentage_Expenditure      0\n",
       "Hepatitis_B                 0\n",
       "Measles                     0\n",
       "BMI                         0\n",
       "Under_Five_Death            0\n",
       "Polio                       0\n",
       "Total_Expenditure           0\n",
       "Diphtheria                 19\n",
       "Hiv_Aids                    0\n",
       "GDP                       448\n",
       "Population                652\n",
       "Thin_1_19_Years            34\n",
       "Thin_5_9_Year              34\n",
       "Income_Comp_Resource      167\n",
       "Schooling                 163\n",
       "dtype: int64"
      ]
     },
     "execution_count": 25,
     "metadata": {},
     "output_type": "execute_result"
    }
   ],
   "source": [
    "df.isna().sum()"
   ]
  },
  {
   "cell_type": "code",
   "execution_count": 26,
   "metadata": {
    "ExecuteTime": {
     "end_time": "2020-06-05T13:58:35.506782Z",
     "start_time": "2020-06-05T13:58:35.430782Z"
    },
    "colab": {},
    "colab_type": "code",
    "id": "a9YRJOueaZHV"
   },
   "outputs": [
    {
     "data": {
      "text/plain": [
       "0"
      ]
     },
     "execution_count": 26,
     "metadata": {},
     "output_type": "execute_result"
    }
   ],
   "source": [
    "df.Diphtheria=df.Diphtheria.fillna(df.Diphtheria.median())\n",
    "df.Diphtheria.isna().sum()"
   ]
  },
  {
   "cell_type": "code",
   "execution_count": 27,
   "metadata": {
    "ExecuteTime": {
     "end_time": "2020-06-05T13:58:35.586772Z",
     "start_time": "2020-06-05T13:58:35.510782Z"
    },
    "colab": {},
    "colab_type": "code",
    "id": "lG3reaywaa3D"
   },
   "outputs": [
    {
     "data": {
      "text/plain": [
       "0"
      ]
     },
     "execution_count": 27,
     "metadata": {},
     "output_type": "execute_result"
    }
   ],
   "source": [
    "df.GDP=df.GDP.fillna(df.GDP.median())\n",
    "df.GDP.isna().sum()"
   ]
  },
  {
   "cell_type": "code",
   "execution_count": 28,
   "metadata": {
    "ExecuteTime": {
     "end_time": "2020-06-05T13:58:35.698774Z",
     "start_time": "2020-06-05T13:58:35.590780Z"
    },
    "colab": {},
    "colab_type": "code",
    "id": "vwVzER7yadTh"
   },
   "outputs": [
    {
     "data": {
      "text/plain": [
       "0"
      ]
     },
     "execution_count": 28,
     "metadata": {},
     "output_type": "execute_result"
    }
   ],
   "source": [
    "df.Population=df.Population.fillna(df.Population.median())\n",
    "df.Population.isna().sum()"
   ]
  },
  {
   "cell_type": "code",
   "execution_count": 29,
   "metadata": {
    "ExecuteTime": {
     "end_time": "2020-06-05T13:58:35.778785Z",
     "start_time": "2020-06-05T13:58:35.700775Z"
    },
    "colab": {},
    "colab_type": "code",
    "id": "KNW5N4dqahtr"
   },
   "outputs": [
    {
     "data": {
      "text/plain": [
       "0"
      ]
     },
     "execution_count": 29,
     "metadata": {},
     "output_type": "execute_result"
    }
   ],
   "source": [
    "df.Thin_1_19_Years=df.Thin_1_19_Years.fillna(df.Thin_1_19_Years.median())\n",
    "df.Thin_1_19_Years.isna().sum()"
   ]
  },
  {
   "cell_type": "code",
   "execution_count": 30,
   "metadata": {
    "ExecuteTime": {
     "end_time": "2020-06-05T13:58:35.874774Z",
     "start_time": "2020-06-05T13:58:35.781783Z"
    },
    "colab": {},
    "colab_type": "code",
    "id": "y0LirlfhakN5"
   },
   "outputs": [
    {
     "data": {
      "text/plain": [
       "0"
      ]
     },
     "execution_count": 30,
     "metadata": {},
     "output_type": "execute_result"
    }
   ],
   "source": [
    "df.Thin_5_9_Year =df.Thin_5_9_Year.fillna(df.Thin_5_9_Year.median())\n",
    "df.Thin_5_9_Year.isna().sum()"
   ]
  },
  {
   "cell_type": "code",
   "execution_count": 31,
   "metadata": {
    "ExecuteTime": {
     "end_time": "2020-06-05T13:58:35.970779Z",
     "start_time": "2020-06-05T13:58:35.880782Z"
    },
    "colab": {},
    "colab_type": "code",
    "id": "JGbokMcHanQ7"
   },
   "outputs": [
    {
     "data": {
      "text/plain": [
       "0"
      ]
     },
     "execution_count": 31,
     "metadata": {},
     "output_type": "execute_result"
    }
   ],
   "source": [
    "df.Income_Comp_Resource=df.Income_Comp_Resource.fillna(df.Income_Comp_Resource.median())\n",
    "df.Income_Comp_Resource.isna().sum()"
   ]
  },
  {
   "cell_type": "code",
   "execution_count": 32,
   "metadata": {
    "ExecuteTime": {
     "end_time": "2020-06-05T13:58:36.066778Z",
     "start_time": "2020-06-05T13:58:35.973778Z"
    },
    "colab": {},
    "colab_type": "code",
    "id": "Eb1n7FsMapiU"
   },
   "outputs": [
    {
     "data": {
      "text/plain": [
       "0"
      ]
     },
     "execution_count": 32,
     "metadata": {},
     "output_type": "execute_result"
    }
   ],
   "source": [
    "df.Schooling=df.Schooling.fillna(df.Schooling.median())\n",
    "df.Schooling.isna().sum()"
   ]
  },
  {
   "cell_type": "code",
   "execution_count": 33,
   "metadata": {
    "ExecuteTime": {
     "end_time": "2020-06-05T13:58:36.177782Z",
     "start_time": "2020-06-05T13:58:36.069780Z"
    },
    "colab": {},
    "colab_type": "code",
    "id": "JXCca99Saq1S"
   },
   "outputs": [
    {
     "name": "stdout",
     "output_type": "stream",
     "text": [
      "<class 'pandas.core.frame.DataFrame'>\n",
      "Int64Index: 2938 entries, 0 to 2937\n",
      "Data columns (total 22 columns):\n",
      " #   Column                  Non-Null Count  Dtype  \n",
      "---  ------                  --------------  -----  \n",
      " 0   Country                 2938 non-null   object \n",
      " 1   Year                    2938 non-null   int64  \n",
      " 2   Status                  2938 non-null   object \n",
      " 3   Life_Expectancy         2938 non-null   float64\n",
      " 4   Adult_Mortality         2938 non-null   float64\n",
      " 5   Infant_death            2938 non-null   int64  \n",
      " 6   Alcohol                 2938 non-null   float64\n",
      " 7   Percentage_Expenditure  2938 non-null   float64\n",
      " 8   Hepatitis_B             2938 non-null   float64\n",
      " 9   Measles                 2938 non-null   int64  \n",
      " 10  BMI                     2938 non-null   float64\n",
      " 11  Under_Five_Death        2938 non-null   int64  \n",
      " 12  Polio                   2938 non-null   float64\n",
      " 13  Total_Expenditure       2938 non-null   float64\n",
      " 14  Diphtheria              2938 non-null   float64\n",
      " 15  Hiv_Aids                2938 non-null   float64\n",
      " 16  GDP                     2938 non-null   float64\n",
      " 17  Population              2938 non-null   float64\n",
      " 18  Thin_1_19_Years         2938 non-null   float64\n",
      " 19  Thin_5_9_Year           2938 non-null   float64\n",
      " 20  Income_Comp_Resource    2938 non-null   float64\n",
      " 21  Schooling               2938 non-null   float64\n",
      "dtypes: float64(16), int64(4), object(2)\n",
      "memory usage: 505.0+ KB\n"
     ]
    }
   ],
   "source": [
    "df.info()"
   ]
  },
  {
   "cell_type": "markdown",
   "metadata": {
    "colab_type": "text",
    "id": "wYakcMjsayXL"
   },
   "source": [
    "## Outliers"
   ]
  },
  {
   "cell_type": "code",
   "execution_count": 34,
   "metadata": {
    "ExecuteTime": {
     "end_time": "2020-06-05T13:58:36.256802Z",
     "start_time": "2020-06-05T13:58:36.185785Z"
    },
    "colab": {},
    "colab_type": "code",
    "id": "oMw9OGVqasZz"
   },
   "outputs": [],
   "source": [
    "# AMPLITUDE INTERQUARTIL PARA DETECTAR OUTLIERS\n",
    "def find_outliers_tukey(x):\n",
    "    q1 = x.quantile(.25)\n",
    "    q3 = x.quantile(.75)\n",
    "    iqr = q3 - q1 #INTER QUARTILE RANGE\n",
    "    floor = q1 - 1.5*iqr\n",
    "    ceiling = q3 + 1.5*iqr\n",
    "    outlier_indices = list(x.index[(x < floor) | (x > ceiling)])\n",
    "    outlier_values = list(x[outlier_indices])\n",
    "    return outlier_indices, outlier_values"
   ]
  },
  {
   "cell_type": "code",
   "execution_count": 35,
   "metadata": {
    "ExecuteTime": {
     "end_time": "2020-06-05T13:58:36.352782Z",
     "start_time": "2020-06-05T13:58:36.260779Z"
    },
    "colab": {},
    "colab_type": "code",
    "id": "9w5A5u4Oa0h-"
   },
   "outputs": [
    {
     "data": {
      "text/plain": [
       "Index(['Country', 'Year', 'Status', 'Life_Expectancy', 'Adult_Mortality',\n",
       "       'Infant_death', 'Alcohol', 'Percentage_Expenditure', 'Hepatitis_B',\n",
       "       'Measles', 'BMI', 'Under_Five_Death', 'Polio', 'Total_Expenditure',\n",
       "       'Diphtheria', 'Hiv_Aids', 'GDP', 'Population', 'Thin_1_19_Years',\n",
       "       'Thin_5_9_Year', 'Income_Comp_Resource', 'Schooling'],\n",
       "      dtype='object')"
      ]
     },
     "execution_count": 35,
     "metadata": {},
     "output_type": "execute_result"
    }
   ],
   "source": [
    "df.columns"
   ]
  },
  {
   "cell_type": "code",
   "execution_count": 36,
   "metadata": {
    "ExecuteTime": {
     "end_time": "2020-06-05T13:58:36.448781Z",
     "start_time": "2020-06-05T13:58:36.355780Z"
    },
    "colab": {},
    "colab_type": "code",
    "id": "asnvJyXJa2YQ"
   },
   "outputs": [
    {
     "name": "stdout",
     "output_type": "stream",
     "text": [
      "Outliers for Year\n",
      "[]\n"
     ]
    }
   ],
   "source": [
    "print(\"Outliers for Year\")\n",
    "Year_indices, Year_values = find_outliers_tukey(df['Year'])\n",
    "print(np.sort(Year_values))"
   ]
  },
  {
   "cell_type": "code",
   "execution_count": 37,
   "metadata": {
    "ExecuteTime": {
     "end_time": "2020-06-05T13:58:36.543786Z",
     "start_time": "2020-06-05T13:58:36.451778Z"
    },
    "colab": {},
    "colab_type": "code",
    "id": "9AnTeSz7a409"
   },
   "outputs": [
    {
     "name": "stdout",
     "output_type": "stream",
     "text": [
      "Outliers for Life Expectancy\n",
      "[36.3 39.  41.  41.5 42.3 43.1 43.3 43.5 43.8 44.  44.3 44.3 44.5 44.5\n",
      " 44.6 44.6 44.6]\n"
     ]
    }
   ],
   "source": [
    "print(\"Outliers for Life Expectancy\")\n",
    "Life_Expectancy_indices,Life_Expectancy_values = find_outliers_tukey(df['Life_Expectancy'])\n",
    "print(np.sort(Life_Expectancy_values))"
   ]
  },
  {
   "cell_type": "code",
   "execution_count": 38,
   "metadata": {
    "ExecuteTime": {
     "end_time": "2020-06-05T13:58:36.638778Z",
     "start_time": "2020-06-05T13:58:36.547779Z"
    },
    "colab": {},
    "colab_type": "code",
    "id": "WtiR4NdNa8EI"
   },
   "outputs": [
    {
     "name": "stdout",
     "output_type": "stream",
     "text": [
      "Outliers for Infant death\n",
      "[  56   56   56   56   56   56   56   57   57   57   57   57   57   57\n",
      "   57   57   58   58   58   58   58   58   58   58   58   59   59   59\n",
      "   59   59   59   59   59   59   60   60   60   60   60   60   60   60\n",
      "   60   60   60   60   60   61   61   61   61   61   61   61   61   61\n",
      "   62   62   62   62   62   62   62   63   63   63   63   64   64   64\n",
      "   64   64   64   64   65   65   65   65   65   65   66   66   66   66\n",
      "   66   66   66   66   66   67   67   67   68   68   68   68   68   69\n",
      "   69   69   69   69   69   70   70   70   70   71   71   71   71   71\n",
      "   72   72   72   72   73   73   74   74   74   75   75   76   76   77\n",
      "   77   77   78   78   79   80   80   81   81   82   82   82   84   84\n",
      "   84   85   85   85   86   86   87   87   87   87   87   88   88   88\n",
      "   88   88   88   89   90   90   91   92   92   92   93   93   94   94\n",
      "   95   95   96   96   97   97   97   98   99  100  103  103  104  104\n",
      "  106  109  110  111  111  112  114  114  115  116  118  119  124  126\n",
      "  129  134  135  136  138  140  143  144  145  149  150  154  154  156\n",
      "  157  159  162  163  164  169  171  173  174  174  177  177  182  185\n",
      "  185  186  187  196  196  201  206  207  215  217  219  226  227  228\n",
      "  229  231  231  231  232  233  235  236  236  237  237  237  238  238\n",
      "  239  239  239  246  248  253  266  285  307  332  352  359  360  364\n",
      "  364  365  365  366  367  369  369  371  371  371  372  377  385  391\n",
      "  422  457  483  490  490  498  505  513  521  527  536  542  549  556\n",
      "  563  567  571  574  576  910  957 1000 1100 1100 1200 1300 1300 1400\n",
      " 1500 1500 1600 1700 1700 1800 1800]\n"
     ]
    }
   ],
   "source": [
    "print(\"Outliers for Infant death\")\n",
    "Infant_death_indices,Infant_death_values = find_outliers_tukey(df['Infant_death'])\n",
    "print(np.sort(Infant_death_values))"
   ]
  },
  {
   "cell_type": "code",
   "execution_count": 39,
   "metadata": {
    "ExecuteTime": {
     "end_time": "2020-06-05T13:58:36.765779Z",
     "start_time": "2020-06-05T13:58:36.645780Z"
    },
    "colab": {},
    "colab_type": "code",
    "id": "sI2FCwSua_uz"
   },
   "outputs": [],
   "source": [
    "# Substituindo outlier por mediana\n",
    "df[\"Infant_death\"] = np.where(df[\"Infant_death\"] >3, 3,df['Infant_death'])"
   ]
  },
  {
   "cell_type": "code",
   "execution_count": 40,
   "metadata": {
    "ExecuteTime": {
     "end_time": "2020-06-05T13:58:36.860783Z",
     "start_time": "2020-06-05T13:58:36.771777Z"
    },
    "colab": {},
    "colab_type": "code",
    "id": "0JmN6IUBbI_S"
   },
   "outputs": [
    {
     "data": {
      "text/plain": [
       "3.0"
      ]
     },
     "execution_count": 40,
     "metadata": {},
     "output_type": "execute_result"
    }
   ],
   "source": [
    "df.Infant_death.median()"
   ]
  },
  {
   "cell_type": "code",
   "execution_count": 41,
   "metadata": {
    "ExecuteTime": {
     "end_time": "2020-06-05T13:58:37.144776Z",
     "start_time": "2020-06-05T13:58:36.864788Z"
    },
    "colab": {},
    "colab_type": "code",
    "id": "-Lun77BLbMw2"
   },
   "outputs": [
    {
     "data": {
      "text/html": [
       "<div>\n",
       "<style scoped>\n",
       "    .dataframe tbody tr th:only-of-type {\n",
       "        vertical-align: middle;\n",
       "    }\n",
       "\n",
       "    .dataframe tbody tr th {\n",
       "        vertical-align: top;\n",
       "    }\n",
       "\n",
       "    .dataframe thead th {\n",
       "        text-align: right;\n",
       "    }\n",
       "</style>\n",
       "<table border=\"1\" class=\"dataframe\">\n",
       "  <thead>\n",
       "    <tr style=\"text-align: right;\">\n",
       "      <th></th>\n",
       "      <th>Year</th>\n",
       "      <th>Life_Expectancy</th>\n",
       "      <th>Adult_Mortality</th>\n",
       "      <th>Infant_death</th>\n",
       "      <th>Alcohol</th>\n",
       "      <th>Percentage_Expenditure</th>\n",
       "      <th>Hepatitis_B</th>\n",
       "      <th>Measles</th>\n",
       "      <th>BMI</th>\n",
       "      <th>Under_Five_Death</th>\n",
       "      <th>Polio</th>\n",
       "      <th>Total_Expenditure</th>\n",
       "      <th>Diphtheria</th>\n",
       "      <th>Hiv_Aids</th>\n",
       "      <th>GDP</th>\n",
       "      <th>Population</th>\n",
       "      <th>Thin_1_19_Years</th>\n",
       "      <th>Thin_5_9_Year</th>\n",
       "      <th>Income_Comp_Resource</th>\n",
       "      <th>Schooling</th>\n",
       "    </tr>\n",
       "  </thead>\n",
       "  <tbody>\n",
       "    <tr>\n",
       "      <th>count</th>\n",
       "      <td>2938.000000</td>\n",
       "      <td>2938.000000</td>\n",
       "      <td>2938.000000</td>\n",
       "      <td>2938.000000</td>\n",
       "      <td>2938.000000</td>\n",
       "      <td>2938.000000</td>\n",
       "      <td>2938.000000</td>\n",
       "      <td>2938.000000</td>\n",
       "      <td>2938.000000</td>\n",
       "      <td>2938.000000</td>\n",
       "      <td>2938.000000</td>\n",
       "      <td>2938.000000</td>\n",
       "      <td>2938.000000</td>\n",
       "      <td>2938.000000</td>\n",
       "      <td>2938.000000</td>\n",
       "      <td>2.938000e+03</td>\n",
       "      <td>2938.000000</td>\n",
       "      <td>2938.000000</td>\n",
       "      <td>2938.000000</td>\n",
       "      <td>2938.000000</td>\n",
       "    </tr>\n",
       "    <tr>\n",
       "      <th>mean</th>\n",
       "      <td>2007.518720</td>\n",
       "      <td>69.234717</td>\n",
       "      <td>164.725664</td>\n",
       "      <td>1.832199</td>\n",
       "      <td>4.546875</td>\n",
       "      <td>738.251295</td>\n",
       "      <td>83.022124</td>\n",
       "      <td>2419.592240</td>\n",
       "      <td>38.381178</td>\n",
       "      <td>42.035739</td>\n",
       "      <td>82.617767</td>\n",
       "      <td>5.924098</td>\n",
       "      <td>82.393125</td>\n",
       "      <td>1.742103</td>\n",
       "      <td>6611.523863</td>\n",
       "      <td>1.023085e+07</td>\n",
       "      <td>4.821886</td>\n",
       "      <td>4.852144</td>\n",
       "      <td>0.630362</td>\n",
       "      <td>12.009837</td>\n",
       "    </tr>\n",
       "    <tr>\n",
       "      <th>std</th>\n",
       "      <td>4.613841</td>\n",
       "      <td>9.509115</td>\n",
       "      <td>124.086215</td>\n",
       "      <td>1.330130</td>\n",
       "      <td>3.921946</td>\n",
       "      <td>1987.914858</td>\n",
       "      <td>22.996984</td>\n",
       "      <td>11467.272489</td>\n",
       "      <td>19.935375</td>\n",
       "      <td>160.445548</td>\n",
       "      <td>23.367166</td>\n",
       "      <td>2.400770</td>\n",
       "      <td>23.655562</td>\n",
       "      <td>5.077785</td>\n",
       "      <td>13296.603449</td>\n",
       "      <td>5.402242e+07</td>\n",
       "      <td>4.397621</td>\n",
       "      <td>4.485854</td>\n",
       "      <td>0.205140</td>\n",
       "      <td>3.265139</td>\n",
       "    </tr>\n",
       "    <tr>\n",
       "      <th>min</th>\n",
       "      <td>2000.000000</td>\n",
       "      <td>36.300000</td>\n",
       "      <td>1.000000</td>\n",
       "      <td>0.000000</td>\n",
       "      <td>0.010000</td>\n",
       "      <td>0.000000</td>\n",
       "      <td>1.000000</td>\n",
       "      <td>0.000000</td>\n",
       "      <td>1.000000</td>\n",
       "      <td>0.000000</td>\n",
       "      <td>3.000000</td>\n",
       "      <td>0.370000</td>\n",
       "      <td>2.000000</td>\n",
       "      <td>0.100000</td>\n",
       "      <td>1.681350</td>\n",
       "      <td>3.400000e+01</td>\n",
       "      <td>0.100000</td>\n",
       "      <td>0.100000</td>\n",
       "      <td>0.000000</td>\n",
       "      <td>0.000000</td>\n",
       "    </tr>\n",
       "    <tr>\n",
       "      <th>25%</th>\n",
       "      <td>2004.000000</td>\n",
       "      <td>63.200000</td>\n",
       "      <td>74.000000</td>\n",
       "      <td>0.000000</td>\n",
       "      <td>1.092500</td>\n",
       "      <td>4.685343</td>\n",
       "      <td>82.000000</td>\n",
       "      <td>0.000000</td>\n",
       "      <td>19.400000</td>\n",
       "      <td>0.000000</td>\n",
       "      <td>78.000000</td>\n",
       "      <td>4.370000</td>\n",
       "      <td>78.000000</td>\n",
       "      <td>0.100000</td>\n",
       "      <td>580.486996</td>\n",
       "      <td>4.189172e+05</td>\n",
       "      <td>1.600000</td>\n",
       "      <td>1.600000</td>\n",
       "      <td>0.504250</td>\n",
       "      <td>10.300000</td>\n",
       "    </tr>\n",
       "    <tr>\n",
       "      <th>50%</th>\n",
       "      <td>2008.000000</td>\n",
       "      <td>72.100000</td>\n",
       "      <td>144.000000</td>\n",
       "      <td>3.000000</td>\n",
       "      <td>3.755000</td>\n",
       "      <td>64.912906</td>\n",
       "      <td>92.000000</td>\n",
       "      <td>17.000000</td>\n",
       "      <td>43.500000</td>\n",
       "      <td>4.000000</td>\n",
       "      <td>93.000000</td>\n",
       "      <td>5.755000</td>\n",
       "      <td>93.000000</td>\n",
       "      <td>0.100000</td>\n",
       "      <td>1766.947595</td>\n",
       "      <td>1.386542e+06</td>\n",
       "      <td>3.300000</td>\n",
       "      <td>3.300000</td>\n",
       "      <td>0.677000</td>\n",
       "      <td>12.300000</td>\n",
       "    </tr>\n",
       "    <tr>\n",
       "      <th>75%</th>\n",
       "      <td>2012.000000</td>\n",
       "      <td>75.600000</td>\n",
       "      <td>227.000000</td>\n",
       "      <td>3.000000</td>\n",
       "      <td>7.390000</td>\n",
       "      <td>441.534144</td>\n",
       "      <td>96.000000</td>\n",
       "      <td>360.250000</td>\n",
       "      <td>56.100000</td>\n",
       "      <td>28.000000</td>\n",
       "      <td>97.000000</td>\n",
       "      <td>7.330000</td>\n",
       "      <td>97.000000</td>\n",
       "      <td>0.800000</td>\n",
       "      <td>4779.405190</td>\n",
       "      <td>4.584371e+06</td>\n",
       "      <td>7.100000</td>\n",
       "      <td>7.200000</td>\n",
       "      <td>0.772000</td>\n",
       "      <td>14.100000</td>\n",
       "    </tr>\n",
       "    <tr>\n",
       "      <th>max</th>\n",
       "      <td>2015.000000</td>\n",
       "      <td>89.000000</td>\n",
       "      <td>723.000000</td>\n",
       "      <td>3.000000</td>\n",
       "      <td>17.870000</td>\n",
       "      <td>19479.911610</td>\n",
       "      <td>99.000000</td>\n",
       "      <td>212183.000000</td>\n",
       "      <td>87.300000</td>\n",
       "      <td>2500.000000</td>\n",
       "      <td>99.000000</td>\n",
       "      <td>17.600000</td>\n",
       "      <td>99.000000</td>\n",
       "      <td>50.600000</td>\n",
       "      <td>119172.741800</td>\n",
       "      <td>1.293859e+09</td>\n",
       "      <td>27.700000</td>\n",
       "      <td>28.600000</td>\n",
       "      <td>0.948000</td>\n",
       "      <td>20.700000</td>\n",
       "    </tr>\n",
       "  </tbody>\n",
       "</table>\n",
       "</div>"
      ],
      "text/plain": [
       "              Year  Life_Expectancy  Adult_Mortality  Infant_death  \\\n",
       "count  2938.000000      2938.000000      2938.000000   2938.000000   \n",
       "mean   2007.518720        69.234717       164.725664      1.832199   \n",
       "std       4.613841         9.509115       124.086215      1.330130   \n",
       "min    2000.000000        36.300000         1.000000      0.000000   \n",
       "25%    2004.000000        63.200000        74.000000      0.000000   \n",
       "50%    2008.000000        72.100000       144.000000      3.000000   \n",
       "75%    2012.000000        75.600000       227.000000      3.000000   \n",
       "max    2015.000000        89.000000       723.000000      3.000000   \n",
       "\n",
       "           Alcohol  Percentage_Expenditure  Hepatitis_B        Measles  \\\n",
       "count  2938.000000             2938.000000  2938.000000    2938.000000   \n",
       "mean      4.546875              738.251295    83.022124    2419.592240   \n",
       "std       3.921946             1987.914858    22.996984   11467.272489   \n",
       "min       0.010000                0.000000     1.000000       0.000000   \n",
       "25%       1.092500                4.685343    82.000000       0.000000   \n",
       "50%       3.755000               64.912906    92.000000      17.000000   \n",
       "75%       7.390000              441.534144    96.000000     360.250000   \n",
       "max      17.870000            19479.911610    99.000000  212183.000000   \n",
       "\n",
       "               BMI  Under_Five_Death        Polio  Total_Expenditure  \\\n",
       "count  2938.000000       2938.000000  2938.000000        2938.000000   \n",
       "mean     38.381178         42.035739    82.617767           5.924098   \n",
       "std      19.935375        160.445548    23.367166           2.400770   \n",
       "min       1.000000          0.000000     3.000000           0.370000   \n",
       "25%      19.400000          0.000000    78.000000           4.370000   \n",
       "50%      43.500000          4.000000    93.000000           5.755000   \n",
       "75%      56.100000         28.000000    97.000000           7.330000   \n",
       "max      87.300000       2500.000000    99.000000          17.600000   \n",
       "\n",
       "        Diphtheria     Hiv_Aids            GDP    Population  Thin_1_19_Years  \\\n",
       "count  2938.000000  2938.000000    2938.000000  2.938000e+03      2938.000000   \n",
       "mean     82.393125     1.742103    6611.523863  1.023085e+07         4.821886   \n",
       "std      23.655562     5.077785   13296.603449  5.402242e+07         4.397621   \n",
       "min       2.000000     0.100000       1.681350  3.400000e+01         0.100000   \n",
       "25%      78.000000     0.100000     580.486996  4.189172e+05         1.600000   \n",
       "50%      93.000000     0.100000    1766.947595  1.386542e+06         3.300000   \n",
       "75%      97.000000     0.800000    4779.405190  4.584371e+06         7.100000   \n",
       "max      99.000000    50.600000  119172.741800  1.293859e+09        27.700000   \n",
       "\n",
       "       Thin_5_9_Year  Income_Comp_Resource    Schooling  \n",
       "count    2938.000000           2938.000000  2938.000000  \n",
       "mean        4.852144              0.630362    12.009837  \n",
       "std         4.485854              0.205140     3.265139  \n",
       "min         0.100000              0.000000     0.000000  \n",
       "25%         1.600000              0.504250    10.300000  \n",
       "50%         3.300000              0.677000    12.300000  \n",
       "75%         7.200000              0.772000    14.100000  \n",
       "max        28.600000              0.948000    20.700000  "
      ]
     },
     "execution_count": 41,
     "metadata": {},
     "output_type": "execute_result"
    }
   ],
   "source": [
    "df.describe()"
   ]
  },
  {
   "cell_type": "code",
   "execution_count": 42,
   "metadata": {
    "ExecuteTime": {
     "end_time": "2020-06-05T13:58:37.175776Z",
     "start_time": "2020-06-05T13:58:37.148777Z"
    },
    "colab": {},
    "colab_type": "code",
    "id": "LZHkRPhQbQXx"
   },
   "outputs": [
    {
     "name": "stdout",
     "output_type": "stream",
     "text": [
      "Outliers for Alcohol\n",
      "[16.99 17.31 17.87]\n"
     ]
    }
   ],
   "source": [
    "print(\"Outliers for Alcohol\")\n",
    "Alcohol_indices, Alcohol_values = find_outliers_tukey(df['Alcohol'])\n",
    "print(np.sort(Alcohol_values))"
   ]
  },
  {
   "cell_type": "code",
   "execution_count": 43,
   "metadata": {
    "ExecuteTime": {
     "end_time": "2020-06-05T13:58:37.271775Z",
     "start_time": "2020-06-05T13:58:37.180782Z"
    },
    "colab": {},
    "colab_type": "code",
    "id": "HC6M02cdbSLU"
   },
   "outputs": [
    {
     "name": "stdout",
     "output_type": "stream",
     "text": [
      "Outliers for Percentage Expenditure\n",
      "[ 1099.248837  1105.659031  1109.854619  1109.969508  1111.191325\n",
      "  1116.396502  1117.048134  1117.196097  1121.475547  1122.972967\n",
      "  1127.74347   1128.050886  1132.432517  1133.558003  1137.6237\n",
      "  1140.615754  1142.212403  1147.1114    1150.418063  1154.893473\n",
      "  1158.065259  1162.656768  1168.324095  1185.412346  1187.949491\n",
      "  1192.696619  1197.946328  1199.319976  1209.680547  1212.666327\n",
      "  1214.558167  1230.748231  1259.940376  1275.689625  1275.877569\n",
      "  1281.155944  1299.159757  1299.459306  1307.89002   1311.440423\n",
      "  1317.08348   1340.553699  1346.246697  1349.025282  1356.022164\n",
      "  1380.228095  1389.772683  1395.454965  1398.042623  1403.022211\n",
      "  1406.51194   1413.73543   1423.802386  1435.487755  1446.529217\n",
      "  1455.608186  1475.030397  1486.236406  1487.896562  1491.703605\n",
      "  1493.051277  1500.412635  1504.30004   1504.329462  1521.672751\n",
      "  1529.497771  1542.635979  1552.740429  1553.468944  1555.651986\n",
      "  1559.287158  1562.520827  1578.872339  1581.511914  1586.724172\n",
      "  1617.473418  1626.591186  1641.30981   1657.328352  1678.392773\n",
      "  1694.467075  1700.841534  1701.195787  1705.678619  1707.130633\n",
      "  1712.225506  1717.088711  1731.073528  1731.755747  1758.822757\n",
      "  1802.017593  1807.071336  1810.875316  1842.463782  1851.713262\n",
      "  1855.828806  1859.095621  1871.736563  1873.686852  1884.098811\n",
      "  1888.149904  1895.342792  1899.107385  1902.693048  1904.00231\n",
      "  1904.12469   1913.356642  1934.398154  1958.525877  1968.816817\n",
      "  1983.956937  1991.430372  2009.575605  2017.643131  2019.812779\n",
      "  2044.169761  2047.113102  2048.557422  2051.748615  2052.393076\n",
      "  2078.392748  2084.255535  2094.19096   2124.921517  2143.021083\n",
      "  2146.945741  2156.229842  2159.756205  2160.380199  2163.043414\n",
      "  2183.106986  2198.590865  2205.98595   2211.215778  2211.744178\n",
      "  2218.364226  2247.035692  2260.777642  2263.068326  2263.103797\n",
      "  2267.252192  2283.891796  2284.58215   2331.532804  2352.999591\n",
      "  2356.731479  2377.010299  2380.699796  2422.999774  2425.403891\n",
      "  2429.854745  2442.222054  2443.325028  2443.444275  2480.896965\n",
      "  2503.714258  2528.992935  2538.941033  2555.303869  2568.237059\n",
      "  2578.888314  2598.842827  2639.376955  2655.573684  2698.01817\n",
      "  2700.07305   2724.17807   2775.33544   2785.097712  2785.139364\n",
      "  2792.677582  2813.985285  2845.306444  2883.334911  2884.020194\n",
      "  2892.257132  2943.375396  2944.640134  2957.973963  2972.448675\n",
      "  3001.628237  3054.515582  3064.301144  3082.973535  3099.357319\n",
      "  3108.288623  3119.349824  3187.496219  3189.754439  3192.634413\n",
      "  3192.887363  3205.019918  3256.724028  3283.024864  3343.026219\n",
      "  3404.13099   3410.284431  3427.320332  3451.185079  3455.197053\n",
      "  3505.389434  3519.258515  3554.546434  3557.455507  3582.848308\n",
      "  3601.287457  3632.243121  3652.869332  3661.792922  3663.764502\n",
      "  3665.089703  3682.88717   3688.694288  3689.7273    3715.370095\n",
      "  3749.941617  3759.457226  3779.655273  3787.49456   3793.161624\n",
      "  3794.581463  3829.550928  3830.184587  3862.68271   3869.026302\n",
      "  3895.856308  3979.057728  3998.09987   4003.908598  4049.972347\n",
      "  4057.637383  4064.743869  4238.540035  4255.781693  4264.579203\n",
      "  4270.914882  4279.895512  4348.33531   4409.17067   4460.390006\n",
      "  4472.6114    4506.255963  4508.806185  4509.234803  4540.543752\n",
      "  4572.441963  4582.476081  4687.845565  4793.904924  4801.546125\n",
      "  4816.589613  4831.644796  4873.8188    5047.254058  5048.274426\n",
      "  5063.513104  5067.411418  5068.214488  5092.383814  5160.508378\n",
      "  5163.32918   5170.130703  5219.668802  5228.821581  5243.316638\n",
      "  5250.249188  5291.234786  5316.877456  5439.691769  5451.701225\n",
      "  5484.143308  5486.51208   5513.329924  5579.199083  5596.535203\n",
      "  5689.991931  5793.363644  5809.12199   5834.582046  5842.374765\n",
      "  5889.012536  5926.296654  5948.096777  5992.588029  6005.575763\n",
      "  6012.92584   6041.858981  6115.496624  6147.1323    6164.455402\n",
      "  6187.062017  6191.211908  6333.177967  6356.827282  6369.516139\n",
      "  6386.95437   6407.535954  6415.35735   6478.346135  6502.136974\n",
      "  6577.508136  6599.995239  6616.695125  6646.953935  6664.148708\n",
      "  6739.677606  6746.281299  6761.288966  6799.664423  6818.546407\n",
      "  6853.628494  6948.839868  7002.785925  7163.348923  7172.275229\n",
      "  7191.051507  7313.175418  7423.228774  7453.8644    7584.078579\n",
      "  7593.391622  7613.814999  7620.823456  7627.412444  7641.270645\n",
      "  7777.556353  7877.33656   7878.372355  7946.743581  7971.646361\n",
      "  8040.220444  8053.557638  8105.590882  8246.130437  8254.020763\n",
      "  8272.306757  8285.264655  8329.731655  8342.405764  8344.010392\n",
      "  8350.193523  8433.936814  8506.101443  8547.292357  8649.674911\n",
      "  8875.786493  9126.931178  9495.540576  9498.729062  9528.230574\n",
      "  9689.732784  9703.068121  9733.228019  9748.636237  9765.616994\n",
      "  9797.552661 10019.0763   10055.34981  10111.38928  10251.10872\n",
      " 10261.763    10468.76292  10598.08187  10631.20379  10761.18209\n",
      " 10769.36305  10873.40554  10947.02327  10986.26527  11477.6671\n",
      " 11714.99858  11734.85381  11792.53465  11892.33429  12042.97366\n",
      " 12372.05188  12829.25408  14714.82588  14829.41215  15268.06445\n",
      " 15345.4907   15515.75234  16255.16198  17028.52798  18379.32974\n",
      " 18822.86732  18961.3486   19099.04506  19479.91161 ]\n"
     ]
    }
   ],
   "source": [
    "print(\"Outliers for Percentage Expenditure\")\n",
    "Percentage_Expenditure_indices, Percentage_Expenditure_values = find_outliers_tukey(df['Percentage_Expenditure'])\n",
    "print(np.sort(Percentage_Expenditure_values))"
   ]
  },
  {
   "cell_type": "code",
   "execution_count": 44,
   "metadata": {
    "ExecuteTime": {
     "end_time": "2020-06-05T13:58:37.335775Z",
     "start_time": "2020-06-05T13:58:37.274779Z"
    },
    "colab": {},
    "colab_type": "code",
    "id": "ZCCR1709bVcv"
   },
   "outputs": [],
   "source": [
    "##Replacing the outlier with Median for Percentage Expenditure\n",
    "df[\"Percentage_Expenditure\"] = np.where(df[\"Percentage_Expenditure\"] >100,64.8845366125,df['Percentage_Expenditure'])"
   ]
  },
  {
   "cell_type": "code",
   "execution_count": 45,
   "metadata": {
    "ExecuteTime": {
     "end_time": "2020-06-05T13:58:37.431781Z",
     "start_time": "2020-06-05T13:58:37.338779Z"
    },
    "colab": {},
    "colab_type": "code",
    "id": "7z7s1Bm8bW2s"
   },
   "outputs": [
    {
     "data": {
      "text/plain": [
       "64.87035189625"
      ]
     },
     "execution_count": 45,
     "metadata": {},
     "output_type": "execute_result"
    }
   ],
   "source": [
    "df.Percentage_Expenditure.median()"
   ]
  },
  {
   "cell_type": "code",
   "execution_count": 46,
   "metadata": {
    "ExecuteTime": {
     "end_time": "2020-06-05T13:58:37.638781Z",
     "start_time": "2020-06-05T13:58:37.435778Z"
    },
    "colab": {},
    "colab_type": "code",
    "id": "TEaYknJebYt_"
   },
   "outputs": [
    {
     "data": {
      "text/html": [
       "<div>\n",
       "<style scoped>\n",
       "    .dataframe tbody tr th:only-of-type {\n",
       "        vertical-align: middle;\n",
       "    }\n",
       "\n",
       "    .dataframe tbody tr th {\n",
       "        vertical-align: top;\n",
       "    }\n",
       "\n",
       "    .dataframe thead th {\n",
       "        text-align: right;\n",
       "    }\n",
       "</style>\n",
       "<table border=\"1\" class=\"dataframe\">\n",
       "  <thead>\n",
       "    <tr style=\"text-align: right;\">\n",
       "      <th></th>\n",
       "      <th>Year</th>\n",
       "      <th>Life_Expectancy</th>\n",
       "      <th>Adult_Mortality</th>\n",
       "      <th>Infant_death</th>\n",
       "      <th>Alcohol</th>\n",
       "      <th>Percentage_Expenditure</th>\n",
       "      <th>Hepatitis_B</th>\n",
       "      <th>Measles</th>\n",
       "      <th>BMI</th>\n",
       "      <th>Under_Five_Death</th>\n",
       "      <th>Polio</th>\n",
       "      <th>Total_Expenditure</th>\n",
       "      <th>Diphtheria</th>\n",
       "      <th>Hiv_Aids</th>\n",
       "      <th>GDP</th>\n",
       "      <th>Population</th>\n",
       "      <th>Thin_1_19_Years</th>\n",
       "      <th>Thin_5_9_Year</th>\n",
       "      <th>Income_Comp_Resource</th>\n",
       "      <th>Schooling</th>\n",
       "    </tr>\n",
       "  </thead>\n",
       "  <tbody>\n",
       "    <tr>\n",
       "      <th>count</th>\n",
       "      <td>2938.000000</td>\n",
       "      <td>2938.000000</td>\n",
       "      <td>2938.000000</td>\n",
       "      <td>2938.000000</td>\n",
       "      <td>2938.000000</td>\n",
       "      <td>2938.000000</td>\n",
       "      <td>2938.000000</td>\n",
       "      <td>2938.000000</td>\n",
       "      <td>2938.000000</td>\n",
       "      <td>2938.000000</td>\n",
       "      <td>2938.000000</td>\n",
       "      <td>2938.000000</td>\n",
       "      <td>2938.000000</td>\n",
       "      <td>2938.000000</td>\n",
       "      <td>2938.000000</td>\n",
       "      <td>2.938000e+03</td>\n",
       "      <td>2938.000000</td>\n",
       "      <td>2938.000000</td>\n",
       "      <td>2938.000000</td>\n",
       "      <td>2938.000000</td>\n",
       "    </tr>\n",
       "    <tr>\n",
       "      <th>mean</th>\n",
       "      <td>2007.518720</td>\n",
       "      <td>69.234717</td>\n",
       "      <td>164.725664</td>\n",
       "      <td>1.832199</td>\n",
       "      <td>4.546875</td>\n",
       "      <td>40.888211</td>\n",
       "      <td>83.022124</td>\n",
       "      <td>2419.592240</td>\n",
       "      <td>38.381178</td>\n",
       "      <td>42.035739</td>\n",
       "      <td>82.617767</td>\n",
       "      <td>5.924098</td>\n",
       "      <td>82.393125</td>\n",
       "      <td>1.742103</td>\n",
       "      <td>6611.523863</td>\n",
       "      <td>1.023085e+07</td>\n",
       "      <td>4.821886</td>\n",
       "      <td>4.852144</td>\n",
       "      <td>0.630362</td>\n",
       "      <td>12.009837</td>\n",
       "    </tr>\n",
       "    <tr>\n",
       "      <th>std</th>\n",
       "      <td>4.613841</td>\n",
       "      <td>9.509115</td>\n",
       "      <td>124.086215</td>\n",
       "      <td>1.330130</td>\n",
       "      <td>3.921946</td>\n",
       "      <td>29.511961</td>\n",
       "      <td>22.996984</td>\n",
       "      <td>11467.272489</td>\n",
       "      <td>19.935375</td>\n",
       "      <td>160.445548</td>\n",
       "      <td>23.367166</td>\n",
       "      <td>2.400770</td>\n",
       "      <td>23.655562</td>\n",
       "      <td>5.077785</td>\n",
       "      <td>13296.603449</td>\n",
       "      <td>5.402242e+07</td>\n",
       "      <td>4.397621</td>\n",
       "      <td>4.485854</td>\n",
       "      <td>0.205140</td>\n",
       "      <td>3.265139</td>\n",
       "    </tr>\n",
       "    <tr>\n",
       "      <th>min</th>\n",
       "      <td>2000.000000</td>\n",
       "      <td>36.300000</td>\n",
       "      <td>1.000000</td>\n",
       "      <td>0.000000</td>\n",
       "      <td>0.010000</td>\n",
       "      <td>0.000000</td>\n",
       "      <td>1.000000</td>\n",
       "      <td>0.000000</td>\n",
       "      <td>1.000000</td>\n",
       "      <td>0.000000</td>\n",
       "      <td>3.000000</td>\n",
       "      <td>0.370000</td>\n",
       "      <td>2.000000</td>\n",
       "      <td>0.100000</td>\n",
       "      <td>1.681350</td>\n",
       "      <td>3.400000e+01</td>\n",
       "      <td>0.100000</td>\n",
       "      <td>0.100000</td>\n",
       "      <td>0.000000</td>\n",
       "      <td>0.000000</td>\n",
       "    </tr>\n",
       "    <tr>\n",
       "      <th>25%</th>\n",
       "      <td>2004.000000</td>\n",
       "      <td>63.200000</td>\n",
       "      <td>74.000000</td>\n",
       "      <td>0.000000</td>\n",
       "      <td>1.092500</td>\n",
       "      <td>4.685343</td>\n",
       "      <td>82.000000</td>\n",
       "      <td>0.000000</td>\n",
       "      <td>19.400000</td>\n",
       "      <td>0.000000</td>\n",
       "      <td>78.000000</td>\n",
       "      <td>4.370000</td>\n",
       "      <td>78.000000</td>\n",
       "      <td>0.100000</td>\n",
       "      <td>580.486996</td>\n",
       "      <td>4.189172e+05</td>\n",
       "      <td>1.600000</td>\n",
       "      <td>1.600000</td>\n",
       "      <td>0.504250</td>\n",
       "      <td>10.300000</td>\n",
       "    </tr>\n",
       "    <tr>\n",
       "      <th>50%</th>\n",
       "      <td>2008.000000</td>\n",
       "      <td>72.100000</td>\n",
       "      <td>144.000000</td>\n",
       "      <td>3.000000</td>\n",
       "      <td>3.755000</td>\n",
       "      <td>64.870352</td>\n",
       "      <td>92.000000</td>\n",
       "      <td>17.000000</td>\n",
       "      <td>43.500000</td>\n",
       "      <td>4.000000</td>\n",
       "      <td>93.000000</td>\n",
       "      <td>5.755000</td>\n",
       "      <td>93.000000</td>\n",
       "      <td>0.100000</td>\n",
       "      <td>1766.947595</td>\n",
       "      <td>1.386542e+06</td>\n",
       "      <td>3.300000</td>\n",
       "      <td>3.300000</td>\n",
       "      <td>0.677000</td>\n",
       "      <td>12.300000</td>\n",
       "    </tr>\n",
       "    <tr>\n",
       "      <th>75%</th>\n",
       "      <td>2012.000000</td>\n",
       "      <td>75.600000</td>\n",
       "      <td>227.000000</td>\n",
       "      <td>3.000000</td>\n",
       "      <td>7.390000</td>\n",
       "      <td>64.884537</td>\n",
       "      <td>96.000000</td>\n",
       "      <td>360.250000</td>\n",
       "      <td>56.100000</td>\n",
       "      <td>28.000000</td>\n",
       "      <td>97.000000</td>\n",
       "      <td>7.330000</td>\n",
       "      <td>97.000000</td>\n",
       "      <td>0.800000</td>\n",
       "      <td>4779.405190</td>\n",
       "      <td>4.584371e+06</td>\n",
       "      <td>7.100000</td>\n",
       "      <td>7.200000</td>\n",
       "      <td>0.772000</td>\n",
       "      <td>14.100000</td>\n",
       "    </tr>\n",
       "    <tr>\n",
       "      <th>max</th>\n",
       "      <td>2015.000000</td>\n",
       "      <td>89.000000</td>\n",
       "      <td>723.000000</td>\n",
       "      <td>3.000000</td>\n",
       "      <td>17.870000</td>\n",
       "      <td>99.080954</td>\n",
       "      <td>99.000000</td>\n",
       "      <td>212183.000000</td>\n",
       "      <td>87.300000</td>\n",
       "      <td>2500.000000</td>\n",
       "      <td>99.000000</td>\n",
       "      <td>17.600000</td>\n",
       "      <td>99.000000</td>\n",
       "      <td>50.600000</td>\n",
       "      <td>119172.741800</td>\n",
       "      <td>1.293859e+09</td>\n",
       "      <td>27.700000</td>\n",
       "      <td>28.600000</td>\n",
       "      <td>0.948000</td>\n",
       "      <td>20.700000</td>\n",
       "    </tr>\n",
       "  </tbody>\n",
       "</table>\n",
       "</div>"
      ],
      "text/plain": [
       "              Year  Life_Expectancy  Adult_Mortality  Infant_death  \\\n",
       "count  2938.000000      2938.000000      2938.000000   2938.000000   \n",
       "mean   2007.518720        69.234717       164.725664      1.832199   \n",
       "std       4.613841         9.509115       124.086215      1.330130   \n",
       "min    2000.000000        36.300000         1.000000      0.000000   \n",
       "25%    2004.000000        63.200000        74.000000      0.000000   \n",
       "50%    2008.000000        72.100000       144.000000      3.000000   \n",
       "75%    2012.000000        75.600000       227.000000      3.000000   \n",
       "max    2015.000000        89.000000       723.000000      3.000000   \n",
       "\n",
       "           Alcohol  Percentage_Expenditure  Hepatitis_B        Measles  \\\n",
       "count  2938.000000             2938.000000  2938.000000    2938.000000   \n",
       "mean      4.546875               40.888211    83.022124    2419.592240   \n",
       "std       3.921946               29.511961    22.996984   11467.272489   \n",
       "min       0.010000                0.000000     1.000000       0.000000   \n",
       "25%       1.092500                4.685343    82.000000       0.000000   \n",
       "50%       3.755000               64.870352    92.000000      17.000000   \n",
       "75%       7.390000               64.884537    96.000000     360.250000   \n",
       "max      17.870000               99.080954    99.000000  212183.000000   \n",
       "\n",
       "               BMI  Under_Five_Death        Polio  Total_Expenditure  \\\n",
       "count  2938.000000       2938.000000  2938.000000        2938.000000   \n",
       "mean     38.381178         42.035739    82.617767           5.924098   \n",
       "std      19.935375        160.445548    23.367166           2.400770   \n",
       "min       1.000000          0.000000     3.000000           0.370000   \n",
       "25%      19.400000          0.000000    78.000000           4.370000   \n",
       "50%      43.500000          4.000000    93.000000           5.755000   \n",
       "75%      56.100000         28.000000    97.000000           7.330000   \n",
       "max      87.300000       2500.000000    99.000000          17.600000   \n",
       "\n",
       "        Diphtheria     Hiv_Aids            GDP    Population  Thin_1_19_Years  \\\n",
       "count  2938.000000  2938.000000    2938.000000  2.938000e+03      2938.000000   \n",
       "mean     82.393125     1.742103    6611.523863  1.023085e+07         4.821886   \n",
       "std      23.655562     5.077785   13296.603449  5.402242e+07         4.397621   \n",
       "min       2.000000     0.100000       1.681350  3.400000e+01         0.100000   \n",
       "25%      78.000000     0.100000     580.486996  4.189172e+05         1.600000   \n",
       "50%      93.000000     0.100000    1766.947595  1.386542e+06         3.300000   \n",
       "75%      97.000000     0.800000    4779.405190  4.584371e+06         7.100000   \n",
       "max      99.000000    50.600000  119172.741800  1.293859e+09        27.700000   \n",
       "\n",
       "       Thin_5_9_Year  Income_Comp_Resource    Schooling  \n",
       "count    2938.000000           2938.000000  2938.000000  \n",
       "mean        4.852144              0.630362    12.009837  \n",
       "std         4.485854              0.205140     3.265139  \n",
       "min         0.100000              0.000000     0.000000  \n",
       "25%         1.600000              0.504250    10.300000  \n",
       "50%         3.300000              0.677000    12.300000  \n",
       "75%         7.200000              0.772000    14.100000  \n",
       "max        28.600000              0.948000    20.700000  "
      ]
     },
     "execution_count": 46,
     "metadata": {},
     "output_type": "execute_result"
    }
   ],
   "source": [
    "df.describe()"
   ]
  },
  {
   "cell_type": "code",
   "execution_count": 47,
   "metadata": {
    "ExecuteTime": {
     "end_time": "2020-06-05T13:58:37.670784Z",
     "start_time": "2020-06-05T13:58:37.641784Z"
    },
    "colab": {},
    "colab_type": "code",
    "id": "EFuLM7W4baI1"
   },
   "outputs": [
    {
     "name": "stdout",
     "output_type": "stream",
     "text": [
      "Outliers for Hepatitis B\n",
      "[ 1.  2.  2.  2.  2.  4.  4.  4.  4.  5.  5.  5.  5.  5.  5.  5.  5.  5.\n",
      "  6.  6.  6.  6.  6.  6.  6.  6.  6.  6.  6.  6.  6.  6.  6.  6.  6.  7.\n",
      "  7.  7.  7.  7.  7.  7.  7.  7.  7.  7.  7.  7.  7.  7.  7.  7.  7.  7.\n",
      "  7.  8.  8.  8.  8.  8.  8.  8.  8.  8.  8.  8.  8.  8.  8.  8.  8.  8.\n",
      "  8.  8.  8.  8.  8.  8.  8.  8.  8.  8.  8.  8.  8.  8.  8.  8.  8.  8.\n",
      "  8.  8.  8.  8.  9.  9.  9.  9.  9.  9.  9.  9.  9.  9.  9.  9.  9.  9.\n",
      "  9.  9.  9.  9.  9.  9.  9.  9.  9.  9.  9.  9.  9.  9.  9.  9.  9.  9.\n",
      "  9.  9.  9.  9.  9.  9.  9.  9.  9.  9.  9.  9.  9.  9.  9.  9.  9.  9.\n",
      "  9.  9.  9.  9.  9.  9.  9.  9.  9.  9.  9.  9.  9.  9.  9. 11. 12. 14.\n",
      " 14. 14. 14. 14. 14. 14. 15. 16. 17. 17. 18. 18. 19. 21. 21. 22. 22. 22.\n",
      " 23. 24. 24. 25. 25. 26. 27. 27. 27. 28. 28. 28. 28. 28. 29. 29. 29. 31.\n",
      " 31. 31. 32. 33. 33. 35. 35. 35. 36. 36. 36. 37. 37. 38. 38. 39. 39. 39.\n",
      " 39. 39. 41. 41. 41. 41. 42. 42. 42. 42. 42. 42. 42. 42. 42. 42. 42. 43.\n",
      " 43. 43. 43. 43. 44. 44. 44. 44. 44. 45. 45. 45. 45. 46. 46. 46. 46. 46.\n",
      " 46. 46. 47. 47. 47. 47. 47. 47. 47. 47. 48. 48. 48. 48. 48. 48. 49. 49.\n",
      " 49. 49. 49. 49. 51. 51. 51. 51. 51. 51. 52. 52. 52. 52. 52. 53. 53. 53.\n",
      " 53. 54. 54. 54. 54. 55. 55. 55. 55. 55. 56. 56. 56. 56. 56. 56. 56. 57.\n",
      " 57. 57. 57. 57. 57. 57. 58. 58. 58. 58. 59. 59. 59. 59. 59. 59.]\n"
     ]
    }
   ],
   "source": [
    "print(\"Outliers for Hepatitis B\")\n",
    "Hepatitis_B_indices, Hepatitis_B_values = find_outliers_tukey(df['Hepatitis_B'])\n",
    "print(np.sort(Hepatitis_B_values))"
   ]
  },
  {
   "cell_type": "code",
   "execution_count": 48,
   "metadata": {
    "ExecuteTime": {
     "end_time": "2020-06-05T13:58:37.750777Z",
     "start_time": "2020-06-05T13:58:37.673783Z"
    },
    "colab": {},
    "colab_type": "code",
    "id": "hL1eqEg1bdtk"
   },
   "outputs": [
    {
     "name": "stdout",
     "output_type": "stream",
     "text": [
      "Outliers for Measles\n",
      "[   908    912    917    925    926    927    928    931    938    944\n",
      "    953    956    958    982    992    998    999   1005   1006   1010\n",
      "   1014   1015   1016   1019   1022   1028   1043   1060   1064   1081\n",
      "   1088   1089   1112   1116   1123   1129   1141   1142   1147   1149\n",
      "   1154   1156   1158   1159   1164   1166   1176   1190   1190   1196\n",
      "   1204   1205   1208   1212   1217   1218   1222   1224   1233   1238\n",
      "   1250   1256   1272   1275   1278   1279   1282   1292   1296   1313\n",
      "   1314   1317   1317   1318   1319   1329   1333   1339   1356   1359\n",
      "   1361   1370   1374   1379   1385   1395   1398   1407   1415   1419\n",
      "   1433   1445   1446   1448   1449   1451   1455   1457   1459   1461\n",
      "   1469   1483   1491   1516   1519   1536   1541   1568   1569   1574\n",
      "   1578   1588   1594   1599   1599   1601   1607   1613   1617   1622\n",
      "   1660   1668   1673   1677   1678   1678   1684   1686   1719   1744\n",
      "   1761   1771   1783   1809   1810   1833   1847   1861   1865   1868\n",
      "   1880   1919   1939   1952   1978   1978   1986   1989   1990   2022\n",
      "   2027   2046   2064   2070   2072   2089   2092   2095   2107   2123\n",
      "   2144   2150   2151   2152   2175   2177   2183   2198   2200   2204\n",
      "   2219   2248   2249   2281   2297   2299   2302   2307   2321   2339\n",
      "   2359   2362   2366   2392   2392   2395   2444   2464   2486   2488\n",
      "   2497   2511   2519   2583   2613   2632   2633   2641   2660   2672\n",
      "   2676   2686   2724   2738   2771   2787   2788   2801   2807   2809\n",
      "   2813   2837   2838   2861   2875   2920   2924   2939   2946   2981\n",
      "   3000   3013   3025   3138   3156   3173   3188   3196   3207   3255\n",
      "   3289   3291   3312   3332   3344   3362   3413   3466   3484   3511\n",
      "   3524   3526   3526   3546   3550   3571   3575   3578   3585   3588\n",
      "   3611   3712   3761   3776   3802   3825   3849   3863   3890   3893\n",
      "   3903   3965   4023   4067   4074   4076   4088   4165   4174   4189\n",
      "   4211   4235   4244   4248   4321   4347   4353   4362   4381   4386\n",
      "   4414   4448   4458   4464   4519   4529   4648   4657   4711   4740\n",
      "   4770   4779   4800   4929   5020   5023   5039   5043   5048   5098\n",
      "   5129   5131   5185   5189   5197   5253   5407   5432   5494   5616\n",
      "   5625   5729   5729   5736   5790   5839   5844   5857   5859   5862\n",
      "   5882   5977   6000   6024   6071   6074   6183   6187   6192   6200\n",
      "   6285   6368   6399   6447   6532   6538   6582   6749   6755   6847\n",
      "   6855   7003   7085   7120   7135   7155   7277   7319   7360   7362\n",
      "   7368   7375   7405   7408   7450   7497   7587   7641   7693   7726\n",
      "   7790   7823   7872   7878   8046   8072   8079   8257   8282   8286\n",
      "   8419   8491   8523   8523   8536   8650   8749   8752   8762   8927\n",
      "   9046   9081   9357   9385   9396   9397   9554   9559   9562   9582\n",
      "   9696   9743   9943   9960   9983  10000  10229  10315  10324  10511\n",
      "  10677  10795  10841  10849  10982  11015  11294  11304  11644  11699\n",
      "  11847  11874  11945  12008  12058  12074  12237  12289  12423  12461\n",
      "  12499  12598  12708  12739  12746  12943  13234  13344  13476  13822\n",
      "  14492  14629  14649  14949  15033  15099  15369  15374  15489  15754\n",
      "  15801  15853  16118  16244  16512  16527  16970  16997  17298  17620\n",
      "  17745  17779  18184  18363  18668  18843  18869  19456  20359  20422\n",
      "  20818  21002  21319  21893  21956  22004  22497  22552  23060  23068\n",
      "  23934  24457  24789  24908  25036  25934  26883  28898  29171  29429\n",
      "  30328  30466  30509  30930  31458  31521  31584  32647  33634  33711\n",
      "  33812  35256  35558  36711  38159  38835  40044  41144  42007  42361\n",
      "  42554  42724  44258  44934  47147  48543  49871  51780  52461  52628\n",
      "  52852  54118  54190  55443  55577  56188  58341  58848  61208  62233\n",
      "  63057  64185  70549  71093  71879  72029  79563  80123  88381  88962\n",
      "  90387  99602 109023 110927 118712 124219 131441 133802 141258 168107\n",
      " 182485 212183]\n"
     ]
    }
   ],
   "source": [
    "print(\"Outliers for Measles\")\n",
    "Measles_indices, Measles_values = find_outliers_tukey(df['Measles'])\n",
    "print(np.sort(Measles_values))"
   ]
  },
  {
   "cell_type": "code",
   "execution_count": 49,
   "metadata": {
    "ExecuteTime": {
     "end_time": "2020-06-05T13:58:37.829779Z",
     "start_time": "2020-06-05T13:58:37.753782Z"
    },
    "colab": {},
    "colab_type": "code",
    "id": "OkQZgMA7beNP"
   },
   "outputs": [],
   "source": [
    "##Replacing the outlier with Median for Percentage Expenditure\n",
    "df[\"Measles\"] = np.where(df[\"Measles\"] >50,17,df['Measles'])"
   ]
  },
  {
   "cell_type": "code",
   "execution_count": 50,
   "metadata": {
    "ExecuteTime": {
     "end_time": "2020-06-05T13:58:37.909787Z",
     "start_time": "2020-06-05T13:58:37.832783Z"
    },
    "colab": {},
    "colab_type": "code",
    "id": "a0WrJUiBbhV9"
   },
   "outputs": [
    {
     "data": {
      "text/plain": [
       "17.0"
      ]
     },
     "execution_count": 50,
     "metadata": {},
     "output_type": "execute_result"
    }
   ],
   "source": [
    "df.Measles.median()"
   ]
  },
  {
   "cell_type": "code",
   "execution_count": 51,
   "metadata": {
    "ExecuteTime": {
     "end_time": "2020-06-05T13:58:38.133779Z",
     "start_time": "2020-06-05T13:58:37.915779Z"
    },
    "colab": {},
    "colab_type": "code",
    "id": "qL1vZIZLbiuf"
   },
   "outputs": [
    {
     "data": {
      "text/html": [
       "<div>\n",
       "<style scoped>\n",
       "    .dataframe tbody tr th:only-of-type {\n",
       "        vertical-align: middle;\n",
       "    }\n",
       "\n",
       "    .dataframe tbody tr th {\n",
       "        vertical-align: top;\n",
       "    }\n",
       "\n",
       "    .dataframe thead th {\n",
       "        text-align: right;\n",
       "    }\n",
       "</style>\n",
       "<table border=\"1\" class=\"dataframe\">\n",
       "  <thead>\n",
       "    <tr style=\"text-align: right;\">\n",
       "      <th></th>\n",
       "      <th>Year</th>\n",
       "      <th>Life_Expectancy</th>\n",
       "      <th>Adult_Mortality</th>\n",
       "      <th>Infant_death</th>\n",
       "      <th>Alcohol</th>\n",
       "      <th>Percentage_Expenditure</th>\n",
       "      <th>Hepatitis_B</th>\n",
       "      <th>Measles</th>\n",
       "      <th>BMI</th>\n",
       "      <th>Under_Five_Death</th>\n",
       "      <th>Polio</th>\n",
       "      <th>Total_Expenditure</th>\n",
       "      <th>Diphtheria</th>\n",
       "      <th>Hiv_Aids</th>\n",
       "      <th>GDP</th>\n",
       "      <th>Population</th>\n",
       "      <th>Thin_1_19_Years</th>\n",
       "      <th>Thin_5_9_Year</th>\n",
       "      <th>Income_Comp_Resource</th>\n",
       "      <th>Schooling</th>\n",
       "    </tr>\n",
       "  </thead>\n",
       "  <tbody>\n",
       "    <tr>\n",
       "      <th>count</th>\n",
       "      <td>2938.000000</td>\n",
       "      <td>2938.000000</td>\n",
       "      <td>2938.000000</td>\n",
       "      <td>2938.000000</td>\n",
       "      <td>2938.000000</td>\n",
       "      <td>2938.000000</td>\n",
       "      <td>2938.000000</td>\n",
       "      <td>2938.000000</td>\n",
       "      <td>2938.000000</td>\n",
       "      <td>2938.000000</td>\n",
       "      <td>2938.000000</td>\n",
       "      <td>2938.000000</td>\n",
       "      <td>2938.000000</td>\n",
       "      <td>2938.000000</td>\n",
       "      <td>2938.000000</td>\n",
       "      <td>2.938000e+03</td>\n",
       "      <td>2938.000000</td>\n",
       "      <td>2938.000000</td>\n",
       "      <td>2938.000000</td>\n",
       "      <td>2938.000000</td>\n",
       "    </tr>\n",
       "    <tr>\n",
       "      <th>mean</th>\n",
       "      <td>2007.518720</td>\n",
       "      <td>69.234717</td>\n",
       "      <td>164.725664</td>\n",
       "      <td>1.832199</td>\n",
       "      <td>4.546875</td>\n",
       "      <td>40.888211</td>\n",
       "      <td>83.022124</td>\n",
       "      <td>10.754595</td>\n",
       "      <td>38.381178</td>\n",
       "      <td>42.035739</td>\n",
       "      <td>82.617767</td>\n",
       "      <td>5.924098</td>\n",
       "      <td>82.393125</td>\n",
       "      <td>1.742103</td>\n",
       "      <td>6611.523863</td>\n",
       "      <td>1.023085e+07</td>\n",
       "      <td>4.821886</td>\n",
       "      <td>4.852144</td>\n",
       "      <td>0.630362</td>\n",
       "      <td>12.009837</td>\n",
       "    </tr>\n",
       "    <tr>\n",
       "      <th>std</th>\n",
       "      <td>4.613841</td>\n",
       "      <td>9.509115</td>\n",
       "      <td>124.086215</td>\n",
       "      <td>1.330130</td>\n",
       "      <td>3.921946</td>\n",
       "      <td>29.511961</td>\n",
       "      <td>22.996984</td>\n",
       "      <td>10.477241</td>\n",
       "      <td>19.935375</td>\n",
       "      <td>160.445548</td>\n",
       "      <td>23.367166</td>\n",
       "      <td>2.400770</td>\n",
       "      <td>23.655562</td>\n",
       "      <td>5.077785</td>\n",
       "      <td>13296.603449</td>\n",
       "      <td>5.402242e+07</td>\n",
       "      <td>4.397621</td>\n",
       "      <td>4.485854</td>\n",
       "      <td>0.205140</td>\n",
       "      <td>3.265139</td>\n",
       "    </tr>\n",
       "    <tr>\n",
       "      <th>min</th>\n",
       "      <td>2000.000000</td>\n",
       "      <td>36.300000</td>\n",
       "      <td>1.000000</td>\n",
       "      <td>0.000000</td>\n",
       "      <td>0.010000</td>\n",
       "      <td>0.000000</td>\n",
       "      <td>1.000000</td>\n",
       "      <td>0.000000</td>\n",
       "      <td>1.000000</td>\n",
       "      <td>0.000000</td>\n",
       "      <td>3.000000</td>\n",
       "      <td>0.370000</td>\n",
       "      <td>2.000000</td>\n",
       "      <td>0.100000</td>\n",
       "      <td>1.681350</td>\n",
       "      <td>3.400000e+01</td>\n",
       "      <td>0.100000</td>\n",
       "      <td>0.100000</td>\n",
       "      <td>0.000000</td>\n",
       "      <td>0.000000</td>\n",
       "    </tr>\n",
       "    <tr>\n",
       "      <th>25%</th>\n",
       "      <td>2004.000000</td>\n",
       "      <td>63.200000</td>\n",
       "      <td>74.000000</td>\n",
       "      <td>0.000000</td>\n",
       "      <td>1.092500</td>\n",
       "      <td>4.685343</td>\n",
       "      <td>82.000000</td>\n",
       "      <td>0.000000</td>\n",
       "      <td>19.400000</td>\n",
       "      <td>0.000000</td>\n",
       "      <td>78.000000</td>\n",
       "      <td>4.370000</td>\n",
       "      <td>78.000000</td>\n",
       "      <td>0.100000</td>\n",
       "      <td>580.486996</td>\n",
       "      <td>4.189172e+05</td>\n",
       "      <td>1.600000</td>\n",
       "      <td>1.600000</td>\n",
       "      <td>0.504250</td>\n",
       "      <td>10.300000</td>\n",
       "    </tr>\n",
       "    <tr>\n",
       "      <th>50%</th>\n",
       "      <td>2008.000000</td>\n",
       "      <td>72.100000</td>\n",
       "      <td>144.000000</td>\n",
       "      <td>3.000000</td>\n",
       "      <td>3.755000</td>\n",
       "      <td>64.870352</td>\n",
       "      <td>92.000000</td>\n",
       "      <td>17.000000</td>\n",
       "      <td>43.500000</td>\n",
       "      <td>4.000000</td>\n",
       "      <td>93.000000</td>\n",
       "      <td>5.755000</td>\n",
       "      <td>93.000000</td>\n",
       "      <td>0.100000</td>\n",
       "      <td>1766.947595</td>\n",
       "      <td>1.386542e+06</td>\n",
       "      <td>3.300000</td>\n",
       "      <td>3.300000</td>\n",
       "      <td>0.677000</td>\n",
       "      <td>12.300000</td>\n",
       "    </tr>\n",
       "    <tr>\n",
       "      <th>75%</th>\n",
       "      <td>2012.000000</td>\n",
       "      <td>75.600000</td>\n",
       "      <td>227.000000</td>\n",
       "      <td>3.000000</td>\n",
       "      <td>7.390000</td>\n",
       "      <td>64.884537</td>\n",
       "      <td>96.000000</td>\n",
       "      <td>17.000000</td>\n",
       "      <td>56.100000</td>\n",
       "      <td>28.000000</td>\n",
       "      <td>97.000000</td>\n",
       "      <td>7.330000</td>\n",
       "      <td>97.000000</td>\n",
       "      <td>0.800000</td>\n",
       "      <td>4779.405190</td>\n",
       "      <td>4.584371e+06</td>\n",
       "      <td>7.100000</td>\n",
       "      <td>7.200000</td>\n",
       "      <td>0.772000</td>\n",
       "      <td>14.100000</td>\n",
       "    </tr>\n",
       "    <tr>\n",
       "      <th>max</th>\n",
       "      <td>2015.000000</td>\n",
       "      <td>89.000000</td>\n",
       "      <td>723.000000</td>\n",
       "      <td>3.000000</td>\n",
       "      <td>17.870000</td>\n",
       "      <td>99.080954</td>\n",
       "      <td>99.000000</td>\n",
       "      <td>50.000000</td>\n",
       "      <td>87.300000</td>\n",
       "      <td>2500.000000</td>\n",
       "      <td>99.000000</td>\n",
       "      <td>17.600000</td>\n",
       "      <td>99.000000</td>\n",
       "      <td>50.600000</td>\n",
       "      <td>119172.741800</td>\n",
       "      <td>1.293859e+09</td>\n",
       "      <td>27.700000</td>\n",
       "      <td>28.600000</td>\n",
       "      <td>0.948000</td>\n",
       "      <td>20.700000</td>\n",
       "    </tr>\n",
       "  </tbody>\n",
       "</table>\n",
       "</div>"
      ],
      "text/plain": [
       "              Year  Life_Expectancy  Adult_Mortality  Infant_death  \\\n",
       "count  2938.000000      2938.000000      2938.000000   2938.000000   \n",
       "mean   2007.518720        69.234717       164.725664      1.832199   \n",
       "std       4.613841         9.509115       124.086215      1.330130   \n",
       "min    2000.000000        36.300000         1.000000      0.000000   \n",
       "25%    2004.000000        63.200000        74.000000      0.000000   \n",
       "50%    2008.000000        72.100000       144.000000      3.000000   \n",
       "75%    2012.000000        75.600000       227.000000      3.000000   \n",
       "max    2015.000000        89.000000       723.000000      3.000000   \n",
       "\n",
       "           Alcohol  Percentage_Expenditure  Hepatitis_B      Measles  \\\n",
       "count  2938.000000             2938.000000  2938.000000  2938.000000   \n",
       "mean      4.546875               40.888211    83.022124    10.754595   \n",
       "std       3.921946               29.511961    22.996984    10.477241   \n",
       "min       0.010000                0.000000     1.000000     0.000000   \n",
       "25%       1.092500                4.685343    82.000000     0.000000   \n",
       "50%       3.755000               64.870352    92.000000    17.000000   \n",
       "75%       7.390000               64.884537    96.000000    17.000000   \n",
       "max      17.870000               99.080954    99.000000    50.000000   \n",
       "\n",
       "               BMI  Under_Five_Death        Polio  Total_Expenditure  \\\n",
       "count  2938.000000       2938.000000  2938.000000        2938.000000   \n",
       "mean     38.381178         42.035739    82.617767           5.924098   \n",
       "std      19.935375        160.445548    23.367166           2.400770   \n",
       "min       1.000000          0.000000     3.000000           0.370000   \n",
       "25%      19.400000          0.000000    78.000000           4.370000   \n",
       "50%      43.500000          4.000000    93.000000           5.755000   \n",
       "75%      56.100000         28.000000    97.000000           7.330000   \n",
       "max      87.300000       2500.000000    99.000000          17.600000   \n",
       "\n",
       "        Diphtheria     Hiv_Aids            GDP    Population  Thin_1_19_Years  \\\n",
       "count  2938.000000  2938.000000    2938.000000  2.938000e+03      2938.000000   \n",
       "mean     82.393125     1.742103    6611.523863  1.023085e+07         4.821886   \n",
       "std      23.655562     5.077785   13296.603449  5.402242e+07         4.397621   \n",
       "min       2.000000     0.100000       1.681350  3.400000e+01         0.100000   \n",
       "25%      78.000000     0.100000     580.486996  4.189172e+05         1.600000   \n",
       "50%      93.000000     0.100000    1766.947595  1.386542e+06         3.300000   \n",
       "75%      97.000000     0.800000    4779.405190  4.584371e+06         7.100000   \n",
       "max      99.000000    50.600000  119172.741800  1.293859e+09        27.700000   \n",
       "\n",
       "       Thin_5_9_Year  Income_Comp_Resource    Schooling  \n",
       "count    2938.000000           2938.000000  2938.000000  \n",
       "mean        4.852144              0.630362    12.009837  \n",
       "std         4.485854              0.205140     3.265139  \n",
       "min         0.100000              0.000000     0.000000  \n",
       "25%         1.600000              0.504250    10.300000  \n",
       "50%         3.300000              0.677000    12.300000  \n",
       "75%         7.200000              0.772000    14.100000  \n",
       "max        28.600000              0.948000    20.700000  "
      ]
     },
     "execution_count": 51,
     "metadata": {},
     "output_type": "execute_result"
    }
   ],
   "source": [
    "df.describe()"
   ]
  },
  {
   "cell_type": "code",
   "execution_count": 52,
   "metadata": {
    "ExecuteTime": {
     "end_time": "2020-06-05T13:58:38.165781Z",
     "start_time": "2020-06-05T13:58:38.136782Z"
    },
    "colab": {},
    "colab_type": "code",
    "id": "7bslszrDbkbw"
   },
   "outputs": [
    {
     "name": "stdout",
     "output_type": "stream",
     "text": [
      "Outliers for BMI\n",
      "[]\n"
     ]
    }
   ],
   "source": [
    "print(\"Outliers for BMI\")\n",
    "BMI_indices, BMI_values = find_outliers_tukey(df['BMI'])\n",
    "print(np.sort(BMI_values))"
   ]
  },
  {
   "cell_type": "code",
   "execution_count": 53,
   "metadata": {
    "ExecuteTime": {
     "end_time": "2020-06-05T13:58:38.245780Z",
     "start_time": "2020-06-05T13:58:38.168784Z"
    },
    "colab": {},
    "colab_type": "code",
    "id": "AQ9uJ2OJbm-h"
   },
   "outputs": [
    {
     "name": "stdout",
     "output_type": "stream",
     "text": [
      "Outliers for Under Five Death\n",
      "[  71   71   71   72   72   72   73   73   73   74   74   74   74   75\n",
      "   75   75   75   75   75   76   76   76   76   77   77   77   77   78\n",
      "   78   78   78   78   78   78   79   79   79   79   79   79   79   79\n",
      "   79   80   80   80   80   80   80   80   80   80   80   80   80   81\n",
      "   81   81   81   82   82   82   82   82   82   82   82   82   83   83\n",
      "   83   83   83   83   83   84   84   84   84   84   84   84   84   84\n",
      "   84   84   85   85   85   85   85   86   86   86   86   86   86   87\n",
      "   87   87   87   87   87   88   88   88   89   89   89   89   89   89\n",
      "   89   89   89   90   90   90   90   90   90   91   91   91   91   91\n",
      "   91   92   92   92   92   93   93   93   93   93   93   93   93   93\n",
      "   93   94   94   94   94   94   95   95   95   95   95   96   96   96\n",
      "   97   97   97   97   98   98   98   98   99   99   99  100  100  100\n",
      "  100  101  101  101  101  102  102  102  103  103  104  104  104  105\n",
      "  106  106  106  106  108  108  108  108  109  109  109  110  110  110\n",
      "  110  111  112  113  113  113  114  114  115  115  116  117  118  118\n",
      "  118  118  119  119  120  120  120  121  121  121  121  121  122  122\n",
      "  122  122  124  124  124  124  126  127  127  127  127  128  128  130\n",
      "  130  131  132  133  135  136  136  137  138  138  139  141  142  143\n",
      "  145  145  148  148  149  150  152  154  154  155  155  157  159  160\n",
      "  160  161  161  164  166  167  173  173  173  174  181  181  181  183\n",
      "  186  187  188  191  194  194  198  201  201  202  211  215  215  216\n",
      "  221  222  229  231  231  233  237  237  243  247  251  256  264  268\n",
      "  270  280  286  288  298  304  308  308  312  314  316  317  319  321\n",
      "  323  323  324  326  327  329  330  331  331  332  332  332  342  360\n",
      "  360  377  392  392  404  427  433  442  450  456  458  459  459  459\n",
      "  460  460  461  461  466  467  474  483  495  511  558  608  747  759\n",
      "  773  788  802  817  832  848  863  879  893  907  918  928  936  943\n",
      " 1100 1200 1300 1400 1500 1600 1700 1800 1900 2000 2000 2100 2200 2300\n",
      " 2400 2500]\n"
     ]
    }
   ],
   "source": [
    "print(\"Outliers for Under Five Death\")\n",
    "Under_Five_Death_indices, Under_Five_Death_values = find_outliers_tukey(df['Under_Five_Death'])\n",
    "print(np.sort(Under_Five_Death_values))"
   ]
  },
  {
   "cell_type": "markdown",
   "metadata": {
    "colab_type": "text",
    "id": "WkNNvYc77fup"
   },
   "source": [
    "## Substituindo outlier com a mediana de \"Under_Five_Death\""
   ]
  },
  {
   "cell_type": "code",
   "execution_count": 54,
   "metadata": {
    "ExecuteTime": {
     "end_time": "2020-06-05T13:58:38.325779Z",
     "start_time": "2020-06-05T13:58:38.249790Z"
    },
    "colab": {},
    "colab_type": "code",
    "id": "IefKnjEhbp_I"
   },
   "outputs": [
    {
     "data": {
      "text/plain": [
       "4.0"
      ]
     },
     "execution_count": 54,
     "metadata": {},
     "output_type": "execute_result"
    }
   ],
   "source": [
    "df.Under_Five_Death.median()"
   ]
  },
  {
   "cell_type": "code",
   "execution_count": 55,
   "metadata": {
    "ExecuteTime": {
     "end_time": "2020-06-05T13:58:38.405781Z",
     "start_time": "2020-06-05T13:58:38.329781Z"
    },
    "colab": {},
    "colab_type": "code",
    "id": "veVzxO-Tbst-"
   },
   "outputs": [],
   "source": [
    "df[\"Under_Five_Death\"] = np.where(df[\"Measles\"] >4,4,df['Under_Five_Death'])"
   ]
  },
  {
   "cell_type": "code",
   "execution_count": 56,
   "metadata": {
    "ExecuteTime": {
     "end_time": "2020-06-05T13:58:38.645778Z",
     "start_time": "2020-06-05T13:58:38.408780Z"
    },
    "colab": {},
    "colab_type": "code",
    "id": "TR7wICxqbvL0"
   },
   "outputs": [
    {
     "data": {
      "text/html": [
       "<div>\n",
       "<style scoped>\n",
       "    .dataframe tbody tr th:only-of-type {\n",
       "        vertical-align: middle;\n",
       "    }\n",
       "\n",
       "    .dataframe tbody tr th {\n",
       "        vertical-align: top;\n",
       "    }\n",
       "\n",
       "    .dataframe thead th {\n",
       "        text-align: right;\n",
       "    }\n",
       "</style>\n",
       "<table border=\"1\" class=\"dataframe\">\n",
       "  <thead>\n",
       "    <tr style=\"text-align: right;\">\n",
       "      <th></th>\n",
       "      <th>Year</th>\n",
       "      <th>Life_Expectancy</th>\n",
       "      <th>Adult_Mortality</th>\n",
       "      <th>Infant_death</th>\n",
       "      <th>Alcohol</th>\n",
       "      <th>Percentage_Expenditure</th>\n",
       "      <th>Hepatitis_B</th>\n",
       "      <th>Measles</th>\n",
       "      <th>BMI</th>\n",
       "      <th>Under_Five_Death</th>\n",
       "      <th>Polio</th>\n",
       "      <th>Total_Expenditure</th>\n",
       "      <th>Diphtheria</th>\n",
       "      <th>Hiv_Aids</th>\n",
       "      <th>GDP</th>\n",
       "      <th>Population</th>\n",
       "      <th>Thin_1_19_Years</th>\n",
       "      <th>Thin_5_9_Year</th>\n",
       "      <th>Income_Comp_Resource</th>\n",
       "      <th>Schooling</th>\n",
       "    </tr>\n",
       "  </thead>\n",
       "  <tbody>\n",
       "    <tr>\n",
       "      <th>count</th>\n",
       "      <td>2938.000000</td>\n",
       "      <td>2938.000000</td>\n",
       "      <td>2938.000000</td>\n",
       "      <td>2938.000000</td>\n",
       "      <td>2938.000000</td>\n",
       "      <td>2938.000000</td>\n",
       "      <td>2938.000000</td>\n",
       "      <td>2938.000000</td>\n",
       "      <td>2938.000000</td>\n",
       "      <td>2938.000000</td>\n",
       "      <td>2938.000000</td>\n",
       "      <td>2938.000000</td>\n",
       "      <td>2938.000000</td>\n",
       "      <td>2938.000000</td>\n",
       "      <td>2938.000000</td>\n",
       "      <td>2.938000e+03</td>\n",
       "      <td>2938.000000</td>\n",
       "      <td>2938.000000</td>\n",
       "      <td>2938.000000</td>\n",
       "      <td>2938.000000</td>\n",
       "    </tr>\n",
       "    <tr>\n",
       "      <th>mean</th>\n",
       "      <td>2007.518720</td>\n",
       "      <td>69.234717</td>\n",
       "      <td>164.725664</td>\n",
       "      <td>1.832199</td>\n",
       "      <td>4.546875</td>\n",
       "      <td>40.888211</td>\n",
       "      <td>83.022124</td>\n",
       "      <td>10.754595</td>\n",
       "      <td>38.381178</td>\n",
       "      <td>4.840027</td>\n",
       "      <td>82.617767</td>\n",
       "      <td>5.924098</td>\n",
       "      <td>82.393125</td>\n",
       "      <td>1.742103</td>\n",
       "      <td>6611.523863</td>\n",
       "      <td>1.023085e+07</td>\n",
       "      <td>4.821886</td>\n",
       "      <td>4.852144</td>\n",
       "      <td>0.630362</td>\n",
       "      <td>12.009837</td>\n",
       "    </tr>\n",
       "    <tr>\n",
       "      <th>std</th>\n",
       "      <td>4.613841</td>\n",
       "      <td>9.509115</td>\n",
       "      <td>124.086215</td>\n",
       "      <td>1.330130</td>\n",
       "      <td>3.921946</td>\n",
       "      <td>29.511961</td>\n",
       "      <td>22.996984</td>\n",
       "      <td>10.477241</td>\n",
       "      <td>19.935375</td>\n",
       "      <td>8.611519</td>\n",
       "      <td>23.367166</td>\n",
       "      <td>2.400770</td>\n",
       "      <td>23.655562</td>\n",
       "      <td>5.077785</td>\n",
       "      <td>13296.603449</td>\n",
       "      <td>5.402242e+07</td>\n",
       "      <td>4.397621</td>\n",
       "      <td>4.485854</td>\n",
       "      <td>0.205140</td>\n",
       "      <td>3.265139</td>\n",
       "    </tr>\n",
       "    <tr>\n",
       "      <th>min</th>\n",
       "      <td>2000.000000</td>\n",
       "      <td>36.300000</td>\n",
       "      <td>1.000000</td>\n",
       "      <td>0.000000</td>\n",
       "      <td>0.010000</td>\n",
       "      <td>0.000000</td>\n",
       "      <td>1.000000</td>\n",
       "      <td>0.000000</td>\n",
       "      <td>1.000000</td>\n",
       "      <td>0.000000</td>\n",
       "      <td>3.000000</td>\n",
       "      <td>0.370000</td>\n",
       "      <td>2.000000</td>\n",
       "      <td>0.100000</td>\n",
       "      <td>1.681350</td>\n",
       "      <td>3.400000e+01</td>\n",
       "      <td>0.100000</td>\n",
       "      <td>0.100000</td>\n",
       "      <td>0.000000</td>\n",
       "      <td>0.000000</td>\n",
       "    </tr>\n",
       "    <tr>\n",
       "      <th>25%</th>\n",
       "      <td>2004.000000</td>\n",
       "      <td>63.200000</td>\n",
       "      <td>74.000000</td>\n",
       "      <td>0.000000</td>\n",
       "      <td>1.092500</td>\n",
       "      <td>4.685343</td>\n",
       "      <td>82.000000</td>\n",
       "      <td>0.000000</td>\n",
       "      <td>19.400000</td>\n",
       "      <td>2.000000</td>\n",
       "      <td>78.000000</td>\n",
       "      <td>4.370000</td>\n",
       "      <td>78.000000</td>\n",
       "      <td>0.100000</td>\n",
       "      <td>580.486996</td>\n",
       "      <td>4.189172e+05</td>\n",
       "      <td>1.600000</td>\n",
       "      <td>1.600000</td>\n",
       "      <td>0.504250</td>\n",
       "      <td>10.300000</td>\n",
       "    </tr>\n",
       "    <tr>\n",
       "      <th>50%</th>\n",
       "      <td>2008.000000</td>\n",
       "      <td>72.100000</td>\n",
       "      <td>144.000000</td>\n",
       "      <td>3.000000</td>\n",
       "      <td>3.755000</td>\n",
       "      <td>64.870352</td>\n",
       "      <td>92.000000</td>\n",
       "      <td>17.000000</td>\n",
       "      <td>43.500000</td>\n",
       "      <td>4.000000</td>\n",
       "      <td>93.000000</td>\n",
       "      <td>5.755000</td>\n",
       "      <td>93.000000</td>\n",
       "      <td>0.100000</td>\n",
       "      <td>1766.947595</td>\n",
       "      <td>1.386542e+06</td>\n",
       "      <td>3.300000</td>\n",
       "      <td>3.300000</td>\n",
       "      <td>0.677000</td>\n",
       "      <td>12.300000</td>\n",
       "    </tr>\n",
       "    <tr>\n",
       "      <th>75%</th>\n",
       "      <td>2012.000000</td>\n",
       "      <td>75.600000</td>\n",
       "      <td>227.000000</td>\n",
       "      <td>3.000000</td>\n",
       "      <td>7.390000</td>\n",
       "      <td>64.884537</td>\n",
       "      <td>96.000000</td>\n",
       "      <td>17.000000</td>\n",
       "      <td>56.100000</td>\n",
       "      <td>4.000000</td>\n",
       "      <td>97.000000</td>\n",
       "      <td>7.330000</td>\n",
       "      <td>97.000000</td>\n",
       "      <td>0.800000</td>\n",
       "      <td>4779.405190</td>\n",
       "      <td>4.584371e+06</td>\n",
       "      <td>7.100000</td>\n",
       "      <td>7.200000</td>\n",
       "      <td>0.772000</td>\n",
       "      <td>14.100000</td>\n",
       "    </tr>\n",
       "    <tr>\n",
       "      <th>max</th>\n",
       "      <td>2015.000000</td>\n",
       "      <td>89.000000</td>\n",
       "      <td>723.000000</td>\n",
       "      <td>3.000000</td>\n",
       "      <td>17.870000</td>\n",
       "      <td>99.080954</td>\n",
       "      <td>99.000000</td>\n",
       "      <td>50.000000</td>\n",
       "      <td>87.300000</td>\n",
       "      <td>118.000000</td>\n",
       "      <td>99.000000</td>\n",
       "      <td>17.600000</td>\n",
       "      <td>99.000000</td>\n",
       "      <td>50.600000</td>\n",
       "      <td>119172.741800</td>\n",
       "      <td>1.293859e+09</td>\n",
       "      <td>27.700000</td>\n",
       "      <td>28.600000</td>\n",
       "      <td>0.948000</td>\n",
       "      <td>20.700000</td>\n",
       "    </tr>\n",
       "  </tbody>\n",
       "</table>\n",
       "</div>"
      ],
      "text/plain": [
       "              Year  Life_Expectancy  Adult_Mortality  Infant_death  \\\n",
       "count  2938.000000      2938.000000      2938.000000   2938.000000   \n",
       "mean   2007.518720        69.234717       164.725664      1.832199   \n",
       "std       4.613841         9.509115       124.086215      1.330130   \n",
       "min    2000.000000        36.300000         1.000000      0.000000   \n",
       "25%    2004.000000        63.200000        74.000000      0.000000   \n",
       "50%    2008.000000        72.100000       144.000000      3.000000   \n",
       "75%    2012.000000        75.600000       227.000000      3.000000   \n",
       "max    2015.000000        89.000000       723.000000      3.000000   \n",
       "\n",
       "           Alcohol  Percentage_Expenditure  Hepatitis_B      Measles  \\\n",
       "count  2938.000000             2938.000000  2938.000000  2938.000000   \n",
       "mean      4.546875               40.888211    83.022124    10.754595   \n",
       "std       3.921946               29.511961    22.996984    10.477241   \n",
       "min       0.010000                0.000000     1.000000     0.000000   \n",
       "25%       1.092500                4.685343    82.000000     0.000000   \n",
       "50%       3.755000               64.870352    92.000000    17.000000   \n",
       "75%       7.390000               64.884537    96.000000    17.000000   \n",
       "max      17.870000               99.080954    99.000000    50.000000   \n",
       "\n",
       "               BMI  Under_Five_Death        Polio  Total_Expenditure  \\\n",
       "count  2938.000000       2938.000000  2938.000000        2938.000000   \n",
       "mean     38.381178          4.840027    82.617767           5.924098   \n",
       "std      19.935375          8.611519    23.367166           2.400770   \n",
       "min       1.000000          0.000000     3.000000           0.370000   \n",
       "25%      19.400000          2.000000    78.000000           4.370000   \n",
       "50%      43.500000          4.000000    93.000000           5.755000   \n",
       "75%      56.100000          4.000000    97.000000           7.330000   \n",
       "max      87.300000        118.000000    99.000000          17.600000   \n",
       "\n",
       "        Diphtheria     Hiv_Aids            GDP    Population  Thin_1_19_Years  \\\n",
       "count  2938.000000  2938.000000    2938.000000  2.938000e+03      2938.000000   \n",
       "mean     82.393125     1.742103    6611.523863  1.023085e+07         4.821886   \n",
       "std      23.655562     5.077785   13296.603449  5.402242e+07         4.397621   \n",
       "min       2.000000     0.100000       1.681350  3.400000e+01         0.100000   \n",
       "25%      78.000000     0.100000     580.486996  4.189172e+05         1.600000   \n",
       "50%      93.000000     0.100000    1766.947595  1.386542e+06         3.300000   \n",
       "75%      97.000000     0.800000    4779.405190  4.584371e+06         7.100000   \n",
       "max      99.000000    50.600000  119172.741800  1.293859e+09        27.700000   \n",
       "\n",
       "       Thin_5_9_Year  Income_Comp_Resource    Schooling  \n",
       "count    2938.000000           2938.000000  2938.000000  \n",
       "mean        4.852144              0.630362    12.009837  \n",
       "std         4.485854              0.205140     3.265139  \n",
       "min         0.100000              0.000000     0.000000  \n",
       "25%         1.600000              0.504250    10.300000  \n",
       "50%         3.300000              0.677000    12.300000  \n",
       "75%         7.200000              0.772000    14.100000  \n",
       "max        28.600000              0.948000    20.700000  "
      ]
     },
     "execution_count": 56,
     "metadata": {},
     "output_type": "execute_result"
    }
   ],
   "source": [
    "df.describe()"
   ]
  },
  {
   "cell_type": "code",
   "execution_count": 57,
   "metadata": {
    "ExecuteTime": {
     "end_time": "2020-06-05T13:58:38.676776Z",
     "start_time": "2020-06-05T13:58:38.648778Z"
    },
    "colab": {},
    "colab_type": "code",
    "id": "HVWY_pFobwtx"
   },
   "outputs": [
    {
     "name": "stdout",
     "output_type": "stream",
     "text": [
      "Outliers Polio\n",
      "[ 3.  3.  3.  3.  3.  3.  3.  4.  4.  4.  4.  4.  4.  4.  4.  4.  4.  4.\n",
      "  5.  5.  5.  5.  5.  5.  5.  5.  6.  6.  6.  6.  6.  6.  6.  6.  6.  6.\n",
      "  6.  7.  7.  7.  7.  7.  7.  7.  7.  7.  7.  7.  7.  7.  7.  7.  7.  7.\n",
      "  7.  7.  7.  7.  7.  7.  7.  8.  8.  8.  8.  8.  8.  8.  8.  8.  8.  8.\n",
      "  8.  8.  8.  8.  8.  8.  8.  8.  8.  8.  8.  8.  8.  8.  8.  8.  8.  8.\n",
      "  8.  8.  8.  8.  8.  8.  8.  8.  8.  8.  8.  9.  9.  9.  9.  9.  9.  9.\n",
      "  9.  9.  9.  9.  9.  9.  9.  9.  9.  9.  9.  9.  9.  9.  9.  9.  9.  9.\n",
      "  9.  9.  9.  9.  9.  9.  9.  9.  9.  9.  9.  9.  9.  9.  9.  9.  9.  9.\n",
      "  9.  9.  9.  9.  9.  9.  9.  9.  9.  9.  9.  9.  9.  9.  9.  9.  9.  9.\n",
      "  9.  9.  9.  9.  9.  9.  9.  9.  9.  9. 17. 23. 24. 24. 26. 26. 26. 31.\n",
      " 31. 31. 31. 32. 32. 33. 35. 35. 36. 36. 36. 36. 37. 37. 37. 37. 38. 38.\n",
      " 38. 38. 39. 39. 41. 41. 41. 41. 41. 41. 41. 42. 42. 42. 42. 42. 42. 42.\n",
      " 43. 43. 43. 43. 44. 44. 44. 44. 44. 44. 44. 44. 44. 44. 44. 44. 45. 45.\n",
      " 45. 45. 45. 45. 45. 46. 46. 46. 46. 46. 46. 46. 46. 46. 46. 46. 46. 46.\n",
      " 47. 47. 47. 47. 47. 47. 47. 47. 47. 47. 47. 47. 47. 47. 48. 48. 49. 49.\n",
      " 49. 49. 49. 49. 49. 49. 49. 49. 49.]\n"
     ]
    }
   ],
   "source": [
    "print(\"Outliers Polio\")\n",
    "Polio_indices, Polio_values = find_outliers_tukey(df['Polio'])\n",
    "print(np.sort(Polio_values))"
   ]
  },
  {
   "cell_type": "code",
   "execution_count": 58,
   "metadata": {
    "ExecuteTime": {
     "end_time": "2020-06-05T13:58:38.803785Z",
     "start_time": "2020-06-05T13:58:38.679777Z"
    },
    "colab": {},
    "colab_type": "code",
    "id": "evtH6wk1byeI"
   },
   "outputs": [
    {
     "name": "stdout",
     "output_type": "stream",
     "text": [
      "Outliers Total Expenditure\n",
      "[11.78 11.79 11.8  11.8  11.83 11.83 11.87 11.87 11.9  11.92 11.93 11.96\n",
      " 11.97 11.98 11.99 12.11 12.23 12.24 12.25 12.49 12.6  12.77 12.8  12.94\n",
      " 13.13 13.38 13.44 13.63 13.66 13.7  13.71 13.73 13.73 13.76 13.83 14.39\n",
      " 14.55 15.14 15.15 15.27 15.57 15.6  16.2  16.61 16.9  17.   17.14 17.2\n",
      " 17.2  17.24 17.6 ]\n"
     ]
    }
   ],
   "source": [
    "print(\"Outliers Total Expenditure\")\n",
    "Total_Expenditure_indices, Total_Expenditure_values = find_outliers_tukey(df['Total_Expenditure'])\n",
    "print(np.sort(Total_Expenditure_values))"
   ]
  },
  {
   "cell_type": "code",
   "execution_count": 59,
   "metadata": {
    "ExecuteTime": {
     "end_time": "2020-06-05T13:58:38.915780Z",
     "start_time": "2020-06-05T13:58:38.807793Z"
    },
    "colab": {},
    "colab_type": "code",
    "id": "zL70SJTab0FR"
   },
   "outputs": [
    {
     "name": "stdout",
     "output_type": "stream",
     "text": [
      "Outliers Diphtheria\n",
      "[ 2.  3.  3.  3.  3.  4.  4.  4.  4.  4.  4.  4.  4.  4.  4.  4.  4.  5.\n",
      "  5.  5.  5.  5.  5.  5.  5.  5.  5.  6.  6.  6.  6.  6.  6.  6.  6.  6.\n",
      "  6.  6.  6.  6.  6.  6.  6.  7.  7.  7.  7.  7.  7.  7.  7.  7.  7.  7.\n",
      "  7.  7.  7.  7.  7.  7.  7.  7.  7.  7.  8.  8.  8.  8.  8.  8.  8.  8.\n",
      "  8.  8.  8.  8.  8.  8.  8.  8.  8.  8.  8.  8.  8.  8.  8.  8.  8.  8.\n",
      "  8.  8.  8.  8.  8.  8.  8.  8.  8.  8.  8.  8.  8.  9.  9.  9.  9.  9.\n",
      "  9.  9.  9.  9.  9.  9.  9.  9.  9.  9.  9.  9.  9.  9.  9.  9.  9.  9.\n",
      "  9.  9.  9.  9.  9.  9.  9.  9.  9.  9.  9.  9.  9.  9.  9.  9.  9.  9.\n",
      "  9.  9.  9.  9.  9.  9.  9.  9.  9.  9.  9.  9.  9.  9.  9.  9.  9.  9.\n",
      "  9.  9.  9.  9.  9.  9.  9.  9. 16. 19. 21. 23. 23. 23. 23. 24. 24. 24.\n",
      " 25. 25. 25. 26. 26. 26. 27. 28. 28. 29. 29. 31. 31. 31. 31. 32. 33. 33.\n",
      " 33. 33. 33. 33. 34. 34. 34. 35. 35. 35. 35. 36. 36. 36. 36. 36. 37. 37.\n",
      " 37. 37. 38. 38. 38. 38. 38. 39. 39. 39. 39. 39. 39. 39. 41. 41. 41. 41.\n",
      " 41. 41. 41. 41. 41. 41. 41. 42. 42. 42. 42. 42. 42. 42. 42. 42. 42. 43.\n",
      " 43. 43. 43. 44. 44. 44. 44. 45. 45. 45. 45. 45. 45. 45. 45. 45. 45. 45.\n",
      " 45. 45. 45. 45. 45. 46. 46. 46. 46. 46. 46. 47. 47. 47. 47. 47. 48. 48.\n",
      " 48. 48. 49. 49. 49. 49. 49. 49. 49. 49.]\n"
     ]
    }
   ],
   "source": [
    "print(\"Outliers Diphtheria\")\n",
    "Diphtheria_indices, Diphtheria_values = find_outliers_tukey(df['Diphtheria'])\n",
    "print(np.sort(Diphtheria_values))"
   ]
  },
  {
   "cell_type": "code",
   "execution_count": 60,
   "metadata": {
    "ExecuteTime": {
     "end_time": "2020-06-05T13:58:38.995779Z",
     "start_time": "2020-06-05T13:58:38.918780Z"
    },
    "colab": {},
    "colab_type": "code",
    "id": "CdUJGXnFb1uu"
   },
   "outputs": [
    {
     "name": "stdout",
     "output_type": "stream",
     "text": [
      "Outliers Hiv_Aids\n",
      "[ 1.9  1.9  1.9  1.9  1.9  1.9  1.9  1.9  1.9  1.9  1.9  1.9  1.9  1.9\n",
      "  1.9  1.9  1.9  1.9  1.9  2.   2.   2.   2.   2.   2.   2.   2.   2.\n",
      "  2.   2.   2.   2.   2.   2.   2.   2.   2.1  2.1  2.1  2.1  2.1  2.1\n",
      "  2.1  2.1  2.1  2.1  2.1  2.1  2.1  2.1  2.1  2.1  2.1  2.1  2.1  2.1\n",
      "  2.2  2.2  2.2  2.2  2.2  2.2  2.2  2.2  2.2  2.2  2.2  2.2  2.3  2.3\n",
      "  2.3  2.3  2.3  2.3  2.3  2.3  2.3  2.3  2.3  2.3  2.3  2.3  2.3  2.4\n",
      "  2.4  2.4  2.4  2.4  2.4  2.4  2.4  2.4  2.4  2.4  2.4  2.5  2.5  2.5\n",
      "  2.5  2.5  2.5  2.5  2.5  2.5  2.5  2.5  2.5  2.6  2.6  2.6  2.6  2.6\n",
      "  2.6  2.6  2.7  2.7  2.7  2.7  2.7  2.7  2.7  2.8  2.8  2.8  2.8  2.8\n",
      "  2.8  2.8  2.8  2.8  2.9  2.9  2.9  2.9  2.9  2.9  2.9  2.9  2.9  3.\n",
      "  3.   3.   3.   3.   3.   3.   3.   3.   3.   3.   3.   3.1  3.1  3.1\n",
      "  3.1  3.1  3.1  3.1  3.1  3.1  3.1  3.1  3.2  3.2  3.2  3.2  3.2  3.2\n",
      "  3.2  3.3  3.3  3.3  3.3  3.3  3.3  3.3  3.4  3.4  3.4  3.4  3.4  3.5\n",
      "  3.5  3.5  3.5  3.5  3.5  3.5  3.6  3.6  3.6  3.6  3.6  3.6  3.6  3.7\n",
      "  3.7  3.7  3.7  3.7  3.7  3.7  3.7  3.7  3.8  3.8  3.8  3.8  3.8  3.9\n",
      "  3.9  3.9  3.9  3.9  3.9  3.9  3.9  4.   4.   4.   4.   4.   4.   4.1\n",
      "  4.1  4.1  4.1  4.1  4.1  4.1  4.1  4.2  4.2  4.2  4.2  4.2  4.3  4.3\n",
      "  4.3  4.3  4.3  4.3  4.3  4.3  4.4  4.4  4.4  4.4  4.4  4.4  4.4  4.5\n",
      "  4.5  4.5  4.6  4.6  4.6  4.6  4.6  4.6  4.6  4.7  4.7  4.7  4.8  4.8\n",
      "  4.8  4.8  4.8  4.8  4.8  4.9  4.9  4.9  4.9  4.9  4.9  4.9  5.   5.\n",
      "  5.   5.   5.   5.   5.   5.   5.   5.   5.1  5.1  5.1  5.1  5.1  5.1\n",
      "  5.1  5.1  5.1  5.1  5.1  5.1  5.2  5.2  5.2  5.2  5.2  5.2  5.3  5.3\n",
      "  5.3  5.3  5.3  5.3  5.3  5.3  5.4  5.4  5.4  5.4  5.5  5.5  5.5  5.6\n",
      "  5.6  5.7  5.7  5.7  5.8  5.8  5.9  5.9  5.9  6.   6.   6.   6.1  6.2\n",
      "  6.2  6.2  6.2  6.3  6.3  6.3  6.3  6.3  6.3  6.4  6.4  6.5  6.6  6.7\n",
      "  6.7  6.8  6.8  6.8  6.8  6.9  6.9  7.   7.   7.   7.1  7.1  7.1  7.2\n",
      "  7.2  7.2  7.3  7.3  7.3  7.4  7.4  7.5  7.6  7.6  7.7  7.7  7.7  7.7\n",
      "  7.8  7.8  7.9  8.   8.   8.   8.1  8.1  8.1  8.2  8.2  8.3  8.3  8.4\n",
      "  8.5  8.5  8.5  8.6  8.7  8.7  8.8  8.9  8.9  9.   9.   9.   9.1  9.1\n",
      "  9.3  9.4  9.4  9.4  9.5  9.6  9.6  9.8 10.  10.  10.  10.  10.1 10.3\n",
      " 10.5 10.7 10.7 10.8 10.8 10.8 10.9 11.  11.  11.1 11.2 11.2 11.3 11.5\n",
      " 11.6 11.6 11.7 11.9 12.  12.1 12.2 12.2 12.5 12.6 12.7 12.8 12.8 13.2\n",
      " 13.3 13.4 13.4 13.4 13.4 13.6 13.7 13.9 14.1 14.3 14.4 14.5 14.5 14.9\n",
      " 15.2 15.3 15.7 15.7 15.7 15.9 15.9 16.2 16.3 16.9 16.9 17.  17.6 18.1\n",
      " 18.1 18.2 18.2 18.4 18.6 18.7 19.  19.2 19.3 20.5 20.6 21.1 21.3 21.6\n",
      " 22.1 22.4 22.8 23.4 23.5 23.7 23.9 24.  24.  24.2 24.6 24.7 24.7 25.1\n",
      " 25.5 26.4 26.6 26.8 27.3 28.1 28.4 28.9 29.5 29.7 29.8 30.  30.3 31.2\n",
      " 31.9 32.5 33.6 33.7 33.8 34.1 34.6 34.6 34.8 36.7 37.2 38.8 39.8 40.2\n",
      " 40.7 42.1 43.5 43.7 46.4 48.8 49.1 49.9 50.3 50.6]\n"
     ]
    }
   ],
   "source": [
    "print(\"Outliers Hiv_Aids\")\n",
    "Hiv_Aids_indices, Hiv_Aids_values = find_outliers_tukey(df['Hiv_Aids'])\n",
    "print(np.sort(Hiv_Aids_values))"
   ]
  },
  {
   "cell_type": "code",
   "execution_count": 61,
   "metadata": {
    "ExecuteTime": {
     "end_time": "2020-06-05T13:58:39.123786Z",
     "start_time": "2020-06-05T13:58:39.001780Z"
    },
    "colab": {},
    "colab_type": "code",
    "id": "ImVzh0i8b3xa"
   },
   "outputs": [
    {
     "name": "stdout",
     "output_type": "stream",
     "text": [
      "Outliers GDP\n",
      "[ 11122.8627   11138.8746   11161.72441  11183.96191  11224.1548\n",
      "  11326.21947  11341.13395  11363.41845  11371.93895  11398.76584\n",
      "  11513.87189  11527.59323  11563.727    11568.1111   11579.6674\n",
      "  11634.42422  11635.2637   11675.39395  11685.97983  11729.14616\n",
      "  11814.9994   11837.3913   11843.9392   11929.34991  11938.212\n",
      "  11984.86857  12126.87614  12127.22522  12154.82994  12189.9516\n",
      "  12216.9446   12219.37379  12224.86416  12245.25645  12291.46685\n",
      "  12297.91535  12323.1275   12365.6263   12376.97936  12387.18982\n",
      "  12538.17883  12542.93565  12565.44197  12565.9876   12593.7374\n",
      "  12595.4165   12599.52486  12724.39377  12726.9836   12732.2759\n",
      "  12834.32349  12845.17363  12868.211    12868.8639   12882.28897\n",
      "  12888.29667  12967.16543  12969.7712   12976.63642  13134.4367\n",
      "  13145.1484   13167.47289  13198.6693   13235.97757  13467.1236\n",
      "  13467.46827  13546.69872  13566.9541   13574.749    13613.6147\n",
      "  13636.34668  13641.1272   13653.2264   13666.58336  13689.98999\n",
      "  13739.82945  13822.8559   13842.6549   13882.85683  13893.18768\n",
      "  14117.97668  14125.961    14157.14416  14166.4998   14212.687\n",
      "  14221.99259  14223.86576  14252.29452  14252.42853  14341.675\n",
      "  14341.836    14357.73679  14396.4865   14539.18421  14638.6482\n",
      "  14672.8826   14676.769    14726.31828  14817.37778  14961.56818\n",
      "  14965.361    15154.45687  15323.6114   15334.66994  15359.66971\n",
      "  15384.8749   15431.9293   15472.7814   15524.84247  15534.1574\n",
      "  15543.67653  15557.8381   15646.5591   15669.25929  15687.34795\n",
      "  15712.82376  15725.1374   15761.83913  15772.7334   15835.34667\n",
      "  15846.47641  15893.8656   15941.39722  16348.53121  16372.29152\n",
      "  16462.48556  16468.12886  16472.1665   16523.32388  16554.97139\n",
      "  16586.452    16627.36433  16671.5672   16683.94578  16737.89827\n",
      "  16749.136    16784.34616  16846.2198   16874.31232  16881.2568\n",
      "  17136.44568  17321.83373  17421.8922   17454.84342  17789.41981\n",
      "  17959.17854  18169.1891   18389.38433  18431.15696  18477.57841\n",
      "  18555.56649  18784.9485   18946.99942  19152.531    19259.58726\n",
      "  19325.24283  19356.67236  19375.5696   19517.84168  19726.1265\n",
      "  19821.44463  19888.172    19941.45532  21188.11857  21268.7564\n",
      "  21451.88617  21495.7741   21557.6528   21577.7823   21618.73534\n",
      "  21673.7817   21874.8195   21896.6527   21913.7817   21928.767\n",
      "  21955.149    22134.916    22196.5736   22242.68193  22465.64184\n",
      "  22486.47167  22527.31775  22538.6548   22551.73574  22688.87824\n",
      "  22742.38159  22821.847    23121.56635  23196.18375  23437.4722\n",
      "  23465.38559  23573.6284   23649.36661  23687.31689  23691.59472\n",
      "  23718.7467   23792.677    23819.4636   23841.31792  23932.49128\n",
      "  24124.16917  24167.8431   24253.2542   24275.2426   24489.73553\n",
      "  24517.26745  24575.434    24633.79785  24815.6884   24913.24452\n",
      "  24918.64584  24934.38614  24983.3792   24985.24827  25324.48666\n",
      "  25683.84565  25916.29353  25921.12794  26241.91883  26351.37568\n",
      "  26584.12169  26834.2625   26917.75898  26921.8278   26969.24457\n",
      "  27169.99256  27387.2258   27795.87671  27965.4754   28172.14883\n",
      "  28223.55528  28482.6948   28562.29324  28585.9254   28817.32321\n",
      "  28827.32636  28951.15556  28975.418    29283.55     29571.7446\n",
      "  29657.4421   29691.18158  29869.85398  29986.2915   31174.56118\n",
      "  31287.77865  31311.35936  31386.63265  31813.37344  31834.21816\n",
      "  31959.26215  31979.87195  31996.2172   31997.2821   32233.83942\n",
      "  32289.3554   32333.4661   32539.1937   32569.59683  32672.36717\n",
      "  32816.1688   33228.69291  33579.85948  33657.15727  33691.34837\n",
      "  33846.46564  33874.74255  34165.9343   34176.98183  34474.13736\n",
      "  34696.6292   34814.12436  34879.72633  35245.1647   35268.1117\n",
      "  35275.22843  35396.66517  35433.98896  35578.73619  35589.71295\n",
      "  35729.37253  35849.37364  36118.28381  36161.1761   36189.58838\n",
      "  36393.66932  36447.87232  36526.7711   36544.5853   36693.4262\n",
      "  36961.42537  36967.28292  36976.84512  37217.64873  37567.3121\n",
      "  37582.84624  37636.11173  37688.72234  37698.78573  37813.23426\n",
      "  37951.286    38146.71539  38242.4252   38334.68477  38426.5581\n",
      "  38497.61696  38532.488    38538.64447  38549.58934  38577.55822\n",
      "  38852.3613   38969.17163  39223.58187  39339.29757  39439.8197\n",
      "  39721.4818   39954.64222  41176.88158  41336.72192  41577.169\n",
      "  41631.13141  41676.44527  41732.7725   41785.55691  41814.8191\n",
      "  41818.35256  42112.23565  42372.22166  42442.2245   42554.1225\n",
      "  42672.61323  42717.55725  42742.99898  42889.88141  42955.24287\n",
      "  42996.4812   43315.744    43665.947    44292.88473  44333.8518\n",
      "  44449.7435   44453.97119  44544.5268   44597.27968  45413.6571\n",
      "  45699.19832  45758.9554   45793.97614  46256.4716   46511.6457\n",
      "  46569.67951  46586.6525   46596.33599  46657.629    46917.27216\n",
      "  47415.55987  47439.39684  47447.4762   47631.6377   47651.2599\n",
      "  47654.18721  48167.99727  48179.4285   48268.5912   48288.5491\n",
      "  48333.57273  48399.9581   48424.58927  48538.58776  48735.99549\n",
      "  48799.8237   49231.36254  49474.7561   49638.7713   49664.6854\n",
      "  49914.61864  51126.74139  51241.31562  51264.7134   51322.63997\n",
      "  51386.37665  51488.49529  51574.48942  51874.848    51983.78892\n",
      "  52157.4687   52413.72116  52473.11356  52496.69487  52567.52568\n",
      "  53166.67581  53255.97631  53324.37937  53629.73746  54326.9713\n",
      "  54431.16199  54797.54663  55571.9986   55575.29196  55746.84238\n",
      "  56249.7555   56336.7234   56554.3876   56928.8248   57134.777\n",
      "  57348.92788  58163.29359  58487.451    59593.28711  61191.19263\n",
      "  61235.415    61388.17457  61478.23813  61753.667    62214.6912\n",
      "  62245.129    62425.5392   63223.46778  64322.6664   65445.8853\n",
      "  66346.52267  66775.3944   67677.63477  67792.3386   68348.31817\n",
      "  69672.471    72119.5687   74114.69715  74276.71842  75716.3518\n",
      "  82967.37228  83164.38795  84658.88768  85128.65759  85814.58857\n",
      "  85948.746    86852.7119   87646.75346  87998.44468  88564.82298\n",
      "  89739.7117  113751.85    114293.8433  115761.577   119172.7418 ]\n"
     ]
    }
   ],
   "source": [
    "print(\"Outliers GDP\")\n",
    "GDP_indices, GDP_values = find_outliers_tukey(df['GDP'])\n",
    "print(np.sort(GDP_values))"
   ]
  },
  {
   "cell_type": "markdown",
   "metadata": {
    "colab_type": "text",
    "id": "cHx8vg-17zin"
   },
   "source": [
    "## Substituindo outlier com mediana de \"GDP\""
   ]
  },
  {
   "cell_type": "code",
   "execution_count": 62,
   "metadata": {
    "ExecuteTime": {
     "end_time": "2020-06-05T13:58:39.203780Z",
     "start_time": "2020-06-05T13:58:39.128783Z"
    },
    "colab": {},
    "colab_type": "code",
    "id": "kx6scE03b52D"
   },
   "outputs": [],
   "source": [
    "df.GDP.median()\n",
    "df[\"GDP\"] = np.where(df[\"GDP\"] >2500,1766.947595,df['GDP'])"
   ]
  },
  {
   "cell_type": "code",
   "execution_count": 63,
   "metadata": {
    "ExecuteTime": {
     "end_time": "2020-06-05T13:58:39.426784Z",
     "start_time": "2020-06-05T13:58:39.207779Z"
    },
    "colab": {},
    "colab_type": "code",
    "id": "JgDqP5SecAKu"
   },
   "outputs": [
    {
     "data": {
      "text/html": [
       "<div>\n",
       "<style scoped>\n",
       "    .dataframe tbody tr th:only-of-type {\n",
       "        vertical-align: middle;\n",
       "    }\n",
       "\n",
       "    .dataframe tbody tr th {\n",
       "        vertical-align: top;\n",
       "    }\n",
       "\n",
       "    .dataframe thead th {\n",
       "        text-align: right;\n",
       "    }\n",
       "</style>\n",
       "<table border=\"1\" class=\"dataframe\">\n",
       "  <thead>\n",
       "    <tr style=\"text-align: right;\">\n",
       "      <th></th>\n",
       "      <th>Year</th>\n",
       "      <th>Life_Expectancy</th>\n",
       "      <th>Adult_Mortality</th>\n",
       "      <th>Infant_death</th>\n",
       "      <th>Alcohol</th>\n",
       "      <th>Percentage_Expenditure</th>\n",
       "      <th>Hepatitis_B</th>\n",
       "      <th>Measles</th>\n",
       "      <th>BMI</th>\n",
       "      <th>Under_Five_Death</th>\n",
       "      <th>Polio</th>\n",
       "      <th>Total_Expenditure</th>\n",
       "      <th>Diphtheria</th>\n",
       "      <th>Hiv_Aids</th>\n",
       "      <th>GDP</th>\n",
       "      <th>Population</th>\n",
       "      <th>Thin_1_19_Years</th>\n",
       "      <th>Thin_5_9_Year</th>\n",
       "      <th>Income_Comp_Resource</th>\n",
       "      <th>Schooling</th>\n",
       "    </tr>\n",
       "  </thead>\n",
       "  <tbody>\n",
       "    <tr>\n",
       "      <th>count</th>\n",
       "      <td>2938.000000</td>\n",
       "      <td>2938.000000</td>\n",
       "      <td>2938.000000</td>\n",
       "      <td>2938.000000</td>\n",
       "      <td>2938.000000</td>\n",
       "      <td>2938.000000</td>\n",
       "      <td>2938.000000</td>\n",
       "      <td>2938.000000</td>\n",
       "      <td>2938.000000</td>\n",
       "      <td>2938.000000</td>\n",
       "      <td>2938.000000</td>\n",
       "      <td>2938.000000</td>\n",
       "      <td>2938.000000</td>\n",
       "      <td>2938.000000</td>\n",
       "      <td>2938.000000</td>\n",
       "      <td>2.938000e+03</td>\n",
       "      <td>2938.000000</td>\n",
       "      <td>2938.000000</td>\n",
       "      <td>2938.000000</td>\n",
       "      <td>2938.000000</td>\n",
       "    </tr>\n",
       "    <tr>\n",
       "      <th>mean</th>\n",
       "      <td>2007.518720</td>\n",
       "      <td>69.234717</td>\n",
       "      <td>164.725664</td>\n",
       "      <td>1.832199</td>\n",
       "      <td>4.546875</td>\n",
       "      <td>40.888211</td>\n",
       "      <td>83.022124</td>\n",
       "      <td>10.754595</td>\n",
       "      <td>38.381178</td>\n",
       "      <td>4.840027</td>\n",
       "      <td>82.617767</td>\n",
       "      <td>5.924098</td>\n",
       "      <td>82.393125</td>\n",
       "      <td>1.742103</td>\n",
       "      <td>1289.129262</td>\n",
       "      <td>1.023085e+07</td>\n",
       "      <td>4.821886</td>\n",
       "      <td>4.852144</td>\n",
       "      <td>0.630362</td>\n",
       "      <td>12.009837</td>\n",
       "    </tr>\n",
       "    <tr>\n",
       "      <th>std</th>\n",
       "      <td>4.613841</td>\n",
       "      <td>9.509115</td>\n",
       "      <td>124.086215</td>\n",
       "      <td>1.330130</td>\n",
       "      <td>3.921946</td>\n",
       "      <td>29.511961</td>\n",
       "      <td>22.996984</td>\n",
       "      <td>10.477241</td>\n",
       "      <td>19.935375</td>\n",
       "      <td>8.611519</td>\n",
       "      <td>23.367166</td>\n",
       "      <td>2.400770</td>\n",
       "      <td>23.655562</td>\n",
       "      <td>5.077785</td>\n",
       "      <td>672.709120</td>\n",
       "      <td>5.402242e+07</td>\n",
       "      <td>4.397621</td>\n",
       "      <td>4.485854</td>\n",
       "      <td>0.205140</td>\n",
       "      <td>3.265139</td>\n",
       "    </tr>\n",
       "    <tr>\n",
       "      <th>min</th>\n",
       "      <td>2000.000000</td>\n",
       "      <td>36.300000</td>\n",
       "      <td>1.000000</td>\n",
       "      <td>0.000000</td>\n",
       "      <td>0.010000</td>\n",
       "      <td>0.000000</td>\n",
       "      <td>1.000000</td>\n",
       "      <td>0.000000</td>\n",
       "      <td>1.000000</td>\n",
       "      <td>0.000000</td>\n",
       "      <td>3.000000</td>\n",
       "      <td>0.370000</td>\n",
       "      <td>2.000000</td>\n",
       "      <td>0.100000</td>\n",
       "      <td>1.681350</td>\n",
       "      <td>3.400000e+01</td>\n",
       "      <td>0.100000</td>\n",
       "      <td>0.100000</td>\n",
       "      <td>0.000000</td>\n",
       "      <td>0.000000</td>\n",
       "    </tr>\n",
       "    <tr>\n",
       "      <th>25%</th>\n",
       "      <td>2004.000000</td>\n",
       "      <td>63.200000</td>\n",
       "      <td>74.000000</td>\n",
       "      <td>0.000000</td>\n",
       "      <td>1.092500</td>\n",
       "      <td>4.685343</td>\n",
       "      <td>82.000000</td>\n",
       "      <td>0.000000</td>\n",
       "      <td>19.400000</td>\n",
       "      <td>2.000000</td>\n",
       "      <td>78.000000</td>\n",
       "      <td>4.370000</td>\n",
       "      <td>78.000000</td>\n",
       "      <td>0.100000</td>\n",
       "      <td>580.486996</td>\n",
       "      <td>4.189172e+05</td>\n",
       "      <td>1.600000</td>\n",
       "      <td>1.600000</td>\n",
       "      <td>0.504250</td>\n",
       "      <td>10.300000</td>\n",
       "    </tr>\n",
       "    <tr>\n",
       "      <th>50%</th>\n",
       "      <td>2008.000000</td>\n",
       "      <td>72.100000</td>\n",
       "      <td>144.000000</td>\n",
       "      <td>3.000000</td>\n",
       "      <td>3.755000</td>\n",
       "      <td>64.870352</td>\n",
       "      <td>92.000000</td>\n",
       "      <td>17.000000</td>\n",
       "      <td>43.500000</td>\n",
       "      <td>4.000000</td>\n",
       "      <td>93.000000</td>\n",
       "      <td>5.755000</td>\n",
       "      <td>93.000000</td>\n",
       "      <td>0.100000</td>\n",
       "      <td>1766.947595</td>\n",
       "      <td>1.386542e+06</td>\n",
       "      <td>3.300000</td>\n",
       "      <td>3.300000</td>\n",
       "      <td>0.677000</td>\n",
       "      <td>12.300000</td>\n",
       "    </tr>\n",
       "    <tr>\n",
       "      <th>75%</th>\n",
       "      <td>2012.000000</td>\n",
       "      <td>75.600000</td>\n",
       "      <td>227.000000</td>\n",
       "      <td>3.000000</td>\n",
       "      <td>7.390000</td>\n",
       "      <td>64.884537</td>\n",
       "      <td>96.000000</td>\n",
       "      <td>17.000000</td>\n",
       "      <td>56.100000</td>\n",
       "      <td>4.000000</td>\n",
       "      <td>97.000000</td>\n",
       "      <td>7.330000</td>\n",
       "      <td>97.000000</td>\n",
       "      <td>0.800000</td>\n",
       "      <td>1766.947595</td>\n",
       "      <td>4.584371e+06</td>\n",
       "      <td>7.100000</td>\n",
       "      <td>7.200000</td>\n",
       "      <td>0.772000</td>\n",
       "      <td>14.100000</td>\n",
       "    </tr>\n",
       "    <tr>\n",
       "      <th>max</th>\n",
       "      <td>2015.000000</td>\n",
       "      <td>89.000000</td>\n",
       "      <td>723.000000</td>\n",
       "      <td>3.000000</td>\n",
       "      <td>17.870000</td>\n",
       "      <td>99.080954</td>\n",
       "      <td>99.000000</td>\n",
       "      <td>50.000000</td>\n",
       "      <td>87.300000</td>\n",
       "      <td>118.000000</td>\n",
       "      <td>99.000000</td>\n",
       "      <td>17.600000</td>\n",
       "      <td>99.000000</td>\n",
       "      <td>50.600000</td>\n",
       "      <td>2494.353552</td>\n",
       "      <td>1.293859e+09</td>\n",
       "      <td>27.700000</td>\n",
       "      <td>28.600000</td>\n",
       "      <td>0.948000</td>\n",
       "      <td>20.700000</td>\n",
       "    </tr>\n",
       "  </tbody>\n",
       "</table>\n",
       "</div>"
      ],
      "text/plain": [
       "              Year  Life_Expectancy  Adult_Mortality  Infant_death  \\\n",
       "count  2938.000000      2938.000000      2938.000000   2938.000000   \n",
       "mean   2007.518720        69.234717       164.725664      1.832199   \n",
       "std       4.613841         9.509115       124.086215      1.330130   \n",
       "min    2000.000000        36.300000         1.000000      0.000000   \n",
       "25%    2004.000000        63.200000        74.000000      0.000000   \n",
       "50%    2008.000000        72.100000       144.000000      3.000000   \n",
       "75%    2012.000000        75.600000       227.000000      3.000000   \n",
       "max    2015.000000        89.000000       723.000000      3.000000   \n",
       "\n",
       "           Alcohol  Percentage_Expenditure  Hepatitis_B      Measles  \\\n",
       "count  2938.000000             2938.000000  2938.000000  2938.000000   \n",
       "mean      4.546875               40.888211    83.022124    10.754595   \n",
       "std       3.921946               29.511961    22.996984    10.477241   \n",
       "min       0.010000                0.000000     1.000000     0.000000   \n",
       "25%       1.092500                4.685343    82.000000     0.000000   \n",
       "50%       3.755000               64.870352    92.000000    17.000000   \n",
       "75%       7.390000               64.884537    96.000000    17.000000   \n",
       "max      17.870000               99.080954    99.000000    50.000000   \n",
       "\n",
       "               BMI  Under_Five_Death        Polio  Total_Expenditure  \\\n",
       "count  2938.000000       2938.000000  2938.000000        2938.000000   \n",
       "mean     38.381178          4.840027    82.617767           5.924098   \n",
       "std      19.935375          8.611519    23.367166           2.400770   \n",
       "min       1.000000          0.000000     3.000000           0.370000   \n",
       "25%      19.400000          2.000000    78.000000           4.370000   \n",
       "50%      43.500000          4.000000    93.000000           5.755000   \n",
       "75%      56.100000          4.000000    97.000000           7.330000   \n",
       "max      87.300000        118.000000    99.000000          17.600000   \n",
       "\n",
       "        Diphtheria     Hiv_Aids          GDP    Population  Thin_1_19_Years  \\\n",
       "count  2938.000000  2938.000000  2938.000000  2.938000e+03      2938.000000   \n",
       "mean     82.393125     1.742103  1289.129262  1.023085e+07         4.821886   \n",
       "std      23.655562     5.077785   672.709120  5.402242e+07         4.397621   \n",
       "min       2.000000     0.100000     1.681350  3.400000e+01         0.100000   \n",
       "25%      78.000000     0.100000   580.486996  4.189172e+05         1.600000   \n",
       "50%      93.000000     0.100000  1766.947595  1.386542e+06         3.300000   \n",
       "75%      97.000000     0.800000  1766.947595  4.584371e+06         7.100000   \n",
       "max      99.000000    50.600000  2494.353552  1.293859e+09        27.700000   \n",
       "\n",
       "       Thin_5_9_Year  Income_Comp_Resource    Schooling  \n",
       "count    2938.000000           2938.000000  2938.000000  \n",
       "mean        4.852144              0.630362    12.009837  \n",
       "std         4.485854              0.205140     3.265139  \n",
       "min         0.100000              0.000000     0.000000  \n",
       "25%         1.600000              0.504250    10.300000  \n",
       "50%         3.300000              0.677000    12.300000  \n",
       "75%         7.200000              0.772000    14.100000  \n",
       "max        28.600000              0.948000    20.700000  "
      ]
     },
     "execution_count": 63,
     "metadata": {},
     "output_type": "execute_result"
    }
   ],
   "source": [
    "df.describe()"
   ]
  },
  {
   "cell_type": "code",
   "execution_count": 64,
   "metadata": {
    "ExecuteTime": {
     "end_time": "2020-06-05T13:58:39.474778Z",
     "start_time": "2020-06-05T13:58:39.430789Z"
    },
    "colab": {},
    "colab_type": "code",
    "id": "B0VYS0VqcCDZ"
   },
   "outputs": [
    {
     "name": "stdout",
     "output_type": "stream",
     "text": [
      "Outliers Population\n",
      "[1.11213410e+07 1.11282460e+07 1.11338610e+07 1.11828170e+07\n",
      " 1.12512660e+07 1.12736610e+07 1.12741960e+07 1.12814690e+07\n",
      " 1.12932580e+07 1.13453570e+07 1.13529730e+07 1.13661890e+07\n",
      " 1.13761720e+07 1.14219840e+07 1.15366150e+07 1.15552280e+07\n",
      " 1.15567630e+07 1.16295530e+07 1.16389290e+07 1.16958630e+07\n",
      " 1.17163590e+07 1.17196730e+07 1.17317460e+07 1.17719760e+07\n",
      " 1.18278480e+07 1.18735570e+07 1.18821360e+07 1.19249460e+07\n",
      " 1.19445870e+07 1.21523540e+07 1.22222510e+07 1.22886510e+07\n",
      " 1.23366870e+07 1.23661650e+07 1.23834460e+07 1.23986910e+07\n",
      " 1.25899490e+07 1.26285960e+07 1.26338970e+07 1.26347290e+07\n",
      " 1.26546210e+07 1.27259740e+07 1.27775110e+07 1.27969250e+07\n",
      " 1.27987630e+07 1.28527550e+07 1.28531240e+07 1.28666710e+07\n",
      " 1.29162290e+07 1.31242670e+07 1.31335890e+07 1.34292620e+07\n",
      " 1.34564170e+07 1.34744890e+07 1.35584690e+07 1.35694380e+07\n",
      " 1.36184490e+07 1.36766930e+07 1.37352330e+07 1.38291770e+07\n",
      " 1.41374890e+07 1.41382160e+07 1.41614370e+07 1.42614940e+07\n",
      " 1.42647560e+07 1.42712340e+07 1.42742350e+07 1.42968680e+07\n",
      " 1.43216760e+07 1.43431110e+07 1.43495280e+07 1.43569110e+07\n",
      " 1.43866490e+07 1.44475620e+07 1.45378860e+07 1.45461110e+07\n",
      " 1.45976830e+07 1.46417240e+07 1.46683380e+07 1.46897260e+07\n",
      " 1.46912750e+07 1.46999370e+07 1.47768660e+07 1.48583350e+07\n",
      " 1.48589480e+07 1.48836260e+07 1.48858140e+07 1.49489190e+07\n",
      " 1.49769940e+07 1.51773550e+07 1.52149120e+07 1.52285250e+07\n",
      " 1.52627540e+07 1.52742340e+07 1.53996670e+07 1.54116750e+07\n",
      " 1.54196660e+07 1.54421810e+07 1.54449690e+07 1.54841920e+07\n",
      " 1.55176350e+07 1.55727530e+07 1.55962140e+07 1.56236350e+07\n",
      " 1.56276180e+07 1.56615470e+07 1.56719270e+07 1.57774510e+07\n",
      " 1.57939930e+07 1.57995420e+07 1.58139130e+07 1.59235590e+07\n",
      " 1.59255130e+07 1.59452790e+07 1.59737780e+07 1.61443680e+07\n",
      " 1.61489290e+07 1.62524290e+07 1.62817790e+07 1.62877760e+07\n",
      " 1.63197920e+07 1.63198680e+07 1.63215810e+07 1.63329740e+07\n",
      " 1.63644630e+07 1.63816960e+07 1.64255780e+07 1.64455930e+07\n",
      " 1.64778180e+07 1.64916870e+07 1.65138220e+07 1.65712160e+07\n",
      " 1.65771470e+07 1.66153940e+07 1.66619420e+07 1.67549620e+07\n",
      " 1.67651170e+07 1.67668990e+07 1.67914250e+07 1.68294420e+07\n",
      " 1.69399230e+07 1.69628460e+07 1.69832660e+07 1.69933540e+07\n",
      " 1.69955830e+07 1.71533570e+07 1.71829330e+07 1.72791410e+07\n",
      " 1.72892240e+07 1.74152660e+07 1.74629820e+07 1.75441260e+07\n",
      " 1.75726490e+07 1.75859770e+07 1.76137980e+07 1.77316340e+07\n",
      " 1.77626810e+07 1.78995620e+07 1.82946110e+07 1.83367240e+07\n",
      " 1.83953890e+07 1.84263720e+07 1.84722280e+07 1.85887580e+07\n",
      " 1.87349870e+07 1.88657160e+07 1.89124120e+07 1.89149770e+07\n",
      " 1.89385130e+07 1.89387620e+07 1.89871120e+07 1.91266370e+07\n",
      " 1.91396580e+07 1.91482190e+07 1.92979290e+07 1.94325410e+07\n",
      " 1.94335230e+07 1.95525420e+07 1.97165980e+07 1.98154810e+07\n",
      " 1.98969650e+07 1.99245220e+07 1.99836930e+07 1.99964690e+07\n",
      " 2.11544290e+07 2.13196850e+07 2.14517480e+07 2.15474630e+07\n",
      " 2.15743260e+07 2.16557150e+07 2.17439490e+07 2.19799230e+07\n",
      " 2.21134250e+07 2.21883870e+07 2.23465730e+07 2.24429710e+07\n",
      " 2.25452140e+07 2.25495470e+07 2.26712730e+07 2.27282540e+07\n",
      " 2.28345220e+07 2.28467580e+07 2.29611460e+07 2.29838220e+07\n",
      " 2.31173530e+07 2.33691310e+07 2.35654130e+07 2.37893380e+07\n",
      " 2.39344780e+07 2.41189790e+07 2.41617770e+07 2.41988110e+07\n",
      " 2.42131330e+07 2.42185650e+07 2.42516490e+07 2.45663420e+07\n",
      " 2.45775110e+07 2.48548920e+07 2.49392990e+07 2.51217960e+07\n",
      " 2.52322630e+07 2.56276260e+07 2.56593930e+07 2.59148790e+07\n",
      " 2.61435660e+07 2.62148470e+07 2.62613630e+07 2.63462510e+07\n",
      " 2.64343720e+07 2.64758590e+07 2.66167920e+07 2.66258450e+07\n",
      " 2.69377380e+07 2.69625630e+07 2.72123820e+07 2.72731940e+07\n",
      " 2.73271470e+07 2.75684360e+07 2.75828210e+07 2.76499250e+07\n",
      " 2.76979120e+07 2.79499440e+07 2.81122890e+07 2.82927240e+07\n",
      " 2.83232410e+07 2.86351280e+07 2.86562820e+07 2.86795650e+07\n",
      " 2.88496210e+07 2.91114170e+07 2.91818320e+07 2.93736460e+07\n",
      " 2.94359440e+07 2.95123680e+07 2.97599890e+07 2.98439370e+07\n",
      " 2.98946520e+07 3.12258810e+07 3.13766710e+07 3.15921530e+07\n",
      " 3.15968550e+07 3.16638960e+07 3.17316880e+07 3.19898970e+07\n",
      " 3.22825260e+07 3.23214820e+07 3.27718950e+07 3.27765710e+07\n",
      " 3.28588230e+07 3.28879280e+07 3.29554960e+07 3.32457730e+07\n",
      " 3.32884370e+07 3.33337890e+07 3.36285710e+07 3.37364940e+07\n",
      " 3.37779150e+07 3.38247690e+07 3.38831450e+07 3.39151330e+07\n",
      " 3.43859630e+07 3.51554510e+07 3.51673140e+07 3.55445640e+07\n",
      " 3.61156490e+07 3.61176370e+07 3.68195580e+07 3.68499180e+07\n",
      " 3.75537260e+07 3.75658470e+07 3.77379130e+07 3.79864120e+07\n",
      " 3.81257590e+07 3.81412670e+07 3.81654450e+07 3.81822220e+07\n",
      " 3.82586290e+07 3.83385620e+07 3.87286960e+07 3.88333380e+07\n",
      " 3.91133130e+07 3.91454880e+07 3.91484160e+07 3.98715280e+07\n",
      " 4.12238890e+07 4.14315580e+07 4.15724910e+07 4.16568790e+07\n",
      " 4.21521510e+07 4.21876450e+07 4.24868390e+07 4.25399250e+07\n",
      " 4.27241630e+07 4.29218950e+07 4.29815150e+07 4.32856340e+07\n",
      " 4.34177650e+07 4.36466290e+07 4.36531550e+07 4.38357220e+07\n",
      " 4.43745720e+07 4.43973190e+07 4.48268490e+07 4.48968560e+07\n",
      " 4.52719470e+07 4.53129370e+07 4.54161810e+07 4.58554829e+07\n",
      " 4.63629460e+07 4.64181939e+07 4.64476970e+07 4.65768970e+07\n",
      " 4.66279940e+07 4.67426970e+07 4.68814750e+07 4.72362590e+07\n",
      " 4.73429810e+07 4.76248940e+07 4.77919110e+07 4.82286970e+07\n",
      " 4.84826140e+07 4.86838650e+07 4.88464740e+07 4.88838450e+07\n",
      " 4.91715860e+07 4.91758480e+07 4.94797520e+07 4.95575733e+07\n",
      " 5.14481960e+07 5.17293454e+07 5.19241820e+07 5.33119556e+07\n",
      " 5.41467347e+07 5.76853270e+07 5.79694840e+07 5.81439790e+07\n",
      " 5.88267310e+07 5.92774170e+07 5.93794490e+07 5.95397170e+07\n",
      " 6.13574310e+07 6.22448840e+07 6.31793560e+07 6.35433220e+07\n",
      " 6.36213760e+07 6.41914740e+07 6.45549520e+07 6.53427760e+07\n",
      " 6.58241640e+07 6.61956150e+07 6.63319570e+07 6.65373310e+07\n",
      " 6.68818670e+07 6.78439790e+07 6.84167720e+07 6.84922570e+07\n",
      " 6.95972810e+07 7.13391850e+07 7.23269140e+07 7.25451440e+07\n",
      " 7.45698670e+07 7.57873330e+07 7.79915690e+07 7.82714720e+07\n",
      " 7.96653150e+07 8.16866110e+07 8.22663720e+07 8.23499250e+07\n",
      " 8.23764510e+07 8.24694220e+07 8.24884950e+07 8.25341760e+07\n",
      " 8.31848920e+07 8.46784930e+07 8.54162530e+07 8.62742370e+07\n",
      " 9.24441830e+07 9.37266240e+07 9.48877240e+07 9.68666420e+07\n",
      " 9.73667740e+07 1.11836346e+08 1.17318941e+08 1.19714696e+08\n",
      " 1.21427132e+08 1.22535969e+08 1.24723629e+08 1.25463434e+08\n",
      " 1.26365852e+08 1.27856227e+08 1.31581243e+08 1.31972533e+08\n",
      " 1.35393616e+08 1.38523285e+08 1.38939478e+08 1.42785342e+08\n",
      " 1.42849449e+08 1.43518523e+08 1.43819666e+08 1.44648257e+08\n",
      " 1.44654143e+08 1.46596557e+08 1.47139191e+08 1.53911916e+08\n",
      " 1.57571292e+08 1.58578261e+08 1.67297284e+08 1.71477855e+08\n",
      " 1.74184265e+08 1.75287587e+08 1.77911533e+08 1.81181744e+08\n",
      " 1.81712595e+08 1.82482149e+08 1.84738458e+08 1.85546257e+08\n",
      " 1.86917361e+08 1.94895996e+08 1.96796269e+08 1.98686688e+08\n",
      " 2.23614649e+08 2.32989141e+08 2.36159276e+08 2.42524123e+08\n",
      " 2.48883232e+08 2.55131116e+08 2.58162113e+08 1.12613578e+09\n",
      " 1.14411867e+09 1.16197772e+09 1.17968124e+09 1.29385929e+09]\n"
     ]
    }
   ],
   "source": [
    "print(\"Outliers Population\")\n",
    "Population_indices, Population_values = find_outliers_tukey(df['Population'])\n",
    "print(np.sort(Population_values))"
   ]
  },
  {
   "cell_type": "code",
   "execution_count": 65,
   "metadata": {
    "ExecuteTime": {
     "end_time": "2020-06-05T13:58:39.681778Z",
     "start_time": "2020-06-05T13:58:39.478780Z"
    },
    "colab": {},
    "colab_type": "code",
    "id": "zhI8uestcEfI"
   },
   "outputs": [
    {
     "name": "stdout",
     "output_type": "stream",
     "text": [
      "Outliers Thin_1_19_Years\n",
      "[15.4 15.4 15.4 15.4 15.4 15.4 15.4 15.4 15.4 15.4 15.4 15.6 15.6 15.7\n",
      " 15.7 15.7 15.7 15.8 15.9 15.9 16.1 16.1 16.3 16.3 16.3 16.5 16.6 16.7\n",
      " 16.8 16.9 17.  17.1 17.2 17.2 17.3 17.4 17.5 17.5 17.6 17.7 17.8 17.8\n",
      " 17.9 17.9 18.  18.  18.1 18.2 18.2 18.3 18.3 18.3 18.4 18.5 18.5 18.6\n",
      " 18.6 18.7 18.8 18.9 18.9 19.  19.1 19.2 19.2 19.2 19.3 19.3 19.4 19.5\n",
      " 19.5 19.6 19.7 19.7 19.8 19.9 19.9 21.  21.2 21.4 21.6 21.8 22.  22.2\n",
      " 26.7 26.8 26.8 26.9 26.9 27.  27.  27.  27.1 27.1 27.2 27.2 27.3 27.4\n",
      " 27.5 27.7]\n"
     ]
    }
   ],
   "source": [
    "print(\"Outliers Thin_1_19_Years\")\n",
    "Thin_1_19_Years_indices, Thin_1_19_Years_values = find_outliers_tukey(df['Thin_1_19_Years'])\n",
    "print(np.sort(Thin_1_19_Years_values))"
   ]
  },
  {
   "cell_type": "code",
   "execution_count": 66,
   "metadata": {
    "ExecuteTime": {
     "end_time": "2020-06-05T13:58:39.840788Z",
     "start_time": "2020-06-05T13:58:39.735780Z"
    },
    "colab": {},
    "colab_type": "code",
    "id": "ZvSj1vAFcGIm"
   },
   "outputs": [
    {
     "name": "stdout",
     "output_type": "stream",
     "text": [
      "Outliers Thin_5_9_Year\n",
      "[15.6 15.6 15.7 15.8 15.9 15.9 16.  16.  16.1 16.1 16.1 16.2 16.2 16.3\n",
      " 16.3 16.4 16.4 16.5 16.5 16.7 16.7 16.9 17.  17.1 17.2 17.3 17.3 17.4\n",
      " 17.5 17.5 17.6 17.7 17.8 17.8 18.  18.  18.1 18.1 18.2 18.2 18.3 18.3\n",
      " 18.4 18.4 18.6 18.6 18.6 18.7 18.8 18.8 18.8 18.9 19.  19.  19.1 19.1\n",
      " 19.1 19.2 19.2 19.3 19.4 19.4 19.5 19.6 19.6 19.7 19.7 19.8 19.9 19.9\n",
      " 19.9 21.1 21.1 21.3 21.3 21.5 21.5 21.7 21.8 22.  22.2 22.4 22.6 27.3\n",
      " 27.4 27.5 27.6 27.7 27.8 27.8 27.9 28.  28.  28.1 28.2 28.3 28.4 28.5\n",
      " 28.6]\n"
     ]
    }
   ],
   "source": [
    "print(\"Outliers Thin_5_9_Year\")\n",
    "Thin_5_9_Year_indices, Thin_5_9_Year_values = find_outliers_tukey(df['Thin_5_9_Year'])\n",
    "print(np.sort(Thin_5_9_Year_values))"
   ]
  },
  {
   "cell_type": "code",
   "execution_count": 67,
   "metadata": {
    "ExecuteTime": {
     "end_time": "2020-06-05T13:58:40.047781Z",
     "start_time": "2020-06-05T13:58:39.852786Z"
    },
    "colab": {},
    "colab_type": "code",
    "id": "6i5rD6VvcICY"
   },
   "outputs": [
    {
     "name": "stdout",
     "output_type": "stream",
     "text": [
      "Outliers Income Comp Resource\n",
      "[0. 0. 0. 0. 0. 0. 0. 0. 0. 0. 0. 0. 0. 0. 0. 0. 0. 0. 0. 0. 0. 0. 0. 0.\n",
      " 0. 0. 0. 0. 0. 0. 0. 0. 0. 0. 0. 0. 0. 0. 0. 0. 0. 0. 0. 0. 0. 0. 0. 0.\n",
      " 0. 0. 0. 0. 0. 0. 0. 0. 0. 0. 0. 0. 0. 0. 0. 0. 0. 0. 0. 0. 0. 0. 0. 0.\n",
      " 0. 0. 0. 0. 0. 0. 0. 0. 0. 0. 0. 0. 0. 0. 0. 0. 0. 0. 0. 0. 0. 0. 0. 0.\n",
      " 0. 0. 0. 0. 0. 0. 0. 0. 0. 0. 0. 0. 0. 0. 0. 0. 0. 0. 0. 0. 0. 0. 0. 0.\n",
      " 0. 0. 0. 0. 0. 0. 0. 0. 0. 0.]\n"
     ]
    }
   ],
   "source": [
    "print(\"Outliers Income Comp Resource\")\n",
    "Income_Comp_Resource_indices, Income_Comp_Resource_values = find_outliers_tukey(df['Income_Comp_Resource'])\n",
    "print(np.sort(Income_Comp_Resource_values))"
   ]
  },
  {
   "cell_type": "code",
   "execution_count": 68,
   "metadata": {
    "ExecuteTime": {
     "end_time": "2020-06-05T13:58:40.144783Z",
     "start_time": "2020-06-05T13:58:40.058776Z"
    },
    "colab": {},
    "colab_type": "code",
    "id": "Ood4APb-cJrw"
   },
   "outputs": [
    {
     "name": "stdout",
     "output_type": "stream",
     "text": [
      "Outliers Schooling\n",
      "[ 0.   0.   0.   0.   0.   0.   0.   0.   0.   0.   0.   0.   0.   0.\n",
      "  0.   0.   0.   0.   0.   0.   0.   0.   0.   0.   0.   0.   0.   0.\n",
      "  2.8  2.9  2.9  2.9  2.9  3.   3.1  3.3  3.4  3.5  3.5  3.5  3.6  3.7\n",
      "  3.7  3.8  3.8  3.9  3.9  3.9  4.   4.   4.2  4.3  4.3  4.3  4.3  4.4\n",
      "  4.4  4.4  4.5  4.5  4.5  4.5  4.6  4.6 19.8 20.1 20.1 20.3 20.3 20.3\n",
      " 20.3 20.4 20.4 20.4 20.5 20.6 20.7]\n"
     ]
    }
   ],
   "source": [
    "print(\"Outliers Schooling\")\n",
    "Schooling_indices, Schooling_values = find_outliers_tukey(df['Schooling'])\n",
    "print(np.sort(Schooling_values))"
   ]
  },
  {
   "cell_type": "code",
   "execution_count": 69,
   "metadata": {
    "ExecuteTime": {
     "end_time": "2020-06-05T13:58:40.239780Z",
     "start_time": "2020-06-05T13:58:40.149783Z"
    },
    "colab": {},
    "colab_type": "code",
    "id": "QccoVNs3cLkK"
   },
   "outputs": [
    {
     "data": {
      "text/plain": [
       "Index(['Country', 'Year', 'Status', 'Life_Expectancy', 'Adult_Mortality',\n",
       "       'Infant_death', 'Alcohol', 'Percentage_Expenditure', 'Hepatitis_B',\n",
       "       'Measles', 'BMI', 'Under_Five_Death', 'Polio', 'Total_Expenditure',\n",
       "       'Diphtheria', 'Hiv_Aids', 'GDP', 'Population', 'Thin_1_19_Years',\n",
       "       'Thin_5_9_Year', 'Income_Comp_Resource', 'Schooling'],\n",
       "      dtype='object')"
      ]
     },
     "execution_count": 69,
     "metadata": {},
     "output_type": "execute_result"
    }
   ],
   "source": [
    "df.columns"
   ]
  },
  {
   "cell_type": "code",
   "execution_count": 70,
   "metadata": {
    "ExecuteTime": {
     "end_time": "2020-06-05T13:58:40.351781Z",
     "start_time": "2020-06-05T13:58:40.245778Z"
    },
    "colab": {},
    "colab_type": "code",
    "id": "Mv3YU8NedY22"
   },
   "outputs": [],
   "source": [
    "# UTILIZE AMPLITUDE INTERQUARTIL E ACABE COM TODOS OUTLIERS DESTE DATASET\n",
    "# dica:\n",
    "#q1 = x.quantile(.25)\n",
    "#q3 = x.quantile(.75)\n",
    "#iqr = q3 - q1 #INTER QUARTILE RANGE\n",
    "#floor = q1 - 1.5*iqr # se menor, OUTLIER\n",
    "#ceiling = q3 + 1.5*iqr # se maior, OUTLIER"
   ]
  },
  {
   "cell_type": "markdown",
   "metadata": {
    "colab_type": "text",
    "id": "7hYNhquz8Ati"
   },
   "source": [
    "## Dataviz"
   ]
  },
  {
   "cell_type": "code",
   "execution_count": 71,
   "metadata": {
    "ExecuteTime": {
     "end_time": "2020-06-05T13:58:44.571783Z",
     "start_time": "2020-06-05T13:58:40.356780Z"
    },
    "colab": {},
    "colab_type": "code",
    "id": "up4RFPvXdUvb"
   },
   "outputs": [
    {
     "data": {
      "text/plain": [
       "<matplotlib.axes._subplots.AxesSubplot at 0xab53710>"
      ]
     },
     "execution_count": 71,
     "metadata": {},
     "output_type": "execute_result"
    },
    {
     "data": {
      "image/png": "[encoded data removed]",
      "text/plain": [
       "<Figure size 1440x1080 with 2 Axes>"
      ]
     },
     "metadata": {
      "needs_background": "light"
     },
     "output_type": "display_data"
    }
   ],
   "source": [
    "plt.figure(figsize=(20,15))\n",
    "sns.heatmap(df.corr(),annot=True,linewidths=7)"
   ]
  },
  {
   "cell_type": "markdown",
   "metadata": {
    "colab_type": "text",
    "id": "5_spAQ2NdfZJ"
   },
   "source": [
    "## One hot Encoder para \"Country\"(str) ?!"
   ]
  },
  {
   "cell_type": "code",
   "execution_count": 72,
   "metadata": {
    "ExecuteTime": {
     "end_time": "2020-06-05T13:58:44.635781Z",
     "start_time": "2020-06-05T13:58:44.576781Z"
    },
    "colab": {},
    "colab_type": "code",
    "id": "F6VDHE96ddrm"
   },
   "outputs": [
    {
     "data": {
      "text/html": [
       "<div>\n",
       "<style scoped>\n",
       "    .dataframe tbody tr th:only-of-type {\n",
       "        vertical-align: middle;\n",
       "    }\n",
       "\n",
       "    .dataframe tbody tr th {\n",
       "        vertical-align: top;\n",
       "    }\n",
       "\n",
       "    .dataframe thead th {\n",
       "        text-align: right;\n",
       "    }\n",
       "</style>\n",
       "<table border=\"1\" class=\"dataframe\">\n",
       "  <thead>\n",
       "    <tr style=\"text-align: right;\">\n",
       "      <th></th>\n",
       "      <th>Country_Afghanistan</th>\n",
       "      <th>Country_Albania</th>\n",
       "      <th>Country_Algeria</th>\n",
       "      <th>Country_Angola</th>\n",
       "      <th>Country_Antigua and Barbuda</th>\n",
       "      <th>Country_Argentina</th>\n",
       "      <th>Country_Armenia</th>\n",
       "      <th>Country_Australia</th>\n",
       "      <th>Country_Austria</th>\n",
       "      <th>Country_Azerbaijan</th>\n",
       "      <th>...</th>\n",
       "      <th>Country_United Republic of Tanzania</th>\n",
       "      <th>Country_United States of America</th>\n",
       "      <th>Country_Uruguay</th>\n",
       "      <th>Country_Uzbekistan</th>\n",
       "      <th>Country_Vanuatu</th>\n",
       "      <th>Country_Venezuela (Bolivarian Republic of)</th>\n",
       "      <th>Country_Viet Nam</th>\n",
       "      <th>Country_Yemen</th>\n",
       "      <th>Country_Zambia</th>\n",
       "      <th>Country_Zimbabwe</th>\n",
       "    </tr>\n",
       "  </thead>\n",
       "  <tbody>\n",
       "    <tr>\n",
       "      <th>0</th>\n",
       "      <td>1</td>\n",
       "      <td>0</td>\n",
       "      <td>0</td>\n",
       "      <td>0</td>\n",
       "      <td>0</td>\n",
       "      <td>0</td>\n",
       "      <td>0</td>\n",
       "      <td>0</td>\n",
       "      <td>0</td>\n",
       "      <td>0</td>\n",
       "      <td>...</td>\n",
       "      <td>0</td>\n",
       "      <td>0</td>\n",
       "      <td>0</td>\n",
       "      <td>0</td>\n",
       "      <td>0</td>\n",
       "      <td>0</td>\n",
       "      <td>0</td>\n",
       "      <td>0</td>\n",
       "      <td>0</td>\n",
       "      <td>0</td>\n",
       "    </tr>\n",
       "    <tr>\n",
       "      <th>1</th>\n",
       "      <td>1</td>\n",
       "      <td>0</td>\n",
       "      <td>0</td>\n",
       "      <td>0</td>\n",
       "      <td>0</td>\n",
       "      <td>0</td>\n",
       "      <td>0</td>\n",
       "      <td>0</td>\n",
       "      <td>0</td>\n",
       "      <td>0</td>\n",
       "      <td>...</td>\n",
       "      <td>0</td>\n",
       "      <td>0</td>\n",
       "      <td>0</td>\n",
       "      <td>0</td>\n",
       "      <td>0</td>\n",
       "      <td>0</td>\n",
       "      <td>0</td>\n",
       "      <td>0</td>\n",
       "      <td>0</td>\n",
       "      <td>0</td>\n",
       "    </tr>\n",
       "    <tr>\n",
       "      <th>2</th>\n",
       "      <td>1</td>\n",
       "      <td>0</td>\n",
       "      <td>0</td>\n",
       "      <td>0</td>\n",
       "      <td>0</td>\n",
       "      <td>0</td>\n",
       "      <td>0</td>\n",
       "      <td>0</td>\n",
       "      <td>0</td>\n",
       "      <td>0</td>\n",
       "      <td>...</td>\n",
       "      <td>0</td>\n",
       "      <td>0</td>\n",
       "      <td>0</td>\n",
       "      <td>0</td>\n",
       "      <td>0</td>\n",
       "      <td>0</td>\n",
       "      <td>0</td>\n",
       "      <td>0</td>\n",
       "      <td>0</td>\n",
       "      <td>0</td>\n",
       "    </tr>\n",
       "    <tr>\n",
       "      <th>3</th>\n",
       "      <td>1</td>\n",
       "      <td>0</td>\n",
       "      <td>0</td>\n",
       "      <td>0</td>\n",
       "      <td>0</td>\n",
       "      <td>0</td>\n",
       "      <td>0</td>\n",
       "      <td>0</td>\n",
       "      <td>0</td>\n",
       "      <td>0</td>\n",
       "      <td>...</td>\n",
       "      <td>0</td>\n",
       "      <td>0</td>\n",
       "      <td>0</td>\n",
       "      <td>0</td>\n",
       "      <td>0</td>\n",
       "      <td>0</td>\n",
       "      <td>0</td>\n",
       "      <td>0</td>\n",
       "      <td>0</td>\n",
       "      <td>0</td>\n",
       "    </tr>\n",
       "    <tr>\n",
       "      <th>4</th>\n",
       "      <td>1</td>\n",
       "      <td>0</td>\n",
       "      <td>0</td>\n",
       "      <td>0</td>\n",
       "      <td>0</td>\n",
       "      <td>0</td>\n",
       "      <td>0</td>\n",
       "      <td>0</td>\n",
       "      <td>0</td>\n",
       "      <td>0</td>\n",
       "      <td>...</td>\n",
       "      <td>0</td>\n",
       "      <td>0</td>\n",
       "      <td>0</td>\n",
       "      <td>0</td>\n",
       "      <td>0</td>\n",
       "      <td>0</td>\n",
       "      <td>0</td>\n",
       "      <td>0</td>\n",
       "      <td>0</td>\n",
       "      <td>0</td>\n",
       "    </tr>\n",
       "    <tr>\n",
       "      <th>...</th>\n",
       "      <td>...</td>\n",
       "      <td>...</td>\n",
       "      <td>...</td>\n",
       "      <td>...</td>\n",
       "      <td>...</td>\n",
       "      <td>...</td>\n",
       "      <td>...</td>\n",
       "      <td>...</td>\n",
       "      <td>...</td>\n",
       "      <td>...</td>\n",
       "      <td>...</td>\n",
       "      <td>...</td>\n",
       "      <td>...</td>\n",
       "      <td>...</td>\n",
       "      <td>...</td>\n",
       "      <td>...</td>\n",
       "      <td>...</td>\n",
       "      <td>...</td>\n",
       "      <td>...</td>\n",
       "      <td>...</td>\n",
       "      <td>...</td>\n",
       "    </tr>\n",
       "    <tr>\n",
       "      <th>2933</th>\n",
       "      <td>0</td>\n",
       "      <td>0</td>\n",
       "      <td>0</td>\n",
       "      <td>0</td>\n",
       "      <td>0</td>\n",
       "      <td>0</td>\n",
       "      <td>0</td>\n",
       "      <td>0</td>\n",
       "      <td>0</td>\n",
       "      <td>0</td>\n",
       "      <td>...</td>\n",
       "      <td>0</td>\n",
       "      <td>0</td>\n",
       "      <td>0</td>\n",
       "      <td>0</td>\n",
       "      <td>0</td>\n",
       "      <td>0</td>\n",
       "      <td>0</td>\n",
       "      <td>0</td>\n",
       "      <td>0</td>\n",
       "      <td>1</td>\n",
       "    </tr>\n",
       "    <tr>\n",
       "      <th>2934</th>\n",
       "      <td>0</td>\n",
       "      <td>0</td>\n",
       "      <td>0</td>\n",
       "      <td>0</td>\n",
       "      <td>0</td>\n",
       "      <td>0</td>\n",
       "      <td>0</td>\n",
       "      <td>0</td>\n",
       "      <td>0</td>\n",
       "      <td>0</td>\n",
       "      <td>...</td>\n",
       "      <td>0</td>\n",
       "      <td>0</td>\n",
       "      <td>0</td>\n",
       "      <td>0</td>\n",
       "      <td>0</td>\n",
       "      <td>0</td>\n",
       "      <td>0</td>\n",
       "      <td>0</td>\n",
       "      <td>0</td>\n",
       "      <td>1</td>\n",
       "    </tr>\n",
       "    <tr>\n",
       "      <th>2935</th>\n",
       "      <td>0</td>\n",
       "      <td>0</td>\n",
       "      <td>0</td>\n",
       "      <td>0</td>\n",
       "      <td>0</td>\n",
       "      <td>0</td>\n",
       "      <td>0</td>\n",
       "      <td>0</td>\n",
       "      <td>0</td>\n",
       "      <td>0</td>\n",
       "      <td>...</td>\n",
       "      <td>0</td>\n",
       "      <td>0</td>\n",
       "      <td>0</td>\n",
       "      <td>0</td>\n",
       "      <td>0</td>\n",
       "      <td>0</td>\n",
       "      <td>0</td>\n",
       "      <td>0</td>\n",
       "      <td>0</td>\n",
       "      <td>1</td>\n",
       "    </tr>\n",
       "    <tr>\n",
       "      <th>2936</th>\n",
       "      <td>0</td>\n",
       "      <td>0</td>\n",
       "      <td>0</td>\n",
       "      <td>0</td>\n",
       "      <td>0</td>\n",
       "      <td>0</td>\n",
       "      <td>0</td>\n",
       "      <td>0</td>\n",
       "      <td>0</td>\n",
       "      <td>0</td>\n",
       "      <td>...</td>\n",
       "      <td>0</td>\n",
       "      <td>0</td>\n",
       "      <td>0</td>\n",
       "      <td>0</td>\n",
       "      <td>0</td>\n",
       "      <td>0</td>\n",
       "      <td>0</td>\n",
       "      <td>0</td>\n",
       "      <td>0</td>\n",
       "      <td>1</td>\n",
       "    </tr>\n",
       "    <tr>\n",
       "      <th>2937</th>\n",
       "      <td>0</td>\n",
       "      <td>0</td>\n",
       "      <td>0</td>\n",
       "      <td>0</td>\n",
       "      <td>0</td>\n",
       "      <td>0</td>\n",
       "      <td>0</td>\n",
       "      <td>0</td>\n",
       "      <td>0</td>\n",
       "      <td>0</td>\n",
       "      <td>...</td>\n",
       "      <td>0</td>\n",
       "      <td>0</td>\n",
       "      <td>0</td>\n",
       "      <td>0</td>\n",
       "      <td>0</td>\n",
       "      <td>0</td>\n",
       "      <td>0</td>\n",
       "      <td>0</td>\n",
       "      <td>0</td>\n",
       "      <td>1</td>\n",
       "    </tr>\n",
       "  </tbody>\n",
       "</table>\n",
       "<p>2938 rows × 193 columns</p>\n",
       "</div>"
      ],
      "text/plain": [
       "      Country_Afghanistan  Country_Albania  Country_Algeria  Country_Angola  \\\n",
       "0                       1                0                0               0   \n",
       "1                       1                0                0               0   \n",
       "2                       1                0                0               0   \n",
       "3                       1                0                0               0   \n",
       "4                       1                0                0               0   \n",
       "...                   ...              ...              ...             ...   \n",
       "2933                    0                0                0               0   \n",
       "2934                    0                0                0               0   \n",
       "2935                    0                0                0               0   \n",
       "2936                    0                0                0               0   \n",
       "2937                    0                0                0               0   \n",
       "\n",
       "      Country_Antigua and Barbuda  Country_Argentina  Country_Armenia  \\\n",
       "0                               0                  0                0   \n",
       "1                               0                  0                0   \n",
       "2                               0                  0                0   \n",
       "3                               0                  0                0   \n",
       "4                               0                  0                0   \n",
       "...                           ...                ...              ...   \n",
       "2933                            0                  0                0   \n",
       "2934                            0                  0                0   \n",
       "2935                            0                  0                0   \n",
       "2936                            0                  0                0   \n",
       "2937                            0                  0                0   \n",
       "\n",
       "      Country_Australia  Country_Austria  Country_Azerbaijan  ...  \\\n",
       "0                     0                0                   0  ...   \n",
       "1                     0                0                   0  ...   \n",
       "2                     0                0                   0  ...   \n",
       "3                     0                0                   0  ...   \n",
       "4                     0                0                   0  ...   \n",
       "...                 ...              ...                 ...  ...   \n",
       "2933                  0                0                   0  ...   \n",
       "2934                  0                0                   0  ...   \n",
       "2935                  0                0                   0  ...   \n",
       "2936                  0                0                   0  ...   \n",
       "2937                  0                0                   0  ...   \n",
       "\n",
       "      Country_United Republic of Tanzania  Country_United States of America  \\\n",
       "0                                       0                                 0   \n",
       "1                                       0                                 0   \n",
       "2                                       0                                 0   \n",
       "3                                       0                                 0   \n",
       "4                                       0                                 0   \n",
       "...                                   ...                               ...   \n",
       "2933                                    0                                 0   \n",
       "2934                                    0                                 0   \n",
       "2935                                    0                                 0   \n",
       "2936                                    0                                 0   \n",
       "2937                                    0                                 0   \n",
       "\n",
       "      Country_Uruguay  Country_Uzbekistan  Country_Vanuatu  \\\n",
       "0                   0                   0                0   \n",
       "1                   0                   0                0   \n",
       "2                   0                   0                0   \n",
       "3                   0                   0                0   \n",
       "4                   0                   0                0   \n",
       "...               ...                 ...              ...   \n",
       "2933                0                   0                0   \n",
       "2934                0                   0                0   \n",
       "2935                0                   0                0   \n",
       "2936                0                   0                0   \n",
       "2937                0                   0                0   \n",
       "\n",
       "      Country_Venezuela (Bolivarian Republic of)  Country_Viet Nam  \\\n",
       "0                                              0                 0   \n",
       "1                                              0                 0   \n",
       "2                                              0                 0   \n",
       "3                                              0                 0   \n",
       "4                                              0                 0   \n",
       "...                                          ...               ...   \n",
       "2933                                           0                 0   \n",
       "2934                                           0                 0   \n",
       "2935                                           0                 0   \n",
       "2936                                           0                 0   \n",
       "2937                                           0                 0   \n",
       "\n",
       "      Country_Yemen  Country_Zambia  Country_Zimbabwe  \n",
       "0                 0               0                 0  \n",
       "1                 0               0                 0  \n",
       "2                 0               0                 0  \n",
       "3                 0               0                 0  \n",
       "4                 0               0                 0  \n",
       "...             ...             ...               ...  \n",
       "2933              0               0                 1  \n",
       "2934              0               0                 1  \n",
       "2935              0               0                 1  \n",
       "2936              0               0                 1  \n",
       "2937              0               0                 1  \n",
       "\n",
       "[2938 rows x 193 columns]"
      ]
     },
     "execution_count": 72,
     "metadata": {},
     "output_type": "execute_result"
    }
   ],
   "source": [
    "pd.get_dummies(df.Country,prefix = \"Country\")"
   ]
  },
  {
   "cell_type": "code",
   "execution_count": 73,
   "metadata": {
    "ExecuteTime": {
     "end_time": "2020-06-05T13:58:44.763781Z",
     "start_time": "2020-06-05T13:58:44.638786Z"
    },
    "colab": {},
    "colab_type": "code",
    "id": "JgLhTc_MdnvW"
   },
   "outputs": [],
   "source": [
    "Country_dummies = pd.get_dummies(df.Country,prefix = \"Country\").iloc[:,0:]"
   ]
  },
  {
   "cell_type": "code",
   "execution_count": 74,
   "metadata": {
    "ExecuteTime": {
     "end_time": "2020-06-05T13:58:44.890781Z",
     "start_time": "2020-06-05T13:58:44.766781Z"
    },
    "colab": {},
    "colab_type": "code",
    "id": "h5xZYLDadqU2"
   },
   "outputs": [
    {
     "data": {
      "text/html": [
       "<div>\n",
       "<style scoped>\n",
       "    .dataframe tbody tr th:only-of-type {\n",
       "        vertical-align: middle;\n",
       "    }\n",
       "\n",
       "    .dataframe tbody tr th {\n",
       "        vertical-align: top;\n",
       "    }\n",
       "\n",
       "    .dataframe thead th {\n",
       "        text-align: right;\n",
       "    }\n",
       "</style>\n",
       "<table border=\"1\" class=\"dataframe\">\n",
       "  <thead>\n",
       "    <tr style=\"text-align: right;\">\n",
       "      <th></th>\n",
       "      <th>Country</th>\n",
       "      <th>Year</th>\n",
       "      <th>Status</th>\n",
       "      <th>Life_Expectancy</th>\n",
       "      <th>Adult_Mortality</th>\n",
       "      <th>Infant_death</th>\n",
       "      <th>Alcohol</th>\n",
       "      <th>Percentage_Expenditure</th>\n",
       "      <th>Hepatitis_B</th>\n",
       "      <th>Measles</th>\n",
       "      <th>...</th>\n",
       "      <th>Country_United Republic of Tanzania</th>\n",
       "      <th>Country_United States of America</th>\n",
       "      <th>Country_Uruguay</th>\n",
       "      <th>Country_Uzbekistan</th>\n",
       "      <th>Country_Vanuatu</th>\n",
       "      <th>Country_Venezuela (Bolivarian Republic of)</th>\n",
       "      <th>Country_Viet Nam</th>\n",
       "      <th>Country_Yemen</th>\n",
       "      <th>Country_Zambia</th>\n",
       "      <th>Country_Zimbabwe</th>\n",
       "    </tr>\n",
       "  </thead>\n",
       "  <tbody>\n",
       "    <tr>\n",
       "      <th>0</th>\n",
       "      <td>Afghanistan</td>\n",
       "      <td>2015</td>\n",
       "      <td>Developing</td>\n",
       "      <td>65.0</td>\n",
       "      <td>263.0</td>\n",
       "      <td>3</td>\n",
       "      <td>0.01</td>\n",
       "      <td>71.279624</td>\n",
       "      <td>65.0</td>\n",
       "      <td>17</td>\n",
       "      <td>...</td>\n",
       "      <td>0</td>\n",
       "      <td>0</td>\n",
       "      <td>0</td>\n",
       "      <td>0</td>\n",
       "      <td>0</td>\n",
       "      <td>0</td>\n",
       "      <td>0</td>\n",
       "      <td>0</td>\n",
       "      <td>0</td>\n",
       "      <td>0</td>\n",
       "    </tr>\n",
       "    <tr>\n",
       "      <th>1</th>\n",
       "      <td>Afghanistan</td>\n",
       "      <td>2014</td>\n",
       "      <td>Developing</td>\n",
       "      <td>59.9</td>\n",
       "      <td>271.0</td>\n",
       "      <td>3</td>\n",
       "      <td>0.01</td>\n",
       "      <td>73.523582</td>\n",
       "      <td>62.0</td>\n",
       "      <td>17</td>\n",
       "      <td>...</td>\n",
       "      <td>0</td>\n",
       "      <td>0</td>\n",
       "      <td>0</td>\n",
       "      <td>0</td>\n",
       "      <td>0</td>\n",
       "      <td>0</td>\n",
       "      <td>0</td>\n",
       "      <td>0</td>\n",
       "      <td>0</td>\n",
       "      <td>0</td>\n",
       "    </tr>\n",
       "    <tr>\n",
       "      <th>2</th>\n",
       "      <td>Afghanistan</td>\n",
       "      <td>2013</td>\n",
       "      <td>Developing</td>\n",
       "      <td>59.9</td>\n",
       "      <td>268.0</td>\n",
       "      <td>3</td>\n",
       "      <td>0.01</td>\n",
       "      <td>73.219243</td>\n",
       "      <td>64.0</td>\n",
       "      <td>17</td>\n",
       "      <td>...</td>\n",
       "      <td>0</td>\n",
       "      <td>0</td>\n",
       "      <td>0</td>\n",
       "      <td>0</td>\n",
       "      <td>0</td>\n",
       "      <td>0</td>\n",
       "      <td>0</td>\n",
       "      <td>0</td>\n",
       "      <td>0</td>\n",
       "      <td>0</td>\n",
       "    </tr>\n",
       "    <tr>\n",
       "      <th>3</th>\n",
       "      <td>Afghanistan</td>\n",
       "      <td>2012</td>\n",
       "      <td>Developing</td>\n",
       "      <td>59.5</td>\n",
       "      <td>272.0</td>\n",
       "      <td>3</td>\n",
       "      <td>0.01</td>\n",
       "      <td>78.184215</td>\n",
       "      <td>67.0</td>\n",
       "      <td>17</td>\n",
       "      <td>...</td>\n",
       "      <td>0</td>\n",
       "      <td>0</td>\n",
       "      <td>0</td>\n",
       "      <td>0</td>\n",
       "      <td>0</td>\n",
       "      <td>0</td>\n",
       "      <td>0</td>\n",
       "      <td>0</td>\n",
       "      <td>0</td>\n",
       "      <td>0</td>\n",
       "    </tr>\n",
       "    <tr>\n",
       "      <th>4</th>\n",
       "      <td>Afghanistan</td>\n",
       "      <td>2011</td>\n",
       "      <td>Developing</td>\n",
       "      <td>59.2</td>\n",
       "      <td>275.0</td>\n",
       "      <td>3</td>\n",
       "      <td>0.01</td>\n",
       "      <td>7.097109</td>\n",
       "      <td>68.0</td>\n",
       "      <td>17</td>\n",
       "      <td>...</td>\n",
       "      <td>0</td>\n",
       "      <td>0</td>\n",
       "      <td>0</td>\n",
       "      <td>0</td>\n",
       "      <td>0</td>\n",
       "      <td>0</td>\n",
       "      <td>0</td>\n",
       "      <td>0</td>\n",
       "      <td>0</td>\n",
       "      <td>0</td>\n",
       "    </tr>\n",
       "  </tbody>\n",
       "</table>\n",
       "<p>5 rows × 215 columns</p>\n",
       "</div>"
      ],
      "text/plain": [
       "       Country  Year      Status  Life_Expectancy  Adult_Mortality  \\\n",
       "0  Afghanistan  2015  Developing             65.0            263.0   \n",
       "1  Afghanistan  2014  Developing             59.9            271.0   \n",
       "2  Afghanistan  2013  Developing             59.9            268.0   \n",
       "3  Afghanistan  2012  Developing             59.5            272.0   \n",
       "4  Afghanistan  2011  Developing             59.2            275.0   \n",
       "\n",
       "   Infant_death  Alcohol  Percentage_Expenditure  Hepatitis_B  Measles  ...  \\\n",
       "0             3     0.01               71.279624         65.0       17  ...   \n",
       "1             3     0.01               73.523582         62.0       17  ...   \n",
       "2             3     0.01               73.219243         64.0       17  ...   \n",
       "3             3     0.01               78.184215         67.0       17  ...   \n",
       "4             3     0.01                7.097109         68.0       17  ...   \n",
       "\n",
       "   Country_United Republic of Tanzania  Country_United States of America  \\\n",
       "0                                    0                                 0   \n",
       "1                                    0                                 0   \n",
       "2                                    0                                 0   \n",
       "3                                    0                                 0   \n",
       "4                                    0                                 0   \n",
       "\n",
       "   Country_Uruguay  Country_Uzbekistan  Country_Vanuatu  \\\n",
       "0                0                   0                0   \n",
       "1                0                   0                0   \n",
       "2                0                   0                0   \n",
       "3                0                   0                0   \n",
       "4                0                   0                0   \n",
       "\n",
       "   Country_Venezuela (Bolivarian Republic of)  Country_Viet Nam  \\\n",
       "0                                           0                 0   \n",
       "1                                           0                 0   \n",
       "2                                           0                 0   \n",
       "3                                           0                 0   \n",
       "4                                           0                 0   \n",
       "\n",
       "   Country_Yemen  Country_Zambia  Country_Zimbabwe  \n",
       "0              0               0                 0  \n",
       "1              0               0                 0  \n",
       "2              0               0                 0  \n",
       "3              0               0                 0  \n",
       "4              0               0                 0  \n",
       "\n",
       "[5 rows x 215 columns]"
      ]
     },
     "execution_count": 74,
     "metadata": {},
     "output_type": "execute_result"
    }
   ],
   "source": [
    "df = pd.concat([df,Country_dummies],axis = 1)\n",
    "df.head()"
   ]
  },
  {
   "cell_type": "code",
   "execution_count": 75,
   "metadata": {
    "ExecuteTime": {
     "end_time": "2020-06-05T13:58:44.985778Z",
     "start_time": "2020-06-05T13:58:44.895779Z"
    },
    "colab": {},
    "colab_type": "code",
    "id": "IU9aFDoLdsCW"
   },
   "outputs": [
    {
     "data": {
      "text/html": [
       "<div>\n",
       "<style scoped>\n",
       "    .dataframe tbody tr th:only-of-type {\n",
       "        vertical-align: middle;\n",
       "    }\n",
       "\n",
       "    .dataframe tbody tr th {\n",
       "        vertical-align: top;\n",
       "    }\n",
       "\n",
       "    .dataframe thead th {\n",
       "        text-align: right;\n",
       "    }\n",
       "</style>\n",
       "<table border=\"1\" class=\"dataframe\">\n",
       "  <thead>\n",
       "    <tr style=\"text-align: right;\">\n",
       "      <th></th>\n",
       "      <th>Year</th>\n",
       "      <th>Status</th>\n",
       "      <th>Life_Expectancy</th>\n",
       "      <th>Adult_Mortality</th>\n",
       "      <th>Infant_death</th>\n",
       "      <th>Alcohol</th>\n",
       "      <th>Percentage_Expenditure</th>\n",
       "      <th>Hepatitis_B</th>\n",
       "      <th>Measles</th>\n",
       "      <th>BMI</th>\n",
       "      <th>...</th>\n",
       "      <th>Country_United Republic of Tanzania</th>\n",
       "      <th>Country_United States of America</th>\n",
       "      <th>Country_Uruguay</th>\n",
       "      <th>Country_Uzbekistan</th>\n",
       "      <th>Country_Vanuatu</th>\n",
       "      <th>Country_Venezuela (Bolivarian Republic of)</th>\n",
       "      <th>Country_Viet Nam</th>\n",
       "      <th>Country_Yemen</th>\n",
       "      <th>Country_Zambia</th>\n",
       "      <th>Country_Zimbabwe</th>\n",
       "    </tr>\n",
       "  </thead>\n",
       "  <tbody>\n",
       "    <tr>\n",
       "      <th>0</th>\n",
       "      <td>2015</td>\n",
       "      <td>Developing</td>\n",
       "      <td>65.0</td>\n",
       "      <td>263.0</td>\n",
       "      <td>3</td>\n",
       "      <td>0.01</td>\n",
       "      <td>71.279624</td>\n",
       "      <td>65.0</td>\n",
       "      <td>17</td>\n",
       "      <td>19.1</td>\n",
       "      <td>...</td>\n",
       "      <td>0</td>\n",
       "      <td>0</td>\n",
       "      <td>0</td>\n",
       "      <td>0</td>\n",
       "      <td>0</td>\n",
       "      <td>0</td>\n",
       "      <td>0</td>\n",
       "      <td>0</td>\n",
       "      <td>0</td>\n",
       "      <td>0</td>\n",
       "    </tr>\n",
       "    <tr>\n",
       "      <th>1</th>\n",
       "      <td>2014</td>\n",
       "      <td>Developing</td>\n",
       "      <td>59.9</td>\n",
       "      <td>271.0</td>\n",
       "      <td>3</td>\n",
       "      <td>0.01</td>\n",
       "      <td>73.523582</td>\n",
       "      <td>62.0</td>\n",
       "      <td>17</td>\n",
       "      <td>18.6</td>\n",
       "      <td>...</td>\n",
       "      <td>0</td>\n",
       "      <td>0</td>\n",
       "      <td>0</td>\n",
       "      <td>0</td>\n",
       "      <td>0</td>\n",
       "      <td>0</td>\n",
       "      <td>0</td>\n",
       "      <td>0</td>\n",
       "      <td>0</td>\n",
       "      <td>0</td>\n",
       "    </tr>\n",
       "    <tr>\n",
       "      <th>2</th>\n",
       "      <td>2013</td>\n",
       "      <td>Developing</td>\n",
       "      <td>59.9</td>\n",
       "      <td>268.0</td>\n",
       "      <td>3</td>\n",
       "      <td>0.01</td>\n",
       "      <td>73.219243</td>\n",
       "      <td>64.0</td>\n",
       "      <td>17</td>\n",
       "      <td>18.1</td>\n",
       "      <td>...</td>\n",
       "      <td>0</td>\n",
       "      <td>0</td>\n",
       "      <td>0</td>\n",
       "      <td>0</td>\n",
       "      <td>0</td>\n",
       "      <td>0</td>\n",
       "      <td>0</td>\n",
       "      <td>0</td>\n",
       "      <td>0</td>\n",
       "      <td>0</td>\n",
       "    </tr>\n",
       "    <tr>\n",
       "      <th>3</th>\n",
       "      <td>2012</td>\n",
       "      <td>Developing</td>\n",
       "      <td>59.5</td>\n",
       "      <td>272.0</td>\n",
       "      <td>3</td>\n",
       "      <td>0.01</td>\n",
       "      <td>78.184215</td>\n",
       "      <td>67.0</td>\n",
       "      <td>17</td>\n",
       "      <td>17.6</td>\n",
       "      <td>...</td>\n",
       "      <td>0</td>\n",
       "      <td>0</td>\n",
       "      <td>0</td>\n",
       "      <td>0</td>\n",
       "      <td>0</td>\n",
       "      <td>0</td>\n",
       "      <td>0</td>\n",
       "      <td>0</td>\n",
       "      <td>0</td>\n",
       "      <td>0</td>\n",
       "    </tr>\n",
       "    <tr>\n",
       "      <th>4</th>\n",
       "      <td>2011</td>\n",
       "      <td>Developing</td>\n",
       "      <td>59.2</td>\n",
       "      <td>275.0</td>\n",
       "      <td>3</td>\n",
       "      <td>0.01</td>\n",
       "      <td>7.097109</td>\n",
       "      <td>68.0</td>\n",
       "      <td>17</td>\n",
       "      <td>17.2</td>\n",
       "      <td>...</td>\n",
       "      <td>0</td>\n",
       "      <td>0</td>\n",
       "      <td>0</td>\n",
       "      <td>0</td>\n",
       "      <td>0</td>\n",
       "      <td>0</td>\n",
       "      <td>0</td>\n",
       "      <td>0</td>\n",
       "      <td>0</td>\n",
       "      <td>0</td>\n",
       "    </tr>\n",
       "  </tbody>\n",
       "</table>\n",
       "<p>5 rows × 214 columns</p>\n",
       "</div>"
      ],
      "text/plain": [
       "   Year      Status  Life_Expectancy  Adult_Mortality  Infant_death  Alcohol  \\\n",
       "0  2015  Developing             65.0            263.0             3     0.01   \n",
       "1  2014  Developing             59.9            271.0             3     0.01   \n",
       "2  2013  Developing             59.9            268.0             3     0.01   \n",
       "3  2012  Developing             59.5            272.0             3     0.01   \n",
       "4  2011  Developing             59.2            275.0             3     0.01   \n",
       "\n",
       "   Percentage_Expenditure  Hepatitis_B  Measles   BMI  ...  \\\n",
       "0               71.279624         65.0       17  19.1  ...   \n",
       "1               73.523582         62.0       17  18.6  ...   \n",
       "2               73.219243         64.0       17  18.1  ...   \n",
       "3               78.184215         67.0       17  17.6  ...   \n",
       "4                7.097109         68.0       17  17.2  ...   \n",
       "\n",
       "   Country_United Republic of Tanzania  Country_United States of America  \\\n",
       "0                                    0                                 0   \n",
       "1                                    0                                 0   \n",
       "2                                    0                                 0   \n",
       "3                                    0                                 0   \n",
       "4                                    0                                 0   \n",
       "\n",
       "   Country_Uruguay  Country_Uzbekistan  Country_Vanuatu  \\\n",
       "0                0                   0                0   \n",
       "1                0                   0                0   \n",
       "2                0                   0                0   \n",
       "3                0                   0                0   \n",
       "4                0                   0                0   \n",
       "\n",
       "   Country_Venezuela (Bolivarian Republic of)  Country_Viet Nam  \\\n",
       "0                                           0                 0   \n",
       "1                                           0                 0   \n",
       "2                                           0                 0   \n",
       "3                                           0                 0   \n",
       "4                                           0                 0   \n",
       "\n",
       "   Country_Yemen  Country_Zambia  Country_Zimbabwe  \n",
       "0              0               0                 0  \n",
       "1              0               0                 0  \n",
       "2              0               0                 0  \n",
       "3              0               0                 0  \n",
       "4              0               0                 0  \n",
       "\n",
       "[5 rows x 214 columns]"
      ]
     },
     "execution_count": 75,
     "metadata": {},
     "output_type": "execute_result"
    }
   ],
   "source": [
    "df=df.drop('Country',axis=1)\n",
    "df.head()"
   ]
  },
  {
   "cell_type": "markdown",
   "metadata": {
    "colab_type": "text",
    "id": "HJgnaFIzdyeK"
   },
   "source": [
    "## Lidando com a coluna \"Status\"(String) : One Hot encoder\n"
   ]
  },
  {
   "cell_type": "code",
   "execution_count": 76,
   "metadata": {
    "ExecuteTime": {
     "end_time": "2020-06-05T13:58:45.033779Z",
     "start_time": "2020-06-05T13:58:44.988777Z"
    },
    "colab": {},
    "colab_type": "code",
    "id": "oqO3uP4ody32"
   },
   "outputs": [
    {
     "data": {
      "text/html": [
       "<div>\n",
       "<style scoped>\n",
       "    .dataframe tbody tr th:only-of-type {\n",
       "        vertical-align: middle;\n",
       "    }\n",
       "\n",
       "    .dataframe tbody tr th {\n",
       "        vertical-align: top;\n",
       "    }\n",
       "\n",
       "    .dataframe thead th {\n",
       "        text-align: right;\n",
       "    }\n",
       "</style>\n",
       "<table border=\"1\" class=\"dataframe\">\n",
       "  <thead>\n",
       "    <tr style=\"text-align: right;\">\n",
       "      <th></th>\n",
       "      <th>Status_Developed</th>\n",
       "      <th>Status_Developing</th>\n",
       "    </tr>\n",
       "  </thead>\n",
       "  <tbody>\n",
       "    <tr>\n",
       "      <th>0</th>\n",
       "      <td>0</td>\n",
       "      <td>1</td>\n",
       "    </tr>\n",
       "    <tr>\n",
       "      <th>1</th>\n",
       "      <td>0</td>\n",
       "      <td>1</td>\n",
       "    </tr>\n",
       "    <tr>\n",
       "      <th>2</th>\n",
       "      <td>0</td>\n",
       "      <td>1</td>\n",
       "    </tr>\n",
       "    <tr>\n",
       "      <th>3</th>\n",
       "      <td>0</td>\n",
       "      <td>1</td>\n",
       "    </tr>\n",
       "    <tr>\n",
       "      <th>4</th>\n",
       "      <td>0</td>\n",
       "      <td>1</td>\n",
       "    </tr>\n",
       "    <tr>\n",
       "      <th>...</th>\n",
       "      <td>...</td>\n",
       "      <td>...</td>\n",
       "    </tr>\n",
       "    <tr>\n",
       "      <th>2933</th>\n",
       "      <td>0</td>\n",
       "      <td>1</td>\n",
       "    </tr>\n",
       "    <tr>\n",
       "      <th>2934</th>\n",
       "      <td>0</td>\n",
       "      <td>1</td>\n",
       "    </tr>\n",
       "    <tr>\n",
       "      <th>2935</th>\n",
       "      <td>0</td>\n",
       "      <td>1</td>\n",
       "    </tr>\n",
       "    <tr>\n",
       "      <th>2936</th>\n",
       "      <td>0</td>\n",
       "      <td>1</td>\n",
       "    </tr>\n",
       "    <tr>\n",
       "      <th>2937</th>\n",
       "      <td>0</td>\n",
       "      <td>1</td>\n",
       "    </tr>\n",
       "  </tbody>\n",
       "</table>\n",
       "<p>2938 rows × 2 columns</p>\n",
       "</div>"
      ],
      "text/plain": [
       "      Status_Developed  Status_Developing\n",
       "0                    0                  1\n",
       "1                    0                  1\n",
       "2                    0                  1\n",
       "3                    0                  1\n",
       "4                    0                  1\n",
       "...                ...                ...\n",
       "2933                 0                  1\n",
       "2934                 0                  1\n",
       "2935                 0                  1\n",
       "2936                 0                  1\n",
       "2937                 0                  1\n",
       "\n",
       "[2938 rows x 2 columns]"
      ]
     },
     "execution_count": 76,
     "metadata": {},
     "output_type": "execute_result"
    }
   ],
   "source": [
    "pd.get_dummies(df.Status,prefix = \"Status\")"
   ]
  },
  {
   "cell_type": "code",
   "execution_count": 77,
   "metadata": {
    "ExecuteTime": {
     "end_time": "2020-06-05T13:58:45.112786Z",
     "start_time": "2020-06-05T13:58:45.036781Z"
    },
    "colab": {},
    "colab_type": "code",
    "id": "Pe4e0ETid2RC"
   },
   "outputs": [],
   "source": [
    "Status_dummies = pd.get_dummies(df.Status,prefix = \"Status\").iloc[:,0:]"
   ]
  },
  {
   "cell_type": "code",
   "execution_count": 78,
   "metadata": {
    "ExecuteTime": {
     "end_time": "2020-06-05T13:58:45.240783Z",
     "start_time": "2020-06-05T13:58:45.115780Z"
    },
    "colab": {},
    "colab_type": "code",
    "id": "YBpn0tIvd4NX"
   },
   "outputs": [
    {
     "data": {
      "text/html": [
       "<div>\n",
       "<style scoped>\n",
       "    .dataframe tbody tr th:only-of-type {\n",
       "        vertical-align: middle;\n",
       "    }\n",
       "\n",
       "    .dataframe tbody tr th {\n",
       "        vertical-align: top;\n",
       "    }\n",
       "\n",
       "    .dataframe thead th {\n",
       "        text-align: right;\n",
       "    }\n",
       "</style>\n",
       "<table border=\"1\" class=\"dataframe\">\n",
       "  <thead>\n",
       "    <tr style=\"text-align: right;\">\n",
       "      <th></th>\n",
       "      <th>Year</th>\n",
       "      <th>Status</th>\n",
       "      <th>Life_Expectancy</th>\n",
       "      <th>Adult_Mortality</th>\n",
       "      <th>Infant_death</th>\n",
       "      <th>Alcohol</th>\n",
       "      <th>Percentage_Expenditure</th>\n",
       "      <th>Hepatitis_B</th>\n",
       "      <th>Measles</th>\n",
       "      <th>BMI</th>\n",
       "      <th>...</th>\n",
       "      <th>Country_Uruguay</th>\n",
       "      <th>Country_Uzbekistan</th>\n",
       "      <th>Country_Vanuatu</th>\n",
       "      <th>Country_Venezuela (Bolivarian Republic of)</th>\n",
       "      <th>Country_Viet Nam</th>\n",
       "      <th>Country_Yemen</th>\n",
       "      <th>Country_Zambia</th>\n",
       "      <th>Country_Zimbabwe</th>\n",
       "      <th>Status_Developed</th>\n",
       "      <th>Status_Developing</th>\n",
       "    </tr>\n",
       "  </thead>\n",
       "  <tbody>\n",
       "    <tr>\n",
       "      <th>0</th>\n",
       "      <td>2015</td>\n",
       "      <td>Developing</td>\n",
       "      <td>65.0</td>\n",
       "      <td>263.0</td>\n",
       "      <td>3</td>\n",
       "      <td>0.01</td>\n",
       "      <td>71.279624</td>\n",
       "      <td>65.0</td>\n",
       "      <td>17</td>\n",
       "      <td>19.1</td>\n",
       "      <td>...</td>\n",
       "      <td>0</td>\n",
       "      <td>0</td>\n",
       "      <td>0</td>\n",
       "      <td>0</td>\n",
       "      <td>0</td>\n",
       "      <td>0</td>\n",
       "      <td>0</td>\n",
       "      <td>0</td>\n",
       "      <td>0</td>\n",
       "      <td>1</td>\n",
       "    </tr>\n",
       "    <tr>\n",
       "      <th>1</th>\n",
       "      <td>2014</td>\n",
       "      <td>Developing</td>\n",
       "      <td>59.9</td>\n",
       "      <td>271.0</td>\n",
       "      <td>3</td>\n",
       "      <td>0.01</td>\n",
       "      <td>73.523582</td>\n",
       "      <td>62.0</td>\n",
       "      <td>17</td>\n",
       "      <td>18.6</td>\n",
       "      <td>...</td>\n",
       "      <td>0</td>\n",
       "      <td>0</td>\n",
       "      <td>0</td>\n",
       "      <td>0</td>\n",
       "      <td>0</td>\n",
       "      <td>0</td>\n",
       "      <td>0</td>\n",
       "      <td>0</td>\n",
       "      <td>0</td>\n",
       "      <td>1</td>\n",
       "    </tr>\n",
       "    <tr>\n",
       "      <th>2</th>\n",
       "      <td>2013</td>\n",
       "      <td>Developing</td>\n",
       "      <td>59.9</td>\n",
       "      <td>268.0</td>\n",
       "      <td>3</td>\n",
       "      <td>0.01</td>\n",
       "      <td>73.219243</td>\n",
       "      <td>64.0</td>\n",
       "      <td>17</td>\n",
       "      <td>18.1</td>\n",
       "      <td>...</td>\n",
       "      <td>0</td>\n",
       "      <td>0</td>\n",
       "      <td>0</td>\n",
       "      <td>0</td>\n",
       "      <td>0</td>\n",
       "      <td>0</td>\n",
       "      <td>0</td>\n",
       "      <td>0</td>\n",
       "      <td>0</td>\n",
       "      <td>1</td>\n",
       "    </tr>\n",
       "    <tr>\n",
       "      <th>3</th>\n",
       "      <td>2012</td>\n",
       "      <td>Developing</td>\n",
       "      <td>59.5</td>\n",
       "      <td>272.0</td>\n",
       "      <td>3</td>\n",
       "      <td>0.01</td>\n",
       "      <td>78.184215</td>\n",
       "      <td>67.0</td>\n",
       "      <td>17</td>\n",
       "      <td>17.6</td>\n",
       "      <td>...</td>\n",
       "      <td>0</td>\n",
       "      <td>0</td>\n",
       "      <td>0</td>\n",
       "      <td>0</td>\n",
       "      <td>0</td>\n",
       "      <td>0</td>\n",
       "      <td>0</td>\n",
       "      <td>0</td>\n",
       "      <td>0</td>\n",
       "      <td>1</td>\n",
       "    </tr>\n",
       "    <tr>\n",
       "      <th>4</th>\n",
       "      <td>2011</td>\n",
       "      <td>Developing</td>\n",
       "      <td>59.2</td>\n",
       "      <td>275.0</td>\n",
       "      <td>3</td>\n",
       "      <td>0.01</td>\n",
       "      <td>7.097109</td>\n",
       "      <td>68.0</td>\n",
       "      <td>17</td>\n",
       "      <td>17.2</td>\n",
       "      <td>...</td>\n",
       "      <td>0</td>\n",
       "      <td>0</td>\n",
       "      <td>0</td>\n",
       "      <td>0</td>\n",
       "      <td>0</td>\n",
       "      <td>0</td>\n",
       "      <td>0</td>\n",
       "      <td>0</td>\n",
       "      <td>0</td>\n",
       "      <td>1</td>\n",
       "    </tr>\n",
       "  </tbody>\n",
       "</table>\n",
       "<p>5 rows × 216 columns</p>\n",
       "</div>"
      ],
      "text/plain": [
       "   Year      Status  Life_Expectancy  Adult_Mortality  Infant_death  Alcohol  \\\n",
       "0  2015  Developing             65.0            263.0             3     0.01   \n",
       "1  2014  Developing             59.9            271.0             3     0.01   \n",
       "2  2013  Developing             59.9            268.0             3     0.01   \n",
       "3  2012  Developing             59.5            272.0             3     0.01   \n",
       "4  2011  Developing             59.2            275.0             3     0.01   \n",
       "\n",
       "   Percentage_Expenditure  Hepatitis_B  Measles   BMI  ...  Country_Uruguay  \\\n",
       "0               71.279624         65.0       17  19.1  ...                0   \n",
       "1               73.523582         62.0       17  18.6  ...                0   \n",
       "2               73.219243         64.0       17  18.1  ...                0   \n",
       "3               78.184215         67.0       17  17.6  ...                0   \n",
       "4                7.097109         68.0       17  17.2  ...                0   \n",
       "\n",
       "   Country_Uzbekistan  Country_Vanuatu  \\\n",
       "0                   0                0   \n",
       "1                   0                0   \n",
       "2                   0                0   \n",
       "3                   0                0   \n",
       "4                   0                0   \n",
       "\n",
       "   Country_Venezuela (Bolivarian Republic of)  Country_Viet Nam  \\\n",
       "0                                           0                 0   \n",
       "1                                           0                 0   \n",
       "2                                           0                 0   \n",
       "3                                           0                 0   \n",
       "4                                           0                 0   \n",
       "\n",
       "   Country_Yemen  Country_Zambia  Country_Zimbabwe  Status_Developed  \\\n",
       "0              0               0                 0                 0   \n",
       "1              0               0                 0                 0   \n",
       "2              0               0                 0                 0   \n",
       "3              0               0                 0                 0   \n",
       "4              0               0                 0                 0   \n",
       "\n",
       "   Status_Developing  \n",
       "0                  1  \n",
       "1                  1  \n",
       "2                  1  \n",
       "3                  1  \n",
       "4                  1  \n",
       "\n",
       "[5 rows x 216 columns]"
      ]
     },
     "execution_count": 78,
     "metadata": {},
     "output_type": "execute_result"
    }
   ],
   "source": [
    "df = pd.concat([df,Status_dummies],axis = 1)\n",
    "df.head()"
   ]
  },
  {
   "cell_type": "code",
   "execution_count": 79,
   "metadata": {
    "ExecuteTime": {
     "end_time": "2020-06-05T13:58:45.336779Z",
     "start_time": "2020-06-05T13:58:45.244790Z"
    },
    "colab": {},
    "colab_type": "code",
    "id": "1s2eHX4Rd5nV"
   },
   "outputs": [
    {
     "data": {
      "text/html": [
       "<div>\n",
       "<style scoped>\n",
       "    .dataframe tbody tr th:only-of-type {\n",
       "        vertical-align: middle;\n",
       "    }\n",
       "\n",
       "    .dataframe tbody tr th {\n",
       "        vertical-align: top;\n",
       "    }\n",
       "\n",
       "    .dataframe thead th {\n",
       "        text-align: right;\n",
       "    }\n",
       "</style>\n",
       "<table border=\"1\" class=\"dataframe\">\n",
       "  <thead>\n",
       "    <tr style=\"text-align: right;\">\n",
       "      <th></th>\n",
       "      <th>Year</th>\n",
       "      <th>Life_Expectancy</th>\n",
       "      <th>Adult_Mortality</th>\n",
       "      <th>Infant_death</th>\n",
       "      <th>Alcohol</th>\n",
       "      <th>Percentage_Expenditure</th>\n",
       "      <th>Hepatitis_B</th>\n",
       "      <th>Measles</th>\n",
       "      <th>BMI</th>\n",
       "      <th>Under_Five_Death</th>\n",
       "      <th>...</th>\n",
       "      <th>Country_Uruguay</th>\n",
       "      <th>Country_Uzbekistan</th>\n",
       "      <th>Country_Vanuatu</th>\n",
       "      <th>Country_Venezuela (Bolivarian Republic of)</th>\n",
       "      <th>Country_Viet Nam</th>\n",
       "      <th>Country_Yemen</th>\n",
       "      <th>Country_Zambia</th>\n",
       "      <th>Country_Zimbabwe</th>\n",
       "      <th>Status_Developed</th>\n",
       "      <th>Status_Developing</th>\n",
       "    </tr>\n",
       "  </thead>\n",
       "  <tbody>\n",
       "    <tr>\n",
       "      <th>0</th>\n",
       "      <td>2015</td>\n",
       "      <td>65.0</td>\n",
       "      <td>263.0</td>\n",
       "      <td>3</td>\n",
       "      <td>0.01</td>\n",
       "      <td>71.279624</td>\n",
       "      <td>65.0</td>\n",
       "      <td>17</td>\n",
       "      <td>19.1</td>\n",
       "      <td>4</td>\n",
       "      <td>...</td>\n",
       "      <td>0</td>\n",
       "      <td>0</td>\n",
       "      <td>0</td>\n",
       "      <td>0</td>\n",
       "      <td>0</td>\n",
       "      <td>0</td>\n",
       "      <td>0</td>\n",
       "      <td>0</td>\n",
       "      <td>0</td>\n",
       "      <td>1</td>\n",
       "    </tr>\n",
       "    <tr>\n",
       "      <th>1</th>\n",
       "      <td>2014</td>\n",
       "      <td>59.9</td>\n",
       "      <td>271.0</td>\n",
       "      <td>3</td>\n",
       "      <td>0.01</td>\n",
       "      <td>73.523582</td>\n",
       "      <td>62.0</td>\n",
       "      <td>17</td>\n",
       "      <td>18.6</td>\n",
       "      <td>4</td>\n",
       "      <td>...</td>\n",
       "      <td>0</td>\n",
       "      <td>0</td>\n",
       "      <td>0</td>\n",
       "      <td>0</td>\n",
       "      <td>0</td>\n",
       "      <td>0</td>\n",
       "      <td>0</td>\n",
       "      <td>0</td>\n",
       "      <td>0</td>\n",
       "      <td>1</td>\n",
       "    </tr>\n",
       "    <tr>\n",
       "      <th>2</th>\n",
       "      <td>2013</td>\n",
       "      <td>59.9</td>\n",
       "      <td>268.0</td>\n",
       "      <td>3</td>\n",
       "      <td>0.01</td>\n",
       "      <td>73.219243</td>\n",
       "      <td>64.0</td>\n",
       "      <td>17</td>\n",
       "      <td>18.1</td>\n",
       "      <td>4</td>\n",
       "      <td>...</td>\n",
       "      <td>0</td>\n",
       "      <td>0</td>\n",
       "      <td>0</td>\n",
       "      <td>0</td>\n",
       "      <td>0</td>\n",
       "      <td>0</td>\n",
       "      <td>0</td>\n",
       "      <td>0</td>\n",
       "      <td>0</td>\n",
       "      <td>1</td>\n",
       "    </tr>\n",
       "    <tr>\n",
       "      <th>3</th>\n",
       "      <td>2012</td>\n",
       "      <td>59.5</td>\n",
       "      <td>272.0</td>\n",
       "      <td>3</td>\n",
       "      <td>0.01</td>\n",
       "      <td>78.184215</td>\n",
       "      <td>67.0</td>\n",
       "      <td>17</td>\n",
       "      <td>17.6</td>\n",
       "      <td>4</td>\n",
       "      <td>...</td>\n",
       "      <td>0</td>\n",
       "      <td>0</td>\n",
       "      <td>0</td>\n",
       "      <td>0</td>\n",
       "      <td>0</td>\n",
       "      <td>0</td>\n",
       "      <td>0</td>\n",
       "      <td>0</td>\n",
       "      <td>0</td>\n",
       "      <td>1</td>\n",
       "    </tr>\n",
       "    <tr>\n",
       "      <th>4</th>\n",
       "      <td>2011</td>\n",
       "      <td>59.2</td>\n",
       "      <td>275.0</td>\n",
       "      <td>3</td>\n",
       "      <td>0.01</td>\n",
       "      <td>7.097109</td>\n",
       "      <td>68.0</td>\n",
       "      <td>17</td>\n",
       "      <td>17.2</td>\n",
       "      <td>4</td>\n",
       "      <td>...</td>\n",
       "      <td>0</td>\n",
       "      <td>0</td>\n",
       "      <td>0</td>\n",
       "      <td>0</td>\n",
       "      <td>0</td>\n",
       "      <td>0</td>\n",
       "      <td>0</td>\n",
       "      <td>0</td>\n",
       "      <td>0</td>\n",
       "      <td>1</td>\n",
       "    </tr>\n",
       "  </tbody>\n",
       "</table>\n",
       "<p>5 rows × 215 columns</p>\n",
       "</div>"
      ],
      "text/plain": [
       "   Year  Life_Expectancy  Adult_Mortality  Infant_death  Alcohol  \\\n",
       "0  2015             65.0            263.0             3     0.01   \n",
       "1  2014             59.9            271.0             3     0.01   \n",
       "2  2013             59.9            268.0             3     0.01   \n",
       "3  2012             59.5            272.0             3     0.01   \n",
       "4  2011             59.2            275.0             3     0.01   \n",
       "\n",
       "   Percentage_Expenditure  Hepatitis_B  Measles   BMI  Under_Five_Death  ...  \\\n",
       "0               71.279624         65.0       17  19.1                 4  ...   \n",
       "1               73.523582         62.0       17  18.6                 4  ...   \n",
       "2               73.219243         64.0       17  18.1                 4  ...   \n",
       "3               78.184215         67.0       17  17.6                 4  ...   \n",
       "4                7.097109         68.0       17  17.2                 4  ...   \n",
       "\n",
       "   Country_Uruguay  Country_Uzbekistan  Country_Vanuatu  \\\n",
       "0                0                   0                0   \n",
       "1                0                   0                0   \n",
       "2                0                   0                0   \n",
       "3                0                   0                0   \n",
       "4                0                   0                0   \n",
       "\n",
       "   Country_Venezuela (Bolivarian Republic of)  Country_Viet Nam  \\\n",
       "0                                           0                 0   \n",
       "1                                           0                 0   \n",
       "2                                           0                 0   \n",
       "3                                           0                 0   \n",
       "4                                           0                 0   \n",
       "\n",
       "   Country_Yemen  Country_Zambia  Country_Zimbabwe  Status_Developed  \\\n",
       "0              0               0                 0                 0   \n",
       "1              0               0                 0                 0   \n",
       "2              0               0                 0                 0   \n",
       "3              0               0                 0                 0   \n",
       "4              0               0                 0                 0   \n",
       "\n",
       "   Status_Developing  \n",
       "0                  1  \n",
       "1                  1  \n",
       "2                  1  \n",
       "3                  1  \n",
       "4                  1  \n",
       "\n",
       "[5 rows x 215 columns]"
      ]
     },
     "execution_count": 79,
     "metadata": {},
     "output_type": "execute_result"
    }
   ],
   "source": [
    "df=df.drop('Status',axis=1)\n",
    "df.head()"
   ]
  },
  {
   "cell_type": "markdown",
   "metadata": {
    "colab_type": "text",
    "id": "MkaFaA3Id86I"
   },
   "source": [
    "##Feature Selection\n",
    "\n",
    "---\n",
    "\n",
    "\n",
    "Make a list of data frame column names"
   ]
  },
  {
   "cell_type": "code",
   "execution_count": 80,
   "metadata": {
    "ExecuteTime": {
     "end_time": "2020-06-05T13:58:45.368791Z",
     "start_time": "2020-06-05T13:58:45.339779Z"
    },
    "colab": {},
    "colab_type": "code",
    "id": "2r4jyOd2d_-p"
   },
   "outputs": [
    {
     "name": "stdout",
     "output_type": "stream",
     "text": [
      "['Year', 'Life_Expectancy', 'Adult_Mortality', 'Infant_death', 'Alcohol', 'Percentage_Expenditure', 'Hepatitis_B', 'Measles', 'BMI', 'Under_Five_Death', 'Polio', 'Total_Expenditure', 'Diphtheria', 'Hiv_Aids', 'GDP', 'Population', 'Thin_1_19_Years', 'Thin_5_9_Year', 'Income_Comp_Resource', 'Schooling', 'Country_Afghanistan', 'Country_Albania', 'Country_Algeria', 'Country_Angola', 'Country_Antigua and Barbuda', 'Country_Argentina', 'Country_Armenia', 'Country_Australia', 'Country_Austria', 'Country_Azerbaijan', 'Country_Bahamas', 'Country_Bahrain', 'Country_Bangladesh', 'Country_Barbados', 'Country_Belarus', 'Country_Belgium', 'Country_Belize', 'Country_Benin', 'Country_Bhutan', 'Country_Bolivia (Plurinational State of)', 'Country_Bosnia and Herzegovina', 'Country_Botswana', 'Country_Brazil', 'Country_Brunei Darussalam', 'Country_Bulgaria', 'Country_Burkina Faso', 'Country_Burundi', 'Country_Cabo Verde', 'Country_Cambodia', 'Country_Cameroon', 'Country_Canada', 'Country_Central African Republic', 'Country_Chad', 'Country_Chile', 'Country_China', 'Country_Colombia', 'Country_Comoros', 'Country_Congo', 'Country_Cook Islands', 'Country_Costa Rica', 'Country_Croatia', 'Country_Cuba', 'Country_Cyprus', 'Country_Czechia', \"Country_Côte d'Ivoire\", \"Country_Democratic People's Republic of Korea\", 'Country_Democratic Republic of the Congo', 'Country_Denmark', 'Country_Djibouti', 'Country_Dominica', 'Country_Dominican Republic', 'Country_Ecuador', 'Country_Egypt', 'Country_El Salvador', 'Country_Equatorial Guinea', 'Country_Eritrea', 'Country_Estonia', 'Country_Ethiopia', 'Country_Fiji', 'Country_Finland', 'Country_France', 'Country_Gabon', 'Country_Gambia', 'Country_Georgia', 'Country_Germany', 'Country_Ghana', 'Country_Greece', 'Country_Grenada', 'Country_Guatemala', 'Country_Guinea', 'Country_Guinea-Bissau', 'Country_Guyana', 'Country_Haiti', 'Country_Honduras', 'Country_Hungary', 'Country_Iceland', 'Country_India', 'Country_Indonesia', 'Country_Iran (Islamic Republic of)', 'Country_Iraq', 'Country_Ireland', 'Country_Israel', 'Country_Italy', 'Country_Jamaica', 'Country_Japan', 'Country_Jordan', 'Country_Kazakhstan', 'Country_Kenya', 'Country_Kiribati', 'Country_Kuwait', 'Country_Kyrgyzstan', \"Country_Lao People's Democratic Republic\", 'Country_Latvia', 'Country_Lebanon', 'Country_Lesotho', 'Country_Liberia', 'Country_Libya', 'Country_Lithuania', 'Country_Luxembourg', 'Country_Madagascar', 'Country_Malawi', 'Country_Malaysia', 'Country_Maldives', 'Country_Mali', 'Country_Malta', 'Country_Marshall Islands', 'Country_Mauritania', 'Country_Mauritius', 'Country_Mexico', 'Country_Micronesia (Federated States of)', 'Country_Monaco', 'Country_Mongolia', 'Country_Montenegro', 'Country_Morocco', 'Country_Mozambique', 'Country_Myanmar', 'Country_Namibia', 'Country_Nauru', 'Country_Nepal', 'Country_Netherlands', 'Country_New Zealand', 'Country_Nicaragua', 'Country_Niger', 'Country_Nigeria', 'Country_Niue', 'Country_Norway', 'Country_Oman', 'Country_Pakistan', 'Country_Palau', 'Country_Panama', 'Country_Papua New Guinea', 'Country_Paraguay', 'Country_Peru', 'Country_Philippines', 'Country_Poland', 'Country_Portugal', 'Country_Qatar', 'Country_Republic of Korea', 'Country_Republic of Moldova', 'Country_Romania', 'Country_Russian Federation', 'Country_Rwanda', 'Country_Saint Kitts and Nevis', 'Country_Saint Lucia', 'Country_Saint Vincent and the Grenadines', 'Country_Samoa', 'Country_San Marino', 'Country_Sao Tome and Principe', 'Country_Saudi Arabia', 'Country_Senegal', 'Country_Serbia', 'Country_Seychelles', 'Country_Sierra Leone', 'Country_Singapore', 'Country_Slovakia', 'Country_Slovenia', 'Country_Solomon Islands', 'Country_Somalia', 'Country_South Africa', 'Country_South Sudan', 'Country_Spain', 'Country_Sri Lanka', 'Country_Sudan', 'Country_Suriname', 'Country_Swaziland', 'Country_Sweden', 'Country_Switzerland', 'Country_Syrian Arab Republic', 'Country_Tajikistan', 'Country_Thailand', 'Country_The former Yugoslav republic of Macedonia', 'Country_Timor-Leste', 'Country_Togo', 'Country_Tonga', 'Country_Trinidad and Tobago', 'Country_Tunisia', 'Country_Turkey', 'Country_Turkmenistan', 'Country_Tuvalu', 'Country_Uganda', 'Country_Ukraine', 'Country_United Arab Emirates', 'Country_United Kingdom of Great Britain and Northern Ireland', 'Country_United Republic of Tanzania', 'Country_United States of America', 'Country_Uruguay', 'Country_Uzbekistan', 'Country_Vanuatu', 'Country_Venezuela (Bolivarian Republic of)', 'Country_Viet Nam', 'Country_Yemen', 'Country_Zambia', 'Country_Zimbabwe', 'Status_Developed', 'Status_Developing']\n",
      "215\n"
     ]
    }
   ],
   "source": [
    "l_column = list(df.columns) # Making a list out of column names\n",
    "len_feature = len(l_column) # Length of column vector list\n",
    "print(l_column)\n",
    "print(len_feature)"
   ]
  },
  {
   "cell_type": "markdown",
   "metadata": {
    "colab_type": "text",
    "id": "crAmu9GPeD4e"
   },
   "source": [
    "## Features numericas em X e \"Life Expectancy\" em y"
   ]
  },
  {
   "cell_type": "code",
   "execution_count": 81,
   "metadata": {
    "ExecuteTime": {
     "end_time": "2020-06-05T13:58:45.464780Z",
     "start_time": "2020-06-05T13:58:45.371779Z"
    },
    "colab": {},
    "colab_type": "code",
    "id": "T2qBn85Wi9Te"
   },
   "outputs": [
    {
     "name": "stdout",
     "output_type": "stream",
     "text": [
      "<class 'pandas.core.frame.DataFrame'>\n",
      "Int64Index: 2938 entries, 0 to 2937\n",
      "Columns: 215 entries, Year to Status_Developing\n",
      "dtypes: float64(16), int64(4), uint8(195)\n",
      "memory usage: 1.1 MB\n"
     ]
    }
   ],
   "source": [
    "\"\"\"\n",
    "colunas do df: 22\n",
    "colunas removidas(status&Country): 2 \n",
    "total: 20 colunas\n",
    "\"\"\"\n",
    "df.info()"
   ]
  },
  {
   "cell_type": "code",
   "execution_count": 82,
   "metadata": {
    "ExecuteTime": {
     "end_time": "2020-06-05T13:58:45.560779Z",
     "start_time": "2020-06-05T13:58:45.467777Z"
    },
    "colab": {},
    "colab_type": "code",
    "id": "xf2vargYeEbp"
   },
   "outputs": [
    {
     "data": {
      "text/plain": [
       "Index(['Year', 'Life_Expectancy', 'Adult_Mortality', 'Infant_death', 'Alcohol',\n",
       "       'Percentage_Expenditure', 'Hepatitis_B', 'Measles', 'BMI',\n",
       "       'Under_Five_Death', 'Polio', 'Total_Expenditure', 'Diphtheria',\n",
       "       'Hiv_Aids', 'GDP', 'Population', 'Thin_1_19_Years', 'Thin_5_9_Year',\n",
       "       'Income_Comp_Resource', 'Schooling'],\n",
       "      dtype='object')"
      ]
     },
     "execution_count": 82,
     "metadata": {},
     "output_type": "execute_result"
    }
   ],
   "source": [
    "X = df[l_column[0:len_feature-195]] \n",
    "X.columns"
   ]
  },
  {
   "cell_type": "markdown",
   "metadata": {
    "colab_type": "text",
    "id": "oikBqrJfeIt-"
   },
   "source": [
    "## Dropar a coluna target\n"
   ]
  },
  {
   "cell_type": "code",
   "execution_count": 83,
   "metadata": {
    "ExecuteTime": {
     "end_time": "2020-06-05T13:58:45.639782Z",
     "start_time": "2020-06-05T13:58:45.564784Z"
    },
    "colab": {},
    "colab_type": "code",
    "id": "JZCyn_OoeJCb"
   },
   "outputs": [
    {
     "data": {
      "text/plain": [
       "Index(['Year', 'Adult_Mortality', 'Infant_death', 'Alcohol',\n",
       "       'Percentage_Expenditure', 'Hepatitis_B', 'Measles', 'BMI',\n",
       "       'Under_Five_Death', 'Polio', 'Total_Expenditure', 'Diphtheria',\n",
       "       'Hiv_Aids', 'GDP', 'Population', 'Thin_1_19_Years', 'Thin_5_9_Year',\n",
       "       'Income_Comp_Resource', 'Schooling'],\n",
       "      dtype='object')"
      ]
     },
     "execution_count": 83,
     "metadata": {},
     "output_type": "execute_result"
    }
   ],
   "source": [
    "X=X.drop('Life_Expectancy',axis=1)\n",
    "X.columns"
   ]
  },
  {
   "cell_type": "code",
   "execution_count": 84,
   "metadata": {
    "ExecuteTime": {
     "end_time": "2020-06-05T13:58:45.719777Z",
     "start_time": "2020-06-05T13:58:45.643781Z"
    },
    "colab": {},
    "colab_type": "code",
    "id": "gm2mnD8XeKX2"
   },
   "outputs": [
    {
     "data": {
      "text/plain": [
       "Index(['Adult_Mortality', 'Infant_death', 'Alcohol', 'Percentage_Expenditure',\n",
       "       'Hepatitis_B', 'Measles', 'BMI', 'Under_Five_Death', 'Polio',\n",
       "       'Total_Expenditure', 'Diphtheria', 'Hiv_Aids', 'GDP', 'Population',\n",
       "       'Thin_1_19_Years', 'Thin_5_9_Year', 'Income_Comp_Resource',\n",
       "       'Schooling'],\n",
       "      dtype='object')"
      ]
     },
     "execution_count": 84,
     "metadata": {},
     "output_type": "execute_result"
    }
   ],
   "source": [
    "X=X.drop('Year',axis=1)\n",
    "X.columns"
   ]
  },
  {
   "cell_type": "code",
   "execution_count": 85,
   "metadata": {
    "ExecuteTime": {
     "end_time": "2020-06-05T13:58:45.815782Z",
     "start_time": "2020-06-05T13:58:45.721776Z"
    },
    "colab": {},
    "colab_type": "code",
    "id": "wKYvnCd5eMdP"
   },
   "outputs": [],
   "source": [
    "y = df[l_column[len_feature-214]]"
   ]
  },
  {
   "cell_type": "code",
   "execution_count": 86,
   "metadata": {
    "ExecuteTime": {
     "end_time": "2020-06-05T13:58:45.910781Z",
     "start_time": "2020-06-05T13:58:45.818780Z"
    },
    "colab": {},
    "colab_type": "code",
    "id": "ijaFNcGJeMwi"
   },
   "outputs": [
    {
     "data": {
      "text/plain": [
       "(2938, 18)"
      ]
     },
     "execution_count": 86,
     "metadata": {},
     "output_type": "execute_result"
    }
   ],
   "source": [
    "X.shape"
   ]
  },
  {
   "cell_type": "code",
   "execution_count": 87,
   "metadata": {
    "ExecuteTime": {
     "end_time": "2020-06-05T13:58:46.022773Z",
     "start_time": "2020-06-05T13:58:45.914778Z"
    },
    "colab": {},
    "colab_type": "code",
    "id": "t5oebMGBeN9K"
   },
   "outputs": [
    {
     "data": {
      "text/html": [
       "<div>\n",
       "<style scoped>\n",
       "    .dataframe tbody tr th:only-of-type {\n",
       "        vertical-align: middle;\n",
       "    }\n",
       "\n",
       "    .dataframe tbody tr th {\n",
       "        vertical-align: top;\n",
       "    }\n",
       "\n",
       "    .dataframe thead th {\n",
       "        text-align: right;\n",
       "    }\n",
       "</style>\n",
       "<table border=\"1\" class=\"dataframe\">\n",
       "  <thead>\n",
       "    <tr style=\"text-align: right;\">\n",
       "      <th></th>\n",
       "      <th>Adult_Mortality</th>\n",
       "      <th>Infant_death</th>\n",
       "      <th>Alcohol</th>\n",
       "      <th>Percentage_Expenditure</th>\n",
       "      <th>Hepatitis_B</th>\n",
       "      <th>Measles</th>\n",
       "      <th>BMI</th>\n",
       "      <th>Under_Five_Death</th>\n",
       "      <th>Polio</th>\n",
       "      <th>Total_Expenditure</th>\n",
       "      <th>Diphtheria</th>\n",
       "      <th>Hiv_Aids</th>\n",
       "      <th>GDP</th>\n",
       "      <th>Population</th>\n",
       "      <th>Thin_1_19_Years</th>\n",
       "      <th>Thin_5_9_Year</th>\n",
       "      <th>Income_Comp_Resource</th>\n",
       "      <th>Schooling</th>\n",
       "    </tr>\n",
       "  </thead>\n",
       "  <tbody>\n",
       "    <tr>\n",
       "      <th>0</th>\n",
       "      <td>263.0</td>\n",
       "      <td>3</td>\n",
       "      <td>0.01</td>\n",
       "      <td>71.279624</td>\n",
       "      <td>65.0</td>\n",
       "      <td>17</td>\n",
       "      <td>19.1</td>\n",
       "      <td>4</td>\n",
       "      <td>6.0</td>\n",
       "      <td>8.16</td>\n",
       "      <td>65.0</td>\n",
       "      <td>0.1</td>\n",
       "      <td>584.259210</td>\n",
       "      <td>33736494.0</td>\n",
       "      <td>17.2</td>\n",
       "      <td>17.3</td>\n",
       "      <td>0.479</td>\n",
       "      <td>10.1</td>\n",
       "    </tr>\n",
       "    <tr>\n",
       "      <th>1</th>\n",
       "      <td>271.0</td>\n",
       "      <td>3</td>\n",
       "      <td>0.01</td>\n",
       "      <td>73.523582</td>\n",
       "      <td>62.0</td>\n",
       "      <td>17</td>\n",
       "      <td>18.6</td>\n",
       "      <td>4</td>\n",
       "      <td>58.0</td>\n",
       "      <td>8.18</td>\n",
       "      <td>62.0</td>\n",
       "      <td>0.1</td>\n",
       "      <td>612.696514</td>\n",
       "      <td>327582.0</td>\n",
       "      <td>17.5</td>\n",
       "      <td>17.5</td>\n",
       "      <td>0.476</td>\n",
       "      <td>10.0</td>\n",
       "    </tr>\n",
       "    <tr>\n",
       "      <th>2</th>\n",
       "      <td>268.0</td>\n",
       "      <td>3</td>\n",
       "      <td>0.01</td>\n",
       "      <td>73.219243</td>\n",
       "      <td>64.0</td>\n",
       "      <td>17</td>\n",
       "      <td>18.1</td>\n",
       "      <td>4</td>\n",
       "      <td>62.0</td>\n",
       "      <td>8.13</td>\n",
       "      <td>64.0</td>\n",
       "      <td>0.1</td>\n",
       "      <td>631.744976</td>\n",
       "      <td>31731688.0</td>\n",
       "      <td>17.7</td>\n",
       "      <td>17.7</td>\n",
       "      <td>0.470</td>\n",
       "      <td>9.9</td>\n",
       "    </tr>\n",
       "    <tr>\n",
       "      <th>3</th>\n",
       "      <td>272.0</td>\n",
       "      <td>3</td>\n",
       "      <td>0.01</td>\n",
       "      <td>78.184215</td>\n",
       "      <td>67.0</td>\n",
       "      <td>17</td>\n",
       "      <td>17.6</td>\n",
       "      <td>4</td>\n",
       "      <td>67.0</td>\n",
       "      <td>8.52</td>\n",
       "      <td>67.0</td>\n",
       "      <td>0.1</td>\n",
       "      <td>669.959000</td>\n",
       "      <td>3696958.0</td>\n",
       "      <td>17.9</td>\n",
       "      <td>18.0</td>\n",
       "      <td>0.463</td>\n",
       "      <td>9.8</td>\n",
       "    </tr>\n",
       "    <tr>\n",
       "      <th>4</th>\n",
       "      <td>275.0</td>\n",
       "      <td>3</td>\n",
       "      <td>0.01</td>\n",
       "      <td>7.097109</td>\n",
       "      <td>68.0</td>\n",
       "      <td>17</td>\n",
       "      <td>17.2</td>\n",
       "      <td>4</td>\n",
       "      <td>68.0</td>\n",
       "      <td>7.87</td>\n",
       "      <td>68.0</td>\n",
       "      <td>0.1</td>\n",
       "      <td>63.537231</td>\n",
       "      <td>2978599.0</td>\n",
       "      <td>18.2</td>\n",
       "      <td>18.2</td>\n",
       "      <td>0.454</td>\n",
       "      <td>9.5</td>\n",
       "    </tr>\n",
       "  </tbody>\n",
       "</table>\n",
       "</div>"
      ],
      "text/plain": [
       "   Adult_Mortality  Infant_death  Alcohol  Percentage_Expenditure  \\\n",
       "0            263.0             3     0.01               71.279624   \n",
       "1            271.0             3     0.01               73.523582   \n",
       "2            268.0             3     0.01               73.219243   \n",
       "3            272.0             3     0.01               78.184215   \n",
       "4            275.0             3     0.01                7.097109   \n",
       "\n",
       "   Hepatitis_B  Measles   BMI  Under_Five_Death  Polio  Total_Expenditure  \\\n",
       "0         65.0       17  19.1                 4    6.0               8.16   \n",
       "1         62.0       17  18.6                 4   58.0               8.18   \n",
       "2         64.0       17  18.1                 4   62.0               8.13   \n",
       "3         67.0       17  17.6                 4   67.0               8.52   \n",
       "4         68.0       17  17.2                 4   68.0               7.87   \n",
       "\n",
       "   Diphtheria  Hiv_Aids         GDP  Population  Thin_1_19_Years  \\\n",
       "0        65.0       0.1  584.259210  33736494.0             17.2   \n",
       "1        62.0       0.1  612.696514    327582.0             17.5   \n",
       "2        64.0       0.1  631.744976  31731688.0             17.7   \n",
       "3        67.0       0.1  669.959000   3696958.0             17.9   \n",
       "4        68.0       0.1   63.537231   2978599.0             18.2   \n",
       "\n",
       "   Thin_5_9_Year  Income_Comp_Resource  Schooling  \n",
       "0           17.3                 0.479       10.1  \n",
       "1           17.5                 0.476       10.0  \n",
       "2           17.7                 0.470        9.9  \n",
       "3           18.0                 0.463        9.8  \n",
       "4           18.2                 0.454        9.5  "
      ]
     },
     "execution_count": 87,
     "metadata": {},
     "output_type": "execute_result"
    }
   ],
   "source": [
    "X.head()"
   ]
  },
  {
   "cell_type": "markdown",
   "metadata": {
    "colab_type": "text",
    "id": "vluoLPV5lSXc"
   },
   "source": [
    "## Remover features que não geram valor\n"
   ]
  },
  {
   "cell_type": "code",
   "execution_count": 88,
   "metadata": {
    "ExecuteTime": {
     "end_time": "2020-06-05T13:58:46.102786Z",
     "start_time": "2020-06-05T13:58:46.026780Z"
    },
    "colab": {},
    "colab_type": "code",
    "id": "cAVA_kX5ePaq"
   },
   "outputs": [],
   "source": [
    "X=X.drop('Hepatitis_B',axis=1)\n",
    "X=X.drop('Percentage_Expenditure',axis=1)\n",
    "X=X.drop('Measles',axis=1)\n",
    "X=X.drop('Under_Five_Death',axis=1)\n",
    "X=X.drop('Total_Expenditure',axis=1)\n",
    "X=X.drop('Population',axis=1)"
   ]
  },
  {
   "cell_type": "code",
   "execution_count": 89,
   "metadata": {
    "ExecuteTime": {
     "end_time": "2020-06-05T13:58:46.182778Z",
     "start_time": "2020-06-05T13:58:46.105781Z"
    },
    "colab": {},
    "colab_type": "code",
    "id": "D8GuWwtSeVQl"
   },
   "outputs": [
    {
     "data": {
      "text/plain": [
       "Index(['Adult_Mortality', 'Infant_death', 'Alcohol', 'BMI', 'Polio',\n",
       "       'Diphtheria', 'Hiv_Aids', 'GDP', 'Thin_1_19_Years', 'Thin_5_9_Year',\n",
       "       'Income_Comp_Resource', 'Schooling'],\n",
       "      dtype='object')"
      ]
     },
     "execution_count": 89,
     "metadata": {},
     "output_type": "execute_result"
    }
   ],
   "source": [
    "X.columns"
   ]
  },
  {
   "cell_type": "code",
   "execution_count": 90,
   "metadata": {
    "ExecuteTime": {
     "end_time": "2020-06-05T13:58:46.260789Z",
     "start_time": "2020-06-05T13:58:46.185779Z"
    },
    "colab": {},
    "colab_type": "code",
    "id": "pO_7YcA8eXrQ"
   },
   "outputs": [
    {
     "data": {
      "text/plain": [
       "(2938, 12)"
      ]
     },
     "execution_count": 90,
     "metadata": {},
     "output_type": "execute_result"
    }
   ],
   "source": [
    "X.shape"
   ]
  },
  {
   "cell_type": "code",
   "execution_count": 91,
   "metadata": {
    "ExecuteTime": {
     "end_time": "2020-06-05T13:58:46.356783Z",
     "start_time": "2020-06-05T13:58:46.264783Z"
    },
    "colab": {},
    "colab_type": "code",
    "id": "OpT89ImgeY-m"
   },
   "outputs": [
    {
     "data": {
      "text/plain": [
       "(2938,)"
      ]
     },
     "execution_count": 91,
     "metadata": {},
     "output_type": "execute_result"
    }
   ],
   "source": [
    "y.shape"
   ]
  },
  {
   "cell_type": "code",
   "execution_count": 92,
   "metadata": {
    "ExecuteTime": {
     "end_time": "2020-06-05T13:58:46.436778Z",
     "start_time": "2020-06-05T13:58:46.360781Z"
    },
    "colab": {},
    "colab_type": "code",
    "id": "8HtulO12eayh"
   },
   "outputs": [
    {
     "data": {
      "text/plain": [
       "0    65.0\n",
       "1    59.9\n",
       "2    59.9\n",
       "3    59.5\n",
       "4    59.2\n",
       "Name: Life_Expectancy, dtype: float64"
      ]
     },
     "execution_count": 92,
     "metadata": {},
     "output_type": "execute_result"
    }
   ],
   "source": [
    "y.head()"
   ]
  },
  {
   "cell_type": "markdown",
   "metadata": {
    "colab_type": "text",
    "id": "zyxpz4N_B9cR"
   },
   "source": [
    "# Modelo Preditivo"
   ]
  },
  {
   "cell_type": "markdown",
   "metadata": {
    "colab_type": "text",
    "id": "Dcd8mzPWeg24"
   },
   "source": [
    "## Criação de X e y, treino/teste\n"
   ]
  },
  {
   "cell_type": "code",
   "execution_count": 93,
   "metadata": {
    "ExecuteTime": {
     "end_time": "2020-06-05T13:58:46.563779Z",
     "start_time": "2020-06-05T13:58:46.439781Z"
    },
    "colab": {},
    "colab_type": "code",
    "id": "i4D5fp13eh90"
   },
   "outputs": [],
   "source": [
    "from sklearn.model_selection import train_test_split\n",
    "X_train, X_test, y_train, y_test = train_test_split(X, y, test_size=0.3, random_state=123)"
   ]
  },
  {
   "cell_type": "code",
   "execution_count": 94,
   "metadata": {
    "ExecuteTime": {
     "end_time": "2020-06-05T13:58:46.600783Z",
     "start_time": "2020-06-05T13:58:46.566781Z"
    },
    "colab": {},
    "colab_type": "code",
    "id": "NsaDYRsRejZS"
   },
   "outputs": [
    {
     "name": "stdout",
     "output_type": "stream",
     "text": [
      "Features Treino: (2056, 12)\n",
      "Features Teste: (882, 12)\n",
      "\n",
      "Target Treino: (2056,)\n",
      "Target Teste: (882,)\n"
     ]
    }
   ],
   "source": [
    "print(\"Features Treino:\",X_train.shape)\n",
    "print(\"Features Teste:\",X_test.shape)\n",
    "print()\n",
    "print(\"Target Treino:\",y_train.shape)\n",
    "print(\"Target Teste:\",y_test.shape)"
   ]
  },
  {
   "cell_type": "markdown",
   "metadata": {
    "colab_type": "text",
    "id": "0GTRjaMMel58"
   },
   "source": [
    "### Treinar modelo preditivo\n"
   ]
  },
  {
   "cell_type": "code",
   "execution_count": 95,
   "metadata": {
    "ExecuteTime": {
     "end_time": "2020-06-05T13:58:46.771783Z",
     "start_time": "2020-06-05T13:58:46.603780Z"
    },
    "colab": {},
    "colab_type": "code",
    "id": "m0hnW5vTemQY"
   },
   "outputs": [],
   "source": [
    "from sklearn.linear_model import LinearRegression\n",
    "from sklearn import metrics"
   ]
  },
  {
   "cell_type": "code",
   "execution_count": 96,
   "metadata": {
    "ExecuteTime": {
     "end_time": "2020-06-05T13:58:46.787784Z",
     "start_time": "2020-06-05T13:58:46.776782Z"
    },
    "colab": {},
    "colab_type": "code",
    "id": "vhf8ccDxeonv"
   },
   "outputs": [],
   "source": [
    "lm = LinearRegression() # Creating a Linear Regression object 'lm'"
   ]
  },
  {
   "cell_type": "code",
   "execution_count": 97,
   "metadata": {
    "ExecuteTime": {
     "end_time": "2020-06-05T13:58:46.883777Z",
     "start_time": "2020-06-05T13:58:46.790778Z"
    },
    "colab": {},
    "colab_type": "code",
    "id": "TBeHSn_EerOQ"
   },
   "outputs": [
    {
     "data": {
      "text/plain": [
       "LinearRegression(copy_X=True, fit_intercept=True, n_jobs=None, normalize=False)"
      ]
     },
     "execution_count": 97,
     "metadata": {},
     "output_type": "execute_result"
    }
   ],
   "source": [
    "lm.fit(X_train,y_train) # Fit the linear model on to the 'lm' object itself i.e. no need to set this to another variable"
   ]
  },
  {
   "cell_type": "markdown",
   "metadata": {
    "colab_type": "text",
    "id": "o2108eTXCBdR"
   },
   "source": [
    "# Avaliação do modelo e métricas\n",
    "https://scikit-learn.org/stable/modules/model_evaluation.html"
   ]
  },
  {
   "cell_type": "markdown",
   "metadata": {
    "colab_type": "text",
    "id": "2BBJNHwsetmY"
   },
   "source": [
    "## Intercepto/coeficiente linear em um DataFrame\n"
   ]
  },
  {
   "cell_type": "code",
   "execution_count": 98,
   "metadata": {
    "ExecuteTime": {
     "end_time": "2020-06-05T13:58:46.963783Z",
     "start_time": "2020-06-05T13:58:46.886779Z"
    },
    "colab": {},
    "colab_type": "code",
    "id": "4ATC3UK4et7o"
   },
   "outputs": [
    {
     "name": "stdout",
     "output_type": "stream",
     "text": [
      "Intercepto: 54.73043858580871\n"
     ]
    }
   ],
   "source": [
    "print(\"Intercepto:\", lm.intercept_)"
   ]
  },
  {
   "cell_type": "code",
   "execution_count": 99,
   "metadata": {
    "ExecuteTime": {
     "end_time": "2020-06-05T13:58:47.043781Z",
     "start_time": "2020-06-05T13:58:46.967777Z"
    },
    "colab": {},
    "colab_type": "code",
    "id": "NP_1M5_kewF4"
   },
   "outputs": [
    {
     "name": "stdout",
     "output_type": "stream",
     "text": [
      "Coeficiente Linear: [-2.03134551e-02 -6.94537483e-01  3.20313515e-02  4.14271259e-02\n",
      "  2.58021943e-02  4.18238745e-02 -4.57852306e-01  8.16785701e-04\n",
      " -9.26454249e-02  2.31211673e-02  6.37900144e+00  6.60094223e-01]\n"
     ]
    }
   ],
   "source": [
    "print(\"Coeficiente Linear:\", lm.coef_)"
   ]
  },
  {
   "cell_type": "code",
   "execution_count": 100,
   "metadata": {
    "ExecuteTime": {
     "end_time": "2020-06-05T13:58:47.123783Z",
     "start_time": "2020-06-05T13:58:47.047783Z"
    },
    "colab": {},
    "colab_type": "code",
    "id": "Czm2nKC2fARj"
   },
   "outputs": [],
   "source": [
    "train_pred = lm.predict(X_train)"
   ]
  },
  {
   "cell_type": "markdown",
   "metadata": {
    "colab_type": "text",
    "id": "QQ5Qsn4m0nre"
   },
   "source": [
    "* MAE: Média da diferença absoluta entre previsto/realizado\n",
    "* MSE: Média dos quadrados dos erros\n",
    "* RMSE: Desvio padrão da diferença entre previsto/realizado"
   ]
  },
  {
   "cell_type": "code",
   "execution_count": 101,
   "metadata": {
    "ExecuteTime": {
     "end_time": "2020-06-05T13:58:47.204779Z",
     "start_time": "2020-06-05T13:58:47.127780Z"
    },
    "colab": {},
    "colab_type": "code",
    "id": "Jl83tAiLfAzl"
   },
   "outputs": [
    {
     "data": {
      "text/plain": [
       "16.859583012030342"
      ]
     },
     "execution_count": 101,
     "metadata": {},
     "output_type": "execute_result"
    }
   ],
   "source": [
    "# MSE\n",
    "metrics.mean_squared_error(y_train,train_pred)"
   ]
  },
  {
   "cell_type": "code",
   "execution_count": 102,
   "metadata": {
    "ExecuteTime": {
     "end_time": "2020-06-05T13:58:47.299779Z",
     "start_time": "2020-06-05T13:58:47.207779Z"
    },
    "colab": {},
    "colab_type": "code",
    "id": "22JD6pxsfDIF"
   },
   "outputs": [
    {
     "data": {
      "text/plain": [
       "3.0803824228831145"
      ]
     },
     "execution_count": 102,
     "metadata": {},
     "output_type": "execute_result"
    }
   ],
   "source": [
    "# MAE\n",
    "metrics.mean_absolute_error(y_train,train_pred)"
   ]
  },
  {
   "cell_type": "markdown",
   "metadata": {
    "colab_type": "text",
    "id": "HwReC9llfFuh"
   },
   "source": [
    "## R² do modelo\n",
    "O R-quadrado é uma medida estatística de quão próximos os dados estão da linha de regressão ajustada. O R-quadrado está sempre entre 0 e 100%:\n",
    "\n",
    "* 0% indica que o modelo não explica nada da variabilidade dos dados de resposta ao redor de sua média.\n",
    "* 100% indica que o modelo explica toda a variabilidade dos dados de resposta ao redor de sua média.\n",
    "\n",
    "Em geral, quanto maior o R-quadrado, melhor o modelo se ajusta aos seus dados."
   ]
  },
  {
   "cell_type": "code",
   "execution_count": 103,
   "metadata": {
    "ExecuteTime": {
     "end_time": "2020-06-05T13:58:47.379791Z",
     "start_time": "2020-06-05T13:58:47.302782Z"
    },
    "colab": {},
    "colab_type": "code",
    "id": "kttbDfd3fIJD"
   },
   "outputs": [
    {
     "name": "stdout",
     "output_type": "stream",
     "text": [
      "R-quadrado: 0.81\n"
     ]
    }
   ],
   "source": [
    "print(f\"R-quadrado: {round(metrics.r2_score(y_train,train_pred),2)}\")"
   ]
  },
  {
   "cell_type": "code",
   "execution_count": 108,
   "metadata": {
    "ExecuteTime": {
     "end_time": "2020-06-05T14:03:29.087685Z",
     "start_time": "2020-06-05T14:03:29.079687Z"
    }
   },
   "outputs": [],
   "source": [
    "predictions = lm.predict(X_test)"
   ]
  },
  {
   "cell_type": "markdown",
   "metadata": {
    "colab_type": "text",
    "id": "K9Ax0-0DfO7w"
   },
   "source": [
    "## Scatter plot das predições/valores reais: devemos encontrar uma linha reta\n"
   ]
  },
  {
   "cell_type": "code",
   "execution_count": 132,
   "metadata": {
    "ExecuteTime": {
     "end_time": "2020-06-05T14:16:21.535497Z",
     "start_time": "2020-06-05T14:16:21.256504Z"
    },
    "colab": {},
    "colab_type": "code",
    "id": "zI7uqaeNfQVP"
   },
   "outputs": [
    {
     "data": {
      "text/plain": [
       "<matplotlib.collections.PathCollection at 0x15fa8f30>"
      ]
     },
     "execution_count": 132,
     "metadata": {},
     "output_type": "execute_result"
    },
    {
     "data": {
      "image/png": "[encoded data removed]",
      "text/plain": [
       "<Figure size 720x504 with 1 Axes>"
      ]
     },
     "metadata": {
      "needs_background": "light"
     },
     "output_type": "display_data"
    }
   ],
   "source": [
    "plt.figure(figsize=(10,7))\n",
    "plt.title(\"Actual vs. predicted \",fontsize=25)\n",
    "plt.xlabel(\"Actual test \",fontsize=18)\n",
    "plt.ylabel(\"Predicted \", fontsize=18)\n",
    "plt.scatter(x=y_test,y=predictions)\n"
   ]
  },
  {
   "cell_type": "markdown",
   "metadata": {
    "colab_type": "text",
    "id": "0eIotzDAfUNX"
   },
   "source": [
    "## Métricas de avaliação para regressão(treino)\n",
    "* MAE: Média da diferença absoluta entre previsto/realizado\n",
    "* MSE: Média dos quadrados dos erros\n",
    "* RMSE: Desvio padrão da diferença entre previsto/realizado\n"
   ]
  },
  {
   "cell_type": "code",
   "execution_count": 133,
   "metadata": {
    "ExecuteTime": {
     "end_time": "2020-06-05T14:17:24.934051Z",
     "start_time": "2020-06-05T14:17:24.916050Z"
    },
    "colab": {},
    "colab_type": "code",
    "id": "RyouLHd3fWL3"
   },
   "outputs": [
    {
     "name": "stdout",
     "output_type": "stream",
     "text": [
      "Mean absolute error (MAE): 3.0803824228831145\n",
      "Mean square error (MSE): 16.859583012030342\n",
      "Root mean square error (RMSE): 4.1060422564837715\n"
     ]
    }
   ],
   "source": [
    "print(f\"Mean absolute error (MAE): {metrics.mean_absolute_error(y_train,train_pred)}\")\n",
    "print(f\"Mean square error (MSE): {metrics.mean_squared_error(y_train,train_pred)}\")\n",
    "print(f\"Root mean square error (RMSE): {np.sqrt(metrics.mean_squared_error(y_train,train_pred))}\")"
   ]
  },
  {
   "cell_type": "markdown",
   "metadata": {
    "colab_type": "text",
    "id": "NgN3UWMlfYNu"
   },
   "source": [
    "## Métricas de avaliação para regressão(teste)\n",
    "* MAE: Média da diferença absoluta entre previsto/realizado\n",
    "* MSE: Média dos quadrados dos erros\n",
    "* RMSE: Desvio padrão da diferença entre previsto/realizado"
   ]
  },
  {
   "cell_type": "code",
   "execution_count": 134,
   "metadata": {
    "ExecuteTime": {
     "end_time": "2020-06-05T14:17:27.042843Z",
     "start_time": "2020-06-05T14:17:27.028849Z"
    },
    "colab": {},
    "colab_type": "code",
    "id": "fn157TfjfYj9"
   },
   "outputs": [
    {
     "name": "stdout",
     "output_type": "stream",
     "text": [
      "Mean absolute error (MAE): 3.12941549680718\n",
      "Mean square error (MSE): 18.159377485035392\n",
      "Root mean square error (RMSE): 4.261382109719262\n"
     ]
    }
   ],
   "source": [
    "print(f\"Mean absolute error (MAE): {metrics.mean_absolute_error(y_test,predictions)}\")\n",
    "print(f\"Mean square error (MSE): {metrics.mean_squared_error(y_test,predictions)}\")\n",
    "print(f\"Root mean square error (RMSE): {np.sqrt(metrics.mean_squared_error(y_test,predictions))}\")"
   ]
  },
  {
   "cell_type": "markdown",
   "metadata": {
    "colab_type": "text",
    "id": "_tn4fi4CffbS"
   },
   "source": [
    "## Mean Absolute Percentage error(y_train)\n",
    "O MAPE (Erro Absoluto Médio Percentual) mede o erro em porcentagem. Este é calculado como a média do erro percentual\n"
   ]
  },
  {
   "cell_type": "code",
   "execution_count": 135,
   "metadata": {
    "ExecuteTime": {
     "end_time": "2020-06-05T14:17:31.204850Z",
     "start_time": "2020-06-05T14:17:31.186850Z"
    },
    "colab": {},
    "colab_type": "code",
    "id": "6ctB5urVff1H"
   },
   "outputs": [
    {
     "name": "stdout",
     "output_type": "stream",
     "text": [
      "Mean absolute percentage error (MAPE): 4.697098273852131\n"
     ]
    }
   ],
   "source": [
    "def mean_absolute_percentage_error(y_train, train_pred):\n",
    "    y_train,train_pred=np.array(y_train),np.array(train_pred)\n",
    "    return np.mean(np.abs((y_train - train_pred)/y_train))*100\n",
    "\n",
    "print(f\"Mean absolute percentage error (MAPE): {mean_absolute_percentage_error(y_train,train_pred)}\")"
   ]
  },
  {
   "cell_type": "markdown",
   "metadata": {
    "colab_type": "text",
    "id": "NYijqRe4fkH-"
   },
   "source": [
    "## Mean Absolute Percentage error(y_test)\n",
    "O MAPE (Erro Absoluto Médio Percentual) mede o erro em porcentagem. Este é calculado como a média do erro percentual\n"
   ]
  },
  {
   "cell_type": "code",
   "execution_count": null,
   "metadata": {
    "ExecuteTime": {
     "end_time": "2020-06-05T13:58:48.182785Z",
     "start_time": "2020-06-05T13:58:35.557Z"
    },
    "colab": {},
    "colab_type": "code",
    "id": "rWiYwhQzfkf6"
   },
   "outputs": [],
   "source": [
    "def mean_absolute_percentage_error(y_test, predictions):\n",
    "    y_test,predictions=np.array(y_test),np.array(predictions)\n",
    "    return np.mean(np.abs((y_test - predictions)/y_test))*100\n",
    "\n",
    "print(f\"Mean absolute percentage error (MAPE): {mean_absolute_percentage_error(y_test,predictions)}\")"
   ]
  },
  {
   "cell_type": "code",
   "execution_count": null,
   "metadata": {},
   "outputs": [],
   "source": []
  }
 ],
 "metadata": {
  "accelerator": "GPU",
  "colab": {
   "name": "Projeto-VIDA.ipynb",
   "private_outputs": true,
   "provenance": []
  },
  "hide_input": false,
  "kernelspec": {
   "display_name": "Python 3",
   "language": "python",
   "name": "python3"
  },
  "language_info": {
   "codemirror_mode": {
    "name": "ipython",
    "version": 3
   },
   "file_extension": ".py",
   "mimetype": "text/x-python",
   "name": "python",
   "nbconvert_exporter": "python",
   "pygments_lexer": "ipython3",
   "version": "3.7.6"
  },
  "latex_envs": {
   "LaTeX_envs_menu_present": true,
   "autoclose": false,
   "autocomplete": true,
   "bibliofile": "biblio.bib",
   "cite_by": "apalike",
   "current_citInitial": 1,
   "eqLabelWithNumbers": true,
   "eqNumInitial": 1,
   "hotkeys": {
    "equation": "Ctrl-E",
    "itemize": "Ctrl-I"
   },
   "labels_anchors": false,
   "latex_user_defs": false,
   "report_style_numbering": false,
   "user_envs_cfg": false
  },
  "toc": {
   "base_numbering": 1,
   "nav_menu": {},
   "number_sections": true,
   "sideBar": true,
   "skip_h1_title": false,
   "title_cell": "Table of Contents",
   "title_sidebar": "Contents",
   "toc_cell": false,
   "toc_position": {},
   "toc_section_display": true,
   "toc_window_display": false
  },
  "varInspector": {
   "cols": {
    "lenName": 16,
    "lenType": 16,
    "lenVar": 40
   },
   "kernels_config": {
    "python": {
     "delete_cmd_postfix": "",
     "delete_cmd_prefix": "del ",
     "library": "var_list.py",
     "varRefreshCmd": "print(var_dic_list())"
    },
    "r": {
     "delete_cmd_postfix": ") ",
     "delete_cmd_prefix": "rm(",
     "library": "var_list.r",
     "varRefreshCmd": "cat(var_dic_list()) "
    }
   },
   "position": {
    "height": "257px",
    "left": "1005px",
    "right": "20px",
    "top": "120px",
    "width": "341px"
   },
   "types_to_exclude": [
    "module",
    "function",
    "builtin_function_or_method",
    "instance",
    "_Feature"
   ],
   "window_display": false
  }
 },
 "nbformat": 4,
 "nbformat_minor": 4
}
