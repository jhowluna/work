{
 "cells": [
  {
   "cell_type": "code",
   "execution_count": 2,
   "metadata": {},
   "outputs": [],
   "source": [
    "import numpy as np\n",
    "\n",
    "from sklearn.datasets import make_moons\n",
    "\n",
    "from sklearn.model_selection import train_test_split\n",
    "\n",
    "import matplotlib.pyplot as plt\n",
    "\n",
    "%matplotlib inline\n",
    "\n",
    " \n",
    "\n",
    "def init(inp, out):\n",
    "     return np.random.randn(inp, out) / np.sqrt(inp)\n",
    "\n",
    "def create_architecture(input_layer, first_layer, output_layer, random_seed=0):\n",
    "\n",
    "    np.random.seed(random_seed)\n",
    "    layers = X.shape[1], 3 , 1\n",
    "    arch = list(zip(layers[:-1], layers[1:]))\n",
    "    weights = [init(inp, out) for inp, out in arch]\n",
    "    \n",
    "     return weights"
   ]
  },
  {
   "cell_type": "code",
   "execution_count": 3,
   "metadata": {},
   "outputs": [],
   "source": [
    "def sigmoid(z):\n",
    "    return 1/(1 + np.exp(-z))\n",
    "\n",
    "def sigmoid_prime(s):\n",
    "    return s * (1 -s)"
   ]
  },
  {
   "cell_type": "code",
   "execution_count": 4,
   "metadata": {},
   "outputs": [],
   "source": [
    "def feed_forward(X, weights):\n",
    "\n",
    "    a = X.copy()\n",
    "    out = list()\n",
    "    \n",
    "    for W in weights:\n",
    "        z = np.dot(a, W)\n",
    "        a = sigmoid(z)\n",
    "\n",
    "    return out"
   ]
  },
  {
   "cell_type": "code",
   "execution_count": 5,
   "metadata": {},
   "outputs": [],
   "source": [
    "def accuracy(true_label, predicted):\n",
    "    correct_preds = np.ravel(predicted)==true_label\n",
    "\n",
    "    return np.sum(correct_preds) / len(true_label)"
   ]
  },
  {
   "cell_type": "code",
   "execution_count": 6,
   "metadata": {},
   "outputs": [],
   "source": [
    "def backpropagation(l1, l2, weights, y):\n",
    "\n",
    "    l2_error = y.reshape(-1, 1) - l2\n",
    "\n",
    "    l2_delta = l2_error * sigmoid_prime(l2)\n",
    "\n",
    "    l1_error = l2_delta.dot(weights[1].T)\n",
    "\n",
    "    l1_delta = l1_error * sigmoid_prime(l1)\n",
    "\n",
    "    return l2_error, l1_delta, l2_delta"
   ]
  },
  {
   "cell_type": "code",
   "execution_count": 9,
   "metadata": {},
   "outputs": [],
   "source": [
    "def update_weights(X, l1, l1_delta, l2_delta, weights,alpha=1.0):\n",
    "\n",
    "    weights[1] = weights[1] + (alpha * l1.T.dot(l2_delta))\n",
    "\n",
    "    weights[0] = weights[0] + (alpha * X.T.dot(l1_delta))\n",
    "\n",
    "    return weights"
   ]
  },
  {
   "cell_type": "code",
   "execution_count": 8,
   "metadata": {},
   "outputs": [],
   "source": [
    "def predict(X, weights):\n",
    "\n",
    "    _, l2 = feed_forward(X, weights)\n",
    "\n",
    "    preds = np.ravel((l2 > 0.5).astype(int))\n",
    "\n",
    "    return preds"
   ]
  },
  {
   "cell_type": "code",
   "execution_count": 10,
   "metadata": {},
   "outputs": [
    {
     "data": {
      "image/png": "[encoded data removed]",
      "text/plain": [
       "<Figure size 432x288 with 1 Axes>"
      ]
     },
     "metadata": {
      "needs_background": "light"
     },
     "output_type": "display_data"
    }
   ],
   "source": [
    "import numpy as np\n",
    "\n",
    "np.random.seed(0)\n",
    "\n",
    "coord, cl = make_moons(300, noise=0.05)\n",
    "\n",
    "X, Xt, y, yt = train_test_split(coord, cl, test_size=0.30, random_state=0)\n",
    "\n",
    "plt.scatter(X[:,0], X[:,1], s=25, c=y, cmap=plt.cm.Set1)\n",
    "\n",
    "plt.show()"
   ]
  },
  {
   "cell_type": "code",
   "execution_count": 12,
   "metadata": {},
   "outputs": [
    {
     "name": "stdout",
     "output_type": "stream",
     "text": [
      "Epoch     0 - error: 0.5077 - acc: treino 0.462 | teste 0.656\n",
      "Epoch  5000 - error: 0.0991 - acc: treino 0.952 | teste 0.944\n",
      "Epoch 10000 - error: 0.0872 - acc: treino 0.952 | teste 0.944\n",
      "Epoch 15000 - error: 0.0810 - acc: treino 0.957 | teste 0.956\n",
      "Epoch 20000 - error: 0.0758 - acc: treino 0.967 | teste 0.956\n",
      "Epoch 25000 - error: 0.0729 - acc: treino 0.967 | teste 0.956\n",
      "Epoch 30000 - error: 0.0794 - acc: treino 0.957 | teste 0.967\n"
     ]
    }
   ],
   "source": [
    "weights = create_architecture(X, 3, 1)\n",
    "\n",
    "for j in range(30000 + 1):\n",
    "\n",
    "    # Feed forward para as camadas ocultas\n",
    "    l1, l2 = feed_forward(X, weights)\n",
    "\n",
    "    # Backpropagation do output ao input\n",
    "    l2_error, l1_delta, l2_delta = backpropagation(l1, l2, weights, y)\n",
    "\n",
    "    # Atualização dos pesos\n",
    "    weights = update_weights(X, l1, l1_delta, l2_delta, weights, alpha=0.05)\n",
    "\n",
    "    # Reporte os resultados, individualmente\n",
    "\n",
    "    if (j % 5000) == 0:\n",
    "\n",
    "        train_error = np.mean(np.abs(l2_error))\n",
    "\n",
    "        print('Epoch {:5}'.format(j), end=' - ')\n",
    "\n",
    "        print('error: {:0.4f}'.format(train_error), end= ' - ')\n",
    "\n",
    "        train_accuracy = accuracy(true_label=y,predicted=(l2 > 0.5))\n",
    "\n",
    "        test_preds = predict(Xt, weights)\n",
    "\n",
    "        test_accuracy = accuracy(true_label=yt,predicted=test_preds)\n",
    "\n",
    "        print(f'acc: treino {train_accuracy:.3f}', end= ' | ')\n",
    "\n",
    "        print(f'teste {test_accuracy:.3f}')"
   ]
  },
  {
   "cell_type": "code",
   "execution_count": null,
   "metadata": {},
   "outputs": [],
   "source": []
  }
 ],
 "metadata": {
  "kernelspec": {
   "display_name": "Python 3",
   "language": "python",
   "name": "python3"
  },
  "language_info": {
   "codemirror_mode": {
    "name": "ipython",
    "version": 3
   },
   "file_extension": ".py",
   "mimetype": "text/x-python",
   "name": "python",
   "nbconvert_exporter": "python",
   "pygments_lexer": "ipython3",
   "version": "3.8.3"
  }
 },
 "nbformat": 4,
 "nbformat_minor": 4
}
