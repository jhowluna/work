{
 "cells": [
  {
   "cell_type": "code",
   "execution_count": 1,
   "metadata": {
    "ExecuteTime": {
     "end_time": "2020-10-02T11:42:27.550632Z",
     "start_time": "2020-10-02T11:42:24.407682Z"
    }
   },
   "outputs": [],
   "source": [
    "import time\n",
    "import sys\n",
    "import cv2\n",
    "import matplotlib.pyplot as plt\n",
    "import numpy as np\n",
    "import zipfile"
   ]
  },
  {
   "cell_type": "code",
   "execution_count": 2,
   "metadata": {
    "ExecuteTime": {
     "end_time": "2020-10-02T11:42:27.565173Z",
     "start_time": "2020-10-02T11:42:27.561358Z"
    }
   },
   "outputs": [],
   "source": [
    "arquivo_proto = '../pose/body/mpi/pose_deploy_linevec_faster_4_stages.prototxt'\n",
    "arquivos_pesos = '../pose/body/mpi/pose_iter_160000.caffemodel'"
   ]
  },
  {
   "cell_type": "code",
   "execution_count": 3,
   "metadata": {
    "ExecuteTime": {
     "end_time": "2020-10-02T11:42:27.719391Z",
     "start_time": "2020-10-02T11:42:27.578197Z"
    }
   },
   "outputs": [],
   "source": [
    "numero_pontos = 15\n",
    "pares_pontos = [[0,1],[1,2],[2,3],[3,4],[1,5],[5,6],[6,7],[1,14],\n",
    "              [14,8],[8,9],[9,10],[14,11],[11,12],[12,13]]"
   ]
  },
  {
   "cell_type": "code",
   "execution_count": 4,
   "metadata": {
    "ExecuteTime": {
     "end_time": "2020-10-02T11:42:27.867786Z",
     "start_time": "2020-10-02T11:42:27.728429Z"
    }
   },
   "outputs": [],
   "source": [
    "sys.path.append(\"../modulos/\")"
   ]
  },
  {
   "cell_type": "code",
   "execution_count": 5,
   "metadata": {
    "ExecuteTime": {
     "end_time": "2020-10-02T11:42:28.282547Z",
     "start_time": "2020-10-02T11:42:27.877196Z"
    }
   },
   "outputs": [],
   "source": [
    "import extrator_CORPO"
   ]
  },
  {
   "cell_type": "code",
   "execution_count": 6,
   "metadata": {
    "ExecuteTime": {
     "end_time": "2020-10-02T11:42:28.374808Z",
     "start_time": "2020-10-02T11:42:28.290862Z"
    }
   },
   "outputs": [],
   "source": [
    "cor_pontoA,cor_pontoB,cor_linha = (14,201,255), (255,0,128),(192,192,192)\n",
    "cor_txtponto, cor_txtinicial, cor_txtandamento = (10, 216 , 245),(255,0,128),(192,192,192)\n",
    "\n",
    "tamanho_fonte , tamanho_linha , tamanho_circulo , espessura = 0.8,2,8,5\n",
    "fonte = cv2.FONT_HERSHEY_SIMPLEX"
   ]
  },
  {
   "cell_type": "code",
   "execution_count": 8,
   "metadata": {
    "ExecuteTime": {
     "end_time": "2020-10-02T11:43:36.390274Z",
     "start_time": "2020-10-02T11:43:36.380614Z"
    }
   },
   "outputs": [],
   "source": [
    "valida_pernas_juntas,valida_pernas_afastadas = 0,0\n",
    "valida_bracos_abaixo, valida_bracos_acima = 0,0"
   ]
  },
  {
   "cell_type": "code",
   "execution_count": 9,
   "metadata": {
    "ExecuteTime": {
     "end_time": "2020-10-02T11:46:31.337482Z",
     "start_time": "2020-10-02T11:46:31.328664Z"
    }
   },
   "outputs": [],
   "source": [
    "entrada_largura = 256\n",
    "entrada_altura = 256"
   ]
  },
  {
   "cell_type": "code",
   "execution_count": 11,
   "metadata": {
    "ExecuteTime": {
     "end_time": "2020-10-02T11:48:15.959434Z",
     "start_time": "2020-10-02T11:48:15.057803Z"
    }
   },
   "outputs": [],
   "source": [
    "video = \"../imagens/body/videos/original_3.mp4\"\n",
    "captura = cv2.VideoCapture(video)\n",
    "conectado, frame = captura.read()"
   ]
  },
  {
   "cell_type": "code",
   "execution_count": 15,
   "metadata": {
    "ExecuteTime": {
     "end_time": "2020-10-02T11:53:06.377200Z",
     "start_time": "2020-10-02T11:53:06.267996Z"
    }
   },
   "outputs": [],
   "source": [
    "resultado = \"../polichinelo.avi\"\n",
    "gravar_video = cv2.VideoWriter(resultado,cv2.VideoWriter_fourcc(*\"XVID\"),10,\n",
    "                              (frame.shape[1],frame.shape[0]))"
   ]
  },
  {
   "cell_type": "code",
   "execution_count": 16,
   "metadata": {
    "ExecuteTime": {
     "end_time": "2020-10-02T11:53:29.887475Z",
     "start_time": "2020-10-02T11:53:26.815567Z"
    }
   },
   "outputs": [],
   "source": [
    "modelo = cv2.dnn.readNetFromCaffe(arquivo_proto,arquivos_pesos)"
   ]
  },
  {
   "cell_type": "code",
   "execution_count": null,
   "metadata": {},
   "outputs": [],
   "source": [
    "limite = 0.1\n",
    "while (cv2.waitKey(1) < 0):\n",
    "    t = time.time()\n",
    "    conectado, video = captura.read()\n",
    "    \n",
    "    video_copia = np.copy(video)\n",
    "    \n",
    "    if not conectado:\n",
    "        cv.waitKey()\n",
    "        break\n",
    "        \n",
    "    video_largura = video.shape[1]\n",
    "    video_altura = video.shape[0]"
   ]
  }
 ],
 "metadata": {
  "kernelspec": {
   "display_name": "Python 3",
   "language": "python",
   "name": "python3"
  },
  "language_info": {
   "codemirror_mode": {
    "name": "ipython",
    "version": 3
   },
   "file_extension": ".py",
   "mimetype": "text/x-python",
   "name": "python",
   "nbconvert_exporter": "python",
   "pygments_lexer": "ipython3",
   "version": "3.8.3"
  },
  "toc": {
   "base_numbering": 1,
   "nav_menu": {},
   "number_sections": true,
   "sideBar": true,
   "skip_h1_title": false,
   "title_cell": "Table of Contents",
   "title_sidebar": "Contents",
   "toc_cell": false,
   "toc_position": {},
   "toc_section_display": true,
   "toc_window_display": false
  },
  "varInspector": {
   "cols": {
    "lenName": 16,
    "lenType": 16,
    "lenVar": 40
   },
   "kernels_config": {
    "python": {
     "delete_cmd_postfix": "",
     "delete_cmd_prefix": "del ",
     "library": "var_list.py",
     "varRefreshCmd": "print(var_dic_list())"
    },
    "r": {
     "delete_cmd_postfix": ") ",
     "delete_cmd_prefix": "rm(",
     "library": "var_list.r",
     "varRefreshCmd": "cat(var_dic_list()) "
    }
   },
   "types_to_exclude": [
    "module",
    "function",
    "builtin_function_or_method",
    "instance",
    "_Feature"
   ],
   "window_display": false
  }
 },
 "nbformat": 4,
 "nbformat_minor": 4
}
