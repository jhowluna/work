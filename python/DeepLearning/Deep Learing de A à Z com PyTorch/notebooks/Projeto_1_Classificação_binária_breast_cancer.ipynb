{
 "cells": [
  {
   "cell_type": "markdown",
   "metadata": {
    "id": "rD_RSER5Lkb5"
   },
   "source": [
    "# Projeto 1: Classificação binária brest cancer"
   ]
  },
  {
   "cell_type": "markdown",
   "metadata": {
    "id": "5tP2BcEILoLB"
   },
   "source": [
    "## Etapa 1: Importação das bibliotecas"
   ]
  },
  {
   "cell_type": "code",
   "execution_count": 1,
   "metadata": {
    "ExecuteTime": {
     "end_time": "2020-10-02T23:48:18.794756Z",
     "start_time": "2020-10-02T23:48:10.481617Z"
    },
    "id": "B1WlABbCcw2B"
   },
   "outputs": [],
   "source": [
    "import pandas as pd\n",
    "from sklearn.model_selection import train_test_split\n",
    "import numpy as np\n",
    "import seaborn as sns\n",
    "from sklearn.metrics import confusion_matrix, accuracy_score"
   ]
  },
  {
   "cell_type": "code",
   "execution_count": 6,
   "metadata": {
    "ExecuteTime": {
     "end_time": "2020-10-03T00:39:29.216700Z",
     "start_time": "2020-10-03T00:39:29.034115Z"
    }
   },
   "outputs": [],
   "source": [
    "#!pip install torch==1.4.0"
   ]
  },
  {
   "cell_type": "code",
   "execution_count": 4,
   "metadata": {
    "ExecuteTime": {
     "end_time": "2020-10-03T00:39:29.006515Z",
     "start_time": "2020-10-03T00:39:23.923582Z"
    },
    "colab": {
     "base_uri": "https://localhost:8080/",
     "height": 35
    },
    "id": "b85d_o8BdFub",
    "outputId": "454a3f36-a370-4552-8883-00a9867b9aca"
   },
   "outputs": [
    {
     "data": {
      "text/plain": [
       "'1.4.0'"
      ]
     },
     "execution_count": 4,
     "metadata": {},
     "output_type": "execute_result"
    }
   ],
   "source": [
    "import torch\n",
    "torch.__version__\n",
    "#!pip install torch==1.4.0"
   ]
  },
  {
   "cell_type": "code",
   "execution_count": 5,
   "metadata": {
    "ExecuteTime": {
     "end_time": "2020-10-03T00:39:29.021080Z",
     "start_time": "2020-10-03T00:39:29.017471Z"
    },
    "id": "UVO3Mj3qdjru"
   },
   "outputs": [],
   "source": [
    "import torch.nn as nn"
   ]
  },
  {
   "cell_type": "markdown",
   "metadata": {
    "id": "C0SD4dJ4MDMN"
   },
   "source": [
    "## Etapa 2: Base de dados"
   ]
  },
  {
   "cell_type": "code",
   "execution_count": 7,
   "metadata": {
    "ExecuteTime": {
     "end_time": "2020-10-03T00:39:32.391105Z",
     "start_time": "2020-10-03T00:39:32.383316Z"
    },
    "colab": {
     "base_uri": "https://localhost:8080/",
     "height": 35
    },
    "id": "i81g-4ADedrN",
    "outputId": "5c393b1e-1f22-4ea0-a24c-d71d8af23a2f"
   },
   "outputs": [
    {
     "data": {
      "text/plain": [
       "<torch._C.Generator at 0x7f4ee5033c30>"
      ]
     },
     "execution_count": 7,
     "metadata": {},
     "output_type": "execute_result"
    }
   ],
   "source": [
    "np.random.seed(123)\n",
    "torch.manual_seed(123)"
   ]
  },
  {
   "cell_type": "code",
   "execution_count": 8,
   "metadata": {
    "ExecuteTime": {
     "end_time": "2020-10-03T00:40:14.704343Z",
     "start_time": "2020-10-03T00:40:14.486504Z"
    },
    "id": "PjbIvUYwfBH8"
   },
   "outputs": [],
   "source": [
    "previsores = pd.read_csv('../Bases/entradas_breast.csv')\n",
    "classe = pd.read_csv('../Bases/saidas_breast.csv')"
   ]
  },
  {
   "cell_type": "code",
   "execution_count": 9,
   "metadata": {
    "ExecuteTime": {
     "end_time": "2020-10-03T00:40:16.430658Z",
     "start_time": "2020-10-03T00:40:16.422355Z"
    },
    "colab": {
     "base_uri": "https://localhost:8080/",
     "height": 35
    },
    "id": "yFDDZfZTfOq5",
    "outputId": "5622094f-fec7-4460-caed-5aaf59a2e79f"
   },
   "outputs": [
    {
     "data": {
      "text/plain": [
       "(569, 30)"
      ]
     },
     "execution_count": 9,
     "metadata": {},
     "output_type": "execute_result"
    }
   ],
   "source": [
    "previsores.shape"
   ]
  },
  {
   "cell_type": "code",
   "execution_count": 10,
   "metadata": {
    "ExecuteTime": {
     "end_time": "2020-10-03T00:40:17.303942Z",
     "start_time": "2020-10-03T00:40:17.145636Z"
    },
    "colab": {
     "base_uri": "https://localhost:8080/",
     "height": 218
    },
    "id": "rqiQvr3HfUc4",
    "outputId": "c6c00224-a15f-45fc-dda8-68f96bacc43a"
   },
   "outputs": [
    {
     "data": {
      "text/html": [
       "<div>\n",
       "<style scoped>\n",
       "    .dataframe tbody tr th:only-of-type {\n",
       "        vertical-align: middle;\n",
       "    }\n",
       "\n",
       "    .dataframe tbody tr th {\n",
       "        vertical-align: top;\n",
       "    }\n",
       "\n",
       "    .dataframe thead th {\n",
       "        text-align: right;\n",
       "    }\n",
       "</style>\n",
       "<table border=\"1\" class=\"dataframe\">\n",
       "  <thead>\n",
       "    <tr style=\"text-align: right;\">\n",
       "      <th></th>\n",
       "      <th>radius_mean</th>\n",
       "      <th>texture_mean</th>\n",
       "      <th>perimeter_mean</th>\n",
       "      <th>area_mean</th>\n",
       "      <th>smoothness_mean</th>\n",
       "      <th>compactness_mean</th>\n",
       "      <th>concavity_mean</th>\n",
       "      <th>concave_points_mean</th>\n",
       "      <th>symmetry_mean</th>\n",
       "      <th>fractal_dimension_mean</th>\n",
       "      <th>...</th>\n",
       "      <th>radius_worst</th>\n",
       "      <th>texture_worst</th>\n",
       "      <th>perimeter_worst</th>\n",
       "      <th>area_worst</th>\n",
       "      <th>smoothness_worst</th>\n",
       "      <th>compactness_worst</th>\n",
       "      <th>concavity_worst</th>\n",
       "      <th>concave_points_worst</th>\n",
       "      <th>symmetry_worst</th>\n",
       "      <th>fractal_dimension_worst</th>\n",
       "    </tr>\n",
       "  </thead>\n",
       "  <tbody>\n",
       "    <tr>\n",
       "      <th>0</th>\n",
       "      <td>17.99</td>\n",
       "      <td>10.38</td>\n",
       "      <td>122.80</td>\n",
       "      <td>1001.0</td>\n",
       "      <td>0.11840</td>\n",
       "      <td>0.27760</td>\n",
       "      <td>0.3001</td>\n",
       "      <td>0.14710</td>\n",
       "      <td>0.2419</td>\n",
       "      <td>0.07871</td>\n",
       "      <td>...</td>\n",
       "      <td>25.38</td>\n",
       "      <td>17.33</td>\n",
       "      <td>184.60</td>\n",
       "      <td>2019.0</td>\n",
       "      <td>0.1622</td>\n",
       "      <td>0.6656</td>\n",
       "      <td>0.7119</td>\n",
       "      <td>0.2654</td>\n",
       "      <td>0.4601</td>\n",
       "      <td>0.11890</td>\n",
       "    </tr>\n",
       "    <tr>\n",
       "      <th>1</th>\n",
       "      <td>20.57</td>\n",
       "      <td>17.77</td>\n",
       "      <td>132.90</td>\n",
       "      <td>1326.0</td>\n",
       "      <td>0.08474</td>\n",
       "      <td>0.07864</td>\n",
       "      <td>0.0869</td>\n",
       "      <td>0.07017</td>\n",
       "      <td>0.1812</td>\n",
       "      <td>0.05667</td>\n",
       "      <td>...</td>\n",
       "      <td>24.99</td>\n",
       "      <td>23.41</td>\n",
       "      <td>158.80</td>\n",
       "      <td>1956.0</td>\n",
       "      <td>0.1238</td>\n",
       "      <td>0.1866</td>\n",
       "      <td>0.2416</td>\n",
       "      <td>186.0000</td>\n",
       "      <td>275.0000</td>\n",
       "      <td>0.08902</td>\n",
       "    </tr>\n",
       "    <tr>\n",
       "      <th>2</th>\n",
       "      <td>19.69</td>\n",
       "      <td>21.25</td>\n",
       "      <td>130.00</td>\n",
       "      <td>1203.0</td>\n",
       "      <td>0.10960</td>\n",
       "      <td>0.15990</td>\n",
       "      <td>0.1974</td>\n",
       "      <td>0.12790</td>\n",
       "      <td>0.2069</td>\n",
       "      <td>0.05999</td>\n",
       "      <td>...</td>\n",
       "      <td>23.57</td>\n",
       "      <td>25.53</td>\n",
       "      <td>152.50</td>\n",
       "      <td>1709.0</td>\n",
       "      <td>0.1444</td>\n",
       "      <td>0.4245</td>\n",
       "      <td>0.4504</td>\n",
       "      <td>243.0000</td>\n",
       "      <td>0.3613</td>\n",
       "      <td>0.08758</td>\n",
       "    </tr>\n",
       "    <tr>\n",
       "      <th>3</th>\n",
       "      <td>11.42</td>\n",
       "      <td>20.38</td>\n",
       "      <td>77.58</td>\n",
       "      <td>386.1</td>\n",
       "      <td>0.14250</td>\n",
       "      <td>0.28390</td>\n",
       "      <td>0.2414</td>\n",
       "      <td>0.10520</td>\n",
       "      <td>0.2597</td>\n",
       "      <td>0.09744</td>\n",
       "      <td>...</td>\n",
       "      <td>14.91</td>\n",
       "      <td>26.50</td>\n",
       "      <td>98.87</td>\n",
       "      <td>567.7</td>\n",
       "      <td>0.2098</td>\n",
       "      <td>0.8663</td>\n",
       "      <td>0.6869</td>\n",
       "      <td>0.2575</td>\n",
       "      <td>0.6638</td>\n",
       "      <td>173.00000</td>\n",
       "    </tr>\n",
       "    <tr>\n",
       "      <th>4</th>\n",
       "      <td>20.29</td>\n",
       "      <td>14.34</td>\n",
       "      <td>135.10</td>\n",
       "      <td>1297.0</td>\n",
       "      <td>0.10030</td>\n",
       "      <td>0.13280</td>\n",
       "      <td>198.0000</td>\n",
       "      <td>0.10430</td>\n",
       "      <td>0.1809</td>\n",
       "      <td>0.05883</td>\n",
       "      <td>...</td>\n",
       "      <td>22.54</td>\n",
       "      <td>16.67</td>\n",
       "      <td>152.20</td>\n",
       "      <td>1575.0</td>\n",
       "      <td>0.1374</td>\n",
       "      <td>205.0000</td>\n",
       "      <td>0.4000</td>\n",
       "      <td>0.1625</td>\n",
       "      <td>0.2364</td>\n",
       "      <td>0.07678</td>\n",
       "    </tr>\n",
       "  </tbody>\n",
       "</table>\n",
       "<p>5 rows × 30 columns</p>\n",
       "</div>"
      ],
      "text/plain": [
       "    radius_mean   texture_mean   perimeter_mean   area_mean   smoothness_mean  \\\n",
       "0         17.99          10.38           122.80      1001.0           0.11840   \n",
       "1         20.57          17.77           132.90      1326.0           0.08474   \n",
       "2         19.69          21.25           130.00      1203.0           0.10960   \n",
       "3         11.42          20.38            77.58       386.1           0.14250   \n",
       "4         20.29          14.34           135.10      1297.0           0.10030   \n",
       "\n",
       "    compactness_mean   concavity_mean  concave_points_mean   symmetry_mean  \\\n",
       "0            0.27760           0.3001              0.14710          0.2419   \n",
       "1            0.07864           0.0869              0.07017          0.1812   \n",
       "2            0.15990           0.1974              0.12790          0.2069   \n",
       "3            0.28390           0.2414              0.10520          0.2597   \n",
       "4            0.13280         198.0000              0.10430          0.1809   \n",
       "\n",
       "    fractal_dimension_mean  ...   radius_worst   texture_worst  \\\n",
       "0                  0.07871  ...          25.38           17.33   \n",
       "1                  0.05667  ...          24.99           23.41   \n",
       "2                  0.05999  ...          23.57           25.53   \n",
       "3                  0.09744  ...          14.91           26.50   \n",
       "4                  0.05883  ...          22.54           16.67   \n",
       "\n",
       "    perimeter_worst   area_worst   smoothness_worst   compactness_worst  \\\n",
       "0            184.60       2019.0             0.1622              0.6656   \n",
       "1            158.80       1956.0             0.1238              0.1866   \n",
       "2            152.50       1709.0             0.1444              0.4245   \n",
       "3             98.87        567.7             0.2098              0.8663   \n",
       "4            152.20       1575.0             0.1374            205.0000   \n",
       "\n",
       "    concavity_worst   concave_points_worst   symmetry_worst  \\\n",
       "0            0.7119                 0.2654           0.4601   \n",
       "1            0.2416               186.0000         275.0000   \n",
       "2            0.4504               243.0000           0.3613   \n",
       "3            0.6869                 0.2575           0.6638   \n",
       "4            0.4000                 0.1625           0.2364   \n",
       "\n",
       "    fractal_dimension_worst  \n",
       "0                   0.11890  \n",
       "1                   0.08902  \n",
       "2                   0.08758  \n",
       "3                 173.00000  \n",
       "4                   0.07678  \n",
       "\n",
       "[5 rows x 30 columns]"
      ]
     },
     "execution_count": 10,
     "metadata": {},
     "output_type": "execute_result"
    }
   ],
   "source": [
    "previsores.head()"
   ]
  },
  {
   "cell_type": "code",
   "execution_count": 11,
   "metadata": {
    "ExecuteTime": {
     "end_time": "2020-10-03T00:40:17.760608Z",
     "start_time": "2020-10-03T00:40:17.752428Z"
    },
    "colab": {
     "base_uri": "https://localhost:8080/",
     "height": 198
    },
    "id": "kKqSDj3bfdQB",
    "outputId": "8bc0596c-e2b5-4a90-9c43-de49542dd331"
   },
   "outputs": [
    {
     "data": {
      "text/html": [
       "<div>\n",
       "<style scoped>\n",
       "    .dataframe tbody tr th:only-of-type {\n",
       "        vertical-align: middle;\n",
       "    }\n",
       "\n",
       "    .dataframe tbody tr th {\n",
       "        vertical-align: top;\n",
       "    }\n",
       "\n",
       "    .dataframe thead th {\n",
       "        text-align: right;\n",
       "    }\n",
       "</style>\n",
       "<table border=\"1\" class=\"dataframe\">\n",
       "  <thead>\n",
       "    <tr style=\"text-align: right;\">\n",
       "      <th></th>\n",
       "      <th>0</th>\n",
       "    </tr>\n",
       "  </thead>\n",
       "  <tbody>\n",
       "    <tr>\n",
       "      <th>0</th>\n",
       "      <td>0</td>\n",
       "    </tr>\n",
       "    <tr>\n",
       "      <th>1</th>\n",
       "      <td>0</td>\n",
       "    </tr>\n",
       "    <tr>\n",
       "      <th>2</th>\n",
       "      <td>0</td>\n",
       "    </tr>\n",
       "    <tr>\n",
       "      <th>3</th>\n",
       "      <td>0</td>\n",
       "    </tr>\n",
       "    <tr>\n",
       "      <th>4</th>\n",
       "      <td>0</td>\n",
       "    </tr>\n",
       "  </tbody>\n",
       "</table>\n",
       "</div>"
      ],
      "text/plain": [
       "   0\n",
       "0  0\n",
       "1  0\n",
       "2  0\n",
       "3  0\n",
       "4  0"
      ]
     },
     "execution_count": 11,
     "metadata": {},
     "output_type": "execute_result"
    }
   ],
   "source": [
    "classe.head()"
   ]
  },
  {
   "cell_type": "code",
   "execution_count": 12,
   "metadata": {
    "ExecuteTime": {
     "end_time": "2020-10-03T00:40:18.286373Z",
     "start_time": "2020-10-03T00:40:18.280100Z"
    },
    "colab": {
     "base_uri": "https://localhost:8080/",
     "height": 35
    },
    "id": "-jSqJh18fhL1",
    "outputId": "ade8bf7e-a224-41ee-8b0f-e68c2631ab4f"
   },
   "outputs": [
    {
     "data": {
      "text/plain": [
       "array([0, 1])"
      ]
     },
     "execution_count": 12,
     "metadata": {},
     "output_type": "execute_result"
    }
   ],
   "source": [
    "np.unique(classe)"
   ]
  },
  {
   "cell_type": "code",
   "execution_count": 13,
   "metadata": {
    "ExecuteTime": {
     "end_time": "2020-10-03T00:40:20.371575Z",
     "start_time": "2020-10-03T00:40:19.614214Z"
    },
    "colab": {
     "base_uri": "https://localhost:8080/",
     "height": 279
    },
    "id": "aKLO9jX0fs-3",
    "outputId": "2bae8ac5-dc76-4b50-dd84-8f211c241c4d"
   },
   "outputs": [
    {
     "data": {
      "image/png": "[encoded data removed]",
      "text/plain": [
       "<Figure size 432x288 with 1 Axes>"
      ]
     },
     "metadata": {
      "needs_background": "light"
     },
     "output_type": "display_data"
    }
   ],
   "source": [
    "sns.countplot(classe['0']);"
   ]
  },
  {
   "cell_type": "code",
   "execution_count": 14,
   "metadata": {
    "ExecuteTime": {
     "end_time": "2020-10-03T00:40:31.146670Z",
     "start_time": "2020-10-03T00:40:31.074427Z"
    },
    "id": "UX9ZDhUMgBsv"
   },
   "outputs": [],
   "source": [
    "previsores_treinamento, previsores_teste, classe_treinamento, classe_teste = train_test_split(previsores,\n",
    "                                                                                              classe,\n",
    "                                                                                              test_size = 0.25)"
   ]
  },
  {
   "cell_type": "code",
   "execution_count": 15,
   "metadata": {
    "ExecuteTime": {
     "end_time": "2020-10-03T00:40:33.311195Z",
     "start_time": "2020-10-03T00:40:33.306249Z"
    },
    "colab": {
     "base_uri": "https://localhost:8080/",
     "height": 35
    },
    "id": "7SEVQyX9gR4O",
    "outputId": "e17fe638-2fe2-4bf9-a153-387890b02a80"
   },
   "outputs": [
    {
     "data": {
      "text/plain": [
       "(426, 30)"
      ]
     },
     "execution_count": 15,
     "metadata": {},
     "output_type": "execute_result"
    }
   ],
   "source": [
    "previsores_treinamento.shape"
   ]
  },
  {
   "cell_type": "code",
   "execution_count": 16,
   "metadata": {
    "ExecuteTime": {
     "end_time": "2020-10-03T00:40:35.049308Z",
     "start_time": "2020-10-03T00:40:35.043764Z"
    },
    "colab": {
     "base_uri": "https://localhost:8080/",
     "height": 35
    },
    "id": "ZA6wrOMygUmg",
    "outputId": "c7b32dc3-aa6f-4657-b852-d227f5253807"
   },
   "outputs": [
    {
     "data": {
      "text/plain": [
       "(426, 1)"
      ]
     },
     "execution_count": 16,
     "metadata": {},
     "output_type": "execute_result"
    }
   ],
   "source": [
    "classe_treinamento.shape"
   ]
  },
  {
   "cell_type": "code",
   "execution_count": 17,
   "metadata": {
    "ExecuteTime": {
     "end_time": "2020-10-03T00:40:45.805945Z",
     "start_time": "2020-10-03T00:40:45.801845Z"
    },
    "colab": {
     "base_uri": "https://localhost:8080/",
     "height": 35
    },
    "id": "SKyN_plmgZzH",
    "outputId": "9731a0e6-f5d9-46ed-ff82-65dfeb6dd14f"
   },
   "outputs": [
    {
     "data": {
      "text/plain": [
       "(143, 30)"
      ]
     },
     "execution_count": 17,
     "metadata": {},
     "output_type": "execute_result"
    }
   ],
   "source": [
    "previsores_teste.shape"
   ]
  },
  {
   "cell_type": "code",
   "execution_count": 18,
   "metadata": {
    "ExecuteTime": {
     "end_time": "2020-10-03T00:40:46.766855Z",
     "start_time": "2020-10-03T00:40:46.760814Z"
    },
    "colab": {
     "base_uri": "https://localhost:8080/",
     "height": 35
    },
    "id": "wN_AXcfggdWC",
    "outputId": "003c4608-cf51-4bfe-f500-ea62d3dace01"
   },
   "outputs": [
    {
     "data": {
      "text/plain": [
       "(143, 1)"
      ]
     },
     "execution_count": 18,
     "metadata": {},
     "output_type": "execute_result"
    }
   ],
   "source": [
    "classe_teste.shape"
   ]
  },
  {
   "cell_type": "markdown",
   "metadata": {
    "id": "72uvlxJrOuWd"
   },
   "source": [
    "## Etapa 3: Transformação dos dados para tensores\n"
   ]
  },
  {
   "cell_type": "code",
   "execution_count": 19,
   "metadata": {
    "ExecuteTime": {
     "end_time": "2020-10-03T00:41:54.162856Z",
     "start_time": "2020-10-03T00:41:54.156301Z"
    },
    "colab": {
     "base_uri": "https://localhost:8080/",
     "height": 35
    },
    "id": "nk5Gjgb7hBCo",
    "outputId": "3052a57a-3128-40df-e6ab-7afdd7600040"
   },
   "outputs": [
    {
     "data": {
      "text/plain": [
       "pandas.core.frame.DataFrame"
      ]
     },
     "execution_count": 19,
     "metadata": {},
     "output_type": "execute_result"
    }
   ],
   "source": [
    "type(previsores_treinamento)"
   ]
  },
  {
   "cell_type": "code",
   "execution_count": 20,
   "metadata": {
    "ExecuteTime": {
     "end_time": "2020-10-03T00:41:55.183500Z",
     "start_time": "2020-10-03T00:41:55.176585Z"
    },
    "colab": {
     "base_uri": "https://localhost:8080/",
     "height": 35
    },
    "id": "aIzWASyMhMmy",
    "outputId": "e804d0cf-4d26-47e8-8604-80c9fb18967d"
   },
   "outputs": [
    {
     "data": {
      "text/plain": [
       "numpy.ndarray"
      ]
     },
     "execution_count": 20,
     "metadata": {},
     "output_type": "execute_result"
    }
   ],
   "source": [
    "type(np.array(previsores_treinamento))"
   ]
  },
  {
   "cell_type": "code",
   "execution_count": 21,
   "metadata": {
    "ExecuteTime": {
     "end_time": "2020-10-03T00:41:57.163790Z",
     "start_time": "2020-10-03T00:41:57.141123Z"
    },
    "id": "hqPER9AYhTpt"
   },
   "outputs": [],
   "source": [
    "previsores_treinamento = torch.tensor(np.array(previsores_treinamento), dtype=torch.float)\n",
    "classe_treinamento = torch.tensor(np.array(classe_treinamento), dtype = torch.float)"
   ]
  },
  {
   "cell_type": "code",
   "execution_count": 29,
   "metadata": {
    "ExecuteTime": {
     "end_time": "2020-10-03T00:49:19.513516Z",
     "start_time": "2020-10-03T00:49:19.506144Z"
    },
    "colab": {
     "base_uri": "https://localhost:8080/",
     "height": 35
    },
    "id": "u-2HrvEJh5Km",
    "outputId": "555eaae3-a9af-4e5d-902c-1d9f6a65b488"
   },
   "outputs": [
    {
     "data": {
      "text/plain": [
       "torch.Tensor"
      ]
     },
     "execution_count": 29,
     "metadata": {},
     "output_type": "execute_result"
    }
   ],
   "source": [
    "type(previsores_treinamento)"
   ]
  },
  {
   "cell_type": "code",
   "execution_count": 23,
   "metadata": {
    "ExecuteTime": {
     "end_time": "2020-10-03T00:42:01.607360Z",
     "start_time": "2020-10-03T00:42:01.602973Z"
    },
    "colab": {
     "base_uri": "https://localhost:8080/",
     "height": 35
    },
    "id": "lqL8ypLSh79u",
    "outputId": "3a0f3c1d-54aa-4357-a469-8a42f44c6a0f"
   },
   "outputs": [
    {
     "data": {
      "text/plain": [
       "torch.Tensor"
      ]
     },
     "execution_count": 23,
     "metadata": {},
     "output_type": "execute_result"
    }
   ],
   "source": [
    "type(classe_treinamento)"
   ]
  },
  {
   "cell_type": "code",
   "execution_count": 31,
   "metadata": {
    "ExecuteTime": {
     "end_time": "2020-10-03T00:49:27.930352Z",
     "start_time": "2020-10-03T00:49:27.921630Z"
    }
   },
   "outputs": [
    {
     "data": {
      "text/plain": [
       "tensor(11.5400)"
      ]
     },
     "execution_count": 31,
     "metadata": {},
     "output_type": "execute_result"
    }
   ],
   "source": [
    "previsores_treinamento[0][0]"
   ]
  },
  {
   "cell_type": "code",
   "execution_count": 32,
   "metadata": {
    "ExecuteTime": {
     "end_time": "2020-10-03T00:50:42.009999Z",
     "start_time": "2020-10-03T00:50:42.004114Z"
    },
    "id": "__6a-iZhiJVI"
   },
   "outputs": [],
   "source": [
    "dataset = torch.utils.data.TensorDataset(previsores_treinamento, classe_treinamento)"
   ]
  },
  {
   "cell_type": "code",
   "execution_count": 33,
   "metadata": {
    "ExecuteTime": {
     "end_time": "2020-10-03T00:50:42.604231Z",
     "start_time": "2020-10-03T00:50:42.599905Z"
    },
    "colab": {
     "base_uri": "https://localhost:8080/",
     "height": 35
    },
    "id": "t0sP_kvViZJl",
    "outputId": "92b278f4-800f-40fc-e10f-0a7194254b2b"
   },
   "outputs": [
    {
     "data": {
      "text/plain": [
       "torch.utils.data.dataset.TensorDataset"
      ]
     },
     "execution_count": 33,
     "metadata": {},
     "output_type": "execute_result"
    }
   ],
   "source": [
    "type(dataset)"
   ]
  },
  {
   "cell_type": "code",
   "execution_count": 35,
   "metadata": {
    "ExecuteTime": {
     "end_time": "2020-10-03T00:50:54.912941Z",
     "start_time": "2020-10-03T00:50:54.904057Z"
    }
   },
   "outputs": [
    {
     "data": {
      "text/plain": [
       "(tensor([2.0310e+01, 2.7060e+01, 1.3290e+02, 1.2880e+03, 1.0000e-01, 1.0880e-01,\n",
       "         1.5190e-01, 9.3330e-02, 1.8140e-01, 5.5720e-02, 3.9770e-01, 1.0330e+03,\n",
       "         2.5870e+03, 5.2340e+01, 5.0430e-03, 1.5780e-02, 2.1170e-02, 8.1850e-03,\n",
       "         1.2820e-02, 1.8920e-03, 2.4330e+01, 3.9160e+01, 1.6230e+02, 1.8440e+03,\n",
       "         1.5220e-01, 2.9450e-01, 3.7880e-01, 1.6970e-01, 3.1510e-01, 7.9990e-02]),\n",
       " tensor([0.]))"
      ]
     },
     "execution_count": 35,
     "metadata": {},
     "output_type": "execute_result"
    }
   ],
   "source": [
    "dataset[]"
   ]
  },
  {
   "cell_type": "code",
   "execution_count": 36,
   "metadata": {
    "ExecuteTime": {
     "end_time": "2020-10-03T01:03:03.109728Z",
     "start_time": "2020-10-03T01:03:03.106020Z"
    },
    "id": "5dIWzA4wihKD"
   },
   "outputs": [],
   "source": [
    "train_loader = torch.utils.data.DataLoader(dataset, batch_size=10, shuffle=True)"
   ]
  },
  {
   "cell_type": "code",
   "execution_count": 55,
   "metadata": {
    "ExecuteTime": {
     "end_time": "2020-10-05T14:42:05.624174Z",
     "start_time": "2020-10-05T14:42:05.619106Z"
    }
   },
   "outputs": [
    {
     "data": {
      "text/plain": [
       "<torch.utils.data.dataloader.DataLoader at 0x7f4ee3692100>"
      ]
     },
     "execution_count": 55,
     "metadata": {},
     "output_type": "execute_result"
    }
   ],
   "source": [
    "train_loader"
   ]
  },
  {
   "cell_type": "markdown",
   "metadata": {
    "id": "QGDLesyDQpIb"
   },
   "source": [
    "## Etapa 4: Construção do modelo"
   ]
  },
  {
   "cell_type": "code",
   "execution_count": 48,
   "metadata": {
    "ExecuteTime": {
     "end_time": "2020-10-05T13:10:08.597744Z",
     "start_time": "2020-10-05T13:10:08.230018Z"
    },
    "id": "1FAFgY56jmdG"
   },
   "outputs": [],
   "source": [
    "# 30 -> 16 -> 16 -> 1\n",
    "# (entradas + saida) / 2 = (30 + 1) / 2 = 16\n",
    "classificador = nn.Sequential(\n",
    "    nn.Linear(in_features=30, out_features=16),\n",
    "    nn.ReLU(),\n",
    "    nn.Linear(16, 16),\n",
    "    nn.ReLU(),\n",
    "    nn.Linear(16, 1),\n",
    "    nn.Sigmoid()\n",
    ")"
   ]
  },
  {
   "cell_type": "code",
   "execution_count": 49,
   "metadata": {
    "ExecuteTime": {
     "end_time": "2020-10-05T13:59:00.778855Z",
     "start_time": "2020-10-05T13:59:00.772052Z"
    },
    "colab": {
     "base_uri": "https://localhost:8080/",
     "height": 155
    },
    "id": "ixwI_mhZlDVW",
    "outputId": "7208d62e-a589-42f4-c073-8eb3178b7fd1"
   },
   "outputs": [
    {
     "data": {
      "text/plain": [
       "<bound method Module.parameters of Sequential(\n",
       "  (0): Linear(in_features=30, out_features=16, bias=True)\n",
       "  (1): ReLU()\n",
       "  (2): Linear(in_features=16, out_features=16, bias=True)\n",
       "  (3): ReLU()\n",
       "  (4): Linear(in_features=16, out_features=1, bias=True)\n",
       "  (5): Sigmoid()\n",
       ")>"
      ]
     },
     "execution_count": 49,
     "metadata": {},
     "output_type": "execute_result"
    }
   ],
   "source": [
    "classificador.parameters"
   ]
  },
  {
   "cell_type": "code",
   "execution_count": 50,
   "metadata": {
    "ExecuteTime": {
     "end_time": "2020-10-05T14:38:28.671161Z",
     "start_time": "2020-10-05T14:38:28.662797Z"
    },
    "id": "--bNcvlplMh9"
   },
   "outputs": [],
   "source": [
    "criterion = nn.BCELoss()"
   ]
  },
  {
   "cell_type": "code",
   "execution_count": 51,
   "metadata": {
    "ExecuteTime": {
     "end_time": "2020-10-05T14:38:29.293979Z",
     "start_time": "2020-10-05T14:38:29.288729Z"
    },
    "id": "Um6Tr3s_lXHK"
   },
   "outputs": [],
   "source": [
    "optimizer = torch.optim.Adam(classificador.parameters(), lr=0.001, weight_decay=0.0001)"
   ]
  },
  {
   "cell_type": "markdown",
   "metadata": {
    "id": "appMwDHtRTN5"
   },
   "source": [
    "## Etapa 5: Treinamento do modelo"
   ]
  },
  {
   "cell_type": "code",
   "execution_count": 61,
   "metadata": {
    "ExecuteTime": {
     "end_time": "2020-10-05T15:13:12.223529Z",
     "start_time": "2020-10-05T15:13:01.791269Z"
    },
    "colab": {
     "base_uri": "https://localhost:8080/",
     "height": 1000
    },
    "id": "exieZFSam_eI",
    "outputId": "df1c5c39-0795-4b42-a4dd-5fbfcd775222"
   },
   "outputs": [
    {
     "name": "stdout",
     "output_type": "stream",
     "text": [
      "Época   1: perda 0.14482\n",
      "Época   2: perda 0.12818\n",
      "Época   3: perda 0.12249\n",
      "Época   4: perda 0.11644\n",
      "Época   5: perda 0.11688\n",
      "Época   6: perda 0.10881\n",
      "Época   7: perda 0.12001\n",
      "Época   8: perda 0.09654\n",
      "Época   9: perda 0.16795\n",
      "Época  10: perda 0.11041\n",
      "Época  11: perda 0.15762\n",
      "Época  12: perda 0.19398\n",
      "Época  13: perda 0.16135\n",
      "Época  14: perda 0.11400\n",
      "Época  15: perda 0.12094\n",
      "Época  16: perda 0.11981\n",
      "Época  17: perda 0.13691\n",
      "Época  18: perda 0.11878\n",
      "Época  19: perda 0.10974\n",
      "Época  20: perda 0.10452\n",
      "Época  21: perda 0.15215\n",
      "Época  22: perda 0.10686\n",
      "Época  23: perda 0.15244\n",
      "Época  24: perda 0.11800\n",
      "Época  25: perda 0.10044\n",
      "Época  26: perda 0.14130\n",
      "Época  27: perda 0.13204\n",
      "Época  28: perda 0.11151\n",
      "Época  29: perda 0.12937\n",
      "Época  30: perda 0.11032\n",
      "Época  31: perda 0.09688\n",
      "Época  32: perda 0.10239\n",
      "Época  33: perda 0.13252\n",
      "Época  34: perda 0.10961\n",
      "Época  35: perda 0.11792\n",
      "Época  36: perda 0.11013\n",
      "Época  37: perda 0.11715\n",
      "Época  38: perda 0.15671\n",
      "Época  39: perda 0.13340\n",
      "Época  40: perda 0.12285\n",
      "Época  41: perda 0.12312\n",
      "Época  42: perda 0.10364\n",
      "Época  43: perda 0.10097\n",
      "Época  44: perda 0.09739\n",
      "Época  45: perda 0.09628\n",
      "Época  46: perda 0.09797\n",
      "Época  47: perda 0.09384\n",
      "Época  48: perda 0.10320\n",
      "Época  49: perda 0.12334\n",
      "Época  50: perda 0.10882\n",
      "Época  51: perda 0.13101\n",
      "Época  52: perda 0.12291\n",
      "Época  53: perda 0.11240\n",
      "Época  54: perda 0.09618\n",
      "Época  55: perda 0.10201\n",
      "Época  56: perda 0.09195\n",
      "Época  57: perda 0.10789\n",
      "Época  58: perda 0.09429\n",
      "Época  59: perda 0.11384\n",
      "Época  60: perda 0.14418\n",
      "Época  61: perda 0.11869\n",
      "Época  62: perda 0.10926\n",
      "Época  63: perda 0.10303\n",
      "Época  64: perda 0.12583\n",
      "Época  65: perda 0.14412\n",
      "Época  66: perda 0.16227\n",
      "Época  67: perda 0.08897\n",
      "Época  68: perda 0.08736\n",
      "Época  69: perda 0.10905\n",
      "Época  70: perda 0.09257\n",
      "Época  71: perda 0.09819\n",
      "Época  72: perda 0.10427\n",
      "Época  73: perda 0.13829\n",
      "Época  74: perda 0.10817\n",
      "Época  75: perda 0.09295\n",
      "Época  76: perda 0.08828\n",
      "Época  77: perda 0.12222\n",
      "Época  78: perda 0.11316\n",
      "Época  79: perda 0.09676\n",
      "Época  80: perda 0.09099\n",
      "Época  81: perda 0.08820\n",
      "Época  82: perda 0.10450\n",
      "Época  83: perda 0.10648\n",
      "Época  84: perda 0.07983\n",
      "Época  85: perda 0.09692\n",
      "Época  86: perda 0.10320\n",
      "Época  87: perda 0.09063\n",
      "Época  88: perda 0.08137\n",
      "Época  89: perda 0.08279\n",
      "Época  90: perda 0.08388\n",
      "Época  91: perda 0.08120\n",
      "Época  92: perda 0.09422\n",
      "Época  93: perda 0.11311\n",
      "Época  94: perda 0.07771\n",
      "Época  95: perda 0.08871\n",
      "Época  96: perda 0.09482\n",
      "Época  97: perda 0.14641\n",
      "Época  98: perda 0.09450\n",
      "Época  99: perda 0.08224\n",
      "Época 100: perda 0.11822\n",
      "Época 101: perda 0.11411\n",
      "Época 102: perda 0.17062\n",
      "Época 103: perda 0.11459\n",
      "Época 104: perda 0.12576\n",
      "Época 105: perda 0.09124\n",
      "Época 106: perda 0.09471\n",
      "Época 107: perda 0.11644\n",
      "Época 108: perda 0.07968\n",
      "Época 109: perda 0.07954\n",
      "Época 110: perda 0.09195\n"
     ]
    }
   ],
   "source": [
    "for epoch in range(110):\n",
    "    running_loss = 0.\n",
    "\n",
    "    for data in train_loader:\n",
    "        inputs, labels = data\n",
    "        #print(inputs)\n",
    "        #print('-----')\n",
    "        #print(labels)\n",
    "        optimizer.zero_grad()\n",
    "\n",
    "        outputs = classificador(inputs) # classificador.forward(inputs)\n",
    "        #print(outputs)\n",
    "        loss = criterion(outputs, labels)\n",
    "        #print(loss)\n",
    "        loss.backward()\n",
    "        optimizer.step()\n",
    "\n",
    "        running_loss += loss.item()\n",
    "    print('Época %3d: perda %.5f' % (epoch+1, running_loss/len(train_loader)))"
   ]
  },
  {
   "cell_type": "markdown",
   "metadata": {
    "id": "ITUtUdQNSJcs"
   },
   "source": [
    "## Etapa 6: Visualização dos pesos"
   ]
  },
  {
   "cell_type": "code",
   "execution_count": 62,
   "metadata": {
    "ExecuteTime": {
     "end_time": "2020-10-05T15:14:08.056737Z",
     "start_time": "2020-10-05T15:14:08.049326Z"
    },
    "id": "p0E2vbaGreGc"
   },
   "outputs": [],
   "source": [
    "# 30 -> 16 -> 16 -> 1\n",
    "params = list(classificador.parameters())"
   ]
  },
  {
   "cell_type": "code",
   "execution_count": 64,
   "metadata": {
    "ExecuteTime": {
     "end_time": "2020-10-05T15:14:49.055606Z",
     "start_time": "2020-10-05T15:14:49.025595Z"
    },
    "colab": {
     "base_uri": "https://localhost:8080/",
     "height": 1000
    },
    "id": "y2sFTNaMroyw",
    "outputId": "97322664-0fde-4032-efaa-026e716084fa"
   },
   "outputs": [
    {
     "data": {
      "text/plain": [
       "[Parameter containing:\n",
       " tensor([[-1.7111e-01, -2.1914e-01, -1.7436e-01,  5.8786e-02, -8.2561e-02,\n",
       "           5.5988e-02, -8.1989e-02, -3.8591e-02, -2.2379e-01,  2.8651e-01,\n",
       "          -1.6645e-02,  1.6725e-02, -1.2308e-01, -4.2433e-02,  1.2014e-03,\n",
       "          -1.6924e-01, -2.7353e-01, -7.0483e-02,  2.4473e-01,  2.0838e-03,\n",
       "           8.6554e-02, -2.1845e-01, -4.9231e-02,  1.3774e-01,  2.7249e-02,\n",
       "           2.6629e-01, -1.6458e-02,  5.9859e-02,  3.5591e-01,  4.3350e-02],\n",
       "         [ 2.3019e-01,  1.8143e-01,  3.7470e-01,  6.5370e-02, -2.9562e-01,\n",
       "          -2.6313e-01,  6.0064e-03, -1.3060e-01,  1.5223e-01,  3.9381e-01,\n",
       "          -7.1990e-02, -9.5336e-02, -7.2633e-03,  1.9452e-01, -2.4794e-03,\n",
       "          -6.9216e-02, -3.2502e-02,  2.3505e-01,  1.8189e-01, -7.1065e-03,\n",
       "           1.4283e-01, -1.0729e-02,  2.6149e-01, -2.7870e-02,  1.1088e-01,\n",
       "          -2.2433e-01, -2.5693e-01, -6.0335e-02, -1.0996e-02, -5.8876e-02],\n",
       "         [-6.1842e-03, -4.5727e-02, -2.8689e-01, -1.3592e-01, -5.0305e-04,\n",
       "           1.3416e-01,  2.3052e-02,  1.8022e-02, -2.4518e-02,  4.2551e-01,\n",
       "           2.1374e-01,  1.1844e-01, -1.9743e-01,  1.4177e-02, -1.6008e-03,\n",
       "          -1.9914e-01,  4.5712e-02,  3.9501e-04,  6.0046e-01, -1.6762e-03,\n",
       "           3.9391e-02, -2.0850e-01, -6.4967e-02, -5.8605e-03, -2.3482e-01,\n",
       "          -1.5614e-01, -1.1751e-01,  1.4495e-01,  6.5124e-02, -7.9547e-03],\n",
       "         [-5.0190e-01,  1.6220e-01, -2.6670e-01,  7.2186e-02, -9.5776e-02,\n",
       "          -7.5039e-02, -7.1038e-02,  1.0691e-01,  1.8864e-01, -2.1011e-01,\n",
       "           1.8155e-01, -1.5414e-01,  4.6029e-02,  2.1404e-02,  8.8740e-04,\n",
       "           3.5738e-02,  2.5751e-02, -1.2603e-01, -3.7779e-02,  4.2246e-03,\n",
       "          -6.2461e-02,  1.1896e-03, -1.7440e-01,  1.4525e-02,  2.6030e-01,\n",
       "           1.4794e-01,  7.3738e-02,  4.2993e-01,  1.5442e-01,  3.7018e-01],\n",
       "         [-5.3308e-01,  5.6171e-02, -2.0491e-01, -8.4974e-02,  4.3259e-01,\n",
       "           1.7732e-01, -1.5354e-02, -3.2378e-01, -3.2270e-01,  4.3052e-01,\n",
       "          -1.7778e-01, -1.1366e-02, -1.0885e-02,  4.4050e-03,  1.3780e-02,\n",
       "          -3.5930e-01, -4.1841e-02, -1.5781e-01,  4.7278e-01,  2.6885e-01,\n",
       "          -3.8670e-01,  1.6003e-01, -2.2049e-01,  2.8677e-01, -1.3605e-01,\n",
       "           1.0697e-01, -5.1116e-01, -1.6508e-01, -1.4532e-01,  4.6022e-01],\n",
       "         [-7.8476e-02, -1.9757e-02,  1.6253e-02,  5.9331e-02,  1.0916e-01,\n",
       "           8.7453e-02, -1.0986e-01,  1.2084e-01, -1.5243e-01, -1.6762e-01,\n",
       "           1.5161e-01,  1.3857e-01, -8.4169e-02,  1.0329e-01,  7.1408e-03,\n",
       "           5.4429e-02,  2.9807e-03, -5.8748e-05, -3.0291e-01, -1.4586e-02,\n",
       "          -2.4203e-03, -1.6443e-01, -4.3883e-02, -6.9285e-02, -4.5092e-01,\n",
       "          -9.3400e-02, -1.1268e-01,  1.7371e-02,  1.3399e-01, -5.7436e-02],\n",
       "         [ 2.5235e-02, -4.1051e-02,  3.6793e-01, -1.3078e-01, -1.7356e-01,\n",
       "          -6.2876e-01, -6.1070e-02, -1.0419e-01,  1.5153e-01, -2.1410e-02,\n",
       "          -1.3992e-01, -3.5736e-01,  6.4577e-02,  6.5028e-02, -1.2112e-03,\n",
       "          -2.6849e-02, -1.4018e-03, -4.6645e-03,  2.0196e-01, -2.8575e-03,\n",
       "           1.7746e-02, -2.0380e-01,  2.6892e-01, -1.1062e-01, -4.5667e-01,\n",
       "           1.6279e-01,  2.6228e-01, -3.0209e-01, -2.8422e-01, -5.0465e-02],\n",
       "         [-3.6899e-01,  1.5887e-01, -1.9672e-01, -1.7941e-01,  5.0016e-01,\n",
       "           1.4350e-01, -1.2774e-01,  5.0790e-02,  1.4755e-01,  2.8889e-02,\n",
       "          -9.6449e-02, -1.3305e-01,  6.6973e-02,  1.6526e-01,  8.9204e-04,\n",
       "           4.1720e-02, -7.2359e-03,  6.8751e-03, -2.5317e-01,  4.1929e-03,\n",
       "          -2.7243e-01,  3.2892e-01, -3.3277e-01,  1.1100e-01, -1.6835e-01,\n",
       "          -5.0524e-01,  1.6273e-02,  1.8080e-01, -3.8692e-02,  9.5226e-02],\n",
       "         [-3.7432e-02, -1.7146e-01, -5.4022e-01, -7.5606e-02,  3.8593e-01,\n",
       "           1.2428e-01, -3.7956e-01, -2.6544e-01,  9.6282e-02,  4.4206e-01,\n",
       "           1.2167e-01, -1.0219e-02,  6.5640e-02,  9.4873e-02,  9.0511e-03,\n",
       "          -9.2542e-02,  2.4434e-02, -7.8743e-02,  6.7928e-01,  6.5155e-02,\n",
       "          -5.4491e-01,  4.8359e-02, -4.0953e-01,  2.0456e-01, -2.8041e-01,\n",
       "           1.2854e-01, -6.9633e-02,  7.7224e-02,  2.6004e-02,  2.5035e-01],\n",
       "         [ 4.3087e-02,  8.9075e-02,  3.6778e-01,  7.1482e-03, -4.4702e-01,\n",
       "          -3.1117e-01, -4.4542e-02, -1.2056e-01, -6.8722e-02,  2.5625e-01,\n",
       "           9.4792e-02, -2.1292e-01,  1.3244e-01, -1.5779e-01, -6.6548e-03,\n",
       "          -7.9402e-02,  7.6748e-02,  1.7447e-01,  1.6906e-01, -1.0935e-02,\n",
       "           2.5024e-01, -2.5479e-01,  3.7919e-01, -9.1987e-02,  7.8531e-04,\n",
       "          -1.8200e-01,  1.4166e-02, -1.2979e-01,  4.8821e-02, -2.4060e-01],\n",
       "         [-7.3994e-02,  9.9920e-02,  2.8138e-02,  2.9605e-02, -4.7151e-02,\n",
       "          -2.3746e-01, -2.8276e-01, -1.7602e-01,  3.5997e-01, -3.3850e-01,\n",
       "          -2.9747e-01,  5.0910e-02, -1.3095e-01,  1.8063e-01, -1.1737e-03,\n",
       "           9.6112e-02, -9.3070e-02, -6.3076e-02, -4.7158e-01, -3.1907e-04,\n",
       "          -1.7107e-01,  1.2083e-01,  5.2679e-02,  1.5911e-01,  4.4428e-01,\n",
       "          -7.4448e-02,  3.2559e-01,  6.2784e-02, -1.0415e-01, -2.2690e-03],\n",
       "         [ 1.7817e-01, -1.5252e-01,  2.6124e-01,  2.0013e-01, -5.0290e-02,\n",
       "           3.1950e-01, -3.6740e-01,  3.8875e-01,  3.0818e-01, -2.9552e-01,\n",
       "          -7.2832e-02,  2.2941e-02, -1.0955e-02, -2.4540e-01, -2.4141e-02,\n",
       "           2.4624e-01,  9.1237e-02,  1.6742e-01, -4.5809e-01, -3.5992e-01,\n",
       "           2.9996e-01, -3.5153e-01,  3.6567e-01, -1.4169e-01, -1.8819e-01,\n",
       "           2.5660e-01,  5.8181e-02,  2.0301e-01, -1.9814e-02, -5.4268e-01],\n",
       "         [ 9.8874e-02,  1.6848e-01, -3.3946e-01, -9.9503e-02,  1.6269e-01,\n",
       "           1.2597e-01,  2.9232e-01,  9.5908e-03,  4.5069e-03, -1.1071e-01,\n",
       "           1.0106e-01, -1.5002e-02,  7.2874e-02,  1.1364e-01,  6.1817e-03,\n",
       "           5.4004e-02, -2.8326e-02, -3.4649e-04, -1.9226e-01,  1.4806e-01,\n",
       "           4.2681e-02,  3.1912e-01, -8.7179e-02,  2.0304e-02,  1.8516e-01,\n",
       "           1.0083e-01,  1.8740e-01, -2.2235e-01,  2.3225e-01,  3.1023e-01],\n",
       "         [ 7.4612e-02, -2.7972e-01, -1.5573e-01,  3.0568e-02,  1.5790e-02,\n",
       "           2.7831e-02, -3.1597e-02,  5.3617e-02, -3.1081e-02, -3.7445e-01,\n",
       "           1.5021e-01, -1.0913e-01, -1.8652e-01,  1.1858e-01,  1.1166e-03,\n",
       "           1.9953e-02,  1.3102e-01, -1.1433e-01,  4.1940e-01,  2.8670e-03,\n",
       "           1.1002e-01, -2.0755e-01, -1.4030e-01,  1.4832e-01, -8.0471e-02,\n",
       "          -3.7599e-01, -1.2716e-02,  1.1356e-01,  1.1509e-01, -3.8821e-03],\n",
       "         [ 5.6533e-03, -3.1115e-07, -2.7686e-04, -4.4558e-02, -5.1158e-04,\n",
       "           1.4218e-39, -2.5062e-39,  5.7567e-40, -2.4346e-39, -6.0511e-39,\n",
       "           3.0327e-39, -2.4911e-02, -3.2590e-02, -2.4407e-02, -3.1643e-39,\n",
       "          -2.0658e-39, -8.5914e-03,  5.6167e-39,  5.5512e-39,  1.3396e-39,\n",
       "           1.8752e-02,  4.3348e-06, -5.0329e-03, -7.1583e-02,  2.1299e-39,\n",
       "          -3.7579e-39,  5.0507e-39,  6.6603e-39, -2.1503e-39,  4.6743e-39],\n",
       "         [ 1.3903e-03,  3.4694e-06,  1.4551e-02,  5.2248e-04, -7.2536e-04,\n",
       "          -4.9900e-03, -8.0581e-04,  2.3214e-13, -2.2171e-03,  2.3801e-04,\n",
       "           1.3784e-02, -3.1228e-02, -2.3295e-03, -1.2764e-02, -2.8241e-39,\n",
       "          -2.5196e-37,  1.8944e-40,  1.1002e-39,  1.5306e-39, -2.3171e-39,\n",
       "           1.4895e-03, -2.4645e-03,  9.7681e-03, -1.0694e-02, -7.3264e-03,\n",
       "          -8.5408e-03, -9.1155e-04, -1.8866e-05,  3.1729e-03, -1.0995e-10]],\n",
       "        requires_grad=True),\n",
       " Parameter containing:\n",
       " tensor([-1.3110e-01,  4.6254e-01, -1.6113e-01, -3.9179e-01, -9.1509e-01,\n",
       "          3.9240e-02,  2.8335e-01, -3.4956e-01, -6.2485e-01,  5.6635e-01,\n",
       "         -2.1215e-01,  6.5139e-01, -3.4530e-01, -1.6047e-01, -1.3539e-39,\n",
       "          1.3592e-23], requires_grad=True),\n",
       " Parameter containing:\n",
       " tensor([[ 6.9908e-02, -5.3916e-02,  2.3857e-02,  8.9422e-02, -1.2856e-01,\n",
       "           1.1560e-02, -4.3811e-02, -3.1804e-02, -1.8963e-01, -1.4939e-01,\n",
       "          -2.3059e-01,  5.6837e-02,  1.2784e-01,  1.9797e-01, -1.6567e-02,\n",
       "          -2.0347e-39],\n",
       "         [ 1.2387e-01, -2.0029e-01,  7.1115e-02,  3.4436e-02,  5.1692e-02,\n",
       "           1.4900e-01, -3.1757e-02, -3.1759e-02,  5.3581e-02, -4.1526e-01,\n",
       "          -7.6629e-02, -8.8649e-02, -2.1661e-01,  2.7216e-01,  6.3498e-40,\n",
       "          -4.9266e-03],\n",
       "         [ 2.3324e-01, -6.5974e-02,  1.7547e-01,  1.4019e-01,  3.2383e-01,\n",
       "          -8.2281e-02, -1.2292e-01, -9.2441e-02,  2.3952e-01,  1.3247e-02,\n",
       "           2.0289e-02, -5.5040e-02,  2.1779e-01,  6.5236e-02,  5.7859e-03,\n",
       "           5.0898e-03],\n",
       "         [-1.4998e-01,  5.3399e-02,  1.7541e-02, -2.0803e-01, -2.7780e-02,\n",
       "           6.9537e-03,  4.9563e-02, -9.3388e-02,  1.7009e-01,  1.0162e-01,\n",
       "          -5.2639e-01,  3.1147e-01,  1.3713e-01,  8.6760e-02,  6.5645e-02,\n",
       "          -8.2518e-03],\n",
       "         [-5.6803e-02,  2.0390e-02, -5.4992e-02, -3.3309e-01, -2.1682e-01,\n",
       "           1.1680e-01,  4.6755e-02,  1.5007e-01,  1.4252e-02, -1.0021e-01,\n",
       "          -1.3743e-01,  2.3264e-01, -7.9485e-02, -1.3395e-01, -3.7363e-05,\n",
       "          -1.3337e-07],\n",
       "         [ 6.2031e-02, -3.6434e-03,  2.2775e-02, -9.8755e-03, -8.5540e-02,\n",
       "           1.0575e-02,  1.7755e-05,  2.2863e-02, -1.3912e-01,  4.3250e-02,\n",
       "          -6.7607e-02,  1.4274e-01, -1.4399e-01, -1.1540e-01,  2.7370e-08,\n",
       "           3.4705e-09],\n",
       "         [-1.2103e-01, -9.4183e-02,  6.8077e-02, -8.4593e-03,  1.7685e-01,\n",
       "           1.1805e-01,  2.8979e-02, -1.2528e-01, -1.6665e-01, -4.0141e-01,\n",
       "           1.0611e-01, -1.0013e-02,  1.2503e-01,  2.0121e-01, -3.4541e-03,\n",
       "           1.1113e-02],\n",
       "         [ 7.8105e-02, -9.0646e-02, -7.9445e-02, -7.6828e-02, -2.9621e-01,\n",
       "           1.7652e-01, -3.1993e-01, -1.8279e-01, -4.0234e-02,  1.0663e-01,\n",
       "           1.3340e-01,  9.4263e-02, -1.4782e-01, -5.6358e-02,  1.1308e-39,\n",
       "           3.0094e-03],\n",
       "         [-1.4822e-01,  2.6752e-01, -2.1589e-01, -7.9413e-02,  1.2529e-01,\n",
       "           1.7072e-01,  1.5533e-01, -6.3508e-02, -7.8590e-02, -1.7897e-01,\n",
       "           9.3361e-02,  1.5512e-01, -2.1095e-02,  2.1060e-01, -5.4470e-02,\n",
       "          -1.7195e-02],\n",
       "         [ 1.6811e-01,  8.5150e-02, -4.7762e-02,  9.0705e-02, -1.2972e-01,\n",
       "           7.6676e-02,  2.1021e-01, -2.4848e-01, -1.3445e-01,  1.9209e-01,\n",
       "          -2.1845e-01,  8.9927e-02, -9.4262e-02, -3.4904e-02,  2.6245e-02,\n",
       "           1.3015e-02],\n",
       "         [ 7.1862e-02, -2.7992e-02,  4.1581e-03, -4.5456e-01, -4.3711e-01,\n",
       "          -7.7603e-03,  7.7573e-02,  1.0068e-01,  8.7187e-03, -5.0856e-02,\n",
       "           1.6165e-01, -1.3498e-02,  2.4886e-01,  1.3084e-01,  1.0969e-02,\n",
       "          -6.3844e-03],\n",
       "         [ 1.0714e-01, -8.0055e-03, -1.7660e-01,  9.8064e-02, -4.6246e-02,\n",
       "           1.7533e-01, -2.1734e-02, -8.6193e-02, -2.8186e-01, -7.0932e-02,\n",
       "          -6.8208e-02,  2.2664e-01, -1.1079e-01, -1.9333e-01,  1.8147e-02,\n",
       "           2.3018e-02],\n",
       "         [ 6.9643e-02, -8.7417e-02, -1.6021e-01, -1.1197e-01, -1.4354e-01,\n",
       "          -3.9668e-01,  1.0349e-01,  1.0224e-01,  2.0320e-01, -6.8925e-02,\n",
       "           2.8438e-01,  5.3084e-02,  6.7158e-02, -7.1454e-02, -2.1730e-02,\n",
       "           4.3367e-03],\n",
       "         [-1.8167e-01,  2.7122e-01,  6.0333e-02, -5.2300e-02, -2.1046e-01,\n",
       "           9.4408e-02, -1.3818e-01,  1.2537e-01, -1.1715e-01,  4.9802e-02,\n",
       "           4.1809e-02,  3.6189e-02, -8.8128e-03,  4.0767e-02, -1.6669e-02,\n",
       "           1.7675e-02],\n",
       "         [ 9.5683e-03,  2.1836e-01,  5.2811e-02, -1.6938e-01, -1.4959e-01,\n",
       "          -6.2982e-02, -1.9502e-01, -1.9137e-01, -3.4551e-01,  2.2284e-01,\n",
       "           1.8476e-01,  6.3298e-02, -1.8096e-01, -2.5982e-01, -5.2090e-39,\n",
       "           1.8235e-02],\n",
       "         [-2.1219e-32,  2.2706e-04, -1.8436e-39,  3.3671e-04, -9.3958e-03,\n",
       "          -2.6283e-21,  2.9476e-10,  4.5454e-05, -2.2516e-02, -1.1531e-02,\n",
       "          -1.3936e-12, -9.2751e-03, -1.7287e-02, -2.8045e-40, -4.8813e-39,\n",
       "          -3.3194e-39]], requires_grad=True),\n",
       " Parameter containing:\n",
       " tensor([-1.9930e-02, -2.8353e-01, -1.0688e+00,  7.1227e-01,  1.0240e-01,\n",
       "          1.4546e-02, -2.4252e-01, -1.3035e-01,  3.3270e-01,  7.0308e-01,\n",
       "          5.6040e-01,  1.0267e-01, -8.1774e-01,  2.1192e-01,  4.7015e-01,\n",
       "         -6.0783e-39], requires_grad=True),\n",
       " Parameter containing:\n",
       " tensor([[-0.1016, -0.1182, -0.1036,  0.1292,  0.0542,  0.0184, -0.1399, -0.0326,\n",
       "           0.1719,  0.1839,  0.2835,  0.1687, -0.0758,  0.2404,  0.1623, -0.0257]],\n",
       "        requires_grad=True),\n",
       " Parameter containing:\n",
       " tensor([1.0050], requires_grad=True)]"
      ]
     },
     "execution_count": 64,
     "metadata": {},
     "output_type": "execute_result"
    }
   ],
   "source": [
    "params"
   ]
  },
  {
   "cell_type": "code",
   "execution_count": 65,
   "metadata": {
    "ExecuteTime": {
     "end_time": "2020-10-05T15:14:49.834284Z",
     "start_time": "2020-10-05T15:14:49.823884Z"
    },
    "colab": {
     "base_uri": "https://localhost:8080/",
     "height": 35
    },
    "id": "TaU6bV7lrusK",
    "outputId": "107e2fd6-0d10-4a94-9923-de8097267793"
   },
   "outputs": [
    {
     "data": {
      "text/plain": [
       "torch.Size([16, 30])"
      ]
     },
     "execution_count": 65,
     "metadata": {},
     "output_type": "execute_result"
    }
   ],
   "source": [
    "# 30 -> 16 -> 16 -> 1\n",
    "pesos0 = params[0]\n",
    "pesos0.shape"
   ]
  },
  {
   "cell_type": "code",
   "execution_count": 66,
   "metadata": {
    "ExecuteTime": {
     "end_time": "2020-10-05T15:15:35.736896Z",
     "start_time": "2020-10-05T15:15:35.711929Z"
    },
    "colab": {
     "base_uri": "https://localhost:8080/",
     "height": 1000
    },
    "id": "JRIKPKKgr94O",
    "outputId": "7adb9449-23d5-4ec5-b080-b6e967863b29"
   },
   "outputs": [
    {
     "name": "stdout",
     "output_type": "stream",
     "text": [
      "Parameter containing:\n",
      "tensor([[-1.7111e-01, -2.1914e-01, -1.7436e-01,  5.8786e-02, -8.2561e-02,\n",
      "          5.5988e-02, -8.1989e-02, -3.8591e-02, -2.2379e-01,  2.8651e-01,\n",
      "         -1.6645e-02,  1.6725e-02, -1.2308e-01, -4.2433e-02,  1.2014e-03,\n",
      "         -1.6924e-01, -2.7353e-01, -7.0483e-02,  2.4473e-01,  2.0838e-03,\n",
      "          8.6554e-02, -2.1845e-01, -4.9231e-02,  1.3774e-01,  2.7249e-02,\n",
      "          2.6629e-01, -1.6458e-02,  5.9859e-02,  3.5591e-01,  4.3350e-02],\n",
      "        [ 2.3019e-01,  1.8143e-01,  3.7470e-01,  6.5370e-02, -2.9562e-01,\n",
      "         -2.6313e-01,  6.0064e-03, -1.3060e-01,  1.5223e-01,  3.9381e-01,\n",
      "         -7.1990e-02, -9.5336e-02, -7.2633e-03,  1.9452e-01, -2.4794e-03,\n",
      "         -6.9216e-02, -3.2502e-02,  2.3505e-01,  1.8189e-01, -7.1065e-03,\n",
      "          1.4283e-01, -1.0729e-02,  2.6149e-01, -2.7870e-02,  1.1088e-01,\n",
      "         -2.2433e-01, -2.5693e-01, -6.0335e-02, -1.0996e-02, -5.8876e-02],\n",
      "        [-6.1842e-03, -4.5727e-02, -2.8689e-01, -1.3592e-01, -5.0305e-04,\n",
      "          1.3416e-01,  2.3052e-02,  1.8022e-02, -2.4518e-02,  4.2551e-01,\n",
      "          2.1374e-01,  1.1844e-01, -1.9743e-01,  1.4177e-02, -1.6008e-03,\n",
      "         -1.9914e-01,  4.5712e-02,  3.9501e-04,  6.0046e-01, -1.6762e-03,\n",
      "          3.9391e-02, -2.0850e-01, -6.4967e-02, -5.8605e-03, -2.3482e-01,\n",
      "         -1.5614e-01, -1.1751e-01,  1.4495e-01,  6.5124e-02, -7.9547e-03],\n",
      "        [-5.0190e-01,  1.6220e-01, -2.6670e-01,  7.2186e-02, -9.5776e-02,\n",
      "         -7.5039e-02, -7.1038e-02,  1.0691e-01,  1.8864e-01, -2.1011e-01,\n",
      "          1.8155e-01, -1.5414e-01,  4.6029e-02,  2.1404e-02,  8.8740e-04,\n",
      "          3.5738e-02,  2.5751e-02, -1.2603e-01, -3.7779e-02,  4.2246e-03,\n",
      "         -6.2461e-02,  1.1896e-03, -1.7440e-01,  1.4525e-02,  2.6030e-01,\n",
      "          1.4794e-01,  7.3738e-02,  4.2993e-01,  1.5442e-01,  3.7018e-01],\n",
      "        [-5.3308e-01,  5.6171e-02, -2.0491e-01, -8.4974e-02,  4.3259e-01,\n",
      "          1.7732e-01, -1.5354e-02, -3.2378e-01, -3.2270e-01,  4.3052e-01,\n",
      "         -1.7778e-01, -1.1366e-02, -1.0885e-02,  4.4050e-03,  1.3780e-02,\n",
      "         -3.5930e-01, -4.1841e-02, -1.5781e-01,  4.7278e-01,  2.6885e-01,\n",
      "         -3.8670e-01,  1.6003e-01, -2.2049e-01,  2.8677e-01, -1.3605e-01,\n",
      "          1.0697e-01, -5.1116e-01, -1.6508e-01, -1.4532e-01,  4.6022e-01],\n",
      "        [-7.8476e-02, -1.9757e-02,  1.6253e-02,  5.9331e-02,  1.0916e-01,\n",
      "          8.7453e-02, -1.0986e-01,  1.2084e-01, -1.5243e-01, -1.6762e-01,\n",
      "          1.5161e-01,  1.3857e-01, -8.4169e-02,  1.0329e-01,  7.1408e-03,\n",
      "          5.4429e-02,  2.9807e-03, -5.8748e-05, -3.0291e-01, -1.4586e-02,\n",
      "         -2.4203e-03, -1.6443e-01, -4.3883e-02, -6.9285e-02, -4.5092e-01,\n",
      "         -9.3400e-02, -1.1268e-01,  1.7371e-02,  1.3399e-01, -5.7436e-02],\n",
      "        [ 2.5235e-02, -4.1051e-02,  3.6793e-01, -1.3078e-01, -1.7356e-01,\n",
      "         -6.2876e-01, -6.1070e-02, -1.0419e-01,  1.5153e-01, -2.1410e-02,\n",
      "         -1.3992e-01, -3.5736e-01,  6.4577e-02,  6.5028e-02, -1.2112e-03,\n",
      "         -2.6849e-02, -1.4018e-03, -4.6645e-03,  2.0196e-01, -2.8575e-03,\n",
      "          1.7746e-02, -2.0380e-01,  2.6892e-01, -1.1062e-01, -4.5667e-01,\n",
      "          1.6279e-01,  2.6228e-01, -3.0209e-01, -2.8422e-01, -5.0465e-02],\n",
      "        [-3.6899e-01,  1.5887e-01, -1.9672e-01, -1.7941e-01,  5.0016e-01,\n",
      "          1.4350e-01, -1.2774e-01,  5.0790e-02,  1.4755e-01,  2.8889e-02,\n",
      "         -9.6449e-02, -1.3305e-01,  6.6973e-02,  1.6526e-01,  8.9204e-04,\n",
      "          4.1720e-02, -7.2359e-03,  6.8751e-03, -2.5317e-01,  4.1929e-03,\n",
      "         -2.7243e-01,  3.2892e-01, -3.3277e-01,  1.1100e-01, -1.6835e-01,\n",
      "         -5.0524e-01,  1.6273e-02,  1.8080e-01, -3.8692e-02,  9.5226e-02],\n",
      "        [-3.7432e-02, -1.7146e-01, -5.4022e-01, -7.5606e-02,  3.8593e-01,\n",
      "          1.2428e-01, -3.7956e-01, -2.6544e-01,  9.6282e-02,  4.4206e-01,\n",
      "          1.2167e-01, -1.0219e-02,  6.5640e-02,  9.4873e-02,  9.0511e-03,\n",
      "         -9.2542e-02,  2.4434e-02, -7.8743e-02,  6.7928e-01,  6.5155e-02,\n",
      "         -5.4491e-01,  4.8359e-02, -4.0953e-01,  2.0456e-01, -2.8041e-01,\n",
      "          1.2854e-01, -6.9633e-02,  7.7224e-02,  2.6004e-02,  2.5035e-01],\n",
      "        [ 4.3087e-02,  8.9075e-02,  3.6778e-01,  7.1482e-03, -4.4702e-01,\n",
      "         -3.1117e-01, -4.4542e-02, -1.2056e-01, -6.8722e-02,  2.5625e-01,\n",
      "          9.4792e-02, -2.1292e-01,  1.3244e-01, -1.5779e-01, -6.6548e-03,\n",
      "         -7.9402e-02,  7.6748e-02,  1.7447e-01,  1.6906e-01, -1.0935e-02,\n",
      "          2.5024e-01, -2.5479e-01,  3.7919e-01, -9.1987e-02,  7.8531e-04,\n",
      "         -1.8200e-01,  1.4166e-02, -1.2979e-01,  4.8821e-02, -2.4060e-01],\n",
      "        [-7.3994e-02,  9.9920e-02,  2.8138e-02,  2.9605e-02, -4.7151e-02,\n",
      "         -2.3746e-01, -2.8276e-01, -1.7602e-01,  3.5997e-01, -3.3850e-01,\n",
      "         -2.9747e-01,  5.0910e-02, -1.3095e-01,  1.8063e-01, -1.1737e-03,\n",
      "          9.6112e-02, -9.3070e-02, -6.3076e-02, -4.7158e-01, -3.1907e-04,\n",
      "         -1.7107e-01,  1.2083e-01,  5.2679e-02,  1.5911e-01,  4.4428e-01,\n",
      "         -7.4448e-02,  3.2559e-01,  6.2784e-02, -1.0415e-01, -2.2690e-03],\n",
      "        [ 1.7817e-01, -1.5252e-01,  2.6124e-01,  2.0013e-01, -5.0290e-02,\n",
      "          3.1950e-01, -3.6740e-01,  3.8875e-01,  3.0818e-01, -2.9552e-01,\n",
      "         -7.2832e-02,  2.2941e-02, -1.0955e-02, -2.4540e-01, -2.4141e-02,\n",
      "          2.4624e-01,  9.1237e-02,  1.6742e-01, -4.5809e-01, -3.5992e-01,\n",
      "          2.9996e-01, -3.5153e-01,  3.6567e-01, -1.4169e-01, -1.8819e-01,\n",
      "          2.5660e-01,  5.8181e-02,  2.0301e-01, -1.9814e-02, -5.4268e-01],\n",
      "        [ 9.8874e-02,  1.6848e-01, -3.3946e-01, -9.9503e-02,  1.6269e-01,\n",
      "          1.2597e-01,  2.9232e-01,  9.5908e-03,  4.5069e-03, -1.1071e-01,\n",
      "          1.0106e-01, -1.5002e-02,  7.2874e-02,  1.1364e-01,  6.1817e-03,\n",
      "          5.4004e-02, -2.8326e-02, -3.4649e-04, -1.9226e-01,  1.4806e-01,\n",
      "          4.2681e-02,  3.1912e-01, -8.7179e-02,  2.0304e-02,  1.8516e-01,\n",
      "          1.0083e-01,  1.8740e-01, -2.2235e-01,  2.3225e-01,  3.1023e-01],\n",
      "        [ 7.4612e-02, -2.7972e-01, -1.5573e-01,  3.0568e-02,  1.5790e-02,\n",
      "          2.7831e-02, -3.1597e-02,  5.3617e-02, -3.1081e-02, -3.7445e-01,\n",
      "          1.5021e-01, -1.0913e-01, -1.8652e-01,  1.1858e-01,  1.1166e-03,\n",
      "          1.9953e-02,  1.3102e-01, -1.1433e-01,  4.1940e-01,  2.8670e-03,\n",
      "          1.1002e-01, -2.0755e-01, -1.4030e-01,  1.4832e-01, -8.0471e-02,\n",
      "         -3.7599e-01, -1.2716e-02,  1.1356e-01,  1.1509e-01, -3.8821e-03],\n",
      "        [ 5.6533e-03, -3.1115e-07, -2.7686e-04, -4.4558e-02, -5.1158e-04,\n",
      "          1.4218e-39, -2.5062e-39,  5.7567e-40, -2.4346e-39, -6.0511e-39,\n",
      "          3.0327e-39, -2.4911e-02, -3.2590e-02, -2.4407e-02, -3.1643e-39,\n",
      "         -2.0658e-39, -8.5914e-03,  5.6167e-39,  5.5512e-39,  1.3396e-39,\n",
      "          1.8752e-02,  4.3348e-06, -5.0329e-03, -7.1583e-02,  2.1299e-39,\n",
      "         -3.7579e-39,  5.0507e-39,  6.6603e-39, -2.1503e-39,  4.6743e-39],\n",
      "        [ 1.3903e-03,  3.4694e-06,  1.4551e-02,  5.2248e-04, -7.2536e-04,\n",
      "         -4.9900e-03, -8.0581e-04,  2.3214e-13, -2.2171e-03,  2.3801e-04,\n",
      "          1.3784e-02, -3.1228e-02, -2.3295e-03, -1.2764e-02, -2.8241e-39,\n",
      "         -2.5196e-37,  1.8944e-40,  1.1002e-39,  1.5306e-39, -2.3171e-39,\n",
      "          1.4895e-03, -2.4645e-03,  9.7681e-03, -1.0694e-02, -7.3264e-03,\n",
      "         -8.5408e-03, -9.1155e-04, -1.8866e-05,  3.1729e-03, -1.0995e-10]],\n",
      "       requires_grad=True)\n"
     ]
    }
   ],
   "source": [
    "print(pesos0)"
   ]
  },
  {
   "cell_type": "code",
   "execution_count": 68,
   "metadata": {
    "ExecuteTime": {
     "end_time": "2020-10-05T15:16:16.607773Z",
     "start_time": "2020-10-05T15:16:16.601180Z"
    },
    "colab": {
     "base_uri": "https://localhost:8080/",
     "height": 35
    },
    "id": "q42zQLHFsIWC",
    "outputId": "11ac5c44-e042-4e8a-9e59-49d873d2c35a"
   },
   "outputs": [
    {
     "data": {
      "text/plain": [
       "torch.Size([16])"
      ]
     },
     "execution_count": 68,
     "metadata": {},
     "output_type": "execute_result"
    }
   ],
   "source": [
    "# 30 -> 16 -> 16 -> 1\n",
    "bias0 = params[1]\n",
    "bias0.shape"
   ]
  },
  {
   "cell_type": "code",
   "execution_count": 69,
   "metadata": {
    "ExecuteTime": {
     "end_time": "2020-10-05T15:16:17.343460Z",
     "start_time": "2020-10-05T15:16:17.338564Z"
    },
    "colab": {
     "base_uri": "https://localhost:8080/",
     "height": 35
    },
    "id": "3IWG8GFjsTr5",
    "outputId": "8170c305-39d6-438f-fd84-64b14225236c"
   },
   "outputs": [
    {
     "data": {
      "text/plain": [
       "torch.Size([16, 16])"
      ]
     },
     "execution_count": 69,
     "metadata": {},
     "output_type": "execute_result"
    }
   ],
   "source": [
    "pesos1 = params[2]\n",
    "pesos1.shape"
   ]
  },
  {
   "cell_type": "code",
   "execution_count": 72,
   "metadata": {
    "ExecuteTime": {
     "end_time": "2020-10-05T15:17:40.261308Z",
     "start_time": "2020-10-05T15:17:40.253862Z"
    },
    "colab": {
     "base_uri": "https://localhost:8080/",
     "height": 35
    },
    "id": "yfgtWyWrsbbY",
    "outputId": "69541407-f90d-4535-b0cf-b8aef2a5678c"
   },
   "outputs": [
    {
     "data": {
      "text/plain": [
       "torch.Size([16])"
      ]
     },
     "execution_count": 72,
     "metadata": {},
     "output_type": "execute_result"
    }
   ],
   "source": [
    "bias1 = params[3]\n",
    "bias1.shape"
   ]
  },
  {
   "cell_type": "markdown",
   "metadata": {
    "id": "AyTjLzELSdQF"
   },
   "source": [
    "## Etapa 7: Avaliação do modelo"
   ]
  },
  {
   "cell_type": "code",
   "execution_count": 73,
   "metadata": {
    "ExecuteTime": {
     "end_time": "2020-10-05T15:18:47.420588Z",
     "start_time": "2020-10-05T15:18:47.413911Z"
    },
    "colab": {
     "base_uri": "https://localhost:8080/",
     "height": 155
    },
    "id": "ZafmlssFs5SG",
    "outputId": "0ae6be37-f4c9-43d7-ac69-45688e3af448"
   },
   "outputs": [
    {
     "data": {
      "text/plain": [
       "Sequential(\n",
       "  (0): Linear(in_features=30, out_features=16, bias=True)\n",
       "  (1): ReLU()\n",
       "  (2): Linear(in_features=16, out_features=16, bias=True)\n",
       "  (3): ReLU()\n",
       "  (4): Linear(in_features=16, out_features=1, bias=True)\n",
       "  (5): Sigmoid()\n",
       ")"
      ]
     },
     "execution_count": 73,
     "metadata": {},
     "output_type": "execute_result"
    }
   ],
   "source": [
    "classificador.eval()"
   ]
  },
  {
   "cell_type": "code",
   "execution_count": 74,
   "metadata": {
    "ExecuteTime": {
     "end_time": "2020-10-05T15:18:56.368098Z",
     "start_time": "2020-10-05T15:18:56.362197Z"
    },
    "colab": {
     "base_uri": "https://localhost:8080/",
     "height": 35
    },
    "id": "7C3BgZGGtJvp",
    "outputId": "5fc4efdb-1567-42d5-f819-f263f0d37e43"
   },
   "outputs": [
    {
     "data": {
      "text/plain": [
       "pandas.core.frame.DataFrame"
      ]
     },
     "execution_count": 74,
     "metadata": {},
     "output_type": "execute_result"
    }
   ],
   "source": [
    "type(previsores_teste)"
   ]
  },
  {
   "cell_type": "code",
   "execution_count": 75,
   "metadata": {
    "ExecuteTime": {
     "end_time": "2020-10-05T15:18:58.877818Z",
     "start_time": "2020-10-05T15:18:58.872544Z"
    },
    "id": "PuL49MUEtOrh"
   },
   "outputs": [],
   "source": [
    "previsores_teste = torch.tensor(np.array(previsores_teste), dtype=torch.float)"
   ]
  },
  {
   "cell_type": "code",
   "execution_count": 76,
   "metadata": {
    "ExecuteTime": {
     "end_time": "2020-10-05T15:19:01.452684Z",
     "start_time": "2020-10-05T15:19:01.448232Z"
    },
    "colab": {
     "base_uri": "https://localhost:8080/",
     "height": 35
    },
    "id": "LmAqJEHHtZNC",
    "outputId": "9cf4012f-9009-44d9-825c-175912856913"
   },
   "outputs": [
    {
     "data": {
      "text/plain": [
       "torch.Tensor"
      ]
     },
     "execution_count": 76,
     "metadata": {},
     "output_type": "execute_result"
    }
   ],
   "source": [
    "type(previsores_teste)"
   ]
  },
  {
   "cell_type": "code",
   "execution_count": 119,
   "metadata": {
    "ExecuteTime": {
     "end_time": "2020-10-05T15:32:50.378491Z",
     "start_time": "2020-10-05T15:32:50.372231Z"
    },
    "id": "Fe8muTxbtc1G"
   },
   "outputs": [],
   "source": [
    "previsoes = classificador.forward(previsores_teste)"
   ]
  },
  {
   "cell_type": "code",
   "execution_count": 120,
   "metadata": {
    "ExecuteTime": {
     "end_time": "2020-10-05T15:32:50.773553Z",
     "start_time": "2020-10-05T15:32:50.759666Z"
    },
    "colab": {
     "base_uri": "https://localhost:8080/",
     "height": 1000
    },
    "id": "fn0leHiAtqpx",
    "outputId": "a85b9b7f-998b-4bf0-fd54-650e1824e771"
   },
   "outputs": [
    {
     "data": {
      "text/plain": [
       "tensor([[9.9674e-01],\n",
       "        [1.0000e+00],\n",
       "        [4.9938e-01],\n",
       "        [9.8195e-01],\n",
       "        [5.9631e-05],\n",
       "        [9.3977e-01],\n",
       "        [9.8949e-01],\n",
       "        [1.0000e+00],\n",
       "        [8.8587e-01],\n",
       "        [9.9995e-01],\n",
       "        [9.8502e-01],\n",
       "        [1.0000e+00],\n",
       "        [4.4751e-04],\n",
       "        [9.9955e-01],\n",
       "        [9.9980e-01],\n",
       "        [5.3332e-01],\n",
       "        [9.9950e-01],\n",
       "        [1.0000e+00],\n",
       "        [8.5320e-01],\n",
       "        [9.9997e-01],\n",
       "        [3.1181e-12],\n",
       "        [5.1183e-03],\n",
       "        [4.9017e-01],\n",
       "        [1.0000e+00],\n",
       "        [9.6290e-01],\n",
       "        [1.7957e-03],\n",
       "        [2.3670e-01],\n",
       "        [1.0000e+00],\n",
       "        [1.4862e-05],\n",
       "        [9.9990e-01],\n",
       "        [6.0901e-01],\n",
       "        [1.0000e+00],\n",
       "        [8.5025e-01],\n",
       "        [9.9312e-01],\n",
       "        [2.7487e-01],\n",
       "        [9.9981e-01],\n",
       "        [8.4748e-01],\n",
       "        [9.9997e-01],\n",
       "        [9.9864e-01],\n",
       "        [5.3464e-05],\n",
       "        [6.8299e-03],\n",
       "        [6.1545e-01],\n",
       "        [2.1061e-08],\n",
       "        [2.6963e-01],\n",
       "        [8.0166e-06],\n",
       "        [8.0803e-01],\n",
       "        [1.0070e-04],\n",
       "        [0.0000e+00],\n",
       "        [6.2028e-01],\n",
       "        [1.2007e-02],\n",
       "        [1.0000e+00],\n",
       "        [5.5534e-19],\n",
       "        [9.9052e-01],\n",
       "        [9.7646e-01],\n",
       "        [9.9964e-01],\n",
       "        [5.2732e-01],\n",
       "        [1.0000e+00],\n",
       "        [4.9871e-09],\n",
       "        [2.3419e-09],\n",
       "        [9.9943e-01],\n",
       "        [5.7043e-06],\n",
       "        [9.9993e-01],\n",
       "        [9.9997e-01],\n",
       "        [9.9959e-01],\n",
       "        [6.5857e-01],\n",
       "        [2.5773e-09],\n",
       "        [1.0000e+00],\n",
       "        [1.0000e+00],\n",
       "        [1.0000e+00],\n",
       "        [4.5503e-01],\n",
       "        [1.0000e+00],\n",
       "        [9.9242e-01],\n",
       "        [1.7518e-01],\n",
       "        [9.4002e-01],\n",
       "        [1.6951e-04],\n",
       "        [9.9842e-01],\n",
       "        [8.3056e-01],\n",
       "        [5.6186e-13],\n",
       "        [5.2486e-06],\n",
       "        [1.3728e-02],\n",
       "        [9.9684e-01],\n",
       "        [1.1666e-07],\n",
       "        [7.4653e-08],\n",
       "        [9.9892e-01],\n",
       "        [1.0000e+00],\n",
       "        [1.0000e+00],\n",
       "        [8.7842e-02],\n",
       "        [9.9960e-01],\n",
       "        [7.0042e-04],\n",
       "        [6.8096e-01],\n",
       "        [1.2576e-02],\n",
       "        [9.9599e-01],\n",
       "        [9.8882e-01],\n",
       "        [2.9159e-02],\n",
       "        [9.9984e-01],\n",
       "        [9.9999e-01],\n",
       "        [9.9780e-01],\n",
       "        [1.0000e+00],\n",
       "        [4.5542e-03],\n",
       "        [1.0000e+00],\n",
       "        [9.9999e-01],\n",
       "        [1.0000e+00],\n",
       "        [9.9936e-01],\n",
       "        [9.9807e-01],\n",
       "        [9.9464e-01],\n",
       "        [1.0000e+00],\n",
       "        [1.0000e+00],\n",
       "        [9.9998e-01],\n",
       "        [1.0000e+00],\n",
       "        [9.9988e-01],\n",
       "        [1.0000e+00],\n",
       "        [1.0000e+00],\n",
       "        [7.6818e-01],\n",
       "        [1.9597e-06],\n",
       "        [9.2300e-01],\n",
       "        [1.4062e-04],\n",
       "        [9.9992e-01],\n",
       "        [7.5426e-05],\n",
       "        [9.9993e-01],\n",
       "        [9.9900e-01],\n",
       "        [9.9980e-01],\n",
       "        [9.6493e-01],\n",
       "        [9.9998e-01],\n",
       "        [1.0000e+00],\n",
       "        [7.8052e-09],\n",
       "        [9.9968e-01],\n",
       "        [1.1349e-02],\n",
       "        [1.1285e-01],\n",
       "        [1.0000e+00],\n",
       "        [9.9990e-01],\n",
       "        [2.3093e-11],\n",
       "        [9.9692e-01],\n",
       "        [1.0000e+00],\n",
       "        [9.1334e-03],\n",
       "        [9.5113e-06],\n",
       "        [9.7510e-01],\n",
       "        [9.9895e-01],\n",
       "        [1.0000e+00],\n",
       "        [2.4582e-01],\n",
       "        [1.0220e-05],\n",
       "        [1.5389e-06],\n",
       "        [9.9780e-01],\n",
       "        [2.2043e-13]], grad_fn=<SigmoidBackward>)"
      ]
     },
     "execution_count": 120,
     "metadata": {},
     "output_type": "execute_result"
    }
   ],
   "source": [
    "previsoes"
   ]
  },
  {
   "cell_type": "code",
   "execution_count": 121,
   "metadata": {
    "ExecuteTime": {
     "end_time": "2020-10-05T15:32:51.181421Z",
     "start_time": "2020-10-05T15:32:51.175033Z"
    },
    "colab": {
     "base_uri": "https://localhost:8080/",
     "height": 1000
    },
    "id": "MzALzgDet3Hr",
    "outputId": "19db47e8-a5fc-4226-8c32-145c47be31ad"
   },
   "outputs": [
    {
     "data": {
      "text/plain": [
       "array([[ True],\n",
       "       [ True],\n",
       "       [False],\n",
       "       [ True],\n",
       "       [False],\n",
       "       [ True],\n",
       "       [ True],\n",
       "       [ True],\n",
       "       [ True],\n",
       "       [ True],\n",
       "       [ True],\n",
       "       [ True],\n",
       "       [False],\n",
       "       [ True],\n",
       "       [ True],\n",
       "       [False],\n",
       "       [ True],\n",
       "       [ True],\n",
       "       [ True],\n",
       "       [ True],\n",
       "       [False],\n",
       "       [False],\n",
       "       [False],\n",
       "       [ True],\n",
       "       [ True],\n",
       "       [False],\n",
       "       [False],\n",
       "       [ True],\n",
       "       [False],\n",
       "       [ True],\n",
       "       [False],\n",
       "       [ True],\n",
       "       [ True],\n",
       "       [ True],\n",
       "       [False],\n",
       "       [ True],\n",
       "       [ True],\n",
       "       [ True],\n",
       "       [ True],\n",
       "       [False],\n",
       "       [False],\n",
       "       [False],\n",
       "       [False],\n",
       "       [False],\n",
       "       [False],\n",
       "       [ True],\n",
       "       [False],\n",
       "       [False],\n",
       "       [False],\n",
       "       [False],\n",
       "       [ True],\n",
       "       [False],\n",
       "       [ True],\n",
       "       [ True],\n",
       "       [ True],\n",
       "       [False],\n",
       "       [ True],\n",
       "       [False],\n",
       "       [False],\n",
       "       [ True],\n",
       "       [False],\n",
       "       [ True],\n",
       "       [ True],\n",
       "       [ True],\n",
       "       [False],\n",
       "       [False],\n",
       "       [ True],\n",
       "       [ True],\n",
       "       [ True],\n",
       "       [False],\n",
       "       [ True],\n",
       "       [ True],\n",
       "       [False],\n",
       "       [ True],\n",
       "       [False],\n",
       "       [ True],\n",
       "       [ True],\n",
       "       [False],\n",
       "       [False],\n",
       "       [False],\n",
       "       [ True],\n",
       "       [False],\n",
       "       [False],\n",
       "       [ True],\n",
       "       [ True],\n",
       "       [ True],\n",
       "       [False],\n",
       "       [ True],\n",
       "       [False],\n",
       "       [False],\n",
       "       [False],\n",
       "       [ True],\n",
       "       [ True],\n",
       "       [False],\n",
       "       [ True],\n",
       "       [ True],\n",
       "       [ True],\n",
       "       [ True],\n",
       "       [False],\n",
       "       [ True],\n",
       "       [ True],\n",
       "       [ True],\n",
       "       [ True],\n",
       "       [ True],\n",
       "       [ True],\n",
       "       [ True],\n",
       "       [ True],\n",
       "       [ True],\n",
       "       [ True],\n",
       "       [ True],\n",
       "       [ True],\n",
       "       [ True],\n",
       "       [False],\n",
       "       [False],\n",
       "       [ True],\n",
       "       [False],\n",
       "       [ True],\n",
       "       [False],\n",
       "       [ True],\n",
       "       [ True],\n",
       "       [ True],\n",
       "       [ True],\n",
       "       [ True],\n",
       "       [ True],\n",
       "       [False],\n",
       "       [ True],\n",
       "       [False],\n",
       "       [False],\n",
       "       [ True],\n",
       "       [ True],\n",
       "       [False],\n",
       "       [ True],\n",
       "       [ True],\n",
       "       [False],\n",
       "       [False],\n",
       "       [ True],\n",
       "       [ True],\n",
       "       [ True],\n",
       "       [False],\n",
       "       [False],\n",
       "       [False],\n",
       "       [ True],\n",
       "       [False]])"
      ]
     },
     "execution_count": 121,
     "metadata": {},
     "output_type": "execute_result"
    }
   ],
   "source": [
    "previsoes = np.array(previsoes > 0.8)\n",
    "previsoes"
   ]
  },
  {
   "cell_type": "code",
   "execution_count": 122,
   "metadata": {
    "ExecuteTime": {
     "end_time": "2020-10-05T15:32:51.719095Z",
     "start_time": "2020-10-05T15:32:51.701733Z"
    },
    "colab": {
     "base_uri": "https://localhost:8080/",
     "height": 407
    },
    "id": "YVPFTbGeuSU5",
    "outputId": "bb9afbd9-ffb1-4ff6-f1d3-cd49f4ab61b5"
   },
   "outputs": [
    {
     "data": {
      "text/html": [
       "<div>\n",
       "<style scoped>\n",
       "    .dataframe tbody tr th:only-of-type {\n",
       "        vertical-align: middle;\n",
       "    }\n",
       "\n",
       "    .dataframe tbody tr th {\n",
       "        vertical-align: top;\n",
       "    }\n",
       "\n",
       "    .dataframe thead th {\n",
       "        text-align: right;\n",
       "    }\n",
       "</style>\n",
       "<table border=\"1\" class=\"dataframe\">\n",
       "  <thead>\n",
       "    <tr style=\"text-align: right;\">\n",
       "      <th></th>\n",
       "      <th>0</th>\n",
       "    </tr>\n",
       "  </thead>\n",
       "  <tbody>\n",
       "    <tr>\n",
       "      <th>333</th>\n",
       "      <td>1</td>\n",
       "    </tr>\n",
       "    <tr>\n",
       "      <th>273</th>\n",
       "      <td>1</td>\n",
       "    </tr>\n",
       "    <tr>\n",
       "      <th>201</th>\n",
       "      <td>0</td>\n",
       "    </tr>\n",
       "    <tr>\n",
       "      <th>178</th>\n",
       "      <td>1</td>\n",
       "    </tr>\n",
       "    <tr>\n",
       "      <th>85</th>\n",
       "      <td>0</td>\n",
       "    </tr>\n",
       "    <tr>\n",
       "      <th>...</th>\n",
       "      <td>...</td>\n",
       "    </tr>\n",
       "    <tr>\n",
       "      <th>230</th>\n",
       "      <td>0</td>\n",
       "    </tr>\n",
       "    <tr>\n",
       "      <th>282</th>\n",
       "      <td>0</td>\n",
       "    </tr>\n",
       "    <tr>\n",
       "      <th>535</th>\n",
       "      <td>0</td>\n",
       "    </tr>\n",
       "    <tr>\n",
       "      <th>436</th>\n",
       "      <td>1</td>\n",
       "    </tr>\n",
       "    <tr>\n",
       "      <th>236</th>\n",
       "      <td>0</td>\n",
       "    </tr>\n",
       "  </tbody>\n",
       "</table>\n",
       "<p>143 rows × 1 columns</p>\n",
       "</div>"
      ],
      "text/plain": [
       "     0\n",
       "333  1\n",
       "273  1\n",
       "201  0\n",
       "178  1\n",
       "85   0\n",
       "..  ..\n",
       "230  0\n",
       "282  0\n",
       "535  0\n",
       "436  1\n",
       "236  0\n",
       "\n",
       "[143 rows x 1 columns]"
      ]
     },
     "execution_count": 122,
     "metadata": {},
     "output_type": "execute_result"
    }
   ],
   "source": [
    "classe_teste"
   ]
  },
  {
   "cell_type": "code",
   "execution_count": 123,
   "metadata": {
    "ExecuteTime": {
     "end_time": "2020-10-05T15:32:52.727872Z",
     "start_time": "2020-10-05T15:32:52.719926Z"
    },
    "colab": {
     "base_uri": "https://localhost:8080/",
     "height": 35
    },
    "id": "U7jfnFtZuNVn",
    "outputId": "318e00a5-c292-4d5b-f1af-263509b93d96"
   },
   "outputs": [
    {
     "data": {
      "text/plain": [
       "0.9090909090909091"
      ]
     },
     "execution_count": 123,
     "metadata": {},
     "output_type": "execute_result"
    }
   ],
   "source": [
    "taxa_acerto = accuracy_score(classe_teste, previsoes)\n",
    "taxa_acerto"
   ]
  },
  {
   "cell_type": "code",
   "execution_count": 124,
   "metadata": {
    "ExecuteTime": {
     "end_time": "2020-10-05T15:33:00.940768Z",
     "start_time": "2020-10-05T15:33:00.932023Z"
    },
    "colab": {
     "base_uri": "https://localhost:8080/",
     "height": 52
    },
    "id": "g0Z3LgbcutQD",
    "outputId": "edd8f508-e9f6-45a5-fd4d-cb00dc357df2"
   },
   "outputs": [
    {
     "data": {
      "text/plain": [
       "array([[49,  5],\n",
       "       [ 8, 81]])"
      ]
     },
     "execution_count": 124,
     "metadata": {},
     "output_type": "execute_result"
    }
   ],
   "source": [
    "matriz = confusion_matrix(classe_teste, previsoes)\n",
    "matriz"
   ]
  },
  {
   "cell_type": "code",
   "execution_count": 125,
   "metadata": {
    "ExecuteTime": {
     "end_time": "2020-10-05T15:33:03.228345Z",
     "start_time": "2020-10-05T15:33:02.970749Z"
    },
    "colab": {
     "base_uri": "https://localhost:8080/",
     "height": 265
    },
    "id": "BlaTftH_uzpv",
    "outputId": "9fc8e761-2d88-4c5f-ec84-ec9c543ac213"
   },
   "outputs": [
    {
     "data": {
      "image/png": "[encoded data removed]",
      "text/plain": [
       "<Figure size 432x288 with 2 Axes>"
      ]
     },
     "metadata": {
      "needs_background": "light"
     },
     "output_type": "display_data"
    }
   ],
   "source": [
    "sns.heatmap(matriz, annot=True);"
   ]
  },
  {
   "cell_type": "code",
   "execution_count": null,
   "metadata": {},
   "outputs": [],
   "source": [
    " "
   ]
  }
 ],
 "metadata": {
  "accelerator": "GPU",
  "colab": {
   "name": "Projeto #1 Classificação binária breast cancer.ipynb",
   "provenance": []
  },
  "kernelspec": {
   "display_name": "Python 3",
   "language": "python",
   "name": "python3"
  },
  "language_info": {
   "codemirror_mode": {
    "name": "ipython",
    "version": 3
   },
   "file_extension": ".py",
   "mimetype": "text/x-python",
   "name": "python",
   "nbconvert_exporter": "python",
   "pygments_lexer": "ipython3",
   "version": "3.8.3"
  },
  "toc": {
   "base_numbering": 1,
   "nav_menu": {},
   "number_sections": true,
   "sideBar": true,
   "skip_h1_title": false,
   "title_cell": "Table of Contents",
   "title_sidebar": "Contents",
   "toc_cell": false,
   "toc_position": {},
   "toc_section_display": true,
   "toc_window_display": false
  },
  "varInspector": {
   "cols": {
    "lenName": 16,
    "lenType": 16,
    "lenVar": 40
   },
   "kernels_config": {
    "python": {
     "delete_cmd_postfix": "",
     "delete_cmd_prefix": "del ",
     "library": "var_list.py",
     "varRefreshCmd": "print(var_dic_list())"
    },
    "r": {
     "delete_cmd_postfix": ") ",
     "delete_cmd_prefix": "rm(",
     "library": "var_list.r",
     "varRefreshCmd": "cat(var_dic_list()) "
    }
   },
   "types_to_exclude": [
    "module",
    "function",
    "builtin_function_or_method",
    "instance",
    "_Feature"
   ],
   "window_display": false
  }
 },
 "nbformat": 4,
 "nbformat_minor": 1
}
