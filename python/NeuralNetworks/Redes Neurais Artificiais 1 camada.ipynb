{
 "cells": [
  {
   "cell_type": "markdown",
   "metadata": {},
   "source": [
    " $$SOMA =\\sum_{i=0}^n xi * yi $$"
   ]
  },
  {
   "cell_type": "code",
   "execution_count": 2,
   "metadata": {},
   "outputs": [],
   "source": [
    "import numpy as np"
   ]
  },
  {
   "cell_type": "code",
   "execution_count": 5,
   "metadata": {},
   "outputs": [],
   "source": [
    "entradas = np.array([[0,0],[0,1],[1,0],[1,1]])\n",
    "saidas = np.array([0,0,0,1])\n",
    "pesos = np.array([0.0,0.0])\n",
    "taxaAprendizagem = 0.1"
   ]
  },
  {
   "cell_type": "code",
   "execution_count": 6,
   "metadata": {},
   "outputs": [],
   "source": [
    "def stepfunction(soma):\n",
    "    if(soma >= 1):\n",
    "        return 1\n",
    "    else:\n",
    "        return 0"
   ]
  },
  {
   "cell_type": "code",
   "execution_count": 9,
   "metadata": {},
   "outputs": [],
   "source": [
    "def CauculaSaida(registro):\n",
    "    s = registro.dot(pesos)\n",
    "    return stepfunction(s)"
   ]
  },
  {
   "cell_type": "code",
   "execution_count": 10,
   "metadata": {},
   "outputs": [],
   "source": [
    "def treinar():\n",
    "    erroTotal=1\n",
    "    while(erroTotal !=0):\n",
    "        erroTotal =0\n",
    "        for i in range(len(saidas)):\n",
    "            saidaCauculada = CauculaSaida(np.asarray(entradas[i]))\n",
    "            erro = abs(saidas[i] - saidaCauculada)\n",
    "            erroTotal += erro\n",
    "            for j in range(len(pesos)):\n",
    "                pesos[j] = pesos[j]+(taxaAprendizagem* entradas[i][j]*erro)\n",
    "                print('peso atualizado: ' + str(pesos[j]))"
   ]
  },
  {
   "cell_type": "code",
   "execution_count": 11,
   "metadata": {},
   "outputs": [
    {
     "name": "stdout",
     "output_type": "stream",
     "text": [
      "peso atualizado: 0.0\n",
      "peso atualizado: 0.0\n",
      "peso atualizado: 0.0\n",
      "peso atualizado: 0.0\n",
      "peso atualizado: 0.0\n",
      "peso atualizado: 0.0\n",
      "peso atualizado: 0.1\n",
      "peso atualizado: 0.1\n",
      "peso atualizado: 0.1\n",
      "peso atualizado: 0.1\n",
      "peso atualizado: 0.1\n",
      "peso atualizado: 0.1\n",
      "peso atualizado: 0.1\n",
      "peso atualizado: 0.1\n",
      "peso atualizado: 0.2\n",
      "peso atualizado: 0.2\n",
      "peso atualizado: 0.2\n",
      "peso atualizado: 0.2\n",
      "peso atualizado: 0.2\n",
      "peso atualizado: 0.2\n",
      "peso atualizado: 0.2\n",
      "peso atualizado: 0.2\n",
      "peso atualizado: 0.30000000000000004\n",
      "peso atualizado: 0.30000000000000004\n",
      "peso atualizado: 0.30000000000000004\n",
      "peso atualizado: 0.30000000000000004\n",
      "peso atualizado: 0.30000000000000004\n",
      "peso atualizado: 0.30000000000000004\n",
      "peso atualizado: 0.30000000000000004\n",
      "peso atualizado: 0.30000000000000004\n",
      "peso atualizado: 0.4\n",
      "peso atualizado: 0.4\n",
      "peso atualizado: 0.4\n",
      "peso atualizado: 0.4\n",
      "peso atualizado: 0.4\n",
      "peso atualizado: 0.4\n",
      "peso atualizado: 0.4\n",
      "peso atualizado: 0.4\n",
      "peso atualizado: 0.5\n",
      "peso atualizado: 0.5\n",
      "peso atualizado: 0.5\n",
      "peso atualizado: 0.5\n",
      "peso atualizado: 0.5\n",
      "peso atualizado: 0.5\n",
      "peso atualizado: 0.5\n",
      "peso atualizado: 0.5\n",
      "peso atualizado: 0.5\n",
      "peso atualizado: 0.5\n"
     ]
    }
   ],
   "source": [
    "treinar()"
   ]
  },
  {
   "cell_type": "code",
   "execution_count": null,
   "metadata": {},
   "outputs": [],
   "source": []
  }
 ],
 "metadata": {
  "kernelspec": {
   "display_name": "Python 3",
   "language": "python",
   "name": "python3"
  },
  "language_info": {
   "codemirror_mode": {
    "name": "ipython",
    "version": 3
   },
   "file_extension": ".py",
   "mimetype": "text/x-python",
   "name": "python",
   "nbconvert_exporter": "python",
   "pygments_lexer": "ipython3",
   "version": "3.7.4"
  }
 },
 "nbformat": 4,
 "nbformat_minor": 4
}
