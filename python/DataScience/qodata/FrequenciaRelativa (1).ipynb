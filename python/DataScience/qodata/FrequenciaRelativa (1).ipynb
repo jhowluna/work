{
 "cells": [
  {
   "cell_type": "markdown",
   "metadata": {
    "colab_type": "text",
    "id": "qxWAyvJHc-7Y"
   },
   "source": [
    "Utilizada para análise do quão balanceado seus dados estão em um dataset. Lembre-se: se a máquina ter mais exemplos de uma classe do que outro, tenderá a prever a classe que mais viu. Balanceamento de dados é etapa obrigatório em Machine Learning."
   ]
  },
  {
   "cell_type": "code",
   "execution_count": 1,
   "metadata": {
    "colab": {
     "base_uri": "https://localhost:8080/",
     "height": 85
    },
    "colab_type": "code",
    "id": "WRZ46seyb8Ch",
    "outputId": "f31ed496-6c1a-409c-bf86-fcb69fa618cf"
   },
   "outputs": [
    {
     "name": "stdout",
     "output_type": "stream",
     "text": [
      "X    8\n",
      "Y    4\n",
      "dtype: int64\n",
      "Dados desbalanceados!\n"
     ]
    }
   ],
   "source": [
    "\"\"\"\n",
    "Objetivo: prever o voto no partido X ou Y, determinando se o dataset está balanceado para predição correta.\n",
    "\n",
    "X: pessoas que votaram no partido X\n",
    "Y: pessoas que votaram no partido Y\n",
    "\n",
    "\"\"\"\n",
    "import pandas as pd \n",
    "  \n",
    "data = [\"X\", \"X\", \"Y\", \"X\", \"Y\", \"X\", \"X\", \"Y\", \"Y\", \"X\", \"X\", \"X\"] \n",
    "  \n",
    "# Criamos dataframe\n",
    "# .value_counts() conta o número de ocorrências\n",
    "  \n",
    "df_freq = pd.Series(data).value_counts() \n",
    "print(df_freq)\n",
    "\n",
    "if df_freq[0] != df_freq[1]:\n",
    "  print(\"Dados desbalanceados!\")\n",
    "else:\n",
    "  print(\"Dados balanceados, afinal, mesmo número de ocorrências\")\n",
    "\n"
   ]
  },
  {
   "cell_type": "markdown",
   "metadata": {
    "colab_type": "text",
    "id": "C3fRXbKIftWl"
   },
   "source": [
    "Aplicando Frequência Relativa\n",
    "\n",
    "---\n",
    "\n",
    "Fração de observações de uma categoria específica em um determinado conjunto de dados. Possui valores flutuantes e também representado em porcentagem. Vamos considerar o exemplo dado de pessoas votando no partido X e Y."
   ]
  },
  {
   "cell_type": "code",
   "execution_count": 2,
   "metadata": {
    "colab": {
     "base_uri": "https://localhost:8080/",
     "height": 68
    },
    "colab_type": "code",
    "id": "1BgXgd0jfv-T",
    "outputId": "d9a7d805-d003-443e-afd8-2159f53701e1"
   },
   "outputs": [
    {
     "name": "stdout",
     "output_type": "stream",
     "text": [
      "X    0.666667\n",
      "Y    0.333333\n",
      "dtype: float64\n"
     ]
    }
   ],
   "source": [
    "print(df_freq / len(data)) "
   ]
  },
  {
   "cell_type": "markdown",
   "metadata": {
    "colab_type": "text",
    "id": "4ago2ZBsi2Dn"
   },
   "source": [
    "Geralmente, datasets com fins didáticos ja vem balanceados(vide IRIS), mas muitas vezes precisaremos balancea-los."
   ]
  },
  {
   "cell_type": "code",
   "execution_count": 3,
   "metadata": {
    "colab": {
     "base_uri": "https://localhost:8080/",
     "height": 85
    },
    "colab_type": "code",
    "id": "yZjqoEWahp9u",
    "outputId": "1a4c660f-4081-4e19-9e7c-b1dcc00941ef"
   },
   "outputs": [
    {
     "name": "stdout",
     "output_type": "stream",
     "text": [
      "Y    0.5\n",
      "X    0.5\n",
      "dtype: float64\n",
      "Dados balanceados, afinal, mesmo número de ocorrências\n"
     ]
    }
   ],
   "source": [
    "data = [\"X\", \"Y\", \"X\", \"Y\", \"X\", \"X\", \"Y\", \"Y\"] \n",
    "  \n",
    "# Criamos dataframe\n",
    "# .value_counts() conta o número de ocorrências\n",
    "  \n",
    "df_freq = pd.Series(data).value_counts() \n",
    "print(df_freq / len(data)) \n",
    "\n",
    "if df_freq[0] != df_freq[1]:\n",
    "  print(\"Dados desbalanceados!\")\n",
    "else:\n",
    "  print(\"Dados balanceados, afinal, mesmo número de ocorrências\")"
   ]
  }
 ],
 "metadata": {
  "colab": {
   "name": "FrequenciaRelativa.ipynb",
   "provenance": []
  },
  "hide_input": false,
  "kernelspec": {
   "display_name": "Python 3",
   "language": "python",
   "name": "python3"
  },
  "language_info": {
   "codemirror_mode": {
    "name": "ipython",
    "version": 3
   },
   "file_extension": ".py",
   "mimetype": "text/x-python",
   "name": "python",
   "nbconvert_exporter": "python",
   "pygments_lexer": "ipython3",
   "version": "3.7.6"
  },
  "latex_envs": {
   "LaTeX_envs_menu_present": true,
   "autoclose": false,
   "autocomplete": true,
   "bibliofile": "biblio.bib",
   "cite_by": "apalike",
   "current_citInitial": 1,
   "eqLabelWithNumbers": true,
   "eqNumInitial": 1,
   "hotkeys": {
    "equation": "Ctrl-E",
    "itemize": "Ctrl-I"
   },
   "labels_anchors": false,
   "latex_user_defs": false,
   "report_style_numbering": false,
   "user_envs_cfg": false
  },
  "toc": {
   "base_numbering": 1,
   "nav_menu": {},
   "number_sections": true,
   "sideBar": true,
   "skip_h1_title": false,
   "title_cell": "Table of Contents",
   "title_sidebar": "Contents",
   "toc_cell": false,
   "toc_position": {},
   "toc_section_display": true,
   "toc_window_display": false
  },
  "varInspector": {
   "cols": {
    "lenName": 16,
    "lenType": 16,
    "lenVar": 40
   },
   "kernels_config": {
    "python": {
     "delete_cmd_postfix": "",
     "delete_cmd_prefix": "del ",
     "library": "var_list.py",
     "varRefreshCmd": "print(var_dic_list())"
    },
    "r": {
     "delete_cmd_postfix": ") ",
     "delete_cmd_prefix": "rm(",
     "library": "var_list.r",
     "varRefreshCmd": "cat(var_dic_list()) "
    }
   },
   "types_to_exclude": [
    "module",
    "function",
    "builtin_function_or_method",
    "instance",
    "_Feature"
   ],
   "window_display": false
  }
 },
 "nbformat": 4,
 "nbformat_minor": 1
}
