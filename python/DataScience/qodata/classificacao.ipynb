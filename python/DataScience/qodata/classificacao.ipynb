{
 "cells": [
  {
   "cell_type": "markdown",
   "metadata": {
    "colab_type": "text",
    "id": "KwY85PKcTFZp"
   },
   "source": [
    "# PROJETO IRIS\n",
    "\n",
    "---\n",
    "![alt text](data:image/jpeg;base64,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)\n",
    "\n",
    "\n",
    "---\n",
    "\n",
    "https://www.kaggle.com/uciml/iris\n",
    "\n",
    "O conjunto de dados Iris foi usado no artigo clássico de Fisher em 1936: uso de múltiplas medidas em problemas taxonômicos.\n",
    "\n",
    "Inclui três espécies de íris com 50 amostras cada, bem como algumas propriedades sobre cada flor. Uma espécie de flor é linearmente separável das outras duas, mas as outras duas não são linearmente separáveis uma da outra.\n",
    "\n",
    "As colunas neste conjunto de dados são:\n",
    "\n",
    "* Id\n",
    "* Comprimento(cm) da Sépala\n",
    "* Largura(cm) Sépala\n",
    "* Comprimento(cm) da pétala\n",
    "* Largura(cm) da pétala\n",
    "* Espécie\n"
   ]
  },
  {
   "cell_type": "code",
   "execution_count": 1,
   "metadata": {
    "colab": {},
    "colab_type": "code",
    "id": "EfssqI5NTBkw"
   },
   "outputs": [],
   "source": [
    "#CARREGANDO LIBRARIES\n",
    "from sklearn import datasets\n",
    "iris = datasets.load_iris()"
   ]
  },
  {
   "cell_type": "code",
   "execution_count": 2,
   "metadata": {
    "colab": {
     "base_uri": "https://localhost:8080/",
     "height": 1000
    },
    "colab_type": "code",
    "id": "Tc_oss6LUBUU",
    "outputId": "6c029e51-cc1d-4aca-8c69-c6d8cdad567d"
   },
   "outputs": [
    {
     "data": {
      "text/plain": [
       "array([[5.1, 3.5, 1.4, 0.2],\n",
       "       [4.9, 3. , 1.4, 0.2],\n",
       "       [4.7, 3.2, 1.3, 0.2],\n",
       "       [4.6, 3.1, 1.5, 0.2],\n",
       "       [5. , 3.6, 1.4, 0.2],\n",
       "       [5.4, 3.9, 1.7, 0.4],\n",
       "       [4.6, 3.4, 1.4, 0.3],\n",
       "       [5. , 3.4, 1.5, 0.2],\n",
       "       [4.4, 2.9, 1.4, 0.2],\n",
       "       [4.9, 3.1, 1.5, 0.1],\n",
       "       [5.4, 3.7, 1.5, 0.2],\n",
       "       [4.8, 3.4, 1.6, 0.2],\n",
       "       [4.8, 3. , 1.4, 0.1],\n",
       "       [4.3, 3. , 1.1, 0.1],\n",
       "       [5.8, 4. , 1.2, 0.2],\n",
       "       [5.7, 4.4, 1.5, 0.4],\n",
       "       [5.4, 3.9, 1.3, 0.4],\n",
       "       [5.1, 3.5, 1.4, 0.3],\n",
       "       [5.7, 3.8, 1.7, 0.3],\n",
       "       [5.1, 3.8, 1.5, 0.3],\n",
       "       [5.4, 3.4, 1.7, 0.2],\n",
       "       [5.1, 3.7, 1.5, 0.4],\n",
       "       [4.6, 3.6, 1. , 0.2],\n",
       "       [5.1, 3.3, 1.7, 0.5],\n",
       "       [4.8, 3.4, 1.9, 0.2],\n",
       "       [5. , 3. , 1.6, 0.2],\n",
       "       [5. , 3.4, 1.6, 0.4],\n",
       "       [5.2, 3.5, 1.5, 0.2],\n",
       "       [5.2, 3.4, 1.4, 0.2],\n",
       "       [4.7, 3.2, 1.6, 0.2],\n",
       "       [4.8, 3.1, 1.6, 0.2],\n",
       "       [5.4, 3.4, 1.5, 0.4],\n",
       "       [5.2, 4.1, 1.5, 0.1],\n",
       "       [5.5, 4.2, 1.4, 0.2],\n",
       "       [4.9, 3.1, 1.5, 0.2],\n",
       "       [5. , 3.2, 1.2, 0.2],\n",
       "       [5.5, 3.5, 1.3, 0.2],\n",
       "       [4.9, 3.6, 1.4, 0.1],\n",
       "       [4.4, 3. , 1.3, 0.2],\n",
       "       [5.1, 3.4, 1.5, 0.2],\n",
       "       [5. , 3.5, 1.3, 0.3],\n",
       "       [4.5, 2.3, 1.3, 0.3],\n",
       "       [4.4, 3.2, 1.3, 0.2],\n",
       "       [5. , 3.5, 1.6, 0.6],\n",
       "       [5.1, 3.8, 1.9, 0.4],\n",
       "       [4.8, 3. , 1.4, 0.3],\n",
       "       [5.1, 3.8, 1.6, 0.2],\n",
       "       [4.6, 3.2, 1.4, 0.2],\n",
       "       [5.3, 3.7, 1.5, 0.2],\n",
       "       [5. , 3.3, 1.4, 0.2],\n",
       "       [7. , 3.2, 4.7, 1.4],\n",
       "       [6.4, 3.2, 4.5, 1.5],\n",
       "       [6.9, 3.1, 4.9, 1.5],\n",
       "       [5.5, 2.3, 4. , 1.3],\n",
       "       [6.5, 2.8, 4.6, 1.5],\n",
       "       [5.7, 2.8, 4.5, 1.3],\n",
       "       [6.3, 3.3, 4.7, 1.6],\n",
       "       [4.9, 2.4, 3.3, 1. ],\n",
       "       [6.6, 2.9, 4.6, 1.3],\n",
       "       [5.2, 2.7, 3.9, 1.4],\n",
       "       [5. , 2. , 3.5, 1. ],\n",
       "       [5.9, 3. , 4.2, 1.5],\n",
       "       [6. , 2.2, 4. , 1. ],\n",
       "       [6.1, 2.9, 4.7, 1.4],\n",
       "       [5.6, 2.9, 3.6, 1.3],\n",
       "       [6.7, 3.1, 4.4, 1.4],\n",
       "       [5.6, 3. , 4.5, 1.5],\n",
       "       [5.8, 2.7, 4.1, 1. ],\n",
       "       [6.2, 2.2, 4.5, 1.5],\n",
       "       [5.6, 2.5, 3.9, 1.1],\n",
       "       [5.9, 3.2, 4.8, 1.8],\n",
       "       [6.1, 2.8, 4. , 1.3],\n",
       "       [6.3, 2.5, 4.9, 1.5],\n",
       "       [6.1, 2.8, 4.7, 1.2],\n",
       "       [6.4, 2.9, 4.3, 1.3],\n",
       "       [6.6, 3. , 4.4, 1.4],\n",
       "       [6.8, 2.8, 4.8, 1.4],\n",
       "       [6.7, 3. , 5. , 1.7],\n",
       "       [6. , 2.9, 4.5, 1.5],\n",
       "       [5.7, 2.6, 3.5, 1. ],\n",
       "       [5.5, 2.4, 3.8, 1.1],\n",
       "       [5.5, 2.4, 3.7, 1. ],\n",
       "       [5.8, 2.7, 3.9, 1.2],\n",
       "       [6. , 2.7, 5.1, 1.6],\n",
       "       [5.4, 3. , 4.5, 1.5],\n",
       "       [6. , 3.4, 4.5, 1.6],\n",
       "       [6.7, 3.1, 4.7, 1.5],\n",
       "       [6.3, 2.3, 4.4, 1.3],\n",
       "       [5.6, 3. , 4.1, 1.3],\n",
       "       [5.5, 2.5, 4. , 1.3],\n",
       "       [5.5, 2.6, 4.4, 1.2],\n",
       "       [6.1, 3. , 4.6, 1.4],\n",
       "       [5.8, 2.6, 4. , 1.2],\n",
       "       [5. , 2.3, 3.3, 1. ],\n",
       "       [5.6, 2.7, 4.2, 1.3],\n",
       "       [5.7, 3. , 4.2, 1.2],\n",
       "       [5.7, 2.9, 4.2, 1.3],\n",
       "       [6.2, 2.9, 4.3, 1.3],\n",
       "       [5.1, 2.5, 3. , 1.1],\n",
       "       [5.7, 2.8, 4.1, 1.3],\n",
       "       [6.3, 3.3, 6. , 2.5],\n",
       "       [5.8, 2.7, 5.1, 1.9],\n",
       "       [7.1, 3. , 5.9, 2.1],\n",
       "       [6.3, 2.9, 5.6, 1.8],\n",
       "       [6.5, 3. , 5.8, 2.2],\n",
       "       [7.6, 3. , 6.6, 2.1],\n",
       "       [4.9, 2.5, 4.5, 1.7],\n",
       "       [7.3, 2.9, 6.3, 1.8],\n",
       "       [6.7, 2.5, 5.8, 1.8],\n",
       "       [7.2, 3.6, 6.1, 2.5],\n",
       "       [6.5, 3.2, 5.1, 2. ],\n",
       "       [6.4, 2.7, 5.3, 1.9],\n",
       "       [6.8, 3. , 5.5, 2.1],\n",
       "       [5.7, 2.5, 5. , 2. ],\n",
       "       [5.8, 2.8, 5.1, 2.4],\n",
       "       [6.4, 3.2, 5.3, 2.3],\n",
       "       [6.5, 3. , 5.5, 1.8],\n",
       "       [7.7, 3.8, 6.7, 2.2],\n",
       "       [7.7, 2.6, 6.9, 2.3],\n",
       "       [6. , 2.2, 5. , 1.5],\n",
       "       [6.9, 3.2, 5.7, 2.3],\n",
       "       [5.6, 2.8, 4.9, 2. ],\n",
       "       [7.7, 2.8, 6.7, 2. ],\n",
       "       [6.3, 2.7, 4.9, 1.8],\n",
       "       [6.7, 3.3, 5.7, 2.1],\n",
       "       [7.2, 3.2, 6. , 1.8],\n",
       "       [6.2, 2.8, 4.8, 1.8],\n",
       "       [6.1, 3. , 4.9, 1.8],\n",
       "       [6.4, 2.8, 5.6, 2.1],\n",
       "       [7.2, 3. , 5.8, 1.6],\n",
       "       [7.4, 2.8, 6.1, 1.9],\n",
       "       [7.9, 3.8, 6.4, 2. ],\n",
       "       [6.4, 2.8, 5.6, 2.2],\n",
       "       [6.3, 2.8, 5.1, 1.5],\n",
       "       [6.1, 2.6, 5.6, 1.4],\n",
       "       [7.7, 3. , 6.1, 2.3],\n",
       "       [6.3, 3.4, 5.6, 2.4],\n",
       "       [6.4, 3.1, 5.5, 1.8],\n",
       "       [6. , 3. , 4.8, 1.8],\n",
       "       [6.9, 3.1, 5.4, 2.1],\n",
       "       [6.7, 3.1, 5.6, 2.4],\n",
       "       [6.9, 3.1, 5.1, 2.3],\n",
       "       [5.8, 2.7, 5.1, 1.9],\n",
       "       [6.8, 3.2, 5.9, 2.3],\n",
       "       [6.7, 3.3, 5.7, 2.5],\n",
       "       [6.7, 3. , 5.2, 2.3],\n",
       "       [6.3, 2.5, 5. , 1.9],\n",
       "       [6.5, 3. , 5.2, 2. ],\n",
       "       [6.2, 3.4, 5.4, 2.3],\n",
       "       [5.9, 3. , 5.1, 1.8]])"
      ]
     },
     "execution_count": 2,
     "metadata": {},
     "output_type": "execute_result"
    }
   ],
   "source": [
    "iris.data"
   ]
  },
  {
   "cell_type": "code",
   "execution_count": 3,
   "metadata": {
    "colab": {
     "base_uri": "https://localhost:8080/",
     "height": 136
    },
    "colab_type": "code",
    "id": "YfCYloqlUCwk",
    "outputId": "5c63fcaf-ddb7-4e8b-fcb8-97e6966e93fe"
   },
   "outputs": [
    {
     "data": {
      "text/plain": [
       "array([0, 0, 0, 0, 0, 0, 0, 0, 0, 0, 0, 0, 0, 0, 0, 0, 0, 0, 0, 0, 0, 0,\n",
       "       0, 0, 0, 0, 0, 0, 0, 0, 0, 0, 0, 0, 0, 0, 0, 0, 0, 0, 0, 0, 0, 0,\n",
       "       0, 0, 0, 0, 0, 0, 1, 1, 1, 1, 1, 1, 1, 1, 1, 1, 1, 1, 1, 1, 1, 1,\n",
       "       1, 1, 1, 1, 1, 1, 1, 1, 1, 1, 1, 1, 1, 1, 1, 1, 1, 1, 1, 1, 1, 1,\n",
       "       1, 1, 1, 1, 1, 1, 1, 1, 1, 1, 1, 1, 2, 2, 2, 2, 2, 2, 2, 2, 2, 2,\n",
       "       2, 2, 2, 2, 2, 2, 2, 2, 2, 2, 2, 2, 2, 2, 2, 2, 2, 2, 2, 2, 2, 2,\n",
       "       2, 2, 2, 2, 2, 2, 2, 2, 2, 2, 2, 2, 2, 2, 2, 2, 2, 2])"
      ]
     },
     "execution_count": 3,
     "metadata": {},
     "output_type": "execute_result"
    }
   ],
   "source": [
    "iris.target"
   ]
  },
  {
   "cell_type": "code",
   "execution_count": 4,
   "metadata": {
    "colab": {
     "base_uri": "https://localhost:8080/",
     "height": 119
    },
    "colab_type": "code",
    "id": "kUFuynYIUEba",
    "outputId": "4d8b70aa-4e43-4f24-d259-a14e5d06e802"
   },
   "outputs": [
    {
     "data": {
      "text/plain": [
       "DecisionTreeClassifier(class_weight=None, criterion='gini', max_depth=None,\n",
       "                       max_features=None, max_leaf_nodes=None,\n",
       "                       min_impurity_decrease=0.0, min_impurity_split=None,\n",
       "                       min_samples_leaf=1, min_samples_split=2,\n",
       "                       min_weight_fraction_leaf=0.0, presort=False,\n",
       "                       random_state=None, splitter='best')"
      ]
     },
     "execution_count": 4,
     "metadata": {},
     "output_type": "execute_result"
    }
   ],
   "source": [
    "from sklearn.tree import DecisionTreeClassifier # por fins didáticos, mude esta linha, importando outro algoritmo\n",
    "clf = DecisionTreeClassifier() # por fins didáticos, mude esta linha, instanciando o outro algoritmo importado\n",
    "clf.fit(iris.data,iris.target)"
   ]
  },
  {
   "cell_type": "code",
   "execution_count": 6,
   "metadata": {
    "colab": {
     "base_uri": "https://localhost:8080/",
     "height": 34
    },
    "colab_type": "code",
    "id": "2Fxd8tIyUHQ0",
    "outputId": "c364c423-c183-4331-8ad9-47c3dd16b7db"
   },
   "outputs": [
    {
     "data": {
      "text/plain": [
       "array([0.        , 0.01333333, 0.06405596, 0.92261071])"
      ]
     },
     "execution_count": 6,
     "metadata": {},
     "output_type": "execute_result"
    }
   ],
   "source": [
    "clf.feature_importances_"
   ]
  },
  {
   "cell_type": "code",
   "execution_count": 7,
   "metadata": {
    "colab": {
     "base_uri": "https://localhost:8080/",
     "height": 85
    },
    "colab_type": "code",
    "id": "DjO9g4DQUIl5",
    "outputId": "f159a418-3d58-46e0-b1bf-77e6eaf004cd"
   },
   "outputs": [
    {
     "data": {
      "text/plain": [
       "['sepal length (cm)',\n",
       " 'sepal width (cm)',\n",
       " 'petal length (cm)',\n",
       " 'petal width (cm)']"
      ]
     },
     "execution_count": 7,
     "metadata": {},
     "output_type": "execute_result"
    }
   ],
   "source": [
    "iris.feature_names"
   ]
  },
  {
   "cell_type": "code",
   "execution_count": 11,
   "metadata": {
    "colab": {
     "base_uri": "https://localhost:8080/",
     "height": 34
    },
    "colab_type": "code",
    "id": "luNK1w9dULbf",
    "outputId": "42f708b5-e26b-46f3-a022-c7cceb7f9815"
   },
   "outputs": [
    {
     "name": "stdout",
     "output_type": "stream",
     "text": [
      "[5.1 3.5 1.4 0.2]\n"
     ]
    },
    {
     "data": {
      "text/plain": [
       "array([0])"
      ]
     },
     "execution_count": 11,
     "metadata": {},
     "output_type": "execute_result"
    }
   ],
   "source": [
    "#underfited: generaliza tudo\n",
    "#good fit: equilibrio entre generalização e decorar = o ideal\n",
    "#overfitted: decora dados\n",
    "print(iris.data[0])\n",
    "clf.predict([iris.data[0]])"
   ]
  },
  {
   "cell_type": "code",
   "execution_count": 12,
   "metadata": {
    "colab": {
     "base_uri": "https://localhost:8080/",
     "height": 34
    },
    "colab_type": "code",
    "id": "_uEj1og6UM7V",
    "outputId": "14729c47-e1a2-4e25-d9cb-c2fe9b7284cb"
   },
   "outputs": [
    {
     "data": {
      "text/plain": [
       "1.0"
      ]
     },
     "execution_count": 12,
     "metadata": {},
     "output_type": "execute_result"
    }
   ],
   "source": [
    "#metricas de avaliação\n",
    "from sklearn import metrics\n",
    "pred = clf.predict(iris.data)\n",
    "metrics.accuracy_score(iris.target, pred)"
   ]
  },
  {
   "cell_type": "code",
   "execution_count": 26,
   "metadata": {
    "colab": {
     "base_uri": "https://localhost:8080/",
     "height": 34
    },
    "colab_type": "code",
    "id": "F-XwBU4zUNPv",
    "outputId": "d2c8e03c-49ef-4ad9-f3f2-aedd4bbffa03"
   },
   "outputs": [
    {
     "data": {
      "text/plain": [
       "0.8333333333333334"
      ]
     },
     "execution_count": 26,
     "metadata": {},
     "output_type": "execute_result"
    }
   ],
   "source": [
    "# 1.0 = 100% (nada é 100%: esta errado!) é preciso uma parte do dataset para aprender e a outra parte para testar! imagine voce fazer uma prova com os mesmos exericios estudados: voce vai apenas testar sua memoria, nao a inteligencia\n",
    "clf.fit(iris.data[:120], iris.target[:120])\n",
    "pred = clf.predict(iris.data[120:])\n",
    "metrics.accuracy_score(iris.target[120:], pred)"
   ]
  },
  {
   "cell_type": "code",
   "execution_count": 27,
   "metadata": {
    "colab": {
     "base_uri": "https://localhost:8080/",
     "height": 85
    },
    "colab_type": "code",
    "id": "7ICnozWKUOfv",
    "outputId": "57dc9af4-9ac8-465b-db8b-cc732b20891d"
   },
   "outputs": [
    {
     "data": {
      "text/plain": [
       "(array([2, 2, 2, 2, 2, 2, 2, 2, 2, 2, 2, 2, 2, 2, 2, 2, 2, 2, 2, 2, 2, 2,\n",
       "        2, 2, 2, 2, 2, 2, 2, 2]),\n",
       " array([2, 1, 2, 2, 2, 2, 1, 1, 2, 1, 2, 2, 2, 2, 2, 2, 2, 2, 1, 2, 2, 2,\n",
       "        2, 2, 2, 2, 2, 2, 2, 2]))"
      ]
     },
     "execution_count": 27,
     "metadata": {},
     "output_type": "execute_result"
    }
   ],
   "source": [
    "# o problema aqui? pegamos apenas os primeiros modelos, a maquina nao entendera ou aprendera como treinar os ultimos, afinal o dataset esta ordenado! 80% esta ok, mas se aparecer um target 2(versicolour) ele nao acertara pois nao aprendeu o que é versicolour!\n",
    "#a maquina aprendeu o que é virginia e setosa, nao versicolour = BALANCEIE OS DADOS!\n",
    "iris.target[120:],pred"
   ]
  },
  {
   "cell_type": "code",
   "execution_count": 28,
   "metadata": {
    "colab": {},
    "colab_type": "code",
    "id": "aiXPExdyUPtv"
   },
   "outputs": [],
   "source": [
    "#validação cruzada é avaliar os dados com ele mesmo = média da validation cross\n",
    "from sklearn.model_selection import cross_val_score\n",
    "score = cross_val_score(clf,iris.data, iris.target, cv=10)\n",
    "#cv é o numero de vezes da validação cruzada! ou seja, ensinou para 90% e treinou em 10%(cv)ele rodou 10x a forma randomica! por default rodaria 3! "
   ]
  },
  {
   "cell_type": "code",
   "execution_count": 29,
   "metadata": {
    "colab": {
     "base_uri": "https://localhost:8080/",
     "height": 34
    },
    "colab_type": "code",
    "id": "U7bkeq9xURmw",
    "outputId": "00b55371-4ce8-488b-9189-6947ea69a53d"
   },
   "outputs": [
    {
     "data": {
      "text/plain": [
       "0.96"
      ]
     },
     "execution_count": 29,
     "metadata": {},
     "output_type": "execute_result"
    }
   ],
   "source": [
    "import numpy as np\n",
    "np.mean(score)"
   ]
  },
  {
   "cell_type": "code",
   "execution_count": 30,
   "metadata": {
    "colab": {
     "base_uri": "https://localhost:8080/",
     "height": 224
    },
    "colab_type": "code",
    "id": "NNGenffdUUht",
    "outputId": "b33fc86c-8e77-4499-a0dc-57469b0c41d7"
   },
   "outputs": [
    {
     "name": "stdout",
     "output_type": "stream",
     "text": [
      "              precision    recall  f1-score   support\n",
      "\n",
      "           1       0.00      0.00      0.00         0\n",
      "           2       1.00      0.83      0.91        30\n",
      "\n",
      "    accuracy                           0.83        30\n",
      "   macro avg       0.50      0.42      0.45        30\n",
      "weighted avg       1.00      0.83      0.91        30\n",
      "\n"
     ]
    },
    {
     "name": "stderr",
     "output_type": "stream",
     "text": [
      "C:\\Users\\luna\\anaconda3\\lib\\site-packages\\sklearn\\metrics\\classification.py:1439: UndefinedMetricWarning: Recall and F-score are ill-defined and being set to 0.0 in labels with no true samples.\n",
      "  'recall', 'true', average, warn_for)\n"
     ]
    }
   ],
   "source": [
    "print(metrics.classification_report(iris.target[120:],pred))"
   ]
  },
  {
   "cell_type": "code",
   "execution_count": null,
   "metadata": {},
   "outputs": [],
   "source": []
  }
 ],
 "metadata": {
  "colab": {
   "name": "Projeto-IRIS.ipynb",
   "provenance": []
  },
  "kernelspec": {
   "display_name": "Python 3",
   "language": "python",
   "name": "python3"
  },
  "language_info": {
   "codemirror_mode": {
    "name": "ipython",
    "version": 3
   },
   "file_extension": ".py",
   "mimetype": "text/x-python",
   "name": "python",
   "nbconvert_exporter": "python",
   "pygments_lexer": "ipython3",
   "version": "3.7.6"
  }
 },
 "nbformat": 4,
 "nbformat_minor": 4
}
